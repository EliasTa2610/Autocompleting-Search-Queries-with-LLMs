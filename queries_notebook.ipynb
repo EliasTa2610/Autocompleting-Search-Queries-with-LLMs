{
  "nbformat": 4,
  "nbformat_minor": 0,
  "metadata": {
    "accelerator": "GPU",
    "colab": {
      "name": "queries_notebook",
      "provenance": [],
      "collapsed_sections": [],
      "machine_shape": "hm"
    },
    "kernelspec": {
      "display_name": "Python 3",
      "name": "python3"
    },
    "language_info": {
      "name": "python"
    },
    "widgets": {
      "application/vnd.jupyter.widget-state+json": {
        "5f5938925ebe46e2a9e4e5003f54c365": {
          "model_module": "@jupyter-widgets/controls",
          "model_name": "HBoxModel",
          "model_module_version": "1.5.0",
          "state": {
            "_view_name": "HBoxView",
            "_dom_classes": [],
            "_model_name": "HBoxModel",
            "_view_module": "@jupyter-widgets/controls",
            "_model_module_version": "1.5.0",
            "_view_count": null,
            "_view_module_version": "1.5.0",
            "box_style": "",
            "layout": "IPY_MODEL_e8c3f2ae8a5c423891b26982aee8be95",
            "_model_module": "@jupyter-widgets/controls",
            "children": [
              "IPY_MODEL_28dddfc254844e1a8e35295fe0771a4a",
              "IPY_MODEL_5e02e3ace28d47bead574a6e7806c7ae"
            ]
          }
        },
        "e8c3f2ae8a5c423891b26982aee8be95": {
          "model_module": "@jupyter-widgets/base",
          "model_name": "LayoutModel",
          "model_module_version": "1.2.0",
          "state": {
            "_view_name": "LayoutView",
            "grid_template_rows": null,
            "right": null,
            "justify_content": null,
            "_view_module": "@jupyter-widgets/base",
            "overflow": null,
            "_model_module_version": "1.2.0",
            "_view_count": null,
            "flex_flow": null,
            "width": null,
            "min_width": null,
            "border": null,
            "align_items": null,
            "bottom": null,
            "_model_module": "@jupyter-widgets/base",
            "top": null,
            "grid_column": null,
            "overflow_y": null,
            "overflow_x": null,
            "grid_auto_flow": null,
            "grid_area": null,
            "grid_template_columns": null,
            "flex": null,
            "_model_name": "LayoutModel",
            "justify_items": null,
            "grid_row": null,
            "max_height": null,
            "align_content": null,
            "visibility": null,
            "align_self": null,
            "height": null,
            "min_height": null,
            "padding": null,
            "grid_auto_rows": null,
            "grid_gap": null,
            "max_width": null,
            "order": null,
            "_view_module_version": "1.2.0",
            "grid_template_areas": null,
            "object_position": null,
            "object_fit": null,
            "grid_auto_columns": null,
            "margin": null,
            "display": null,
            "left": null
          }
        },
        "28dddfc254844e1a8e35295fe0771a4a": {
          "model_module": "@jupyter-widgets/controls",
          "model_name": "FloatProgressModel",
          "model_module_version": "1.5.0",
          "state": {
            "_view_name": "ProgressView",
            "style": "IPY_MODEL_f0e1ae90f14644a598829a453e65a8ce",
            "_dom_classes": [],
            "description": "Downloading: 100%",
            "_model_name": "FloatProgressModel",
            "bar_style": "success",
            "max": 570,
            "_view_module": "@jupyter-widgets/controls",
            "_model_module_version": "1.5.0",
            "value": 570,
            "_view_count": null,
            "_view_module_version": "1.5.0",
            "orientation": "horizontal",
            "min": 0,
            "description_tooltip": null,
            "_model_module": "@jupyter-widgets/controls",
            "layout": "IPY_MODEL_d909a6341db54de0a8067499c72da180"
          }
        },
        "5e02e3ace28d47bead574a6e7806c7ae": {
          "model_module": "@jupyter-widgets/controls",
          "model_name": "HTMLModel",
          "model_module_version": "1.5.0",
          "state": {
            "_view_name": "HTMLView",
            "style": "IPY_MODEL_71a983f4f98d461d83ce3e1ef6c629a2",
            "_dom_classes": [],
            "description": "",
            "_model_name": "HTMLModel",
            "placeholder": "​",
            "_view_module": "@jupyter-widgets/controls",
            "_model_module_version": "1.5.0",
            "value": " 570/570 [00:00&lt;00:00, 1.86kB/s]",
            "_view_count": null,
            "_view_module_version": "1.5.0",
            "description_tooltip": null,
            "_model_module": "@jupyter-widgets/controls",
            "layout": "IPY_MODEL_52fd7455db0a49668bb56c0319c49b62"
          }
        },
        "f0e1ae90f14644a598829a453e65a8ce": {
          "model_module": "@jupyter-widgets/controls",
          "model_name": "ProgressStyleModel",
          "model_module_version": "1.5.0",
          "state": {
            "_view_name": "StyleView",
            "_model_name": "ProgressStyleModel",
            "description_width": "initial",
            "_view_module": "@jupyter-widgets/base",
            "_model_module_version": "1.5.0",
            "_view_count": null,
            "_view_module_version": "1.2.0",
            "bar_color": null,
            "_model_module": "@jupyter-widgets/controls"
          }
        },
        "d909a6341db54de0a8067499c72da180": {
          "model_module": "@jupyter-widgets/base",
          "model_name": "LayoutModel",
          "model_module_version": "1.2.0",
          "state": {
            "_view_name": "LayoutView",
            "grid_template_rows": null,
            "right": null,
            "justify_content": null,
            "_view_module": "@jupyter-widgets/base",
            "overflow": null,
            "_model_module_version": "1.2.0",
            "_view_count": null,
            "flex_flow": null,
            "width": null,
            "min_width": null,
            "border": null,
            "align_items": null,
            "bottom": null,
            "_model_module": "@jupyter-widgets/base",
            "top": null,
            "grid_column": null,
            "overflow_y": null,
            "overflow_x": null,
            "grid_auto_flow": null,
            "grid_area": null,
            "grid_template_columns": null,
            "flex": null,
            "_model_name": "LayoutModel",
            "justify_items": null,
            "grid_row": null,
            "max_height": null,
            "align_content": null,
            "visibility": null,
            "align_self": null,
            "height": null,
            "min_height": null,
            "padding": null,
            "grid_auto_rows": null,
            "grid_gap": null,
            "max_width": null,
            "order": null,
            "_view_module_version": "1.2.0",
            "grid_template_areas": null,
            "object_position": null,
            "object_fit": null,
            "grid_auto_columns": null,
            "margin": null,
            "display": null,
            "left": null
          }
        },
        "71a983f4f98d461d83ce3e1ef6c629a2": {
          "model_module": "@jupyter-widgets/controls",
          "model_name": "DescriptionStyleModel",
          "model_module_version": "1.5.0",
          "state": {
            "_view_name": "StyleView",
            "_model_name": "DescriptionStyleModel",
            "description_width": "",
            "_view_module": "@jupyter-widgets/base",
            "_model_module_version": "1.5.0",
            "_view_count": null,
            "_view_module_version": "1.2.0",
            "_model_module": "@jupyter-widgets/controls"
          }
        },
        "52fd7455db0a49668bb56c0319c49b62": {
          "model_module": "@jupyter-widgets/base",
          "model_name": "LayoutModel",
          "model_module_version": "1.2.0",
          "state": {
            "_view_name": "LayoutView",
            "grid_template_rows": null,
            "right": null,
            "justify_content": null,
            "_view_module": "@jupyter-widgets/base",
            "overflow": null,
            "_model_module_version": "1.2.0",
            "_view_count": null,
            "flex_flow": null,
            "width": null,
            "min_width": null,
            "border": null,
            "align_items": null,
            "bottom": null,
            "_model_module": "@jupyter-widgets/base",
            "top": null,
            "grid_column": null,
            "overflow_y": null,
            "overflow_x": null,
            "grid_auto_flow": null,
            "grid_area": null,
            "grid_template_columns": null,
            "flex": null,
            "_model_name": "LayoutModel",
            "justify_items": null,
            "grid_row": null,
            "max_height": null,
            "align_content": null,
            "visibility": null,
            "align_self": null,
            "height": null,
            "min_height": null,
            "padding": null,
            "grid_auto_rows": null,
            "grid_gap": null,
            "max_width": null,
            "order": null,
            "_view_module_version": "1.2.0",
            "grid_template_areas": null,
            "object_position": null,
            "object_fit": null,
            "grid_auto_columns": null,
            "margin": null,
            "display": null,
            "left": null
          }
        },
        "892519e8b4e94e538ca7377ea5b4fd2b": {
          "model_module": "@jupyter-widgets/controls",
          "model_name": "HBoxModel",
          "model_module_version": "1.5.0",
          "state": {
            "_view_name": "HBoxView",
            "_dom_classes": [],
            "_model_name": "HBoxModel",
            "_view_module": "@jupyter-widgets/controls",
            "_model_module_version": "1.5.0",
            "_view_count": null,
            "_view_module_version": "1.5.0",
            "box_style": "",
            "layout": "IPY_MODEL_3adde877271c4627b52cb65b007a6952",
            "_model_module": "@jupyter-widgets/controls",
            "children": [
              "IPY_MODEL_0ec4a176df454cf4bc6b56e7bcaf095d",
              "IPY_MODEL_a350d90464214734801a9ecc0c9e80d2"
            ]
          }
        },
        "3adde877271c4627b52cb65b007a6952": {
          "model_module": "@jupyter-widgets/base",
          "model_name": "LayoutModel",
          "model_module_version": "1.2.0",
          "state": {
            "_view_name": "LayoutView",
            "grid_template_rows": null,
            "right": null,
            "justify_content": null,
            "_view_module": "@jupyter-widgets/base",
            "overflow": null,
            "_model_module_version": "1.2.0",
            "_view_count": null,
            "flex_flow": null,
            "width": null,
            "min_width": null,
            "border": null,
            "align_items": null,
            "bottom": null,
            "_model_module": "@jupyter-widgets/base",
            "top": null,
            "grid_column": null,
            "overflow_y": null,
            "overflow_x": null,
            "grid_auto_flow": null,
            "grid_area": null,
            "grid_template_columns": null,
            "flex": null,
            "_model_name": "LayoutModel",
            "justify_items": null,
            "grid_row": null,
            "max_height": null,
            "align_content": null,
            "visibility": null,
            "align_self": null,
            "height": null,
            "min_height": null,
            "padding": null,
            "grid_auto_rows": null,
            "grid_gap": null,
            "max_width": null,
            "order": null,
            "_view_module_version": "1.2.0",
            "grid_template_areas": null,
            "object_position": null,
            "object_fit": null,
            "grid_auto_columns": null,
            "margin": null,
            "display": null,
            "left": null
          }
        },
        "0ec4a176df454cf4bc6b56e7bcaf095d": {
          "model_module": "@jupyter-widgets/controls",
          "model_name": "FloatProgressModel",
          "model_module_version": "1.5.0",
          "state": {
            "_view_name": "ProgressView",
            "style": "IPY_MODEL_61377dbca8e84d1c91eac0dd1befeee0",
            "_dom_classes": [],
            "description": "Downloading: 100%",
            "_model_name": "FloatProgressModel",
            "bar_style": "success",
            "max": 440473133,
            "_view_module": "@jupyter-widgets/controls",
            "_model_module_version": "1.5.0",
            "value": 440473133,
            "_view_count": null,
            "_view_module_version": "1.5.0",
            "orientation": "horizontal",
            "min": 0,
            "description_tooltip": null,
            "_model_module": "@jupyter-widgets/controls",
            "layout": "IPY_MODEL_3ad35770969c446693a84f744a02b151"
          }
        },
        "a350d90464214734801a9ecc0c9e80d2": {
          "model_module": "@jupyter-widgets/controls",
          "model_name": "HTMLModel",
          "model_module_version": "1.5.0",
          "state": {
            "_view_name": "HTMLView",
            "style": "IPY_MODEL_9e25d138c11d4112a097b178f4a02b71",
            "_dom_classes": [],
            "description": "",
            "_model_name": "HTMLModel",
            "placeholder": "​",
            "_view_module": "@jupyter-widgets/controls",
            "_model_module_version": "1.5.0",
            "value": " 440M/440M [00:08&lt;00:00, 54.4MB/s]",
            "_view_count": null,
            "_view_module_version": "1.5.0",
            "description_tooltip": null,
            "_model_module": "@jupyter-widgets/controls",
            "layout": "IPY_MODEL_ec0672640c7243f9abb785c9d7bba950"
          }
        },
        "61377dbca8e84d1c91eac0dd1befeee0": {
          "model_module": "@jupyter-widgets/controls",
          "model_name": "ProgressStyleModel",
          "model_module_version": "1.5.0",
          "state": {
            "_view_name": "StyleView",
            "_model_name": "ProgressStyleModel",
            "description_width": "initial",
            "_view_module": "@jupyter-widgets/base",
            "_model_module_version": "1.5.0",
            "_view_count": null,
            "_view_module_version": "1.2.0",
            "bar_color": null,
            "_model_module": "@jupyter-widgets/controls"
          }
        },
        "3ad35770969c446693a84f744a02b151": {
          "model_module": "@jupyter-widgets/base",
          "model_name": "LayoutModel",
          "model_module_version": "1.2.0",
          "state": {
            "_view_name": "LayoutView",
            "grid_template_rows": null,
            "right": null,
            "justify_content": null,
            "_view_module": "@jupyter-widgets/base",
            "overflow": null,
            "_model_module_version": "1.2.0",
            "_view_count": null,
            "flex_flow": null,
            "width": null,
            "min_width": null,
            "border": null,
            "align_items": null,
            "bottom": null,
            "_model_module": "@jupyter-widgets/base",
            "top": null,
            "grid_column": null,
            "overflow_y": null,
            "overflow_x": null,
            "grid_auto_flow": null,
            "grid_area": null,
            "grid_template_columns": null,
            "flex": null,
            "_model_name": "LayoutModel",
            "justify_items": null,
            "grid_row": null,
            "max_height": null,
            "align_content": null,
            "visibility": null,
            "align_self": null,
            "height": null,
            "min_height": null,
            "padding": null,
            "grid_auto_rows": null,
            "grid_gap": null,
            "max_width": null,
            "order": null,
            "_view_module_version": "1.2.0",
            "grid_template_areas": null,
            "object_position": null,
            "object_fit": null,
            "grid_auto_columns": null,
            "margin": null,
            "display": null,
            "left": null
          }
        },
        "9e25d138c11d4112a097b178f4a02b71": {
          "model_module": "@jupyter-widgets/controls",
          "model_name": "DescriptionStyleModel",
          "model_module_version": "1.5.0",
          "state": {
            "_view_name": "StyleView",
            "_model_name": "DescriptionStyleModel",
            "description_width": "",
            "_view_module": "@jupyter-widgets/base",
            "_model_module_version": "1.5.0",
            "_view_count": null,
            "_view_module_version": "1.2.0",
            "_model_module": "@jupyter-widgets/controls"
          }
        },
        "ec0672640c7243f9abb785c9d7bba950": {
          "model_module": "@jupyter-widgets/base",
          "model_name": "LayoutModel",
          "model_module_version": "1.2.0",
          "state": {
            "_view_name": "LayoutView",
            "grid_template_rows": null,
            "right": null,
            "justify_content": null,
            "_view_module": "@jupyter-widgets/base",
            "overflow": null,
            "_model_module_version": "1.2.0",
            "_view_count": null,
            "flex_flow": null,
            "width": null,
            "min_width": null,
            "border": null,
            "align_items": null,
            "bottom": null,
            "_model_module": "@jupyter-widgets/base",
            "top": null,
            "grid_column": null,
            "overflow_y": null,
            "overflow_x": null,
            "grid_auto_flow": null,
            "grid_area": null,
            "grid_template_columns": null,
            "flex": null,
            "_model_name": "LayoutModel",
            "justify_items": null,
            "grid_row": null,
            "max_height": null,
            "align_content": null,
            "visibility": null,
            "align_self": null,
            "height": null,
            "min_height": null,
            "padding": null,
            "grid_auto_rows": null,
            "grid_gap": null,
            "max_width": null,
            "order": null,
            "_view_module_version": "1.2.0",
            "grid_template_areas": null,
            "object_position": null,
            "object_fit": null,
            "grid_auto_columns": null,
            "margin": null,
            "display": null,
            "left": null
          }
        },
        "6f3fe27f45384193923b1921137a6089": {
          "model_module": "@jupyter-widgets/controls",
          "model_name": "HBoxModel",
          "model_module_version": "1.5.0",
          "state": {
            "_view_name": "HBoxView",
            "_dom_classes": [],
            "_model_name": "HBoxModel",
            "_view_module": "@jupyter-widgets/controls",
            "_model_module_version": "1.5.0",
            "_view_count": null,
            "_view_module_version": "1.5.0",
            "box_style": "",
            "layout": "IPY_MODEL_924c2bac507844d79140f34cf3e21eae",
            "_model_module": "@jupyter-widgets/controls",
            "children": [
              "IPY_MODEL_2a555338a74d40f7848a7f026654ef82",
              "IPY_MODEL_a36cc5fef02047109ec990648f271f65"
            ]
          }
        },
        "924c2bac507844d79140f34cf3e21eae": {
          "model_module": "@jupyter-widgets/base",
          "model_name": "LayoutModel",
          "model_module_version": "1.2.0",
          "state": {
            "_view_name": "LayoutView",
            "grid_template_rows": null,
            "right": null,
            "justify_content": null,
            "_view_module": "@jupyter-widgets/base",
            "overflow": null,
            "_model_module_version": "1.2.0",
            "_view_count": null,
            "flex_flow": null,
            "width": null,
            "min_width": null,
            "border": null,
            "align_items": null,
            "bottom": null,
            "_model_module": "@jupyter-widgets/base",
            "top": null,
            "grid_column": null,
            "overflow_y": null,
            "overflow_x": null,
            "grid_auto_flow": null,
            "grid_area": null,
            "grid_template_columns": null,
            "flex": null,
            "_model_name": "LayoutModel",
            "justify_items": null,
            "grid_row": null,
            "max_height": null,
            "align_content": null,
            "visibility": null,
            "align_self": null,
            "height": null,
            "min_height": null,
            "padding": null,
            "grid_auto_rows": null,
            "grid_gap": null,
            "max_width": null,
            "order": null,
            "_view_module_version": "1.2.0",
            "grid_template_areas": null,
            "object_position": null,
            "object_fit": null,
            "grid_auto_columns": null,
            "margin": null,
            "display": null,
            "left": null
          }
        },
        "2a555338a74d40f7848a7f026654ef82": {
          "model_module": "@jupyter-widgets/controls",
          "model_name": "FloatProgressModel",
          "model_module_version": "1.5.0",
          "state": {
            "_view_name": "ProgressView",
            "style": "IPY_MODEL_9a089b0f342541f892e7628ec200f08b",
            "_dom_classes": [],
            "description": "Downloading: 100%",
            "_model_name": "FloatProgressModel",
            "bar_style": "success",
            "max": 28,
            "_view_module": "@jupyter-widgets/controls",
            "_model_module_version": "1.5.0",
            "value": 28,
            "_view_count": null,
            "_view_module_version": "1.5.0",
            "orientation": "horizontal",
            "min": 0,
            "description_tooltip": null,
            "_model_module": "@jupyter-widgets/controls",
            "layout": "IPY_MODEL_2711bfec2a244606a52afc6d5817158f"
          }
        },
        "a36cc5fef02047109ec990648f271f65": {
          "model_module": "@jupyter-widgets/controls",
          "model_name": "HTMLModel",
          "model_module_version": "1.5.0",
          "state": {
            "_view_name": "HTMLView",
            "style": "IPY_MODEL_4c54fa68f57941cc9b8dfe77c18292ed",
            "_dom_classes": [],
            "description": "",
            "_model_name": "HTMLModel",
            "placeholder": "​",
            "_view_module": "@jupyter-widgets/controls",
            "_model_module_version": "1.5.0",
            "value": " 28.0/28.0 [00:01&lt;00:00, 24.5B/s]",
            "_view_count": null,
            "_view_module_version": "1.5.0",
            "description_tooltip": null,
            "_model_module": "@jupyter-widgets/controls",
            "layout": "IPY_MODEL_d30cc2bd21654091b9dea0d65a0271df"
          }
        },
        "9a089b0f342541f892e7628ec200f08b": {
          "model_module": "@jupyter-widgets/controls",
          "model_name": "ProgressStyleModel",
          "model_module_version": "1.5.0",
          "state": {
            "_view_name": "StyleView",
            "_model_name": "ProgressStyleModel",
            "description_width": "initial",
            "_view_module": "@jupyter-widgets/base",
            "_model_module_version": "1.5.0",
            "_view_count": null,
            "_view_module_version": "1.2.0",
            "bar_color": null,
            "_model_module": "@jupyter-widgets/controls"
          }
        },
        "2711bfec2a244606a52afc6d5817158f": {
          "model_module": "@jupyter-widgets/base",
          "model_name": "LayoutModel",
          "model_module_version": "1.2.0",
          "state": {
            "_view_name": "LayoutView",
            "grid_template_rows": null,
            "right": null,
            "justify_content": null,
            "_view_module": "@jupyter-widgets/base",
            "overflow": null,
            "_model_module_version": "1.2.0",
            "_view_count": null,
            "flex_flow": null,
            "width": null,
            "min_width": null,
            "border": null,
            "align_items": null,
            "bottom": null,
            "_model_module": "@jupyter-widgets/base",
            "top": null,
            "grid_column": null,
            "overflow_y": null,
            "overflow_x": null,
            "grid_auto_flow": null,
            "grid_area": null,
            "grid_template_columns": null,
            "flex": null,
            "_model_name": "LayoutModel",
            "justify_items": null,
            "grid_row": null,
            "max_height": null,
            "align_content": null,
            "visibility": null,
            "align_self": null,
            "height": null,
            "min_height": null,
            "padding": null,
            "grid_auto_rows": null,
            "grid_gap": null,
            "max_width": null,
            "order": null,
            "_view_module_version": "1.2.0",
            "grid_template_areas": null,
            "object_position": null,
            "object_fit": null,
            "grid_auto_columns": null,
            "margin": null,
            "display": null,
            "left": null
          }
        },
        "4c54fa68f57941cc9b8dfe77c18292ed": {
          "model_module": "@jupyter-widgets/controls",
          "model_name": "DescriptionStyleModel",
          "model_module_version": "1.5.0",
          "state": {
            "_view_name": "StyleView",
            "_model_name": "DescriptionStyleModel",
            "description_width": "",
            "_view_module": "@jupyter-widgets/base",
            "_model_module_version": "1.5.0",
            "_view_count": null,
            "_view_module_version": "1.2.0",
            "_model_module": "@jupyter-widgets/controls"
          }
        },
        "d30cc2bd21654091b9dea0d65a0271df": {
          "model_module": "@jupyter-widgets/base",
          "model_name": "LayoutModel",
          "model_module_version": "1.2.0",
          "state": {
            "_view_name": "LayoutView",
            "grid_template_rows": null,
            "right": null,
            "justify_content": null,
            "_view_module": "@jupyter-widgets/base",
            "overflow": null,
            "_model_module_version": "1.2.0",
            "_view_count": null,
            "flex_flow": null,
            "width": null,
            "min_width": null,
            "border": null,
            "align_items": null,
            "bottom": null,
            "_model_module": "@jupyter-widgets/base",
            "top": null,
            "grid_column": null,
            "overflow_y": null,
            "overflow_x": null,
            "grid_auto_flow": null,
            "grid_area": null,
            "grid_template_columns": null,
            "flex": null,
            "_model_name": "LayoutModel",
            "justify_items": null,
            "grid_row": null,
            "max_height": null,
            "align_content": null,
            "visibility": null,
            "align_self": null,
            "height": null,
            "min_height": null,
            "padding": null,
            "grid_auto_rows": null,
            "grid_gap": null,
            "max_width": null,
            "order": null,
            "_view_module_version": "1.2.0",
            "grid_template_areas": null,
            "object_position": null,
            "object_fit": null,
            "grid_auto_columns": null,
            "margin": null,
            "display": null,
            "left": null
          }
        },
        "abe0a725b1fa46938a06ec07c4f4e7da": {
          "model_module": "@jupyter-widgets/controls",
          "model_name": "HBoxModel",
          "model_module_version": "1.5.0",
          "state": {
            "_view_name": "HBoxView",
            "_dom_classes": [],
            "_model_name": "HBoxModel",
            "_view_module": "@jupyter-widgets/controls",
            "_model_module_version": "1.5.0",
            "_view_count": null,
            "_view_module_version": "1.5.0",
            "box_style": "",
            "layout": "IPY_MODEL_e2b8b05ff3754c619306220764a7426e",
            "_model_module": "@jupyter-widgets/controls",
            "children": [
              "IPY_MODEL_fde4e05cc59a4d5cb3005071f0fc877d",
              "IPY_MODEL_39191b8d6b6b4260b6bf0a2cdf264648"
            ]
          }
        },
        "e2b8b05ff3754c619306220764a7426e": {
          "model_module": "@jupyter-widgets/base",
          "model_name": "LayoutModel",
          "model_module_version": "1.2.0",
          "state": {
            "_view_name": "LayoutView",
            "grid_template_rows": null,
            "right": null,
            "justify_content": null,
            "_view_module": "@jupyter-widgets/base",
            "overflow": null,
            "_model_module_version": "1.2.0",
            "_view_count": null,
            "flex_flow": null,
            "width": null,
            "min_width": null,
            "border": null,
            "align_items": null,
            "bottom": null,
            "_model_module": "@jupyter-widgets/base",
            "top": null,
            "grid_column": null,
            "overflow_y": null,
            "overflow_x": null,
            "grid_auto_flow": null,
            "grid_area": null,
            "grid_template_columns": null,
            "flex": null,
            "_model_name": "LayoutModel",
            "justify_items": null,
            "grid_row": null,
            "max_height": null,
            "align_content": null,
            "visibility": null,
            "align_self": null,
            "height": null,
            "min_height": null,
            "padding": null,
            "grid_auto_rows": null,
            "grid_gap": null,
            "max_width": null,
            "order": null,
            "_view_module_version": "1.2.0",
            "grid_template_areas": null,
            "object_position": null,
            "object_fit": null,
            "grid_auto_columns": null,
            "margin": null,
            "display": null,
            "left": null
          }
        },
        "fde4e05cc59a4d5cb3005071f0fc877d": {
          "model_module": "@jupyter-widgets/controls",
          "model_name": "FloatProgressModel",
          "model_module_version": "1.5.0",
          "state": {
            "_view_name": "ProgressView",
            "style": "IPY_MODEL_22b9e560a8be452fa1b2d83976bd96d2",
            "_dom_classes": [],
            "description": "Downloading: 100%",
            "_model_name": "FloatProgressModel",
            "bar_style": "success",
            "max": 231508,
            "_view_module": "@jupyter-widgets/controls",
            "_model_module_version": "1.5.0",
            "value": 231508,
            "_view_count": null,
            "_view_module_version": "1.5.0",
            "orientation": "horizontal",
            "min": 0,
            "description_tooltip": null,
            "_model_module": "@jupyter-widgets/controls",
            "layout": "IPY_MODEL_0737dc2d5fab42fa880409e2c5d43638"
          }
        },
        "39191b8d6b6b4260b6bf0a2cdf264648": {
          "model_module": "@jupyter-widgets/controls",
          "model_name": "HTMLModel",
          "model_module_version": "1.5.0",
          "state": {
            "_view_name": "HTMLView",
            "style": "IPY_MODEL_dccc9c01698748ac8622a3955648568d",
            "_dom_classes": [],
            "description": "",
            "_model_name": "HTMLModel",
            "placeholder": "​",
            "_view_module": "@jupyter-widgets/controls",
            "_model_module_version": "1.5.0",
            "value": " 232k/232k [00:32&lt;00:00, 7.12kB/s]",
            "_view_count": null,
            "_view_module_version": "1.5.0",
            "description_tooltip": null,
            "_model_module": "@jupyter-widgets/controls",
            "layout": "IPY_MODEL_73960f17126b45a0ac9d4d046ad3394b"
          }
        },
        "22b9e560a8be452fa1b2d83976bd96d2": {
          "model_module": "@jupyter-widgets/controls",
          "model_name": "ProgressStyleModel",
          "model_module_version": "1.5.0",
          "state": {
            "_view_name": "StyleView",
            "_model_name": "ProgressStyleModel",
            "description_width": "initial",
            "_view_module": "@jupyter-widgets/base",
            "_model_module_version": "1.5.0",
            "_view_count": null,
            "_view_module_version": "1.2.0",
            "bar_color": null,
            "_model_module": "@jupyter-widgets/controls"
          }
        },
        "0737dc2d5fab42fa880409e2c5d43638": {
          "model_module": "@jupyter-widgets/base",
          "model_name": "LayoutModel",
          "model_module_version": "1.2.0",
          "state": {
            "_view_name": "LayoutView",
            "grid_template_rows": null,
            "right": null,
            "justify_content": null,
            "_view_module": "@jupyter-widgets/base",
            "overflow": null,
            "_model_module_version": "1.2.0",
            "_view_count": null,
            "flex_flow": null,
            "width": null,
            "min_width": null,
            "border": null,
            "align_items": null,
            "bottom": null,
            "_model_module": "@jupyter-widgets/base",
            "top": null,
            "grid_column": null,
            "overflow_y": null,
            "overflow_x": null,
            "grid_auto_flow": null,
            "grid_area": null,
            "grid_template_columns": null,
            "flex": null,
            "_model_name": "LayoutModel",
            "justify_items": null,
            "grid_row": null,
            "max_height": null,
            "align_content": null,
            "visibility": null,
            "align_self": null,
            "height": null,
            "min_height": null,
            "padding": null,
            "grid_auto_rows": null,
            "grid_gap": null,
            "max_width": null,
            "order": null,
            "_view_module_version": "1.2.0",
            "grid_template_areas": null,
            "object_position": null,
            "object_fit": null,
            "grid_auto_columns": null,
            "margin": null,
            "display": null,
            "left": null
          }
        },
        "dccc9c01698748ac8622a3955648568d": {
          "model_module": "@jupyter-widgets/controls",
          "model_name": "DescriptionStyleModel",
          "model_module_version": "1.5.0",
          "state": {
            "_view_name": "StyleView",
            "_model_name": "DescriptionStyleModel",
            "description_width": "",
            "_view_module": "@jupyter-widgets/base",
            "_model_module_version": "1.5.0",
            "_view_count": null,
            "_view_module_version": "1.2.0",
            "_model_module": "@jupyter-widgets/controls"
          }
        },
        "73960f17126b45a0ac9d4d046ad3394b": {
          "model_module": "@jupyter-widgets/base",
          "model_name": "LayoutModel",
          "model_module_version": "1.2.0",
          "state": {
            "_view_name": "LayoutView",
            "grid_template_rows": null,
            "right": null,
            "justify_content": null,
            "_view_module": "@jupyter-widgets/base",
            "overflow": null,
            "_model_module_version": "1.2.0",
            "_view_count": null,
            "flex_flow": null,
            "width": null,
            "min_width": null,
            "border": null,
            "align_items": null,
            "bottom": null,
            "_model_module": "@jupyter-widgets/base",
            "top": null,
            "grid_column": null,
            "overflow_y": null,
            "overflow_x": null,
            "grid_auto_flow": null,
            "grid_area": null,
            "grid_template_columns": null,
            "flex": null,
            "_model_name": "LayoutModel",
            "justify_items": null,
            "grid_row": null,
            "max_height": null,
            "align_content": null,
            "visibility": null,
            "align_self": null,
            "height": null,
            "min_height": null,
            "padding": null,
            "grid_auto_rows": null,
            "grid_gap": null,
            "max_width": null,
            "order": null,
            "_view_module_version": "1.2.0",
            "grid_template_areas": null,
            "object_position": null,
            "object_fit": null,
            "grid_auto_columns": null,
            "margin": null,
            "display": null,
            "left": null
          }
        },
        "709b7b18bb0447799f979a8ba5ba17c4": {
          "model_module": "@jupyter-widgets/controls",
          "model_name": "HBoxModel",
          "model_module_version": "1.5.0",
          "state": {
            "_view_name": "HBoxView",
            "_dom_classes": [],
            "_model_name": "HBoxModel",
            "_view_module": "@jupyter-widgets/controls",
            "_model_module_version": "1.5.0",
            "_view_count": null,
            "_view_module_version": "1.5.0",
            "box_style": "",
            "layout": "IPY_MODEL_4c7786700b3d41f19f5ffe80f52e7588",
            "_model_module": "@jupyter-widgets/controls",
            "children": [
              "IPY_MODEL_81781a7e73a94d38820baab5a92f1ed1",
              "IPY_MODEL_1623786f308c43a0a31e9d7f5f5612e2"
            ]
          }
        },
        "4c7786700b3d41f19f5ffe80f52e7588": {
          "model_module": "@jupyter-widgets/base",
          "model_name": "LayoutModel",
          "model_module_version": "1.2.0",
          "state": {
            "_view_name": "LayoutView",
            "grid_template_rows": null,
            "right": null,
            "justify_content": null,
            "_view_module": "@jupyter-widgets/base",
            "overflow": null,
            "_model_module_version": "1.2.0",
            "_view_count": null,
            "flex_flow": null,
            "width": null,
            "min_width": null,
            "border": null,
            "align_items": null,
            "bottom": null,
            "_model_module": "@jupyter-widgets/base",
            "top": null,
            "grid_column": null,
            "overflow_y": null,
            "overflow_x": null,
            "grid_auto_flow": null,
            "grid_area": null,
            "grid_template_columns": null,
            "flex": null,
            "_model_name": "LayoutModel",
            "justify_items": null,
            "grid_row": null,
            "max_height": null,
            "align_content": null,
            "visibility": null,
            "align_self": null,
            "height": null,
            "min_height": null,
            "padding": null,
            "grid_auto_rows": null,
            "grid_gap": null,
            "max_width": null,
            "order": null,
            "_view_module_version": "1.2.0",
            "grid_template_areas": null,
            "object_position": null,
            "object_fit": null,
            "grid_auto_columns": null,
            "margin": null,
            "display": null,
            "left": null
          }
        },
        "81781a7e73a94d38820baab5a92f1ed1": {
          "model_module": "@jupyter-widgets/controls",
          "model_name": "FloatProgressModel",
          "model_module_version": "1.5.0",
          "state": {
            "_view_name": "ProgressView",
            "style": "IPY_MODEL_04666419ce1b48feae4cc1b52d625136",
            "_dom_classes": [],
            "description": "Downloading: 100%",
            "_model_name": "FloatProgressModel",
            "bar_style": "success",
            "max": 466062,
            "_view_module": "@jupyter-widgets/controls",
            "_model_module_version": "1.5.0",
            "value": 466062,
            "_view_count": null,
            "_view_module_version": "1.5.0",
            "orientation": "horizontal",
            "min": 0,
            "description_tooltip": null,
            "_model_module": "@jupyter-widgets/controls",
            "layout": "IPY_MODEL_76860246d47d48228f92dce5783ed0e1"
          }
        },
        "1623786f308c43a0a31e9d7f5f5612e2": {
          "model_module": "@jupyter-widgets/controls",
          "model_name": "HTMLModel",
          "model_module_version": "1.5.0",
          "state": {
            "_view_name": "HTMLView",
            "style": "IPY_MODEL_452b915fc56c412c83cdb9fe9436324b",
            "_dom_classes": [],
            "description": "",
            "_model_name": "HTMLModel",
            "placeholder": "​",
            "_view_module": "@jupyter-widgets/controls",
            "_model_module_version": "1.5.0",
            "value": " 466k/466k [00:01&lt;00:00, 346kB/s]",
            "_view_count": null,
            "_view_module_version": "1.5.0",
            "description_tooltip": null,
            "_model_module": "@jupyter-widgets/controls",
            "layout": "IPY_MODEL_04c4c08d761845d5b9c9fcc9ed904db6"
          }
        },
        "04666419ce1b48feae4cc1b52d625136": {
          "model_module": "@jupyter-widgets/controls",
          "model_name": "ProgressStyleModel",
          "model_module_version": "1.5.0",
          "state": {
            "_view_name": "StyleView",
            "_model_name": "ProgressStyleModel",
            "description_width": "initial",
            "_view_module": "@jupyter-widgets/base",
            "_model_module_version": "1.5.0",
            "_view_count": null,
            "_view_module_version": "1.2.0",
            "bar_color": null,
            "_model_module": "@jupyter-widgets/controls"
          }
        },
        "76860246d47d48228f92dce5783ed0e1": {
          "model_module": "@jupyter-widgets/base",
          "model_name": "LayoutModel",
          "model_module_version": "1.2.0",
          "state": {
            "_view_name": "LayoutView",
            "grid_template_rows": null,
            "right": null,
            "justify_content": null,
            "_view_module": "@jupyter-widgets/base",
            "overflow": null,
            "_model_module_version": "1.2.0",
            "_view_count": null,
            "flex_flow": null,
            "width": null,
            "min_width": null,
            "border": null,
            "align_items": null,
            "bottom": null,
            "_model_module": "@jupyter-widgets/base",
            "top": null,
            "grid_column": null,
            "overflow_y": null,
            "overflow_x": null,
            "grid_auto_flow": null,
            "grid_area": null,
            "grid_template_columns": null,
            "flex": null,
            "_model_name": "LayoutModel",
            "justify_items": null,
            "grid_row": null,
            "max_height": null,
            "align_content": null,
            "visibility": null,
            "align_self": null,
            "height": null,
            "min_height": null,
            "padding": null,
            "grid_auto_rows": null,
            "grid_gap": null,
            "max_width": null,
            "order": null,
            "_view_module_version": "1.2.0",
            "grid_template_areas": null,
            "object_position": null,
            "object_fit": null,
            "grid_auto_columns": null,
            "margin": null,
            "display": null,
            "left": null
          }
        },
        "452b915fc56c412c83cdb9fe9436324b": {
          "model_module": "@jupyter-widgets/controls",
          "model_name": "DescriptionStyleModel",
          "model_module_version": "1.5.0",
          "state": {
            "_view_name": "StyleView",
            "_model_name": "DescriptionStyleModel",
            "description_width": "",
            "_view_module": "@jupyter-widgets/base",
            "_model_module_version": "1.5.0",
            "_view_count": null,
            "_view_module_version": "1.2.0",
            "_model_module": "@jupyter-widgets/controls"
          }
        },
        "04c4c08d761845d5b9c9fcc9ed904db6": {
          "model_module": "@jupyter-widgets/base",
          "model_name": "LayoutModel",
          "model_module_version": "1.2.0",
          "state": {
            "_view_name": "LayoutView",
            "grid_template_rows": null,
            "right": null,
            "justify_content": null,
            "_view_module": "@jupyter-widgets/base",
            "overflow": null,
            "_model_module_version": "1.2.0",
            "_view_count": null,
            "flex_flow": null,
            "width": null,
            "min_width": null,
            "border": null,
            "align_items": null,
            "bottom": null,
            "_model_module": "@jupyter-widgets/base",
            "top": null,
            "grid_column": null,
            "overflow_y": null,
            "overflow_x": null,
            "grid_auto_flow": null,
            "grid_area": null,
            "grid_template_columns": null,
            "flex": null,
            "_model_name": "LayoutModel",
            "justify_items": null,
            "grid_row": null,
            "max_height": null,
            "align_content": null,
            "visibility": null,
            "align_self": null,
            "height": null,
            "min_height": null,
            "padding": null,
            "grid_auto_rows": null,
            "grid_gap": null,
            "max_width": null,
            "order": null,
            "_view_module_version": "1.2.0",
            "grid_template_areas": null,
            "object_position": null,
            "object_fit": null,
            "grid_auto_columns": null,
            "margin": null,
            "display": null,
            "left": null
          }
        },
        "48849c7278184ad6a4564bb148293eda": {
          "model_module": "@jupyter-widgets/controls",
          "model_name": "HBoxModel",
          "model_module_version": "1.5.0",
          "state": {
            "_view_name": "HBoxView",
            "_dom_classes": [],
            "_model_name": "HBoxModel",
            "_view_module": "@jupyter-widgets/controls",
            "_model_module_version": "1.5.0",
            "_view_count": null,
            "_view_module_version": "1.5.0",
            "box_style": "",
            "layout": "IPY_MODEL_91ef88ede3e54910899e865f1a9d95a8",
            "_model_module": "@jupyter-widgets/controls",
            "children": [
              "IPY_MODEL_4a55fdc8a2fc48cc82dbd913470d3823",
              "IPY_MODEL_6f7593c900504ec3abc9348639934efc"
            ]
          }
        },
        "91ef88ede3e54910899e865f1a9d95a8": {
          "model_module": "@jupyter-widgets/base",
          "model_name": "LayoutModel",
          "model_module_version": "1.2.0",
          "state": {
            "_view_name": "LayoutView",
            "grid_template_rows": null,
            "right": null,
            "justify_content": null,
            "_view_module": "@jupyter-widgets/base",
            "overflow": null,
            "_model_module_version": "1.2.0",
            "_view_count": null,
            "flex_flow": null,
            "width": null,
            "min_width": null,
            "border": null,
            "align_items": null,
            "bottom": null,
            "_model_module": "@jupyter-widgets/base",
            "top": null,
            "grid_column": null,
            "overflow_y": null,
            "overflow_x": null,
            "grid_auto_flow": null,
            "grid_area": null,
            "grid_template_columns": null,
            "flex": null,
            "_model_name": "LayoutModel",
            "justify_items": null,
            "grid_row": null,
            "max_height": null,
            "align_content": null,
            "visibility": null,
            "align_self": null,
            "height": null,
            "min_height": null,
            "padding": null,
            "grid_auto_rows": null,
            "grid_gap": null,
            "max_width": null,
            "order": null,
            "_view_module_version": "1.2.0",
            "grid_template_areas": null,
            "object_position": null,
            "object_fit": null,
            "grid_auto_columns": null,
            "margin": null,
            "display": null,
            "left": null
          }
        },
        "4a55fdc8a2fc48cc82dbd913470d3823": {
          "model_module": "@jupyter-widgets/controls",
          "model_name": "FloatProgressModel",
          "model_module_version": "1.5.0",
          "state": {
            "_view_name": "ProgressView",
            "style": "IPY_MODEL_80f8ed9639bb43e28ef1e37f5dec32ec",
            "_dom_classes": [],
            "description": "Downloading: 100%",
            "_model_name": "FloatProgressModel",
            "bar_style": "success",
            "max": 665,
            "_view_module": "@jupyter-widgets/controls",
            "_model_module_version": "1.5.0",
            "value": 665,
            "_view_count": null,
            "_view_module_version": "1.5.0",
            "orientation": "horizontal",
            "min": 0,
            "description_tooltip": null,
            "_model_module": "@jupyter-widgets/controls",
            "layout": "IPY_MODEL_a47e9b0ee8f14ff98a0f8f1ad9905057"
          }
        },
        "6f7593c900504ec3abc9348639934efc": {
          "model_module": "@jupyter-widgets/controls",
          "model_name": "HTMLModel",
          "model_module_version": "1.5.0",
          "state": {
            "_view_name": "HTMLView",
            "style": "IPY_MODEL_5db62915dfd548f89e85fb1da7424c09",
            "_dom_classes": [],
            "description": "",
            "_model_name": "HTMLModel",
            "placeholder": "​",
            "_view_module": "@jupyter-widgets/controls",
            "_model_module_version": "1.5.0",
            "value": " 665/665 [00:00&lt;00:00, 1.11kB/s]",
            "_view_count": null,
            "_view_module_version": "1.5.0",
            "description_tooltip": null,
            "_model_module": "@jupyter-widgets/controls",
            "layout": "IPY_MODEL_82145eed482e47308be8e1c6beb6dbad"
          }
        },
        "80f8ed9639bb43e28ef1e37f5dec32ec": {
          "model_module": "@jupyter-widgets/controls",
          "model_name": "ProgressStyleModel",
          "model_module_version": "1.5.0",
          "state": {
            "_view_name": "StyleView",
            "_model_name": "ProgressStyleModel",
            "description_width": "initial",
            "_view_module": "@jupyter-widgets/base",
            "_model_module_version": "1.5.0",
            "_view_count": null,
            "_view_module_version": "1.2.0",
            "bar_color": null,
            "_model_module": "@jupyter-widgets/controls"
          }
        },
        "a47e9b0ee8f14ff98a0f8f1ad9905057": {
          "model_module": "@jupyter-widgets/base",
          "model_name": "LayoutModel",
          "model_module_version": "1.2.0",
          "state": {
            "_view_name": "LayoutView",
            "grid_template_rows": null,
            "right": null,
            "justify_content": null,
            "_view_module": "@jupyter-widgets/base",
            "overflow": null,
            "_model_module_version": "1.2.0",
            "_view_count": null,
            "flex_flow": null,
            "width": null,
            "min_width": null,
            "border": null,
            "align_items": null,
            "bottom": null,
            "_model_module": "@jupyter-widgets/base",
            "top": null,
            "grid_column": null,
            "overflow_y": null,
            "overflow_x": null,
            "grid_auto_flow": null,
            "grid_area": null,
            "grid_template_columns": null,
            "flex": null,
            "_model_name": "LayoutModel",
            "justify_items": null,
            "grid_row": null,
            "max_height": null,
            "align_content": null,
            "visibility": null,
            "align_self": null,
            "height": null,
            "min_height": null,
            "padding": null,
            "grid_auto_rows": null,
            "grid_gap": null,
            "max_width": null,
            "order": null,
            "_view_module_version": "1.2.0",
            "grid_template_areas": null,
            "object_position": null,
            "object_fit": null,
            "grid_auto_columns": null,
            "margin": null,
            "display": null,
            "left": null
          }
        },
        "5db62915dfd548f89e85fb1da7424c09": {
          "model_module": "@jupyter-widgets/controls",
          "model_name": "DescriptionStyleModel",
          "model_module_version": "1.5.0",
          "state": {
            "_view_name": "StyleView",
            "_model_name": "DescriptionStyleModel",
            "description_width": "",
            "_view_module": "@jupyter-widgets/base",
            "_model_module_version": "1.5.0",
            "_view_count": null,
            "_view_module_version": "1.2.0",
            "_model_module": "@jupyter-widgets/controls"
          }
        },
        "82145eed482e47308be8e1c6beb6dbad": {
          "model_module": "@jupyter-widgets/base",
          "model_name": "LayoutModel",
          "model_module_version": "1.2.0",
          "state": {
            "_view_name": "LayoutView",
            "grid_template_rows": null,
            "right": null,
            "justify_content": null,
            "_view_module": "@jupyter-widgets/base",
            "overflow": null,
            "_model_module_version": "1.2.0",
            "_view_count": null,
            "flex_flow": null,
            "width": null,
            "min_width": null,
            "border": null,
            "align_items": null,
            "bottom": null,
            "_model_module": "@jupyter-widgets/base",
            "top": null,
            "grid_column": null,
            "overflow_y": null,
            "overflow_x": null,
            "grid_auto_flow": null,
            "grid_area": null,
            "grid_template_columns": null,
            "flex": null,
            "_model_name": "LayoutModel",
            "justify_items": null,
            "grid_row": null,
            "max_height": null,
            "align_content": null,
            "visibility": null,
            "align_self": null,
            "height": null,
            "min_height": null,
            "padding": null,
            "grid_auto_rows": null,
            "grid_gap": null,
            "max_width": null,
            "order": null,
            "_view_module_version": "1.2.0",
            "grid_template_areas": null,
            "object_position": null,
            "object_fit": null,
            "grid_auto_columns": null,
            "margin": null,
            "display": null,
            "left": null
          }
        },
        "e890c056351944948b4693d3af1ab7b4": {
          "model_module": "@jupyter-widgets/controls",
          "model_name": "HBoxModel",
          "model_module_version": "1.5.0",
          "state": {
            "_view_name": "HBoxView",
            "_dom_classes": [],
            "_model_name": "HBoxModel",
            "_view_module": "@jupyter-widgets/controls",
            "_model_module_version": "1.5.0",
            "_view_count": null,
            "_view_module_version": "1.5.0",
            "box_style": "",
            "layout": "IPY_MODEL_edd873632a594a7f91543409711a10fb",
            "_model_module": "@jupyter-widgets/controls",
            "children": [
              "IPY_MODEL_f3937e1638cf4a239d24255213dad95c",
              "IPY_MODEL_ae348dd86d1645d4a5ad0b320f8cbd7d"
            ]
          }
        },
        "edd873632a594a7f91543409711a10fb": {
          "model_module": "@jupyter-widgets/base",
          "model_name": "LayoutModel",
          "model_module_version": "1.2.0",
          "state": {
            "_view_name": "LayoutView",
            "grid_template_rows": null,
            "right": null,
            "justify_content": null,
            "_view_module": "@jupyter-widgets/base",
            "overflow": null,
            "_model_module_version": "1.2.0",
            "_view_count": null,
            "flex_flow": null,
            "width": null,
            "min_width": null,
            "border": null,
            "align_items": null,
            "bottom": null,
            "_model_module": "@jupyter-widgets/base",
            "top": null,
            "grid_column": null,
            "overflow_y": null,
            "overflow_x": null,
            "grid_auto_flow": null,
            "grid_area": null,
            "grid_template_columns": null,
            "flex": null,
            "_model_name": "LayoutModel",
            "justify_items": null,
            "grid_row": null,
            "max_height": null,
            "align_content": null,
            "visibility": null,
            "align_self": null,
            "height": null,
            "min_height": null,
            "padding": null,
            "grid_auto_rows": null,
            "grid_gap": null,
            "max_width": null,
            "order": null,
            "_view_module_version": "1.2.0",
            "grid_template_areas": null,
            "object_position": null,
            "object_fit": null,
            "grid_auto_columns": null,
            "margin": null,
            "display": null,
            "left": null
          }
        },
        "f3937e1638cf4a239d24255213dad95c": {
          "model_module": "@jupyter-widgets/controls",
          "model_name": "FloatProgressModel",
          "model_module_version": "1.5.0",
          "state": {
            "_view_name": "ProgressView",
            "style": "IPY_MODEL_b8b4fa07d9934f939319f65e3c42a0be",
            "_dom_classes": [],
            "description": "Downloading: 100%",
            "_model_name": "FloatProgressModel",
            "bar_style": "success",
            "max": 1042301,
            "_view_module": "@jupyter-widgets/controls",
            "_model_module_version": "1.5.0",
            "value": 1042301,
            "_view_count": null,
            "_view_module_version": "1.5.0",
            "orientation": "horizontal",
            "min": 0,
            "description_tooltip": null,
            "_model_module": "@jupyter-widgets/controls",
            "layout": "IPY_MODEL_77590b3676334b0f8c7a388dd3f08dee"
          }
        },
        "ae348dd86d1645d4a5ad0b320f8cbd7d": {
          "model_module": "@jupyter-widgets/controls",
          "model_name": "HTMLModel",
          "model_module_version": "1.5.0",
          "state": {
            "_view_name": "HTMLView",
            "style": "IPY_MODEL_db4a7f1f8d924f1d9018fdaede0d682c",
            "_dom_classes": [],
            "description": "",
            "_model_name": "HTMLModel",
            "placeholder": "​",
            "_view_module": "@jupyter-widgets/controls",
            "_model_module_version": "1.5.0",
            "value": " 1.04M/1.04M [00:03&lt;00:00, 284kB/s]",
            "_view_count": null,
            "_view_module_version": "1.5.0",
            "description_tooltip": null,
            "_model_module": "@jupyter-widgets/controls",
            "layout": "IPY_MODEL_97dfc58a66414e978d7b4626f4ec66d2"
          }
        },
        "b8b4fa07d9934f939319f65e3c42a0be": {
          "model_module": "@jupyter-widgets/controls",
          "model_name": "ProgressStyleModel",
          "model_module_version": "1.5.0",
          "state": {
            "_view_name": "StyleView",
            "_model_name": "ProgressStyleModel",
            "description_width": "initial",
            "_view_module": "@jupyter-widgets/base",
            "_model_module_version": "1.5.0",
            "_view_count": null,
            "_view_module_version": "1.2.0",
            "bar_color": null,
            "_model_module": "@jupyter-widgets/controls"
          }
        },
        "77590b3676334b0f8c7a388dd3f08dee": {
          "model_module": "@jupyter-widgets/base",
          "model_name": "LayoutModel",
          "model_module_version": "1.2.0",
          "state": {
            "_view_name": "LayoutView",
            "grid_template_rows": null,
            "right": null,
            "justify_content": null,
            "_view_module": "@jupyter-widgets/base",
            "overflow": null,
            "_model_module_version": "1.2.0",
            "_view_count": null,
            "flex_flow": null,
            "width": null,
            "min_width": null,
            "border": null,
            "align_items": null,
            "bottom": null,
            "_model_module": "@jupyter-widgets/base",
            "top": null,
            "grid_column": null,
            "overflow_y": null,
            "overflow_x": null,
            "grid_auto_flow": null,
            "grid_area": null,
            "grid_template_columns": null,
            "flex": null,
            "_model_name": "LayoutModel",
            "justify_items": null,
            "grid_row": null,
            "max_height": null,
            "align_content": null,
            "visibility": null,
            "align_self": null,
            "height": null,
            "min_height": null,
            "padding": null,
            "grid_auto_rows": null,
            "grid_gap": null,
            "max_width": null,
            "order": null,
            "_view_module_version": "1.2.0",
            "grid_template_areas": null,
            "object_position": null,
            "object_fit": null,
            "grid_auto_columns": null,
            "margin": null,
            "display": null,
            "left": null
          }
        },
        "db4a7f1f8d924f1d9018fdaede0d682c": {
          "model_module": "@jupyter-widgets/controls",
          "model_name": "DescriptionStyleModel",
          "model_module_version": "1.5.0",
          "state": {
            "_view_name": "StyleView",
            "_model_name": "DescriptionStyleModel",
            "description_width": "",
            "_view_module": "@jupyter-widgets/base",
            "_model_module_version": "1.5.0",
            "_view_count": null,
            "_view_module_version": "1.2.0",
            "_model_module": "@jupyter-widgets/controls"
          }
        },
        "97dfc58a66414e978d7b4626f4ec66d2": {
          "model_module": "@jupyter-widgets/base",
          "model_name": "LayoutModel",
          "model_module_version": "1.2.0",
          "state": {
            "_view_name": "LayoutView",
            "grid_template_rows": null,
            "right": null,
            "justify_content": null,
            "_view_module": "@jupyter-widgets/base",
            "overflow": null,
            "_model_module_version": "1.2.0",
            "_view_count": null,
            "flex_flow": null,
            "width": null,
            "min_width": null,
            "border": null,
            "align_items": null,
            "bottom": null,
            "_model_module": "@jupyter-widgets/base",
            "top": null,
            "grid_column": null,
            "overflow_y": null,
            "overflow_x": null,
            "grid_auto_flow": null,
            "grid_area": null,
            "grid_template_columns": null,
            "flex": null,
            "_model_name": "LayoutModel",
            "justify_items": null,
            "grid_row": null,
            "max_height": null,
            "align_content": null,
            "visibility": null,
            "align_self": null,
            "height": null,
            "min_height": null,
            "padding": null,
            "grid_auto_rows": null,
            "grid_gap": null,
            "max_width": null,
            "order": null,
            "_view_module_version": "1.2.0",
            "grid_template_areas": null,
            "object_position": null,
            "object_fit": null,
            "grid_auto_columns": null,
            "margin": null,
            "display": null,
            "left": null
          }
        },
        "cbe0533405c640da82a4619567a2c441": {
          "model_module": "@jupyter-widgets/controls",
          "model_name": "HBoxModel",
          "model_module_version": "1.5.0",
          "state": {
            "_view_name": "HBoxView",
            "_dom_classes": [],
            "_model_name": "HBoxModel",
            "_view_module": "@jupyter-widgets/controls",
            "_model_module_version": "1.5.0",
            "_view_count": null,
            "_view_module_version": "1.5.0",
            "box_style": "",
            "layout": "IPY_MODEL_6e62048d153342758acdaa96398ead34",
            "_model_module": "@jupyter-widgets/controls",
            "children": [
              "IPY_MODEL_309fb117f1d6462f84e637c209f1195a",
              "IPY_MODEL_fe53843185fb421bb25449327a62271b"
            ]
          }
        },
        "6e62048d153342758acdaa96398ead34": {
          "model_module": "@jupyter-widgets/base",
          "model_name": "LayoutModel",
          "model_module_version": "1.2.0",
          "state": {
            "_view_name": "LayoutView",
            "grid_template_rows": null,
            "right": null,
            "justify_content": null,
            "_view_module": "@jupyter-widgets/base",
            "overflow": null,
            "_model_module_version": "1.2.0",
            "_view_count": null,
            "flex_flow": null,
            "width": null,
            "min_width": null,
            "border": null,
            "align_items": null,
            "bottom": null,
            "_model_module": "@jupyter-widgets/base",
            "top": null,
            "grid_column": null,
            "overflow_y": null,
            "overflow_x": null,
            "grid_auto_flow": null,
            "grid_area": null,
            "grid_template_columns": null,
            "flex": null,
            "_model_name": "LayoutModel",
            "justify_items": null,
            "grid_row": null,
            "max_height": null,
            "align_content": null,
            "visibility": null,
            "align_self": null,
            "height": null,
            "min_height": null,
            "padding": null,
            "grid_auto_rows": null,
            "grid_gap": null,
            "max_width": null,
            "order": null,
            "_view_module_version": "1.2.0",
            "grid_template_areas": null,
            "object_position": null,
            "object_fit": null,
            "grid_auto_columns": null,
            "margin": null,
            "display": null,
            "left": null
          }
        },
        "309fb117f1d6462f84e637c209f1195a": {
          "model_module": "@jupyter-widgets/controls",
          "model_name": "FloatProgressModel",
          "model_module_version": "1.5.0",
          "state": {
            "_view_name": "ProgressView",
            "style": "IPY_MODEL_d248d26bb6de47f2b7720f39507f35d4",
            "_dom_classes": [],
            "description": "Downloading: 100%",
            "_model_name": "FloatProgressModel",
            "bar_style": "success",
            "max": 456318,
            "_view_module": "@jupyter-widgets/controls",
            "_model_module_version": "1.5.0",
            "value": 456318,
            "_view_count": null,
            "_view_module_version": "1.5.0",
            "orientation": "horizontal",
            "min": 0,
            "description_tooltip": null,
            "_model_module": "@jupyter-widgets/controls",
            "layout": "IPY_MODEL_5be09c8e171d499d8dbafc0586d1f50e"
          }
        },
        "fe53843185fb421bb25449327a62271b": {
          "model_module": "@jupyter-widgets/controls",
          "model_name": "HTMLModel",
          "model_module_version": "1.5.0",
          "state": {
            "_view_name": "HTMLView",
            "style": "IPY_MODEL_698f22b58a864a66b385a16a82ae383a",
            "_dom_classes": [],
            "description": "",
            "_model_name": "HTMLModel",
            "placeholder": "​",
            "_view_module": "@jupyter-widgets/controls",
            "_model_module_version": "1.5.0",
            "value": " 456k/456k [00:02&lt;00:00, 157kB/s]",
            "_view_count": null,
            "_view_module_version": "1.5.0",
            "description_tooltip": null,
            "_model_module": "@jupyter-widgets/controls",
            "layout": "IPY_MODEL_a3416dca2d2f4f81bd14a1004fef6752"
          }
        },
        "d248d26bb6de47f2b7720f39507f35d4": {
          "model_module": "@jupyter-widgets/controls",
          "model_name": "ProgressStyleModel",
          "model_module_version": "1.5.0",
          "state": {
            "_view_name": "StyleView",
            "_model_name": "ProgressStyleModel",
            "description_width": "initial",
            "_view_module": "@jupyter-widgets/base",
            "_model_module_version": "1.5.0",
            "_view_count": null,
            "_view_module_version": "1.2.0",
            "bar_color": null,
            "_model_module": "@jupyter-widgets/controls"
          }
        },
        "5be09c8e171d499d8dbafc0586d1f50e": {
          "model_module": "@jupyter-widgets/base",
          "model_name": "LayoutModel",
          "model_module_version": "1.2.0",
          "state": {
            "_view_name": "LayoutView",
            "grid_template_rows": null,
            "right": null,
            "justify_content": null,
            "_view_module": "@jupyter-widgets/base",
            "overflow": null,
            "_model_module_version": "1.2.0",
            "_view_count": null,
            "flex_flow": null,
            "width": null,
            "min_width": null,
            "border": null,
            "align_items": null,
            "bottom": null,
            "_model_module": "@jupyter-widgets/base",
            "top": null,
            "grid_column": null,
            "overflow_y": null,
            "overflow_x": null,
            "grid_auto_flow": null,
            "grid_area": null,
            "grid_template_columns": null,
            "flex": null,
            "_model_name": "LayoutModel",
            "justify_items": null,
            "grid_row": null,
            "max_height": null,
            "align_content": null,
            "visibility": null,
            "align_self": null,
            "height": null,
            "min_height": null,
            "padding": null,
            "grid_auto_rows": null,
            "grid_gap": null,
            "max_width": null,
            "order": null,
            "_view_module_version": "1.2.0",
            "grid_template_areas": null,
            "object_position": null,
            "object_fit": null,
            "grid_auto_columns": null,
            "margin": null,
            "display": null,
            "left": null
          }
        },
        "698f22b58a864a66b385a16a82ae383a": {
          "model_module": "@jupyter-widgets/controls",
          "model_name": "DescriptionStyleModel",
          "model_module_version": "1.5.0",
          "state": {
            "_view_name": "StyleView",
            "_model_name": "DescriptionStyleModel",
            "description_width": "",
            "_view_module": "@jupyter-widgets/base",
            "_model_module_version": "1.5.0",
            "_view_count": null,
            "_view_module_version": "1.2.0",
            "_model_module": "@jupyter-widgets/controls"
          }
        },
        "a3416dca2d2f4f81bd14a1004fef6752": {
          "model_module": "@jupyter-widgets/base",
          "model_name": "LayoutModel",
          "model_module_version": "1.2.0",
          "state": {
            "_view_name": "LayoutView",
            "grid_template_rows": null,
            "right": null,
            "justify_content": null,
            "_view_module": "@jupyter-widgets/base",
            "overflow": null,
            "_model_module_version": "1.2.0",
            "_view_count": null,
            "flex_flow": null,
            "width": null,
            "min_width": null,
            "border": null,
            "align_items": null,
            "bottom": null,
            "_model_module": "@jupyter-widgets/base",
            "top": null,
            "grid_column": null,
            "overflow_y": null,
            "overflow_x": null,
            "grid_auto_flow": null,
            "grid_area": null,
            "grid_template_columns": null,
            "flex": null,
            "_model_name": "LayoutModel",
            "justify_items": null,
            "grid_row": null,
            "max_height": null,
            "align_content": null,
            "visibility": null,
            "align_self": null,
            "height": null,
            "min_height": null,
            "padding": null,
            "grid_auto_rows": null,
            "grid_gap": null,
            "max_width": null,
            "order": null,
            "_view_module_version": "1.2.0",
            "grid_template_areas": null,
            "object_position": null,
            "object_fit": null,
            "grid_auto_columns": null,
            "margin": null,
            "display": null,
            "left": null
          }
        },
        "2ac276e9d443495dbe311aaf1bec1ff7": {
          "model_module": "@jupyter-widgets/controls",
          "model_name": "HBoxModel",
          "model_module_version": "1.5.0",
          "state": {
            "_view_name": "HBoxView",
            "_dom_classes": [],
            "_model_name": "HBoxModel",
            "_view_module": "@jupyter-widgets/controls",
            "_model_module_version": "1.5.0",
            "_view_count": null,
            "_view_module_version": "1.5.0",
            "box_style": "",
            "layout": "IPY_MODEL_ca4cbe2d9b844d79ba8e03971e34d44c",
            "_model_module": "@jupyter-widgets/controls",
            "children": [
              "IPY_MODEL_8c839e1834dc457da8541fc45eac6f0b",
              "IPY_MODEL_87be4dbb87164e79b40336449225f035"
            ]
          }
        },
        "ca4cbe2d9b844d79ba8e03971e34d44c": {
          "model_module": "@jupyter-widgets/base",
          "model_name": "LayoutModel",
          "model_module_version": "1.2.0",
          "state": {
            "_view_name": "LayoutView",
            "grid_template_rows": null,
            "right": null,
            "justify_content": null,
            "_view_module": "@jupyter-widgets/base",
            "overflow": null,
            "_model_module_version": "1.2.0",
            "_view_count": null,
            "flex_flow": null,
            "width": null,
            "min_width": null,
            "border": null,
            "align_items": null,
            "bottom": null,
            "_model_module": "@jupyter-widgets/base",
            "top": null,
            "grid_column": null,
            "overflow_y": null,
            "overflow_x": null,
            "grid_auto_flow": null,
            "grid_area": null,
            "grid_template_columns": null,
            "flex": null,
            "_model_name": "LayoutModel",
            "justify_items": null,
            "grid_row": null,
            "max_height": null,
            "align_content": null,
            "visibility": null,
            "align_self": null,
            "height": null,
            "min_height": null,
            "padding": null,
            "grid_auto_rows": null,
            "grid_gap": null,
            "max_width": null,
            "order": null,
            "_view_module_version": "1.2.0",
            "grid_template_areas": null,
            "object_position": null,
            "object_fit": null,
            "grid_auto_columns": null,
            "margin": null,
            "display": null,
            "left": null
          }
        },
        "8c839e1834dc457da8541fc45eac6f0b": {
          "model_module": "@jupyter-widgets/controls",
          "model_name": "FloatProgressModel",
          "model_module_version": "1.5.0",
          "state": {
            "_view_name": "ProgressView",
            "style": "IPY_MODEL_4bc027cbee42411eb4d03ceb2ca20524",
            "_dom_classes": [],
            "description": "Downloading: 100%",
            "_model_name": "FloatProgressModel",
            "bar_style": "success",
            "max": 1355256,
            "_view_module": "@jupyter-widgets/controls",
            "_model_module_version": "1.5.0",
            "value": 1355256,
            "_view_count": null,
            "_view_module_version": "1.5.0",
            "orientation": "horizontal",
            "min": 0,
            "description_tooltip": null,
            "_model_module": "@jupyter-widgets/controls",
            "layout": "IPY_MODEL_b5053dcb48864007bdfd7322bb096c3b"
          }
        },
        "87be4dbb87164e79b40336449225f035": {
          "model_module": "@jupyter-widgets/controls",
          "model_name": "HTMLModel",
          "model_module_version": "1.5.0",
          "state": {
            "_view_name": "HTMLView",
            "style": "IPY_MODEL_8eeda13318124d2892551f5499053b0c",
            "_dom_classes": [],
            "description": "",
            "_model_name": "HTMLModel",
            "placeholder": "​",
            "_view_module": "@jupyter-widgets/controls",
            "_model_module_version": "1.5.0",
            "value": " 1.36M/1.36M [00:02&lt;00:00, 612kB/s]",
            "_view_count": null,
            "_view_module_version": "1.5.0",
            "description_tooltip": null,
            "_model_module": "@jupyter-widgets/controls",
            "layout": "IPY_MODEL_b99b916a906443cfbe074c6ee9b1effc"
          }
        },
        "4bc027cbee42411eb4d03ceb2ca20524": {
          "model_module": "@jupyter-widgets/controls",
          "model_name": "ProgressStyleModel",
          "model_module_version": "1.5.0",
          "state": {
            "_view_name": "StyleView",
            "_model_name": "ProgressStyleModel",
            "description_width": "initial",
            "_view_module": "@jupyter-widgets/base",
            "_model_module_version": "1.5.0",
            "_view_count": null,
            "_view_module_version": "1.2.0",
            "bar_color": null,
            "_model_module": "@jupyter-widgets/controls"
          }
        },
        "b5053dcb48864007bdfd7322bb096c3b": {
          "model_module": "@jupyter-widgets/base",
          "model_name": "LayoutModel",
          "model_module_version": "1.2.0",
          "state": {
            "_view_name": "LayoutView",
            "grid_template_rows": null,
            "right": null,
            "justify_content": null,
            "_view_module": "@jupyter-widgets/base",
            "overflow": null,
            "_model_module_version": "1.2.0",
            "_view_count": null,
            "flex_flow": null,
            "width": null,
            "min_width": null,
            "border": null,
            "align_items": null,
            "bottom": null,
            "_model_module": "@jupyter-widgets/base",
            "top": null,
            "grid_column": null,
            "overflow_y": null,
            "overflow_x": null,
            "grid_auto_flow": null,
            "grid_area": null,
            "grid_template_columns": null,
            "flex": null,
            "_model_name": "LayoutModel",
            "justify_items": null,
            "grid_row": null,
            "max_height": null,
            "align_content": null,
            "visibility": null,
            "align_self": null,
            "height": null,
            "min_height": null,
            "padding": null,
            "grid_auto_rows": null,
            "grid_gap": null,
            "max_width": null,
            "order": null,
            "_view_module_version": "1.2.0",
            "grid_template_areas": null,
            "object_position": null,
            "object_fit": null,
            "grid_auto_columns": null,
            "margin": null,
            "display": null,
            "left": null
          }
        },
        "8eeda13318124d2892551f5499053b0c": {
          "model_module": "@jupyter-widgets/controls",
          "model_name": "DescriptionStyleModel",
          "model_module_version": "1.5.0",
          "state": {
            "_view_name": "StyleView",
            "_model_name": "DescriptionStyleModel",
            "description_width": "",
            "_view_module": "@jupyter-widgets/base",
            "_model_module_version": "1.5.0",
            "_view_count": null,
            "_view_module_version": "1.2.0",
            "_model_module": "@jupyter-widgets/controls"
          }
        },
        "b99b916a906443cfbe074c6ee9b1effc": {
          "model_module": "@jupyter-widgets/base",
          "model_name": "LayoutModel",
          "model_module_version": "1.2.0",
          "state": {
            "_view_name": "LayoutView",
            "grid_template_rows": null,
            "right": null,
            "justify_content": null,
            "_view_module": "@jupyter-widgets/base",
            "overflow": null,
            "_model_module_version": "1.2.0",
            "_view_count": null,
            "flex_flow": null,
            "width": null,
            "min_width": null,
            "border": null,
            "align_items": null,
            "bottom": null,
            "_model_module": "@jupyter-widgets/base",
            "top": null,
            "grid_column": null,
            "overflow_y": null,
            "overflow_x": null,
            "grid_auto_flow": null,
            "grid_area": null,
            "grid_template_columns": null,
            "flex": null,
            "_model_name": "LayoutModel",
            "justify_items": null,
            "grid_row": null,
            "max_height": null,
            "align_content": null,
            "visibility": null,
            "align_self": null,
            "height": null,
            "min_height": null,
            "padding": null,
            "grid_auto_rows": null,
            "grid_gap": null,
            "max_width": null,
            "order": null,
            "_view_module_version": "1.2.0",
            "grid_template_areas": null,
            "object_position": null,
            "object_fit": null,
            "grid_auto_columns": null,
            "margin": null,
            "display": null,
            "left": null
          }
        },
        "62cc1f596d754ca8baeead971ac1af27": {
          "model_module": "@jupyter-widgets/controls",
          "model_name": "HBoxModel",
          "model_module_version": "1.5.0",
          "state": {
            "_view_name": "HBoxView",
            "_dom_classes": [],
            "_model_name": "HBoxModel",
            "_view_module": "@jupyter-widgets/controls",
            "_model_module_version": "1.5.0",
            "_view_count": null,
            "_view_module_version": "1.5.0",
            "box_style": "",
            "layout": "IPY_MODEL_91e9063591764db1a6e415eda61ca049",
            "_model_module": "@jupyter-widgets/controls",
            "children": [
              "IPY_MODEL_74b09b046575428895ad071ab3b1718f",
              "IPY_MODEL_6796365c449648ec8e1b953a6eade5f5"
            ]
          }
        },
        "91e9063591764db1a6e415eda61ca049": {
          "model_module": "@jupyter-widgets/base",
          "model_name": "LayoutModel",
          "model_module_version": "1.2.0",
          "state": {
            "_view_name": "LayoutView",
            "grid_template_rows": null,
            "right": null,
            "justify_content": null,
            "_view_module": "@jupyter-widgets/base",
            "overflow": null,
            "_model_module_version": "1.2.0",
            "_view_count": null,
            "flex_flow": null,
            "width": null,
            "min_width": null,
            "border": null,
            "align_items": null,
            "bottom": null,
            "_model_module": "@jupyter-widgets/base",
            "top": null,
            "grid_column": null,
            "overflow_y": null,
            "overflow_x": null,
            "grid_auto_flow": null,
            "grid_area": null,
            "grid_template_columns": null,
            "flex": null,
            "_model_name": "LayoutModel",
            "justify_items": null,
            "grid_row": null,
            "max_height": null,
            "align_content": null,
            "visibility": null,
            "align_self": null,
            "height": null,
            "min_height": null,
            "padding": null,
            "grid_auto_rows": null,
            "grid_gap": null,
            "max_width": null,
            "order": null,
            "_view_module_version": "1.2.0",
            "grid_template_areas": null,
            "object_position": null,
            "object_fit": null,
            "grid_auto_columns": null,
            "margin": null,
            "display": null,
            "left": null
          }
        },
        "74b09b046575428895ad071ab3b1718f": {
          "model_module": "@jupyter-widgets/controls",
          "model_name": "FloatProgressModel",
          "model_module_version": "1.5.0",
          "state": {
            "_view_name": "ProgressView",
            "style": "IPY_MODEL_e487cdd40e2d41ca9a7ebf28b0c40528",
            "_dom_classes": [],
            "description": "Downloading: 100%",
            "_model_name": "FloatProgressModel",
            "bar_style": "success",
            "max": 548118077,
            "_view_module": "@jupyter-widgets/controls",
            "_model_module_version": "1.5.0",
            "value": 548118077,
            "_view_count": null,
            "_view_module_version": "1.5.0",
            "orientation": "horizontal",
            "min": 0,
            "description_tooltip": null,
            "_model_module": "@jupyter-widgets/controls",
            "layout": "IPY_MODEL_f0de7e6ddbb041918c9374c5235ed502"
          }
        },
        "6796365c449648ec8e1b953a6eade5f5": {
          "model_module": "@jupyter-widgets/controls",
          "model_name": "HTMLModel",
          "model_module_version": "1.5.0",
          "state": {
            "_view_name": "HTMLView",
            "style": "IPY_MODEL_b9121a17b4cc49b9905ecb205e0d93db",
            "_dom_classes": [],
            "description": "",
            "_model_name": "HTMLModel",
            "placeholder": "​",
            "_view_module": "@jupyter-widgets/controls",
            "_model_module_version": "1.5.0",
            "value": " 548M/548M [00:09&lt;00:00, 55.5MB/s]",
            "_view_count": null,
            "_view_module_version": "1.5.0",
            "description_tooltip": null,
            "_model_module": "@jupyter-widgets/controls",
            "layout": "IPY_MODEL_fe4fe8a733b046d3b442df72626a8fd6"
          }
        },
        "e487cdd40e2d41ca9a7ebf28b0c40528": {
          "model_module": "@jupyter-widgets/controls",
          "model_name": "ProgressStyleModel",
          "model_module_version": "1.5.0",
          "state": {
            "_view_name": "StyleView",
            "_model_name": "ProgressStyleModel",
            "description_width": "initial",
            "_view_module": "@jupyter-widgets/base",
            "_model_module_version": "1.5.0",
            "_view_count": null,
            "_view_module_version": "1.2.0",
            "bar_color": null,
            "_model_module": "@jupyter-widgets/controls"
          }
        },
        "f0de7e6ddbb041918c9374c5235ed502": {
          "model_module": "@jupyter-widgets/base",
          "model_name": "LayoutModel",
          "model_module_version": "1.2.0",
          "state": {
            "_view_name": "LayoutView",
            "grid_template_rows": null,
            "right": null,
            "justify_content": null,
            "_view_module": "@jupyter-widgets/base",
            "overflow": null,
            "_model_module_version": "1.2.0",
            "_view_count": null,
            "flex_flow": null,
            "width": null,
            "min_width": null,
            "border": null,
            "align_items": null,
            "bottom": null,
            "_model_module": "@jupyter-widgets/base",
            "top": null,
            "grid_column": null,
            "overflow_y": null,
            "overflow_x": null,
            "grid_auto_flow": null,
            "grid_area": null,
            "grid_template_columns": null,
            "flex": null,
            "_model_name": "LayoutModel",
            "justify_items": null,
            "grid_row": null,
            "max_height": null,
            "align_content": null,
            "visibility": null,
            "align_self": null,
            "height": null,
            "min_height": null,
            "padding": null,
            "grid_auto_rows": null,
            "grid_gap": null,
            "max_width": null,
            "order": null,
            "_view_module_version": "1.2.0",
            "grid_template_areas": null,
            "object_position": null,
            "object_fit": null,
            "grid_auto_columns": null,
            "margin": null,
            "display": null,
            "left": null
          }
        },
        "b9121a17b4cc49b9905ecb205e0d93db": {
          "model_module": "@jupyter-widgets/controls",
          "model_name": "DescriptionStyleModel",
          "model_module_version": "1.5.0",
          "state": {
            "_view_name": "StyleView",
            "_model_name": "DescriptionStyleModel",
            "description_width": "",
            "_view_module": "@jupyter-widgets/base",
            "_model_module_version": "1.5.0",
            "_view_count": null,
            "_view_module_version": "1.2.0",
            "_model_module": "@jupyter-widgets/controls"
          }
        },
        "fe4fe8a733b046d3b442df72626a8fd6": {
          "model_module": "@jupyter-widgets/base",
          "model_name": "LayoutModel",
          "model_module_version": "1.2.0",
          "state": {
            "_view_name": "LayoutView",
            "grid_template_rows": null,
            "right": null,
            "justify_content": null,
            "_view_module": "@jupyter-widgets/base",
            "overflow": null,
            "_model_module_version": "1.2.0",
            "_view_count": null,
            "flex_flow": null,
            "width": null,
            "min_width": null,
            "border": null,
            "align_items": null,
            "bottom": null,
            "_model_module": "@jupyter-widgets/base",
            "top": null,
            "grid_column": null,
            "overflow_y": null,
            "overflow_x": null,
            "grid_auto_flow": null,
            "grid_area": null,
            "grid_template_columns": null,
            "flex": null,
            "_model_name": "LayoutModel",
            "justify_items": null,
            "grid_row": null,
            "max_height": null,
            "align_content": null,
            "visibility": null,
            "align_self": null,
            "height": null,
            "min_height": null,
            "padding": null,
            "grid_auto_rows": null,
            "grid_gap": null,
            "max_width": null,
            "order": null,
            "_view_module_version": "1.2.0",
            "grid_template_areas": null,
            "object_position": null,
            "object_fit": null,
            "grid_auto_columns": null,
            "margin": null,
            "display": null,
            "left": null
          }
        },
        "6c72d235c7564d428bef3d8e0df4637c": {
          "model_module": "@jupyter-widgets/controls",
          "model_name": "HBoxModel",
          "model_module_version": "1.5.0",
          "state": {
            "_view_name": "HBoxView",
            "_dom_classes": [],
            "_model_name": "HBoxModel",
            "_view_module": "@jupyter-widgets/controls",
            "_model_module_version": "1.5.0",
            "_view_count": null,
            "_view_module_version": "1.5.0",
            "box_style": "",
            "layout": "IPY_MODEL_b879299604504184afc5560b00b65562",
            "_model_module": "@jupyter-widgets/controls",
            "children": [
              "IPY_MODEL_d37e53cce83e4cce847e4cbd711b54eb",
              "IPY_MODEL_afe72a34e7f94f9cb30c1e2417749fae"
            ]
          }
        },
        "b879299604504184afc5560b00b65562": {
          "model_module": "@jupyter-widgets/base",
          "model_name": "LayoutModel",
          "model_module_version": "1.2.0",
          "state": {
            "_view_name": "LayoutView",
            "grid_template_rows": null,
            "right": null,
            "justify_content": null,
            "_view_module": "@jupyter-widgets/base",
            "overflow": null,
            "_model_module_version": "1.2.0",
            "_view_count": null,
            "flex_flow": null,
            "width": null,
            "min_width": null,
            "border": null,
            "align_items": null,
            "bottom": null,
            "_model_module": "@jupyter-widgets/base",
            "top": null,
            "grid_column": null,
            "overflow_y": null,
            "overflow_x": null,
            "grid_auto_flow": null,
            "grid_area": null,
            "grid_template_columns": null,
            "flex": null,
            "_model_name": "LayoutModel",
            "justify_items": null,
            "grid_row": null,
            "max_height": null,
            "align_content": null,
            "visibility": null,
            "align_self": null,
            "height": null,
            "min_height": null,
            "padding": null,
            "grid_auto_rows": null,
            "grid_gap": null,
            "max_width": null,
            "order": null,
            "_view_module_version": "1.2.0",
            "grid_template_areas": null,
            "object_position": null,
            "object_fit": null,
            "grid_auto_columns": null,
            "margin": null,
            "display": null,
            "left": null
          }
        },
        "d37e53cce83e4cce847e4cbd711b54eb": {
          "model_module": "@jupyter-widgets/controls",
          "model_name": "FloatProgressModel",
          "model_module_version": "1.5.0",
          "state": {
            "_view_name": "ProgressView",
            "style": "IPY_MODEL_e8773d116add4579bee43c8bbce96c1d",
            "_dom_classes": [],
            "description": "Downloading: 100%",
            "_model_name": "FloatProgressModel",
            "bar_style": "success",
            "max": 1627,
            "_view_module": "@jupyter-widgets/controls",
            "_model_module_version": "1.5.0",
            "value": 1627,
            "_view_count": null,
            "_view_module_version": "1.5.0",
            "orientation": "horizontal",
            "min": 0,
            "description_tooltip": null,
            "_model_module": "@jupyter-widgets/controls",
            "layout": "IPY_MODEL_89d6859a53344e07a2eded9e71a328ec"
          }
        },
        "afe72a34e7f94f9cb30c1e2417749fae": {
          "model_module": "@jupyter-widgets/controls",
          "model_name": "HTMLModel",
          "model_module_version": "1.5.0",
          "state": {
            "_view_name": "HTMLView",
            "style": "IPY_MODEL_fb2d2570f63a4521ae6e48bc344c8714",
            "_dom_classes": [],
            "description": "",
            "_model_name": "HTMLModel",
            "placeholder": "​",
            "_view_module": "@jupyter-widgets/controls",
            "_model_module_version": "1.5.0",
            "value": " 1.63k/1.63k [00:18&lt;00:00, 86.7B/s]",
            "_view_count": null,
            "_view_module_version": "1.5.0",
            "description_tooltip": null,
            "_model_module": "@jupyter-widgets/controls",
            "layout": "IPY_MODEL_c2325de3a123499b892bb4f2c055b026"
          }
        },
        "e8773d116add4579bee43c8bbce96c1d": {
          "model_module": "@jupyter-widgets/controls",
          "model_name": "ProgressStyleModel",
          "model_module_version": "1.5.0",
          "state": {
            "_view_name": "StyleView",
            "_model_name": "ProgressStyleModel",
            "description_width": "initial",
            "_view_module": "@jupyter-widgets/base",
            "_model_module_version": "1.5.0",
            "_view_count": null,
            "_view_module_version": "1.2.0",
            "bar_color": null,
            "_model_module": "@jupyter-widgets/controls"
          }
        },
        "89d6859a53344e07a2eded9e71a328ec": {
          "model_module": "@jupyter-widgets/base",
          "model_name": "LayoutModel",
          "model_module_version": "1.2.0",
          "state": {
            "_view_name": "LayoutView",
            "grid_template_rows": null,
            "right": null,
            "justify_content": null,
            "_view_module": "@jupyter-widgets/base",
            "overflow": null,
            "_model_module_version": "1.2.0",
            "_view_count": null,
            "flex_flow": null,
            "width": null,
            "min_width": null,
            "border": null,
            "align_items": null,
            "bottom": null,
            "_model_module": "@jupyter-widgets/base",
            "top": null,
            "grid_column": null,
            "overflow_y": null,
            "overflow_x": null,
            "grid_auto_flow": null,
            "grid_area": null,
            "grid_template_columns": null,
            "flex": null,
            "_model_name": "LayoutModel",
            "justify_items": null,
            "grid_row": null,
            "max_height": null,
            "align_content": null,
            "visibility": null,
            "align_self": null,
            "height": null,
            "min_height": null,
            "padding": null,
            "grid_auto_rows": null,
            "grid_gap": null,
            "max_width": null,
            "order": null,
            "_view_module_version": "1.2.0",
            "grid_template_areas": null,
            "object_position": null,
            "object_fit": null,
            "grid_auto_columns": null,
            "margin": null,
            "display": null,
            "left": null
          }
        },
        "fb2d2570f63a4521ae6e48bc344c8714": {
          "model_module": "@jupyter-widgets/controls",
          "model_name": "DescriptionStyleModel",
          "model_module_version": "1.5.0",
          "state": {
            "_view_name": "StyleView",
            "_model_name": "DescriptionStyleModel",
            "description_width": "",
            "_view_module": "@jupyter-widgets/base",
            "_model_module_version": "1.5.0",
            "_view_count": null,
            "_view_module_version": "1.2.0",
            "_model_module": "@jupyter-widgets/controls"
          }
        },
        "c2325de3a123499b892bb4f2c055b026": {
          "model_module": "@jupyter-widgets/base",
          "model_name": "LayoutModel",
          "model_module_version": "1.2.0",
          "state": {
            "_view_name": "LayoutView",
            "grid_template_rows": null,
            "right": null,
            "justify_content": null,
            "_view_module": "@jupyter-widgets/base",
            "overflow": null,
            "_model_module_version": "1.2.0",
            "_view_count": null,
            "flex_flow": null,
            "width": null,
            "min_width": null,
            "border": null,
            "align_items": null,
            "bottom": null,
            "_model_module": "@jupyter-widgets/base",
            "top": null,
            "grid_column": null,
            "overflow_y": null,
            "overflow_x": null,
            "grid_auto_flow": null,
            "grid_area": null,
            "grid_template_columns": null,
            "flex": null,
            "_model_name": "LayoutModel",
            "justify_items": null,
            "grid_row": null,
            "max_height": null,
            "align_content": null,
            "visibility": null,
            "align_self": null,
            "height": null,
            "min_height": null,
            "padding": null,
            "grid_auto_rows": null,
            "grid_gap": null,
            "max_width": null,
            "order": null,
            "_view_module_version": "1.2.0",
            "grid_template_areas": null,
            "object_position": null,
            "object_fit": null,
            "grid_auto_columns": null,
            "margin": null,
            "display": null,
            "left": null
          }
        },
        "1847dc47ffa94b85af88a79f6b533a72": {
          "model_module": "@jupyter-widgets/controls",
          "model_name": "HBoxModel",
          "model_module_version": "1.5.0",
          "state": {
            "_view_name": "HBoxView",
            "_dom_classes": [],
            "_model_name": "HBoxModel",
            "_view_module": "@jupyter-widgets/controls",
            "_model_module_version": "1.5.0",
            "_view_count": null,
            "_view_module_version": "1.5.0",
            "box_style": "",
            "layout": "IPY_MODEL_1b75fa68749a47a0acec0e340c9358bf",
            "_model_module": "@jupyter-widgets/controls",
            "children": [
              "IPY_MODEL_72cdfb79429e41509b967fc11d21ed48",
              "IPY_MODEL_47125f7c7bf443dca40ebdca319ff750"
            ]
          }
        },
        "1b75fa68749a47a0acec0e340c9358bf": {
          "model_module": "@jupyter-widgets/base",
          "model_name": "LayoutModel",
          "model_module_version": "1.2.0",
          "state": {
            "_view_name": "LayoutView",
            "grid_template_rows": null,
            "right": null,
            "justify_content": null,
            "_view_module": "@jupyter-widgets/base",
            "overflow": null,
            "_model_module_version": "1.2.0",
            "_view_count": null,
            "flex_flow": null,
            "width": null,
            "min_width": null,
            "border": null,
            "align_items": null,
            "bottom": null,
            "_model_module": "@jupyter-widgets/base",
            "top": null,
            "grid_column": null,
            "overflow_y": null,
            "overflow_x": null,
            "grid_auto_flow": null,
            "grid_area": null,
            "grid_template_columns": null,
            "flex": null,
            "_model_name": "LayoutModel",
            "justify_items": null,
            "grid_row": null,
            "max_height": null,
            "align_content": null,
            "visibility": null,
            "align_self": null,
            "height": null,
            "min_height": null,
            "padding": null,
            "grid_auto_rows": null,
            "grid_gap": null,
            "max_width": null,
            "order": null,
            "_view_module_version": "1.2.0",
            "grid_template_areas": null,
            "object_position": null,
            "object_fit": null,
            "grid_auto_columns": null,
            "margin": null,
            "display": null,
            "left": null
          }
        },
        "72cdfb79429e41509b967fc11d21ed48": {
          "model_module": "@jupyter-widgets/controls",
          "model_name": "FloatProgressModel",
          "model_module_version": "1.5.0",
          "state": {
            "_view_name": "ProgressView",
            "style": "IPY_MODEL_799ca0e713724c8c8e5b651dee8abca2",
            "_dom_classes": [],
            "description": "Downloading: 100%",
            "_model_name": "FloatProgressModel",
            "bar_style": "success",
            "max": 557941479,
            "_view_module": "@jupyter-widgets/controls",
            "_model_module_version": "1.5.0",
            "value": 557941479,
            "_view_count": null,
            "_view_module_version": "1.5.0",
            "orientation": "horizontal",
            "min": 0,
            "description_tooltip": null,
            "_model_module": "@jupyter-widgets/controls",
            "layout": "IPY_MODEL_05b0467c0e4b4fa79126d69e14ad870c"
          }
        },
        "47125f7c7bf443dca40ebdca319ff750": {
          "model_module": "@jupyter-widgets/controls",
          "model_name": "HTMLModel",
          "model_module_version": "1.5.0",
          "state": {
            "_view_name": "HTMLView",
            "style": "IPY_MODEL_5f4d566669b240d994c8e28afd984281",
            "_dom_classes": [],
            "description": "",
            "_model_name": "HTMLModel",
            "placeholder": "​",
            "_view_module": "@jupyter-widgets/controls",
            "_model_module_version": "1.5.0",
            "value": " 558M/558M [00:10&lt;00:00, 55.6MB/s]",
            "_view_count": null,
            "_view_module_version": "1.5.0",
            "description_tooltip": null,
            "_model_module": "@jupyter-widgets/controls",
            "layout": "IPY_MODEL_8a339e70a3f04f76838f95663bb479ad"
          }
        },
        "799ca0e713724c8c8e5b651dee8abca2": {
          "model_module": "@jupyter-widgets/controls",
          "model_name": "ProgressStyleModel",
          "model_module_version": "1.5.0",
          "state": {
            "_view_name": "StyleView",
            "_model_name": "ProgressStyleModel",
            "description_width": "initial",
            "_view_module": "@jupyter-widgets/base",
            "_model_module_version": "1.5.0",
            "_view_count": null,
            "_view_module_version": "1.2.0",
            "bar_color": null,
            "_model_module": "@jupyter-widgets/controls"
          }
        },
        "05b0467c0e4b4fa79126d69e14ad870c": {
          "model_module": "@jupyter-widgets/base",
          "model_name": "LayoutModel",
          "model_module_version": "1.2.0",
          "state": {
            "_view_name": "LayoutView",
            "grid_template_rows": null,
            "right": null,
            "justify_content": null,
            "_view_module": "@jupyter-widgets/base",
            "overflow": null,
            "_model_module_version": "1.2.0",
            "_view_count": null,
            "flex_flow": null,
            "width": null,
            "min_width": null,
            "border": null,
            "align_items": null,
            "bottom": null,
            "_model_module": "@jupyter-widgets/base",
            "top": null,
            "grid_column": null,
            "overflow_y": null,
            "overflow_x": null,
            "grid_auto_flow": null,
            "grid_area": null,
            "grid_template_columns": null,
            "flex": null,
            "_model_name": "LayoutModel",
            "justify_items": null,
            "grid_row": null,
            "max_height": null,
            "align_content": null,
            "visibility": null,
            "align_self": null,
            "height": null,
            "min_height": null,
            "padding": null,
            "grid_auto_rows": null,
            "grid_gap": null,
            "max_width": null,
            "order": null,
            "_view_module_version": "1.2.0",
            "grid_template_areas": null,
            "object_position": null,
            "object_fit": null,
            "grid_auto_columns": null,
            "margin": null,
            "display": null,
            "left": null
          }
        },
        "5f4d566669b240d994c8e28afd984281": {
          "model_module": "@jupyter-widgets/controls",
          "model_name": "DescriptionStyleModel",
          "model_module_version": "1.5.0",
          "state": {
            "_view_name": "StyleView",
            "_model_name": "DescriptionStyleModel",
            "description_width": "",
            "_view_module": "@jupyter-widgets/base",
            "_model_module_version": "1.5.0",
            "_view_count": null,
            "_view_module_version": "1.2.0",
            "_model_module": "@jupyter-widgets/controls"
          }
        },
        "8a339e70a3f04f76838f95663bb479ad": {
          "model_module": "@jupyter-widgets/base",
          "model_name": "LayoutModel",
          "model_module_version": "1.2.0",
          "state": {
            "_view_name": "LayoutView",
            "grid_template_rows": null,
            "right": null,
            "justify_content": null,
            "_view_module": "@jupyter-widgets/base",
            "overflow": null,
            "_model_module_version": "1.2.0",
            "_view_count": null,
            "flex_flow": null,
            "width": null,
            "min_width": null,
            "border": null,
            "align_items": null,
            "bottom": null,
            "_model_module": "@jupyter-widgets/base",
            "top": null,
            "grid_column": null,
            "overflow_y": null,
            "overflow_x": null,
            "grid_auto_flow": null,
            "grid_area": null,
            "grid_template_columns": null,
            "flex": null,
            "_model_name": "LayoutModel",
            "justify_items": null,
            "grid_row": null,
            "max_height": null,
            "align_content": null,
            "visibility": null,
            "align_self": null,
            "height": null,
            "min_height": null,
            "padding": null,
            "grid_auto_rows": null,
            "grid_gap": null,
            "max_width": null,
            "order": null,
            "_view_module_version": "1.2.0",
            "grid_template_areas": null,
            "object_position": null,
            "object_fit": null,
            "grid_auto_columns": null,
            "margin": null,
            "display": null,
            "left": null
          }
        },
        "eb04d2ed0bfa446fb1f8ff33c6fdb744": {
          "model_module": "@jupyter-widgets/controls",
          "model_name": "HBoxModel",
          "model_module_version": "1.5.0",
          "state": {
            "_view_name": "HBoxView",
            "_dom_classes": [],
            "_model_name": "HBoxModel",
            "_view_module": "@jupyter-widgets/controls",
            "_model_module_version": "1.5.0",
            "_view_count": null,
            "_view_module_version": "1.5.0",
            "box_style": "",
            "layout": "IPY_MODEL_b08f24d0d6434b81ab6fb34e1375dccc",
            "_model_module": "@jupyter-widgets/controls",
            "children": [
              "IPY_MODEL_96e728c1db06470a8ded3c729a2dbfc3",
              "IPY_MODEL_ddd5c7566dde4277907ca6b02765a849"
            ]
          }
        },
        "b08f24d0d6434b81ab6fb34e1375dccc": {
          "model_module": "@jupyter-widgets/base",
          "model_name": "LayoutModel",
          "model_module_version": "1.2.0",
          "state": {
            "_view_name": "LayoutView",
            "grid_template_rows": null,
            "right": null,
            "justify_content": null,
            "_view_module": "@jupyter-widgets/base",
            "overflow": null,
            "_model_module_version": "1.2.0",
            "_view_count": null,
            "flex_flow": null,
            "width": null,
            "min_width": null,
            "border": null,
            "align_items": null,
            "bottom": null,
            "_model_module": "@jupyter-widgets/base",
            "top": null,
            "grid_column": null,
            "overflow_y": null,
            "overflow_x": null,
            "grid_auto_flow": null,
            "grid_area": null,
            "grid_template_columns": null,
            "flex": null,
            "_model_name": "LayoutModel",
            "justify_items": null,
            "grid_row": null,
            "max_height": null,
            "align_content": null,
            "visibility": null,
            "align_self": null,
            "height": null,
            "min_height": null,
            "padding": null,
            "grid_auto_rows": null,
            "grid_gap": null,
            "max_width": null,
            "order": null,
            "_view_module_version": "1.2.0",
            "grid_template_areas": null,
            "object_position": null,
            "object_fit": null,
            "grid_auto_columns": null,
            "margin": null,
            "display": null,
            "left": null
          }
        },
        "96e728c1db06470a8ded3c729a2dbfc3": {
          "model_module": "@jupyter-widgets/controls",
          "model_name": "FloatProgressModel",
          "model_module_version": "1.5.0",
          "state": {
            "_view_name": "ProgressView",
            "style": "IPY_MODEL_2e50d6e55e01490a97800262d7f8286e",
            "_dom_classes": [],
            "description": "Downloading: 100%",
            "_model_name": "FloatProgressModel",
            "bar_style": "success",
            "max": 898823,
            "_view_module": "@jupyter-widgets/controls",
            "_model_module_version": "1.5.0",
            "value": 898823,
            "_view_count": null,
            "_view_module_version": "1.5.0",
            "orientation": "horizontal",
            "min": 0,
            "description_tooltip": null,
            "_model_module": "@jupyter-widgets/controls",
            "layout": "IPY_MODEL_9a9d0fa24b4f4c199ed3af8f64653fe3"
          }
        },
        "ddd5c7566dde4277907ca6b02765a849": {
          "model_module": "@jupyter-widgets/controls",
          "model_name": "HTMLModel",
          "model_module_version": "1.5.0",
          "state": {
            "_view_name": "HTMLView",
            "style": "IPY_MODEL_4571219995bd4fae9306723ba4513913",
            "_dom_classes": [],
            "description": "",
            "_model_name": "HTMLModel",
            "placeholder": "​",
            "_view_module": "@jupyter-widgets/controls",
            "_model_module_version": "1.5.0",
            "value": " 899k/899k [00:00&lt;00:00, 1.15MB/s]",
            "_view_count": null,
            "_view_module_version": "1.5.0",
            "description_tooltip": null,
            "_model_module": "@jupyter-widgets/controls",
            "layout": "IPY_MODEL_7f883f60e224402ebb63b3f40d369255"
          }
        },
        "2e50d6e55e01490a97800262d7f8286e": {
          "model_module": "@jupyter-widgets/controls",
          "model_name": "ProgressStyleModel",
          "model_module_version": "1.5.0",
          "state": {
            "_view_name": "StyleView",
            "_model_name": "ProgressStyleModel",
            "description_width": "initial",
            "_view_module": "@jupyter-widgets/base",
            "_model_module_version": "1.5.0",
            "_view_count": null,
            "_view_module_version": "1.2.0",
            "bar_color": null,
            "_model_module": "@jupyter-widgets/controls"
          }
        },
        "9a9d0fa24b4f4c199ed3af8f64653fe3": {
          "model_module": "@jupyter-widgets/base",
          "model_name": "LayoutModel",
          "model_module_version": "1.2.0",
          "state": {
            "_view_name": "LayoutView",
            "grid_template_rows": null,
            "right": null,
            "justify_content": null,
            "_view_module": "@jupyter-widgets/base",
            "overflow": null,
            "_model_module_version": "1.2.0",
            "_view_count": null,
            "flex_flow": null,
            "width": null,
            "min_width": null,
            "border": null,
            "align_items": null,
            "bottom": null,
            "_model_module": "@jupyter-widgets/base",
            "top": null,
            "grid_column": null,
            "overflow_y": null,
            "overflow_x": null,
            "grid_auto_flow": null,
            "grid_area": null,
            "grid_template_columns": null,
            "flex": null,
            "_model_name": "LayoutModel",
            "justify_items": null,
            "grid_row": null,
            "max_height": null,
            "align_content": null,
            "visibility": null,
            "align_self": null,
            "height": null,
            "min_height": null,
            "padding": null,
            "grid_auto_rows": null,
            "grid_gap": null,
            "max_width": null,
            "order": null,
            "_view_module_version": "1.2.0",
            "grid_template_areas": null,
            "object_position": null,
            "object_fit": null,
            "grid_auto_columns": null,
            "margin": null,
            "display": null,
            "left": null
          }
        },
        "4571219995bd4fae9306723ba4513913": {
          "model_module": "@jupyter-widgets/controls",
          "model_name": "DescriptionStyleModel",
          "model_module_version": "1.5.0",
          "state": {
            "_view_name": "StyleView",
            "_model_name": "DescriptionStyleModel",
            "description_width": "",
            "_view_module": "@jupyter-widgets/base",
            "_model_module_version": "1.5.0",
            "_view_count": null,
            "_view_module_version": "1.2.0",
            "_model_module": "@jupyter-widgets/controls"
          }
        },
        "7f883f60e224402ebb63b3f40d369255": {
          "model_module": "@jupyter-widgets/base",
          "model_name": "LayoutModel",
          "model_module_version": "1.2.0",
          "state": {
            "_view_name": "LayoutView",
            "grid_template_rows": null,
            "right": null,
            "justify_content": null,
            "_view_module": "@jupyter-widgets/base",
            "overflow": null,
            "_model_module_version": "1.2.0",
            "_view_count": null,
            "flex_flow": null,
            "width": null,
            "min_width": null,
            "border": null,
            "align_items": null,
            "bottom": null,
            "_model_module": "@jupyter-widgets/base",
            "top": null,
            "grid_column": null,
            "overflow_y": null,
            "overflow_x": null,
            "grid_auto_flow": null,
            "grid_area": null,
            "grid_template_columns": null,
            "flex": null,
            "_model_name": "LayoutModel",
            "justify_items": null,
            "grid_row": null,
            "max_height": null,
            "align_content": null,
            "visibility": null,
            "align_self": null,
            "height": null,
            "min_height": null,
            "padding": null,
            "grid_auto_rows": null,
            "grid_gap": null,
            "max_width": null,
            "order": null,
            "_view_module_version": "1.2.0",
            "grid_template_areas": null,
            "object_position": null,
            "object_fit": null,
            "grid_auto_columns": null,
            "margin": null,
            "display": null,
            "left": null
          }
        },
        "83ff820cec0c4f3a93778095b091f29d": {
          "model_module": "@jupyter-widgets/controls",
          "model_name": "HBoxModel",
          "model_module_version": "1.5.0",
          "state": {
            "_view_name": "HBoxView",
            "_dom_classes": [],
            "_model_name": "HBoxModel",
            "_view_module": "@jupyter-widgets/controls",
            "_model_module_version": "1.5.0",
            "_view_count": null,
            "_view_module_version": "1.5.0",
            "box_style": "",
            "layout": "IPY_MODEL_e82564b3d5784057bea91db2e53f88a9",
            "_model_module": "@jupyter-widgets/controls",
            "children": [
              "IPY_MODEL_6551ba8ab194424fa050e364f58da25a",
              "IPY_MODEL_b8017331917e4d71ba379c69505b4e44"
            ]
          }
        },
        "e82564b3d5784057bea91db2e53f88a9": {
          "model_module": "@jupyter-widgets/base",
          "model_name": "LayoutModel",
          "model_module_version": "1.2.0",
          "state": {
            "_view_name": "LayoutView",
            "grid_template_rows": null,
            "right": null,
            "justify_content": null,
            "_view_module": "@jupyter-widgets/base",
            "overflow": null,
            "_model_module_version": "1.2.0",
            "_view_count": null,
            "flex_flow": null,
            "width": null,
            "min_width": null,
            "border": null,
            "align_items": null,
            "bottom": null,
            "_model_module": "@jupyter-widgets/base",
            "top": null,
            "grid_column": null,
            "overflow_y": null,
            "overflow_x": null,
            "grid_auto_flow": null,
            "grid_area": null,
            "grid_template_columns": null,
            "flex": null,
            "_model_name": "LayoutModel",
            "justify_items": null,
            "grid_row": null,
            "max_height": null,
            "align_content": null,
            "visibility": null,
            "align_self": null,
            "height": null,
            "min_height": null,
            "padding": null,
            "grid_auto_rows": null,
            "grid_gap": null,
            "max_width": null,
            "order": null,
            "_view_module_version": "1.2.0",
            "grid_template_areas": null,
            "object_position": null,
            "object_fit": null,
            "grid_auto_columns": null,
            "margin": null,
            "display": null,
            "left": null
          }
        },
        "6551ba8ab194424fa050e364f58da25a": {
          "model_module": "@jupyter-widgets/controls",
          "model_name": "FloatProgressModel",
          "model_module_version": "1.5.0",
          "state": {
            "_view_name": "ProgressView",
            "style": "IPY_MODEL_23c90b52118148158f763d11f9db1f42",
            "_dom_classes": [],
            "description": "Downloading: 100%",
            "_model_name": "FloatProgressModel",
            "bar_style": "success",
            "max": 456318,
            "_view_module": "@jupyter-widgets/controls",
            "_model_module_version": "1.5.0",
            "value": 456318,
            "_view_count": null,
            "_view_module_version": "1.5.0",
            "orientation": "horizontal",
            "min": 0,
            "description_tooltip": null,
            "_model_module": "@jupyter-widgets/controls",
            "layout": "IPY_MODEL_a1189e2b54ec41f19ad5dfb3100d8684"
          }
        },
        "b8017331917e4d71ba379c69505b4e44": {
          "model_module": "@jupyter-widgets/controls",
          "model_name": "HTMLModel",
          "model_module_version": "1.5.0",
          "state": {
            "_view_name": "HTMLView",
            "style": "IPY_MODEL_686b559c4e304a6faa64f802c441136a",
            "_dom_classes": [],
            "description": "",
            "_model_name": "HTMLModel",
            "placeholder": "​",
            "_view_module": "@jupyter-widgets/controls",
            "_model_module_version": "1.5.0",
            "value": " 456k/456k [00:04&lt;00:00, 107kB/s]",
            "_view_count": null,
            "_view_module_version": "1.5.0",
            "description_tooltip": null,
            "_model_module": "@jupyter-widgets/controls",
            "layout": "IPY_MODEL_6d42677a5d274a82a0e048215f186ded"
          }
        },
        "23c90b52118148158f763d11f9db1f42": {
          "model_module": "@jupyter-widgets/controls",
          "model_name": "ProgressStyleModel",
          "model_module_version": "1.5.0",
          "state": {
            "_view_name": "StyleView",
            "_model_name": "ProgressStyleModel",
            "description_width": "initial",
            "_view_module": "@jupyter-widgets/base",
            "_model_module_version": "1.5.0",
            "_view_count": null,
            "_view_module_version": "1.2.0",
            "bar_color": null,
            "_model_module": "@jupyter-widgets/controls"
          }
        },
        "a1189e2b54ec41f19ad5dfb3100d8684": {
          "model_module": "@jupyter-widgets/base",
          "model_name": "LayoutModel",
          "model_module_version": "1.2.0",
          "state": {
            "_view_name": "LayoutView",
            "grid_template_rows": null,
            "right": null,
            "justify_content": null,
            "_view_module": "@jupyter-widgets/base",
            "overflow": null,
            "_model_module_version": "1.2.0",
            "_view_count": null,
            "flex_flow": null,
            "width": null,
            "min_width": null,
            "border": null,
            "align_items": null,
            "bottom": null,
            "_model_module": "@jupyter-widgets/base",
            "top": null,
            "grid_column": null,
            "overflow_y": null,
            "overflow_x": null,
            "grid_auto_flow": null,
            "grid_area": null,
            "grid_template_columns": null,
            "flex": null,
            "_model_name": "LayoutModel",
            "justify_items": null,
            "grid_row": null,
            "max_height": null,
            "align_content": null,
            "visibility": null,
            "align_self": null,
            "height": null,
            "min_height": null,
            "padding": null,
            "grid_auto_rows": null,
            "grid_gap": null,
            "max_width": null,
            "order": null,
            "_view_module_version": "1.2.0",
            "grid_template_areas": null,
            "object_position": null,
            "object_fit": null,
            "grid_auto_columns": null,
            "margin": null,
            "display": null,
            "left": null
          }
        },
        "686b559c4e304a6faa64f802c441136a": {
          "model_module": "@jupyter-widgets/controls",
          "model_name": "DescriptionStyleModel",
          "model_module_version": "1.5.0",
          "state": {
            "_view_name": "StyleView",
            "_model_name": "DescriptionStyleModel",
            "description_width": "",
            "_view_module": "@jupyter-widgets/base",
            "_model_module_version": "1.5.0",
            "_view_count": null,
            "_view_module_version": "1.2.0",
            "_model_module": "@jupyter-widgets/controls"
          }
        },
        "6d42677a5d274a82a0e048215f186ded": {
          "model_module": "@jupyter-widgets/base",
          "model_name": "LayoutModel",
          "model_module_version": "1.2.0",
          "state": {
            "_view_name": "LayoutView",
            "grid_template_rows": null,
            "right": null,
            "justify_content": null,
            "_view_module": "@jupyter-widgets/base",
            "overflow": null,
            "_model_module_version": "1.2.0",
            "_view_count": null,
            "flex_flow": null,
            "width": null,
            "min_width": null,
            "border": null,
            "align_items": null,
            "bottom": null,
            "_model_module": "@jupyter-widgets/base",
            "top": null,
            "grid_column": null,
            "overflow_y": null,
            "overflow_x": null,
            "grid_auto_flow": null,
            "grid_area": null,
            "grid_template_columns": null,
            "flex": null,
            "_model_name": "LayoutModel",
            "justify_items": null,
            "grid_row": null,
            "max_height": null,
            "align_content": null,
            "visibility": null,
            "align_self": null,
            "height": null,
            "min_height": null,
            "padding": null,
            "grid_auto_rows": null,
            "grid_gap": null,
            "max_width": null,
            "order": null,
            "_view_module_version": "1.2.0",
            "grid_template_areas": null,
            "object_position": null,
            "object_fit": null,
            "grid_auto_columns": null,
            "margin": null,
            "display": null,
            "left": null
          }
        },
        "5c745348776a47b6af90ddb7ae4657e7": {
          "model_module": "@jupyter-widgets/controls",
          "model_name": "HBoxModel",
          "model_module_version": "1.5.0",
          "state": {
            "_view_name": "HBoxView",
            "_dom_classes": [],
            "_model_name": "HBoxModel",
            "_view_module": "@jupyter-widgets/controls",
            "_model_module_version": "1.5.0",
            "_view_count": null,
            "_view_module_version": "1.5.0",
            "box_style": "",
            "layout": "IPY_MODEL_8620bee76bfe46e98d3e71ec71a762ed",
            "_model_module": "@jupyter-widgets/controls",
            "children": [
              "IPY_MODEL_3779bfece8ee4720bcb8c8126ecb5361",
              "IPY_MODEL_4d98e28a0c1a44898e04b9aa3df4cabd"
            ]
          }
        },
        "8620bee76bfe46e98d3e71ec71a762ed": {
          "model_module": "@jupyter-widgets/base",
          "model_name": "LayoutModel",
          "model_module_version": "1.2.0",
          "state": {
            "_view_name": "LayoutView",
            "grid_template_rows": null,
            "right": null,
            "justify_content": null,
            "_view_module": "@jupyter-widgets/base",
            "overflow": null,
            "_model_module_version": "1.2.0",
            "_view_count": null,
            "flex_flow": null,
            "width": null,
            "min_width": null,
            "border": null,
            "align_items": null,
            "bottom": null,
            "_model_module": "@jupyter-widgets/base",
            "top": null,
            "grid_column": null,
            "overflow_y": null,
            "overflow_x": null,
            "grid_auto_flow": null,
            "grid_area": null,
            "grid_template_columns": null,
            "flex": null,
            "_model_name": "LayoutModel",
            "justify_items": null,
            "grid_row": null,
            "max_height": null,
            "align_content": null,
            "visibility": null,
            "align_self": null,
            "height": null,
            "min_height": null,
            "padding": null,
            "grid_auto_rows": null,
            "grid_gap": null,
            "max_width": null,
            "order": null,
            "_view_module_version": "1.2.0",
            "grid_template_areas": null,
            "object_position": null,
            "object_fit": null,
            "grid_auto_columns": null,
            "margin": null,
            "display": null,
            "left": null
          }
        },
        "3779bfece8ee4720bcb8c8126ecb5361": {
          "model_module": "@jupyter-widgets/controls",
          "model_name": "FloatProgressModel",
          "model_module_version": "1.5.0",
          "state": {
            "_view_name": "ProgressView",
            "style": "IPY_MODEL_7334f82110724b21ab84ed242061afe1",
            "_dom_classes": [],
            "description": "Downloading: 100%",
            "_model_name": "FloatProgressModel",
            "bar_style": "success",
            "max": 1355863,
            "_view_module": "@jupyter-widgets/controls",
            "_model_module_version": "1.5.0",
            "value": 1355863,
            "_view_count": null,
            "_view_module_version": "1.5.0",
            "orientation": "horizontal",
            "min": 0,
            "description_tooltip": null,
            "_model_module": "@jupyter-widgets/controls",
            "layout": "IPY_MODEL_a1c2721f470948e6b96b5e28afd78482"
          }
        },
        "4d98e28a0c1a44898e04b9aa3df4cabd": {
          "model_module": "@jupyter-widgets/controls",
          "model_name": "HTMLModel",
          "model_module_version": "1.5.0",
          "state": {
            "_view_name": "HTMLView",
            "style": "IPY_MODEL_eb3a67c35dbc4d41b0da8953c8894a7d",
            "_dom_classes": [],
            "description": "",
            "_model_name": "HTMLModel",
            "placeholder": "​",
            "_view_module": "@jupyter-widgets/controls",
            "_model_module_version": "1.5.0",
            "value": " 1.36M/1.36M [00:01&lt;00:00, 904kB/s]",
            "_view_count": null,
            "_view_module_version": "1.5.0",
            "description_tooltip": null,
            "_model_module": "@jupyter-widgets/controls",
            "layout": "IPY_MODEL_8981523d287947879dae4880e4078c56"
          }
        },
        "7334f82110724b21ab84ed242061afe1": {
          "model_module": "@jupyter-widgets/controls",
          "model_name": "ProgressStyleModel",
          "model_module_version": "1.5.0",
          "state": {
            "_view_name": "StyleView",
            "_model_name": "ProgressStyleModel",
            "description_width": "initial",
            "_view_module": "@jupyter-widgets/base",
            "_model_module_version": "1.5.0",
            "_view_count": null,
            "_view_module_version": "1.2.0",
            "bar_color": null,
            "_model_module": "@jupyter-widgets/controls"
          }
        },
        "a1c2721f470948e6b96b5e28afd78482": {
          "model_module": "@jupyter-widgets/base",
          "model_name": "LayoutModel",
          "model_module_version": "1.2.0",
          "state": {
            "_view_name": "LayoutView",
            "grid_template_rows": null,
            "right": null,
            "justify_content": null,
            "_view_module": "@jupyter-widgets/base",
            "overflow": null,
            "_model_module_version": "1.2.0",
            "_view_count": null,
            "flex_flow": null,
            "width": null,
            "min_width": null,
            "border": null,
            "align_items": null,
            "bottom": null,
            "_model_module": "@jupyter-widgets/base",
            "top": null,
            "grid_column": null,
            "overflow_y": null,
            "overflow_x": null,
            "grid_auto_flow": null,
            "grid_area": null,
            "grid_template_columns": null,
            "flex": null,
            "_model_name": "LayoutModel",
            "justify_items": null,
            "grid_row": null,
            "max_height": null,
            "align_content": null,
            "visibility": null,
            "align_self": null,
            "height": null,
            "min_height": null,
            "padding": null,
            "grid_auto_rows": null,
            "grid_gap": null,
            "max_width": null,
            "order": null,
            "_view_module_version": "1.2.0",
            "grid_template_areas": null,
            "object_position": null,
            "object_fit": null,
            "grid_auto_columns": null,
            "margin": null,
            "display": null,
            "left": null
          }
        },
        "eb3a67c35dbc4d41b0da8953c8894a7d": {
          "model_module": "@jupyter-widgets/controls",
          "model_name": "DescriptionStyleModel",
          "model_module_version": "1.5.0",
          "state": {
            "_view_name": "StyleView",
            "_model_name": "DescriptionStyleModel",
            "description_width": "",
            "_view_module": "@jupyter-widgets/base",
            "_model_module_version": "1.5.0",
            "_view_count": null,
            "_view_module_version": "1.2.0",
            "_model_module": "@jupyter-widgets/controls"
          }
        },
        "8981523d287947879dae4880e4078c56": {
          "model_module": "@jupyter-widgets/base",
          "model_name": "LayoutModel",
          "model_module_version": "1.2.0",
          "state": {
            "_view_name": "LayoutView",
            "grid_template_rows": null,
            "right": null,
            "justify_content": null,
            "_view_module": "@jupyter-widgets/base",
            "overflow": null,
            "_model_module_version": "1.2.0",
            "_view_count": null,
            "flex_flow": null,
            "width": null,
            "min_width": null,
            "border": null,
            "align_items": null,
            "bottom": null,
            "_model_module": "@jupyter-widgets/base",
            "top": null,
            "grid_column": null,
            "overflow_y": null,
            "overflow_x": null,
            "grid_auto_flow": null,
            "grid_area": null,
            "grid_template_columns": null,
            "flex": null,
            "_model_name": "LayoutModel",
            "justify_items": null,
            "grid_row": null,
            "max_height": null,
            "align_content": null,
            "visibility": null,
            "align_self": null,
            "height": null,
            "min_height": null,
            "padding": null,
            "grid_auto_rows": null,
            "grid_gap": null,
            "max_width": null,
            "order": null,
            "_view_module_version": "1.2.0",
            "grid_template_areas": null,
            "object_position": null,
            "object_fit": null,
            "grid_auto_columns": null,
            "margin": null,
            "display": null,
            "left": null
          }
        },
        "c68dad953e374521a405463de63e4519": {
          "model_module": "@jupyter-widgets/controls",
          "model_name": "HBoxModel",
          "model_module_version": "1.5.0",
          "state": {
            "_view_name": "HBoxView",
            "_dom_classes": [],
            "_model_name": "HBoxModel",
            "_view_module": "@jupyter-widgets/controls",
            "_model_module_version": "1.5.0",
            "_view_count": null,
            "_view_module_version": "1.5.0",
            "box_style": "",
            "layout": "IPY_MODEL_fea1c11be0d54578a8277f3f39578056",
            "_model_module": "@jupyter-widgets/controls",
            "children": [
              "IPY_MODEL_9b3b441870ff49bd913ea096adfdeb37",
              "IPY_MODEL_80f9617f93f445fb97bdb4290138a507"
            ]
          }
        },
        "fea1c11be0d54578a8277f3f39578056": {
          "model_module": "@jupyter-widgets/base",
          "model_name": "LayoutModel",
          "model_module_version": "1.2.0",
          "state": {
            "_view_name": "LayoutView",
            "grid_template_rows": null,
            "right": null,
            "justify_content": null,
            "_view_module": "@jupyter-widgets/base",
            "overflow": null,
            "_model_module_version": "1.2.0",
            "_view_count": null,
            "flex_flow": null,
            "width": null,
            "min_width": null,
            "border": null,
            "align_items": null,
            "bottom": null,
            "_model_module": "@jupyter-widgets/base",
            "top": null,
            "grid_column": null,
            "overflow_y": null,
            "overflow_x": null,
            "grid_auto_flow": null,
            "grid_area": null,
            "grid_template_columns": null,
            "flex": null,
            "_model_name": "LayoutModel",
            "justify_items": null,
            "grid_row": null,
            "max_height": null,
            "align_content": null,
            "visibility": null,
            "align_self": null,
            "height": null,
            "min_height": null,
            "padding": null,
            "grid_auto_rows": null,
            "grid_gap": null,
            "max_width": null,
            "order": null,
            "_view_module_version": "1.2.0",
            "grid_template_areas": null,
            "object_position": null,
            "object_fit": null,
            "grid_auto_columns": null,
            "margin": null,
            "display": null,
            "left": null
          }
        },
        "9b3b441870ff49bd913ea096adfdeb37": {
          "model_module": "@jupyter-widgets/controls",
          "model_name": "FloatProgressModel",
          "model_module_version": "1.5.0",
          "state": {
            "_view_name": "ProgressView",
            "style": "IPY_MODEL_7050cd83d2bf480ca68451343fbe4442",
            "_dom_classes": [],
            "description": "Downloading: 100%",
            "_model_name": "FloatProgressModel",
            "bar_style": "success",
            "max": 625,
            "_view_module": "@jupyter-widgets/controls",
            "_model_module_version": "1.5.0",
            "value": 625,
            "_view_count": null,
            "_view_module_version": "1.5.0",
            "orientation": "horizontal",
            "min": 0,
            "description_tooltip": null,
            "_model_module": "@jupyter-widgets/controls",
            "layout": "IPY_MODEL_7527319c8a04458daf8bb89bb1afc675"
          }
        },
        "80f9617f93f445fb97bdb4290138a507": {
          "model_module": "@jupyter-widgets/controls",
          "model_name": "HTMLModel",
          "model_module_version": "1.5.0",
          "state": {
            "_view_name": "HTMLView",
            "style": "IPY_MODEL_04920baa66e04fa3a5cc8afd87a95f0f",
            "_dom_classes": [],
            "description": "",
            "_model_name": "HTMLModel",
            "placeholder": "​",
            "_view_module": "@jupyter-widgets/controls",
            "_model_module_version": "1.5.0",
            "value": " 625/625 [00:08&lt;00:00, 77.2B/s]",
            "_view_count": null,
            "_view_module_version": "1.5.0",
            "description_tooltip": null,
            "_model_module": "@jupyter-widgets/controls",
            "layout": "IPY_MODEL_9e4885168f57445c98a7ee84c77dba00"
          }
        },
        "7050cd83d2bf480ca68451343fbe4442": {
          "model_module": "@jupyter-widgets/controls",
          "model_name": "ProgressStyleModel",
          "model_module_version": "1.5.0",
          "state": {
            "_view_name": "StyleView",
            "_model_name": "ProgressStyleModel",
            "description_width": "initial",
            "_view_module": "@jupyter-widgets/base",
            "_model_module_version": "1.5.0",
            "_view_count": null,
            "_view_module_version": "1.2.0",
            "bar_color": null,
            "_model_module": "@jupyter-widgets/controls"
          }
        },
        "7527319c8a04458daf8bb89bb1afc675": {
          "model_module": "@jupyter-widgets/base",
          "model_name": "LayoutModel",
          "model_module_version": "1.2.0",
          "state": {
            "_view_name": "LayoutView",
            "grid_template_rows": null,
            "right": null,
            "justify_content": null,
            "_view_module": "@jupyter-widgets/base",
            "overflow": null,
            "_model_module_version": "1.2.0",
            "_view_count": null,
            "flex_flow": null,
            "width": null,
            "min_width": null,
            "border": null,
            "align_items": null,
            "bottom": null,
            "_model_module": "@jupyter-widgets/base",
            "top": null,
            "grid_column": null,
            "overflow_y": null,
            "overflow_x": null,
            "grid_auto_flow": null,
            "grid_area": null,
            "grid_template_columns": null,
            "flex": null,
            "_model_name": "LayoutModel",
            "justify_items": null,
            "grid_row": null,
            "max_height": null,
            "align_content": null,
            "visibility": null,
            "align_self": null,
            "height": null,
            "min_height": null,
            "padding": null,
            "grid_auto_rows": null,
            "grid_gap": null,
            "max_width": null,
            "order": null,
            "_view_module_version": "1.2.0",
            "grid_template_areas": null,
            "object_position": null,
            "object_fit": null,
            "grid_auto_columns": null,
            "margin": null,
            "display": null,
            "left": null
          }
        },
        "04920baa66e04fa3a5cc8afd87a95f0f": {
          "model_module": "@jupyter-widgets/controls",
          "model_name": "DescriptionStyleModel",
          "model_module_version": "1.5.0",
          "state": {
            "_view_name": "StyleView",
            "_model_name": "DescriptionStyleModel",
            "description_width": "",
            "_view_module": "@jupyter-widgets/base",
            "_model_module_version": "1.5.0",
            "_view_count": null,
            "_view_module_version": "1.2.0",
            "_model_module": "@jupyter-widgets/controls"
          }
        },
        "9e4885168f57445c98a7ee84c77dba00": {
          "model_module": "@jupyter-widgets/base",
          "model_name": "LayoutModel",
          "model_module_version": "1.2.0",
          "state": {
            "_view_name": "LayoutView",
            "grid_template_rows": null,
            "right": null,
            "justify_content": null,
            "_view_module": "@jupyter-widgets/base",
            "overflow": null,
            "_model_module_version": "1.2.0",
            "_view_count": null,
            "flex_flow": null,
            "width": null,
            "min_width": null,
            "border": null,
            "align_items": null,
            "bottom": null,
            "_model_module": "@jupyter-widgets/base",
            "top": null,
            "grid_column": null,
            "overflow_y": null,
            "overflow_x": null,
            "grid_auto_flow": null,
            "grid_area": null,
            "grid_template_columns": null,
            "flex": null,
            "_model_name": "LayoutModel",
            "justify_items": null,
            "grid_row": null,
            "max_height": null,
            "align_content": null,
            "visibility": null,
            "align_self": null,
            "height": null,
            "min_height": null,
            "padding": null,
            "grid_auto_rows": null,
            "grid_gap": null,
            "max_width": null,
            "order": null,
            "_view_module_version": "1.2.0",
            "grid_template_areas": null,
            "object_position": null,
            "object_fit": null,
            "grid_auto_columns": null,
            "margin": null,
            "display": null,
            "left": null
          }
        },
        "01bd8f2bd68a44d483b9c6fc9831d7dc": {
          "model_module": "@jupyter-widgets/controls",
          "model_name": "HBoxModel",
          "model_module_version": "1.5.0",
          "state": {
            "_view_name": "HBoxView",
            "_dom_classes": [],
            "_model_name": "HBoxModel",
            "_view_module": "@jupyter-widgets/controls",
            "_model_module_version": "1.5.0",
            "_view_count": null,
            "_view_module_version": "1.5.0",
            "box_style": "",
            "layout": "IPY_MODEL_74a7d31a38d848fc89586db68f70d58f",
            "_model_module": "@jupyter-widgets/controls",
            "children": [
              "IPY_MODEL_3b750bab432246d59ebe0431ec00d5a8",
              "IPY_MODEL_1ea568fbcbfb4b6fb4d0590ce2b943d9"
            ]
          }
        },
        "74a7d31a38d848fc89586db68f70d58f": {
          "model_module": "@jupyter-widgets/base",
          "model_name": "LayoutModel",
          "model_module_version": "1.2.0",
          "state": {
            "_view_name": "LayoutView",
            "grid_template_rows": null,
            "right": null,
            "justify_content": null,
            "_view_module": "@jupyter-widgets/base",
            "overflow": null,
            "_model_module_version": "1.2.0",
            "_view_count": null,
            "flex_flow": null,
            "width": null,
            "min_width": null,
            "border": null,
            "align_items": null,
            "bottom": null,
            "_model_module": "@jupyter-widgets/base",
            "top": null,
            "grid_column": null,
            "overflow_y": null,
            "overflow_x": null,
            "grid_auto_flow": null,
            "grid_area": null,
            "grid_template_columns": null,
            "flex": null,
            "_model_name": "LayoutModel",
            "justify_items": null,
            "grid_row": null,
            "max_height": null,
            "align_content": null,
            "visibility": null,
            "align_self": null,
            "height": null,
            "min_height": null,
            "padding": null,
            "grid_auto_rows": null,
            "grid_gap": null,
            "max_width": null,
            "order": null,
            "_view_module_version": "1.2.0",
            "grid_template_areas": null,
            "object_position": null,
            "object_fit": null,
            "grid_auto_columns": null,
            "margin": null,
            "display": null,
            "left": null
          }
        },
        "3b750bab432246d59ebe0431ec00d5a8": {
          "model_module": "@jupyter-widgets/controls",
          "model_name": "FloatProgressModel",
          "model_module_version": "1.5.0",
          "state": {
            "_view_name": "ProgressView",
            "style": "IPY_MODEL_b302c50e9f9945679a310ca23bf3e8b5",
            "_dom_classes": [],
            "description": "Downloading: 100%",
            "_model_name": "FloatProgressModel",
            "bar_style": "success",
            "max": 438007537,
            "_view_module": "@jupyter-widgets/controls",
            "_model_module_version": "1.5.0",
            "value": 438007537,
            "_view_count": null,
            "_view_module_version": "1.5.0",
            "orientation": "horizontal",
            "min": 0,
            "description_tooltip": null,
            "_model_module": "@jupyter-widgets/controls",
            "layout": "IPY_MODEL_b1fbf3d7b88f4b2b94f78bcc20c14c3e"
          }
        },
        "1ea568fbcbfb4b6fb4d0590ce2b943d9": {
          "model_module": "@jupyter-widgets/controls",
          "model_name": "HTMLModel",
          "model_module_version": "1.5.0",
          "state": {
            "_view_name": "HTMLView",
            "style": "IPY_MODEL_ebb489a76f154f548d23755d0f784e66",
            "_dom_classes": [],
            "description": "",
            "_model_name": "HTMLModel",
            "placeholder": "​",
            "_view_module": "@jupyter-widgets/controls",
            "_model_module_version": "1.5.0",
            "value": " 438M/438M [00:07&lt;00:00, 57.9MB/s]",
            "_view_count": null,
            "_view_module_version": "1.5.0",
            "description_tooltip": null,
            "_model_module": "@jupyter-widgets/controls",
            "layout": "IPY_MODEL_b699e9d6d09e4dbf97d152c9e337a60e"
          }
        },
        "b302c50e9f9945679a310ca23bf3e8b5": {
          "model_module": "@jupyter-widgets/controls",
          "model_name": "ProgressStyleModel",
          "model_module_version": "1.5.0",
          "state": {
            "_view_name": "StyleView",
            "_model_name": "ProgressStyleModel",
            "description_width": "initial",
            "_view_module": "@jupyter-widgets/base",
            "_model_module_version": "1.5.0",
            "_view_count": null,
            "_view_module_version": "1.2.0",
            "bar_color": null,
            "_model_module": "@jupyter-widgets/controls"
          }
        },
        "b1fbf3d7b88f4b2b94f78bcc20c14c3e": {
          "model_module": "@jupyter-widgets/base",
          "model_name": "LayoutModel",
          "model_module_version": "1.2.0",
          "state": {
            "_view_name": "LayoutView",
            "grid_template_rows": null,
            "right": null,
            "justify_content": null,
            "_view_module": "@jupyter-widgets/base",
            "overflow": null,
            "_model_module_version": "1.2.0",
            "_view_count": null,
            "flex_flow": null,
            "width": null,
            "min_width": null,
            "border": null,
            "align_items": null,
            "bottom": null,
            "_model_module": "@jupyter-widgets/base",
            "top": null,
            "grid_column": null,
            "overflow_y": null,
            "overflow_x": null,
            "grid_auto_flow": null,
            "grid_area": null,
            "grid_template_columns": null,
            "flex": null,
            "_model_name": "LayoutModel",
            "justify_items": null,
            "grid_row": null,
            "max_height": null,
            "align_content": null,
            "visibility": null,
            "align_self": null,
            "height": null,
            "min_height": null,
            "padding": null,
            "grid_auto_rows": null,
            "grid_gap": null,
            "max_width": null,
            "order": null,
            "_view_module_version": "1.2.0",
            "grid_template_areas": null,
            "object_position": null,
            "object_fit": null,
            "grid_auto_columns": null,
            "margin": null,
            "display": null,
            "left": null
          }
        },
        "ebb489a76f154f548d23755d0f784e66": {
          "model_module": "@jupyter-widgets/controls",
          "model_name": "DescriptionStyleModel",
          "model_module_version": "1.5.0",
          "state": {
            "_view_name": "StyleView",
            "_model_name": "DescriptionStyleModel",
            "description_width": "",
            "_view_module": "@jupyter-widgets/base",
            "_model_module_version": "1.5.0",
            "_view_count": null,
            "_view_module_version": "1.2.0",
            "_model_module": "@jupyter-widgets/controls"
          }
        },
        "b699e9d6d09e4dbf97d152c9e337a60e": {
          "model_module": "@jupyter-widgets/base",
          "model_name": "LayoutModel",
          "model_module_version": "1.2.0",
          "state": {
            "_view_name": "LayoutView",
            "grid_template_rows": null,
            "right": null,
            "justify_content": null,
            "_view_module": "@jupyter-widgets/base",
            "overflow": null,
            "_model_module_version": "1.2.0",
            "_view_count": null,
            "flex_flow": null,
            "width": null,
            "min_width": null,
            "border": null,
            "align_items": null,
            "bottom": null,
            "_model_module": "@jupyter-widgets/base",
            "top": null,
            "grid_column": null,
            "overflow_y": null,
            "overflow_x": null,
            "grid_auto_flow": null,
            "grid_area": null,
            "grid_template_columns": null,
            "flex": null,
            "_model_name": "LayoutModel",
            "justify_items": null,
            "grid_row": null,
            "max_height": null,
            "align_content": null,
            "visibility": null,
            "align_self": null,
            "height": null,
            "min_height": null,
            "padding": null,
            "grid_auto_rows": null,
            "grid_gap": null,
            "max_width": null,
            "order": null,
            "_view_module_version": "1.2.0",
            "grid_template_areas": null,
            "object_position": null,
            "object_fit": null,
            "grid_auto_columns": null,
            "margin": null,
            "display": null,
            "left": null
          }
        },
        "91f12cbf4bdf44aabfc554ffd45a5710": {
          "model_module": "@jupyter-widgets/controls",
          "model_name": "HBoxModel",
          "model_module_version": "1.5.0",
          "state": {
            "_view_name": "HBoxView",
            "_dom_classes": [],
            "_model_name": "HBoxModel",
            "_view_module": "@jupyter-widgets/controls",
            "_model_module_version": "1.5.0",
            "_view_count": null,
            "_view_module_version": "1.5.0",
            "box_style": "",
            "layout": "IPY_MODEL_1b74b26cd1374d5597eb2ef4c0ed1382",
            "_model_module": "@jupyter-widgets/controls",
            "children": [
              "IPY_MODEL_4731d461aa0843a283e5a69475671950",
              "IPY_MODEL_caf08282eb46422dae95acab893c6cd1"
            ]
          }
        },
        "1b74b26cd1374d5597eb2ef4c0ed1382": {
          "model_module": "@jupyter-widgets/base",
          "model_name": "LayoutModel",
          "model_module_version": "1.2.0",
          "state": {
            "_view_name": "LayoutView",
            "grid_template_rows": null,
            "right": null,
            "justify_content": null,
            "_view_module": "@jupyter-widgets/base",
            "overflow": null,
            "_model_module_version": "1.2.0",
            "_view_count": null,
            "flex_flow": null,
            "width": null,
            "min_width": null,
            "border": null,
            "align_items": null,
            "bottom": null,
            "_model_module": "@jupyter-widgets/base",
            "top": null,
            "grid_column": null,
            "overflow_y": null,
            "overflow_x": null,
            "grid_auto_flow": null,
            "grid_area": null,
            "grid_template_columns": null,
            "flex": null,
            "_model_name": "LayoutModel",
            "justify_items": null,
            "grid_row": null,
            "max_height": null,
            "align_content": null,
            "visibility": null,
            "align_self": null,
            "height": null,
            "min_height": null,
            "padding": null,
            "grid_auto_rows": null,
            "grid_gap": null,
            "max_width": null,
            "order": null,
            "_view_module_version": "1.2.0",
            "grid_template_areas": null,
            "object_position": null,
            "object_fit": null,
            "grid_auto_columns": null,
            "margin": null,
            "display": null,
            "left": null
          }
        },
        "4731d461aa0843a283e5a69475671950": {
          "model_module": "@jupyter-widgets/controls",
          "model_name": "FloatProgressModel",
          "model_module_version": "1.5.0",
          "state": {
            "_view_name": "ProgressView",
            "style": "IPY_MODEL_eabdf2408b03434590fe7046514bcd66",
            "_dom_classes": [],
            "description": "Downloading: 100%",
            "_model_name": "FloatProgressModel",
            "bar_style": "success",
            "max": 399,
            "_view_module": "@jupyter-widgets/controls",
            "_model_module_version": "1.5.0",
            "value": 399,
            "_view_count": null,
            "_view_module_version": "1.5.0",
            "orientation": "horizontal",
            "min": 0,
            "description_tooltip": null,
            "_model_module": "@jupyter-widgets/controls",
            "layout": "IPY_MODEL_58ed1232c23646e8af2e4b7c2404f37e"
          }
        },
        "caf08282eb46422dae95acab893c6cd1": {
          "model_module": "@jupyter-widgets/controls",
          "model_name": "HTMLModel",
          "model_module_version": "1.5.0",
          "state": {
            "_view_name": "HTMLView",
            "style": "IPY_MODEL_3e2d8574b8da45379e4e6bf5363ca20a",
            "_dom_classes": [],
            "description": "",
            "_model_name": "HTMLModel",
            "placeholder": "​",
            "_view_module": "@jupyter-widgets/controls",
            "_model_module_version": "1.5.0",
            "value": " 399/399 [00:01&lt;00:00, 208B/s]",
            "_view_count": null,
            "_view_module_version": "1.5.0",
            "description_tooltip": null,
            "_model_module": "@jupyter-widgets/controls",
            "layout": "IPY_MODEL_c8067250fdd9417a93b62dc4bca74aca"
          }
        },
        "eabdf2408b03434590fe7046514bcd66": {
          "model_module": "@jupyter-widgets/controls",
          "model_name": "ProgressStyleModel",
          "model_module_version": "1.5.0",
          "state": {
            "_view_name": "StyleView",
            "_model_name": "ProgressStyleModel",
            "description_width": "initial",
            "_view_module": "@jupyter-widgets/base",
            "_model_module_version": "1.5.0",
            "_view_count": null,
            "_view_module_version": "1.2.0",
            "bar_color": null,
            "_model_module": "@jupyter-widgets/controls"
          }
        },
        "58ed1232c23646e8af2e4b7c2404f37e": {
          "model_module": "@jupyter-widgets/base",
          "model_name": "LayoutModel",
          "model_module_version": "1.2.0",
          "state": {
            "_view_name": "LayoutView",
            "grid_template_rows": null,
            "right": null,
            "justify_content": null,
            "_view_module": "@jupyter-widgets/base",
            "overflow": null,
            "_model_module_version": "1.2.0",
            "_view_count": null,
            "flex_flow": null,
            "width": null,
            "min_width": null,
            "border": null,
            "align_items": null,
            "bottom": null,
            "_model_module": "@jupyter-widgets/base",
            "top": null,
            "grid_column": null,
            "overflow_y": null,
            "overflow_x": null,
            "grid_auto_flow": null,
            "grid_area": null,
            "grid_template_columns": null,
            "flex": null,
            "_model_name": "LayoutModel",
            "justify_items": null,
            "grid_row": null,
            "max_height": null,
            "align_content": null,
            "visibility": null,
            "align_self": null,
            "height": null,
            "min_height": null,
            "padding": null,
            "grid_auto_rows": null,
            "grid_gap": null,
            "max_width": null,
            "order": null,
            "_view_module_version": "1.2.0",
            "grid_template_areas": null,
            "object_position": null,
            "object_fit": null,
            "grid_auto_columns": null,
            "margin": null,
            "display": null,
            "left": null
          }
        },
        "3e2d8574b8da45379e4e6bf5363ca20a": {
          "model_module": "@jupyter-widgets/controls",
          "model_name": "DescriptionStyleModel",
          "model_module_version": "1.5.0",
          "state": {
            "_view_name": "StyleView",
            "_model_name": "DescriptionStyleModel",
            "description_width": "",
            "_view_module": "@jupyter-widgets/base",
            "_model_module_version": "1.5.0",
            "_view_count": null,
            "_view_module_version": "1.2.0",
            "_model_module": "@jupyter-widgets/controls"
          }
        },
        "c8067250fdd9417a93b62dc4bca74aca": {
          "model_module": "@jupyter-widgets/base",
          "model_name": "LayoutModel",
          "model_module_version": "1.2.0",
          "state": {
            "_view_name": "LayoutView",
            "grid_template_rows": null,
            "right": null,
            "justify_content": null,
            "_view_module": "@jupyter-widgets/base",
            "overflow": null,
            "_model_module_version": "1.2.0",
            "_view_count": null,
            "flex_flow": null,
            "width": null,
            "min_width": null,
            "border": null,
            "align_items": null,
            "bottom": null,
            "_model_module": "@jupyter-widgets/base",
            "top": null,
            "grid_column": null,
            "overflow_y": null,
            "overflow_x": null,
            "grid_auto_flow": null,
            "grid_area": null,
            "grid_template_columns": null,
            "flex": null,
            "_model_name": "LayoutModel",
            "justify_items": null,
            "grid_row": null,
            "max_height": null,
            "align_content": null,
            "visibility": null,
            "align_self": null,
            "height": null,
            "min_height": null,
            "padding": null,
            "grid_auto_rows": null,
            "grid_gap": null,
            "max_width": null,
            "order": null,
            "_view_module_version": "1.2.0",
            "grid_template_areas": null,
            "object_position": null,
            "object_fit": null,
            "grid_auto_columns": null,
            "margin": null,
            "display": null,
            "left": null
          }
        },
        "518633fae4754340a3cfb715d5c5a91d": {
          "model_module": "@jupyter-widgets/controls",
          "model_name": "HBoxModel",
          "model_module_version": "1.5.0",
          "state": {
            "_view_name": "HBoxView",
            "_dom_classes": [],
            "_model_name": "HBoxModel",
            "_view_module": "@jupyter-widgets/controls",
            "_model_module_version": "1.5.0",
            "_view_count": null,
            "_view_module_version": "1.5.0",
            "box_style": "",
            "layout": "IPY_MODEL_6bc74b028e5a40cbbcf974791002455d",
            "_model_module": "@jupyter-widgets/controls",
            "children": [
              "IPY_MODEL_c4a7d47925974dc6a0817363ede0af46",
              "IPY_MODEL_bf18e15b81494b5ea018e6497b95b815"
            ]
          }
        },
        "6bc74b028e5a40cbbcf974791002455d": {
          "model_module": "@jupyter-widgets/base",
          "model_name": "LayoutModel",
          "model_module_version": "1.2.0",
          "state": {
            "_view_name": "LayoutView",
            "grid_template_rows": null,
            "right": null,
            "justify_content": null,
            "_view_module": "@jupyter-widgets/base",
            "overflow": null,
            "_model_module_version": "1.2.0",
            "_view_count": null,
            "flex_flow": null,
            "width": null,
            "min_width": null,
            "border": null,
            "align_items": null,
            "bottom": null,
            "_model_module": "@jupyter-widgets/base",
            "top": null,
            "grid_column": null,
            "overflow_y": null,
            "overflow_x": null,
            "grid_auto_flow": null,
            "grid_area": null,
            "grid_template_columns": null,
            "flex": null,
            "_model_name": "LayoutModel",
            "justify_items": null,
            "grid_row": null,
            "max_height": null,
            "align_content": null,
            "visibility": null,
            "align_self": null,
            "height": null,
            "min_height": null,
            "padding": null,
            "grid_auto_rows": null,
            "grid_gap": null,
            "max_width": null,
            "order": null,
            "_view_module_version": "1.2.0",
            "grid_template_areas": null,
            "object_position": null,
            "object_fit": null,
            "grid_auto_columns": null,
            "margin": null,
            "display": null,
            "left": null
          }
        },
        "c4a7d47925974dc6a0817363ede0af46": {
          "model_module": "@jupyter-widgets/controls",
          "model_name": "FloatProgressModel",
          "model_module_version": "1.5.0",
          "state": {
            "_view_name": "ProgressView",
            "style": "IPY_MODEL_fe48ee8701cf48a8a9c4beaacd675e6c",
            "_dom_classes": [],
            "description": "Downloading: 100%",
            "_model_name": "FloatProgressModel",
            "bar_style": "success",
            "max": 231508,
            "_view_module": "@jupyter-widgets/controls",
            "_model_module_version": "1.5.0",
            "value": 231508,
            "_view_count": null,
            "_view_module_version": "1.5.0",
            "orientation": "horizontal",
            "min": 0,
            "description_tooltip": null,
            "_model_module": "@jupyter-widgets/controls",
            "layout": "IPY_MODEL_f61292043a2c4f69872bef415f1ac455"
          }
        },
        "bf18e15b81494b5ea018e6497b95b815": {
          "model_module": "@jupyter-widgets/controls",
          "model_name": "HTMLModel",
          "model_module_version": "1.5.0",
          "state": {
            "_view_name": "HTMLView",
            "style": "IPY_MODEL_76903405d833487082492bbd52e37dbc",
            "_dom_classes": [],
            "description": "",
            "_model_name": "HTMLModel",
            "placeholder": "​",
            "_view_module": "@jupyter-widgets/controls",
            "_model_module_version": "1.5.0",
            "value": " 232k/232k [00:00&lt;00:00, 309kB/s]",
            "_view_count": null,
            "_view_module_version": "1.5.0",
            "description_tooltip": null,
            "_model_module": "@jupyter-widgets/controls",
            "layout": "IPY_MODEL_97ad874267f5489db84d3645a4af190b"
          }
        },
        "fe48ee8701cf48a8a9c4beaacd675e6c": {
          "model_module": "@jupyter-widgets/controls",
          "model_name": "ProgressStyleModel",
          "model_module_version": "1.5.0",
          "state": {
            "_view_name": "StyleView",
            "_model_name": "ProgressStyleModel",
            "description_width": "initial",
            "_view_module": "@jupyter-widgets/base",
            "_model_module_version": "1.5.0",
            "_view_count": null,
            "_view_module_version": "1.2.0",
            "bar_color": null,
            "_model_module": "@jupyter-widgets/controls"
          }
        },
        "f61292043a2c4f69872bef415f1ac455": {
          "model_module": "@jupyter-widgets/base",
          "model_name": "LayoutModel",
          "model_module_version": "1.2.0",
          "state": {
            "_view_name": "LayoutView",
            "grid_template_rows": null,
            "right": null,
            "justify_content": null,
            "_view_module": "@jupyter-widgets/base",
            "overflow": null,
            "_model_module_version": "1.2.0",
            "_view_count": null,
            "flex_flow": null,
            "width": null,
            "min_width": null,
            "border": null,
            "align_items": null,
            "bottom": null,
            "_model_module": "@jupyter-widgets/base",
            "top": null,
            "grid_column": null,
            "overflow_y": null,
            "overflow_x": null,
            "grid_auto_flow": null,
            "grid_area": null,
            "grid_template_columns": null,
            "flex": null,
            "_model_name": "LayoutModel",
            "justify_items": null,
            "grid_row": null,
            "max_height": null,
            "align_content": null,
            "visibility": null,
            "align_self": null,
            "height": null,
            "min_height": null,
            "padding": null,
            "grid_auto_rows": null,
            "grid_gap": null,
            "max_width": null,
            "order": null,
            "_view_module_version": "1.2.0",
            "grid_template_areas": null,
            "object_position": null,
            "object_fit": null,
            "grid_auto_columns": null,
            "margin": null,
            "display": null,
            "left": null
          }
        },
        "76903405d833487082492bbd52e37dbc": {
          "model_module": "@jupyter-widgets/controls",
          "model_name": "DescriptionStyleModel",
          "model_module_version": "1.5.0",
          "state": {
            "_view_name": "StyleView",
            "_model_name": "DescriptionStyleModel",
            "description_width": "",
            "_view_module": "@jupyter-widgets/base",
            "_model_module_version": "1.5.0",
            "_view_count": null,
            "_view_module_version": "1.2.0",
            "_model_module": "@jupyter-widgets/controls"
          }
        },
        "97ad874267f5489db84d3645a4af190b": {
          "model_module": "@jupyter-widgets/base",
          "model_name": "LayoutModel",
          "model_module_version": "1.2.0",
          "state": {
            "_view_name": "LayoutView",
            "grid_template_rows": null,
            "right": null,
            "justify_content": null,
            "_view_module": "@jupyter-widgets/base",
            "overflow": null,
            "_model_module_version": "1.2.0",
            "_view_count": null,
            "flex_flow": null,
            "width": null,
            "min_width": null,
            "border": null,
            "align_items": null,
            "bottom": null,
            "_model_module": "@jupyter-widgets/base",
            "top": null,
            "grid_column": null,
            "overflow_y": null,
            "overflow_x": null,
            "grid_auto_flow": null,
            "grid_area": null,
            "grid_template_columns": null,
            "flex": null,
            "_model_name": "LayoutModel",
            "justify_items": null,
            "grid_row": null,
            "max_height": null,
            "align_content": null,
            "visibility": null,
            "align_self": null,
            "height": null,
            "min_height": null,
            "padding": null,
            "grid_auto_rows": null,
            "grid_gap": null,
            "max_width": null,
            "order": null,
            "_view_module_version": "1.2.0",
            "grid_template_areas": null,
            "object_position": null,
            "object_fit": null,
            "grid_auto_columns": null,
            "margin": null,
            "display": null,
            "left": null
          }
        },
        "11efe411effc4251adabb8a3581f3596": {
          "model_module": "@jupyter-widgets/controls",
          "model_name": "HBoxModel",
          "model_module_version": "1.5.0",
          "state": {
            "_view_name": "HBoxView",
            "_dom_classes": [],
            "_model_name": "HBoxModel",
            "_view_module": "@jupyter-widgets/controls",
            "_model_module_version": "1.5.0",
            "_view_count": null,
            "_view_module_version": "1.5.0",
            "box_style": "",
            "layout": "IPY_MODEL_57be3064b0b3402d9634480216e3d734",
            "_model_module": "@jupyter-widgets/controls",
            "children": [
              "IPY_MODEL_4c51be7caaa84ba38f5d98fadb8d2c70",
              "IPY_MODEL_41f0b48bdaff4dd4991fc8d0460f5fa8"
            ]
          }
        },
        "57be3064b0b3402d9634480216e3d734": {
          "model_module": "@jupyter-widgets/base",
          "model_name": "LayoutModel",
          "model_module_version": "1.2.0",
          "state": {
            "_view_name": "LayoutView",
            "grid_template_rows": null,
            "right": null,
            "justify_content": null,
            "_view_module": "@jupyter-widgets/base",
            "overflow": null,
            "_model_module_version": "1.2.0",
            "_view_count": null,
            "flex_flow": null,
            "width": null,
            "min_width": null,
            "border": null,
            "align_items": null,
            "bottom": null,
            "_model_module": "@jupyter-widgets/base",
            "top": null,
            "grid_column": null,
            "overflow_y": null,
            "overflow_x": null,
            "grid_auto_flow": null,
            "grid_area": null,
            "grid_template_columns": null,
            "flex": null,
            "_model_name": "LayoutModel",
            "justify_items": null,
            "grid_row": null,
            "max_height": null,
            "align_content": null,
            "visibility": null,
            "align_self": null,
            "height": null,
            "min_height": null,
            "padding": null,
            "grid_auto_rows": null,
            "grid_gap": null,
            "max_width": null,
            "order": null,
            "_view_module_version": "1.2.0",
            "grid_template_areas": null,
            "object_position": null,
            "object_fit": null,
            "grid_auto_columns": null,
            "margin": null,
            "display": null,
            "left": null
          }
        },
        "4c51be7caaa84ba38f5d98fadb8d2c70": {
          "model_module": "@jupyter-widgets/controls",
          "model_name": "FloatProgressModel",
          "model_module_version": "1.5.0",
          "state": {
            "_view_name": "ProgressView",
            "style": "IPY_MODEL_f0aa3301b08f42cab2cbcd8601aedad8",
            "_dom_classes": [],
            "description": "Downloading: 100%",
            "_model_name": "FloatProgressModel",
            "bar_style": "success",
            "max": 466081,
            "_view_module": "@jupyter-widgets/controls",
            "_model_module_version": "1.5.0",
            "value": 466081,
            "_view_count": null,
            "_view_module_version": "1.5.0",
            "orientation": "horizontal",
            "min": 0,
            "description_tooltip": null,
            "_model_module": "@jupyter-widgets/controls",
            "layout": "IPY_MODEL_9be782c002bc4b689fe6ef84161d2a20"
          }
        },
        "41f0b48bdaff4dd4991fc8d0460f5fa8": {
          "model_module": "@jupyter-widgets/controls",
          "model_name": "HTMLModel",
          "model_module_version": "1.5.0",
          "state": {
            "_view_name": "HTMLView",
            "style": "IPY_MODEL_8b9c777927564843908fd29a7d173a82",
            "_dom_classes": [],
            "description": "",
            "_model_name": "HTMLModel",
            "placeholder": "​",
            "_view_module": "@jupyter-widgets/controls",
            "_model_module_version": "1.5.0",
            "value": " 466k/466k [00:03&lt;00:00, 147kB/s]",
            "_view_count": null,
            "_view_module_version": "1.5.0",
            "description_tooltip": null,
            "_model_module": "@jupyter-widgets/controls",
            "layout": "IPY_MODEL_00df3b3a6f8e42d684c6d8ccfa7f6beb"
          }
        },
        "f0aa3301b08f42cab2cbcd8601aedad8": {
          "model_module": "@jupyter-widgets/controls",
          "model_name": "ProgressStyleModel",
          "model_module_version": "1.5.0",
          "state": {
            "_view_name": "StyleView",
            "_model_name": "ProgressStyleModel",
            "description_width": "initial",
            "_view_module": "@jupyter-widgets/base",
            "_model_module_version": "1.5.0",
            "_view_count": null,
            "_view_module_version": "1.2.0",
            "bar_color": null,
            "_model_module": "@jupyter-widgets/controls"
          }
        },
        "9be782c002bc4b689fe6ef84161d2a20": {
          "model_module": "@jupyter-widgets/base",
          "model_name": "LayoutModel",
          "model_module_version": "1.2.0",
          "state": {
            "_view_name": "LayoutView",
            "grid_template_rows": null,
            "right": null,
            "justify_content": null,
            "_view_module": "@jupyter-widgets/base",
            "overflow": null,
            "_model_module_version": "1.2.0",
            "_view_count": null,
            "flex_flow": null,
            "width": null,
            "min_width": null,
            "border": null,
            "align_items": null,
            "bottom": null,
            "_model_module": "@jupyter-widgets/base",
            "top": null,
            "grid_column": null,
            "overflow_y": null,
            "overflow_x": null,
            "grid_auto_flow": null,
            "grid_area": null,
            "grid_template_columns": null,
            "flex": null,
            "_model_name": "LayoutModel",
            "justify_items": null,
            "grid_row": null,
            "max_height": null,
            "align_content": null,
            "visibility": null,
            "align_self": null,
            "height": null,
            "min_height": null,
            "padding": null,
            "grid_auto_rows": null,
            "grid_gap": null,
            "max_width": null,
            "order": null,
            "_view_module_version": "1.2.0",
            "grid_template_areas": null,
            "object_position": null,
            "object_fit": null,
            "grid_auto_columns": null,
            "margin": null,
            "display": null,
            "left": null
          }
        },
        "8b9c777927564843908fd29a7d173a82": {
          "model_module": "@jupyter-widgets/controls",
          "model_name": "DescriptionStyleModel",
          "model_module_version": "1.5.0",
          "state": {
            "_view_name": "StyleView",
            "_model_name": "DescriptionStyleModel",
            "description_width": "",
            "_view_module": "@jupyter-widgets/base",
            "_model_module_version": "1.5.0",
            "_view_count": null,
            "_view_module_version": "1.2.0",
            "_model_module": "@jupyter-widgets/controls"
          }
        },
        "00df3b3a6f8e42d684c6d8ccfa7f6beb": {
          "model_module": "@jupyter-widgets/base",
          "model_name": "LayoutModel",
          "model_module_version": "1.2.0",
          "state": {
            "_view_name": "LayoutView",
            "grid_template_rows": null,
            "right": null,
            "justify_content": null,
            "_view_module": "@jupyter-widgets/base",
            "overflow": null,
            "_model_module_version": "1.2.0",
            "_view_count": null,
            "flex_flow": null,
            "width": null,
            "min_width": null,
            "border": null,
            "align_items": null,
            "bottom": null,
            "_model_module": "@jupyter-widgets/base",
            "top": null,
            "grid_column": null,
            "overflow_y": null,
            "overflow_x": null,
            "grid_auto_flow": null,
            "grid_area": null,
            "grid_template_columns": null,
            "flex": null,
            "_model_name": "LayoutModel",
            "justify_items": null,
            "grid_row": null,
            "max_height": null,
            "align_content": null,
            "visibility": null,
            "align_self": null,
            "height": null,
            "min_height": null,
            "padding": null,
            "grid_auto_rows": null,
            "grid_gap": null,
            "max_width": null,
            "order": null,
            "_view_module_version": "1.2.0",
            "grid_template_areas": null,
            "object_position": null,
            "object_fit": null,
            "grid_auto_columns": null,
            "margin": null,
            "display": null,
            "left": null
          }
        },
        "03673a2b241f4aca8d213b1a5922ae19": {
          "model_module": "@jupyter-widgets/controls",
          "model_name": "HBoxModel",
          "model_module_version": "1.5.0",
          "state": {
            "_view_name": "HBoxView",
            "_dom_classes": [],
            "_model_name": "HBoxModel",
            "_view_module": "@jupyter-widgets/controls",
            "_model_module_version": "1.5.0",
            "_view_count": null,
            "_view_module_version": "1.5.0",
            "box_style": "",
            "layout": "IPY_MODEL_2af58b799e0e49d990e99bb81ba2d29b",
            "_model_module": "@jupyter-widgets/controls",
            "children": [
              "IPY_MODEL_7a989d5e861a4610b898b049060f2a16",
              "IPY_MODEL_6d56688ed1e042738ee6bb7a6c653991"
            ]
          }
        },
        "2af58b799e0e49d990e99bb81ba2d29b": {
          "model_module": "@jupyter-widgets/base",
          "model_name": "LayoutModel",
          "model_module_version": "1.2.0",
          "state": {
            "_view_name": "LayoutView",
            "grid_template_rows": null,
            "right": null,
            "justify_content": null,
            "_view_module": "@jupyter-widgets/base",
            "overflow": null,
            "_model_module_version": "1.2.0",
            "_view_count": null,
            "flex_flow": null,
            "width": null,
            "min_width": null,
            "border": null,
            "align_items": null,
            "bottom": null,
            "_model_module": "@jupyter-widgets/base",
            "top": null,
            "grid_column": null,
            "overflow_y": null,
            "overflow_x": null,
            "grid_auto_flow": null,
            "grid_area": null,
            "grid_template_columns": null,
            "flex": null,
            "_model_name": "LayoutModel",
            "justify_items": null,
            "grid_row": null,
            "max_height": null,
            "align_content": null,
            "visibility": null,
            "align_self": null,
            "height": null,
            "min_height": null,
            "padding": null,
            "grid_auto_rows": null,
            "grid_gap": null,
            "max_width": null,
            "order": null,
            "_view_module_version": "1.2.0",
            "grid_template_areas": null,
            "object_position": null,
            "object_fit": null,
            "grid_auto_columns": null,
            "margin": null,
            "display": null,
            "left": null
          }
        },
        "7a989d5e861a4610b898b049060f2a16": {
          "model_module": "@jupyter-widgets/controls",
          "model_name": "FloatProgressModel",
          "model_module_version": "1.5.0",
          "state": {
            "_view_name": "ProgressView",
            "style": "IPY_MODEL_82fbfef49a2e442497268c95180ff4e1",
            "_dom_classes": [],
            "description": "Downloading: 100%",
            "_model_name": "FloatProgressModel",
            "bar_style": "success",
            "max": 2,
            "_view_module": "@jupyter-widgets/controls",
            "_model_module_version": "1.5.0",
            "value": 2,
            "_view_count": null,
            "_view_module_version": "1.5.0",
            "orientation": "horizontal",
            "min": 0,
            "description_tooltip": null,
            "_model_module": "@jupyter-widgets/controls",
            "layout": "IPY_MODEL_935100d774654efbab50ec253a411116"
          }
        },
        "6d56688ed1e042738ee6bb7a6c653991": {
          "model_module": "@jupyter-widgets/controls",
          "model_name": "HTMLModel",
          "model_module_version": "1.5.0",
          "state": {
            "_view_name": "HTMLView",
            "style": "IPY_MODEL_46825ecd890049efbb390415d84cfe5d",
            "_dom_classes": [],
            "description": "",
            "_model_name": "HTMLModel",
            "placeholder": "​",
            "_view_module": "@jupyter-widgets/controls",
            "_model_module_version": "1.5.0",
            "value": " 2.00/2.00 [00:01&lt;00:00, 1.34B/s]",
            "_view_count": null,
            "_view_module_version": "1.5.0",
            "description_tooltip": null,
            "_model_module": "@jupyter-widgets/controls",
            "layout": "IPY_MODEL_4e948eae54a44bbb8b05015de17f7cf6"
          }
        },
        "82fbfef49a2e442497268c95180ff4e1": {
          "model_module": "@jupyter-widgets/controls",
          "model_name": "ProgressStyleModel",
          "model_module_version": "1.5.0",
          "state": {
            "_view_name": "StyleView",
            "_model_name": "ProgressStyleModel",
            "description_width": "initial",
            "_view_module": "@jupyter-widgets/base",
            "_model_module_version": "1.5.0",
            "_view_count": null,
            "_view_module_version": "1.2.0",
            "bar_color": null,
            "_model_module": "@jupyter-widgets/controls"
          }
        },
        "935100d774654efbab50ec253a411116": {
          "model_module": "@jupyter-widgets/base",
          "model_name": "LayoutModel",
          "model_module_version": "1.2.0",
          "state": {
            "_view_name": "LayoutView",
            "grid_template_rows": null,
            "right": null,
            "justify_content": null,
            "_view_module": "@jupyter-widgets/base",
            "overflow": null,
            "_model_module_version": "1.2.0",
            "_view_count": null,
            "flex_flow": null,
            "width": null,
            "min_width": null,
            "border": null,
            "align_items": null,
            "bottom": null,
            "_model_module": "@jupyter-widgets/base",
            "top": null,
            "grid_column": null,
            "overflow_y": null,
            "overflow_x": null,
            "grid_auto_flow": null,
            "grid_area": null,
            "grid_template_columns": null,
            "flex": null,
            "_model_name": "LayoutModel",
            "justify_items": null,
            "grid_row": null,
            "max_height": null,
            "align_content": null,
            "visibility": null,
            "align_self": null,
            "height": null,
            "min_height": null,
            "padding": null,
            "grid_auto_rows": null,
            "grid_gap": null,
            "max_width": null,
            "order": null,
            "_view_module_version": "1.2.0",
            "grid_template_areas": null,
            "object_position": null,
            "object_fit": null,
            "grid_auto_columns": null,
            "margin": null,
            "display": null,
            "left": null
          }
        },
        "46825ecd890049efbb390415d84cfe5d": {
          "model_module": "@jupyter-widgets/controls",
          "model_name": "DescriptionStyleModel",
          "model_module_version": "1.5.0",
          "state": {
            "_view_name": "StyleView",
            "_model_name": "DescriptionStyleModel",
            "description_width": "",
            "_view_module": "@jupyter-widgets/base",
            "_model_module_version": "1.5.0",
            "_view_count": null,
            "_view_module_version": "1.2.0",
            "_model_module": "@jupyter-widgets/controls"
          }
        },
        "4e948eae54a44bbb8b05015de17f7cf6": {
          "model_module": "@jupyter-widgets/base",
          "model_name": "LayoutModel",
          "model_module_version": "1.2.0",
          "state": {
            "_view_name": "LayoutView",
            "grid_template_rows": null,
            "right": null,
            "justify_content": null,
            "_view_module": "@jupyter-widgets/base",
            "overflow": null,
            "_model_module_version": "1.2.0",
            "_view_count": null,
            "flex_flow": null,
            "width": null,
            "min_width": null,
            "border": null,
            "align_items": null,
            "bottom": null,
            "_model_module": "@jupyter-widgets/base",
            "top": null,
            "grid_column": null,
            "overflow_y": null,
            "overflow_x": null,
            "grid_auto_flow": null,
            "grid_area": null,
            "grid_template_columns": null,
            "flex": null,
            "_model_name": "LayoutModel",
            "justify_items": null,
            "grid_row": null,
            "max_height": null,
            "align_content": null,
            "visibility": null,
            "align_self": null,
            "height": null,
            "min_height": null,
            "padding": null,
            "grid_auto_rows": null,
            "grid_gap": null,
            "max_width": null,
            "order": null,
            "_view_module_version": "1.2.0",
            "grid_template_areas": null,
            "object_position": null,
            "object_fit": null,
            "grid_auto_columns": null,
            "margin": null,
            "display": null,
            "left": null
          }
        },
        "98511f33bbd64eee85a9cfdacfa3d33e": {
          "model_module": "@jupyter-widgets/controls",
          "model_name": "HBoxModel",
          "model_module_version": "1.5.0",
          "state": {
            "_view_name": "HBoxView",
            "_dom_classes": [],
            "_model_name": "HBoxModel",
            "_view_module": "@jupyter-widgets/controls",
            "_model_module_version": "1.5.0",
            "_view_count": null,
            "_view_module_version": "1.5.0",
            "box_style": "",
            "layout": "IPY_MODEL_cf5c85b3566f41bdb6d0670599e0caa1",
            "_model_module": "@jupyter-widgets/controls",
            "children": [
              "IPY_MODEL_25c1013c5317405ea87f444184ea19f3",
              "IPY_MODEL_035067199aa14d8c984b6b47d01adfa9"
            ]
          }
        },
        "cf5c85b3566f41bdb6d0670599e0caa1": {
          "model_module": "@jupyter-widgets/base",
          "model_name": "LayoutModel",
          "model_module_version": "1.2.0",
          "state": {
            "_view_name": "LayoutView",
            "grid_template_rows": null,
            "right": null,
            "justify_content": null,
            "_view_module": "@jupyter-widgets/base",
            "overflow": null,
            "_model_module_version": "1.2.0",
            "_view_count": null,
            "flex_flow": null,
            "width": null,
            "min_width": null,
            "border": null,
            "align_items": null,
            "bottom": null,
            "_model_module": "@jupyter-widgets/base",
            "top": null,
            "grid_column": null,
            "overflow_y": null,
            "overflow_x": null,
            "grid_auto_flow": null,
            "grid_area": null,
            "grid_template_columns": null,
            "flex": null,
            "_model_name": "LayoutModel",
            "justify_items": null,
            "grid_row": null,
            "max_height": null,
            "align_content": null,
            "visibility": null,
            "align_self": null,
            "height": null,
            "min_height": null,
            "padding": null,
            "grid_auto_rows": null,
            "grid_gap": null,
            "max_width": null,
            "order": null,
            "_view_module_version": "1.2.0",
            "grid_template_areas": null,
            "object_position": null,
            "object_fit": null,
            "grid_auto_columns": null,
            "margin": null,
            "display": null,
            "left": null
          }
        },
        "25c1013c5317405ea87f444184ea19f3": {
          "model_module": "@jupyter-widgets/controls",
          "model_name": "FloatProgressModel",
          "model_module_version": "1.5.0",
          "state": {
            "_view_name": "ProgressView",
            "style": "IPY_MODEL_3034c310e1ab4c01bdf6af0bcb911dbf",
            "_dom_classes": [],
            "description": "Downloading: 100%",
            "_model_name": "FloatProgressModel",
            "bar_style": "success",
            "max": 112,
            "_view_module": "@jupyter-widgets/controls",
            "_model_module_version": "1.5.0",
            "value": 112,
            "_view_count": null,
            "_view_module_version": "1.5.0",
            "orientation": "horizontal",
            "min": 0,
            "description_tooltip": null,
            "_model_module": "@jupyter-widgets/controls",
            "layout": "IPY_MODEL_636a7bc6c7d94ae3b08afdda76c85a36"
          }
        },
        "035067199aa14d8c984b6b47d01adfa9": {
          "model_module": "@jupyter-widgets/controls",
          "model_name": "HTMLModel",
          "model_module_version": "1.5.0",
          "state": {
            "_view_name": "HTMLView",
            "style": "IPY_MODEL_33e9be933f95465498eebca322cc2f49",
            "_dom_classes": [],
            "description": "",
            "_model_name": "HTMLModel",
            "placeholder": "​",
            "_view_module": "@jupyter-widgets/controls",
            "_model_module_version": "1.5.0",
            "value": " 112/112 [00:00&lt;00:00, 122B/s]",
            "_view_count": null,
            "_view_module_version": "1.5.0",
            "description_tooltip": null,
            "_model_module": "@jupyter-widgets/controls",
            "layout": "IPY_MODEL_991eba721d9447e2886ef807ce26c91f"
          }
        },
        "3034c310e1ab4c01bdf6af0bcb911dbf": {
          "model_module": "@jupyter-widgets/controls",
          "model_name": "ProgressStyleModel",
          "model_module_version": "1.5.0",
          "state": {
            "_view_name": "StyleView",
            "_model_name": "ProgressStyleModel",
            "description_width": "initial",
            "_view_module": "@jupyter-widgets/base",
            "_model_module_version": "1.5.0",
            "_view_count": null,
            "_view_module_version": "1.2.0",
            "bar_color": null,
            "_model_module": "@jupyter-widgets/controls"
          }
        },
        "636a7bc6c7d94ae3b08afdda76c85a36": {
          "model_module": "@jupyter-widgets/base",
          "model_name": "LayoutModel",
          "model_module_version": "1.2.0",
          "state": {
            "_view_name": "LayoutView",
            "grid_template_rows": null,
            "right": null,
            "justify_content": null,
            "_view_module": "@jupyter-widgets/base",
            "overflow": null,
            "_model_module_version": "1.2.0",
            "_view_count": null,
            "flex_flow": null,
            "width": null,
            "min_width": null,
            "border": null,
            "align_items": null,
            "bottom": null,
            "_model_module": "@jupyter-widgets/base",
            "top": null,
            "grid_column": null,
            "overflow_y": null,
            "overflow_x": null,
            "grid_auto_flow": null,
            "grid_area": null,
            "grid_template_columns": null,
            "flex": null,
            "_model_name": "LayoutModel",
            "justify_items": null,
            "grid_row": null,
            "max_height": null,
            "align_content": null,
            "visibility": null,
            "align_self": null,
            "height": null,
            "min_height": null,
            "padding": null,
            "grid_auto_rows": null,
            "grid_gap": null,
            "max_width": null,
            "order": null,
            "_view_module_version": "1.2.0",
            "grid_template_areas": null,
            "object_position": null,
            "object_fit": null,
            "grid_auto_columns": null,
            "margin": null,
            "display": null,
            "left": null
          }
        },
        "33e9be933f95465498eebca322cc2f49": {
          "model_module": "@jupyter-widgets/controls",
          "model_name": "DescriptionStyleModel",
          "model_module_version": "1.5.0",
          "state": {
            "_view_name": "StyleView",
            "_model_name": "DescriptionStyleModel",
            "description_width": "",
            "_view_module": "@jupyter-widgets/base",
            "_model_module_version": "1.5.0",
            "_view_count": null,
            "_view_module_version": "1.2.0",
            "_model_module": "@jupyter-widgets/controls"
          }
        },
        "991eba721d9447e2886ef807ce26c91f": {
          "model_module": "@jupyter-widgets/base",
          "model_name": "LayoutModel",
          "model_module_version": "1.2.0",
          "state": {
            "_view_name": "LayoutView",
            "grid_template_rows": null,
            "right": null,
            "justify_content": null,
            "_view_module": "@jupyter-widgets/base",
            "overflow": null,
            "_model_module_version": "1.2.0",
            "_view_count": null,
            "flex_flow": null,
            "width": null,
            "min_width": null,
            "border": null,
            "align_items": null,
            "bottom": null,
            "_model_module": "@jupyter-widgets/base",
            "top": null,
            "grid_column": null,
            "overflow_y": null,
            "overflow_x": null,
            "grid_auto_flow": null,
            "grid_area": null,
            "grid_template_columns": null,
            "flex": null,
            "_model_name": "LayoutModel",
            "justify_items": null,
            "grid_row": null,
            "max_height": null,
            "align_content": null,
            "visibility": null,
            "align_self": null,
            "height": null,
            "min_height": null,
            "padding": null,
            "grid_auto_rows": null,
            "grid_gap": null,
            "max_width": null,
            "order": null,
            "_view_module_version": "1.2.0",
            "grid_template_areas": null,
            "object_position": null,
            "object_fit": null,
            "grid_auto_columns": null,
            "margin": null,
            "display": null,
            "left": null
          }
        }
      }
    }
  },
  "cells": [
    {
      "cell_type": "markdown",
      "metadata": {
        "id": "LAl2GswfN7-g"
      },
      "source": [
        "# Introduction\n",
        "\n",
        "When entering a query in a general search engine such as Google and Bing, a drop-down list of suggestions will typically appear. These suggestions modify the query in essentially two ways: 1. they correct possible typos, and 2. atempt to complete them. Both steps require some level of semantic understanding and language models are therefore called for. This notebook explores the use of pretrained transformer-based language models for this task. We will be using two datasets: 1. the [MSMARCO Queries dataset](https://microsoft.github.io/MSMARCO-Question-Answering/), a curated list of Bing user queries, and 2. the [Webis-QSpell-17](https://webis.de/data/webis-qspell-17.html) dataset, a corpus of web queries extracted from the [AOL Query Logs dataset](https://webis.de/data/webis-qspell-17.html), of which some contain possible mistakes and are presented along with spelling variants. For simplicity, autocompletion here does *not* include completing partial words (e.g. 'how to tie a t' -> 'how to tie a tie'), though the techniques used could easily be adapted to accomodate that more general setting."
      ]
    },
    {
      "cell_type": "markdown",
      "metadata": {
        "id": "tpbaaa_JX-Pd"
      },
      "source": [
        "# 0. Preliminaries\n",
        "\n",
        "## 0.1 Libraries and packages\n",
        "Before getting started, we load some relevant libraries and packages."
      ]
    },
    {
      "cell_type": "code",
      "metadata": {
        "colab": {
          "base_uri": "https://localhost:8080/"
        },
        "id": "xHpj9uZ_xYac",
        "outputId": "d97ef8a4-527c-486f-ba23-9815d97ec91b"
      },
      "source": [
        "!pip install transformers\n",
        "!pip install sentence-transformers\n",
        "!pip install sacrebleu\n",
        "import nltk\n",
        "nltk.download('punkt')"
      ],
      "execution_count": 3,
      "outputs": [
        {
          "output_type": "stream",
          "text": [
            "Collecting transformers\n",
            "  Downloading transformers-4.9.2-py3-none-any.whl (2.6 MB)\n",
            "\u001b[K     |████████████████████████████████| 2.6 MB 7.5 MB/s \n",
            "\u001b[?25hRequirement already satisfied: filelock in /usr/local/lib/python3.7/dist-packages (from transformers) (3.0.12)\n",
            "Requirement already satisfied: regex!=2019.12.17 in /usr/local/lib/python3.7/dist-packages (from transformers) (2019.12.20)\n",
            "Requirement already satisfied: numpy>=1.17 in /usr/local/lib/python3.7/dist-packages (from transformers) (1.19.5)\n",
            "Requirement already satisfied: requests in /usr/local/lib/python3.7/dist-packages (from transformers) (2.23.0)\n",
            "Requirement already satisfied: tqdm>=4.27 in /usr/local/lib/python3.7/dist-packages (from transformers) (4.41.1)\n",
            "Collecting tokenizers<0.11,>=0.10.1\n",
            "  Downloading tokenizers-0.10.3-cp37-cp37m-manylinux_2_5_x86_64.manylinux1_x86_64.manylinux_2_12_x86_64.manylinux2010_x86_64.whl (3.3 MB)\n",
            "\u001b[K     |████████████████████████████████| 3.3 MB 46.0 MB/s \n",
            "\u001b[?25hRequirement already satisfied: importlib-metadata in /usr/local/lib/python3.7/dist-packages (from transformers) (4.6.1)\n",
            "Collecting pyyaml>=5.1\n",
            "  Downloading PyYAML-5.4.1-cp37-cp37m-manylinux1_x86_64.whl (636 kB)\n",
            "\u001b[K     |████████████████████████████████| 636 kB 63.4 MB/s \n",
            "\u001b[?25hCollecting huggingface-hub==0.0.12\n",
            "  Downloading huggingface_hub-0.0.12-py3-none-any.whl (37 kB)\n",
            "Collecting sacremoses\n",
            "  Downloading sacremoses-0.0.45-py3-none-any.whl (895 kB)\n",
            "\u001b[K     |████████████████████████████████| 895 kB 53.9 MB/s \n",
            "\u001b[?25hRequirement already satisfied: packaging in /usr/local/lib/python3.7/dist-packages (from transformers) (21.0)\n",
            "Requirement already satisfied: typing-extensions in /usr/local/lib/python3.7/dist-packages (from huggingface-hub==0.0.12->transformers) (3.7.4.3)\n",
            "Requirement already satisfied: pyparsing>=2.0.2 in /usr/local/lib/python3.7/dist-packages (from packaging->transformers) (2.4.7)\n",
            "Requirement already satisfied: zipp>=0.5 in /usr/local/lib/python3.7/dist-packages (from importlib-metadata->transformers) (3.5.0)\n",
            "Requirement already satisfied: urllib3!=1.25.0,!=1.25.1,<1.26,>=1.21.1 in /usr/local/lib/python3.7/dist-packages (from requests->transformers) (1.24.3)\n",
            "Requirement already satisfied: chardet<4,>=3.0.2 in /usr/local/lib/python3.7/dist-packages (from requests->transformers) (3.0.4)\n",
            "Requirement already satisfied: idna<3,>=2.5 in /usr/local/lib/python3.7/dist-packages (from requests->transformers) (2.10)\n",
            "Requirement already satisfied: certifi>=2017.4.17 in /usr/local/lib/python3.7/dist-packages (from requests->transformers) (2021.5.30)\n",
            "Requirement already satisfied: click in /usr/local/lib/python3.7/dist-packages (from sacremoses->transformers) (7.1.2)\n",
            "Requirement already satisfied: six in /usr/local/lib/python3.7/dist-packages (from sacremoses->transformers) (1.15.0)\n",
            "Requirement already satisfied: joblib in /usr/local/lib/python3.7/dist-packages (from sacremoses->transformers) (1.0.1)\n",
            "Installing collected packages: tokenizers, sacremoses, pyyaml, huggingface-hub, transformers\n",
            "  Attempting uninstall: pyyaml\n",
            "    Found existing installation: PyYAML 3.13\n",
            "    Uninstalling PyYAML-3.13:\n",
            "      Successfully uninstalled PyYAML-3.13\n",
            "Successfully installed huggingface-hub-0.0.12 pyyaml-5.4.1 sacremoses-0.0.45 tokenizers-0.10.3 transformers-4.9.2\n",
            "Collecting sentence-transformers\n",
            "  Downloading sentence-transformers-2.0.0.tar.gz (85 kB)\n",
            "\u001b[K     |████████████████████████████████| 85 kB 3.6 MB/s \n",
            "\u001b[?25hRequirement already satisfied: transformers<5.0.0,>=4.6.0 in /usr/local/lib/python3.7/dist-packages (from sentence-transformers) (4.9.2)\n",
            "Requirement already satisfied: tqdm in /usr/local/lib/python3.7/dist-packages (from sentence-transformers) (4.41.1)\n",
            "Requirement already satisfied: torch>=1.6.0 in /usr/local/lib/python3.7/dist-packages (from sentence-transformers) (1.9.0+cu102)\n",
            "Requirement already satisfied: torchvision in /usr/local/lib/python3.7/dist-packages (from sentence-transformers) (0.10.0+cu102)\n",
            "Requirement already satisfied: numpy in /usr/local/lib/python3.7/dist-packages (from sentence-transformers) (1.19.5)\n",
            "Requirement already satisfied: scikit-learn in /usr/local/lib/python3.7/dist-packages (from sentence-transformers) (0.22.2.post1)\n",
            "Requirement already satisfied: scipy in /usr/local/lib/python3.7/dist-packages (from sentence-transformers) (1.4.1)\n",
            "Requirement already satisfied: nltk in /usr/local/lib/python3.7/dist-packages (from sentence-transformers) (3.2.5)\n",
            "Collecting sentencepiece\n",
            "  Downloading sentencepiece-0.1.96-cp37-cp37m-manylinux_2_17_x86_64.manylinux2014_x86_64.whl (1.2 MB)\n",
            "\u001b[K     |████████████████████████████████| 1.2 MB 64.4 MB/s \n",
            "\u001b[?25hRequirement already satisfied: huggingface-hub in /usr/local/lib/python3.7/dist-packages (from sentence-transformers) (0.0.12)\n",
            "Requirement already satisfied: typing-extensions in /usr/local/lib/python3.7/dist-packages (from torch>=1.6.0->sentence-transformers) (3.7.4.3)\n",
            "Requirement already satisfied: pyyaml>=5.1 in /usr/local/lib/python3.7/dist-packages (from transformers<5.0.0,>=4.6.0->sentence-transformers) (5.4.1)\n",
            "Requirement already satisfied: regex!=2019.12.17 in /usr/local/lib/python3.7/dist-packages (from transformers<5.0.0,>=4.6.0->sentence-transformers) (2019.12.20)\n",
            "Requirement already satisfied: packaging in /usr/local/lib/python3.7/dist-packages (from transformers<5.0.0,>=4.6.0->sentence-transformers) (21.0)\n",
            "Requirement already satisfied: importlib-metadata in /usr/local/lib/python3.7/dist-packages (from transformers<5.0.0,>=4.6.0->sentence-transformers) (4.6.1)\n",
            "Requirement already satisfied: tokenizers<0.11,>=0.10.1 in /usr/local/lib/python3.7/dist-packages (from transformers<5.0.0,>=4.6.0->sentence-transformers) (0.10.3)\n",
            "Requirement already satisfied: filelock in /usr/local/lib/python3.7/dist-packages (from transformers<5.0.0,>=4.6.0->sentence-transformers) (3.0.12)\n",
            "Requirement already satisfied: sacremoses in /usr/local/lib/python3.7/dist-packages (from transformers<5.0.0,>=4.6.0->sentence-transformers) (0.0.45)\n",
            "Requirement already satisfied: requests in /usr/local/lib/python3.7/dist-packages (from transformers<5.0.0,>=4.6.0->sentence-transformers) (2.23.0)\n",
            "Requirement already satisfied: pyparsing>=2.0.2 in /usr/local/lib/python3.7/dist-packages (from packaging->transformers<5.0.0,>=4.6.0->sentence-transformers) (2.4.7)\n",
            "Requirement already satisfied: zipp>=0.5 in /usr/local/lib/python3.7/dist-packages (from importlib-metadata->transformers<5.0.0,>=4.6.0->sentence-transformers) (3.5.0)\n",
            "Requirement already satisfied: six in /usr/local/lib/python3.7/dist-packages (from nltk->sentence-transformers) (1.15.0)\n",
            "Requirement already satisfied: certifi>=2017.4.17 in /usr/local/lib/python3.7/dist-packages (from requests->transformers<5.0.0,>=4.6.0->sentence-transformers) (2021.5.30)\n",
            "Requirement already satisfied: chardet<4,>=3.0.2 in /usr/local/lib/python3.7/dist-packages (from requests->transformers<5.0.0,>=4.6.0->sentence-transformers) (3.0.4)\n",
            "Requirement already satisfied: urllib3!=1.25.0,!=1.25.1,<1.26,>=1.21.1 in /usr/local/lib/python3.7/dist-packages (from requests->transformers<5.0.0,>=4.6.0->sentence-transformers) (1.24.3)\n",
            "Requirement already satisfied: idna<3,>=2.5 in /usr/local/lib/python3.7/dist-packages (from requests->transformers<5.0.0,>=4.6.0->sentence-transformers) (2.10)\n",
            "Requirement already satisfied: click in /usr/local/lib/python3.7/dist-packages (from sacremoses->transformers<5.0.0,>=4.6.0->sentence-transformers) (7.1.2)\n",
            "Requirement already satisfied: joblib in /usr/local/lib/python3.7/dist-packages (from sacremoses->transformers<5.0.0,>=4.6.0->sentence-transformers) (1.0.1)\n",
            "Requirement already satisfied: pillow>=5.3.0 in /usr/local/lib/python3.7/dist-packages (from torchvision->sentence-transformers) (7.1.2)\n",
            "Building wheels for collected packages: sentence-transformers\n",
            "  Building wheel for sentence-transformers (setup.py) ... \u001b[?25l\u001b[?25hdone\n",
            "  Created wheel for sentence-transformers: filename=sentence_transformers-2.0.0-py3-none-any.whl size=126709 sha256=990ebdb0d775aa022c95dd7d9485304435467668b1b84f8c3f80a4078cae0dbc\n",
            "  Stored in directory: /root/.cache/pip/wheels/d1/c1/0f/faafd427f705c4b012274ba60d9a91d75830306811e1355293\n",
            "Successfully built sentence-transformers\n",
            "Installing collected packages: sentencepiece, sentence-transformers\n",
            "Successfully installed sentence-transformers-2.0.0 sentencepiece-0.1.96\n",
            "Collecting sacrebleu\n",
            "  Downloading sacrebleu-2.0.0-py3-none-any.whl (90 kB)\n",
            "\u001b[K     |████████████████████████████████| 90 kB 5.7 MB/s \n",
            "\u001b[?25hCollecting portalocker\n",
            "  Downloading portalocker-2.3.0-py2.py3-none-any.whl (15 kB)\n",
            "Requirement already satisfied: numpy>=1.17 in /usr/local/lib/python3.7/dist-packages (from sacrebleu) (1.19.5)\n",
            "Requirement already satisfied: tabulate>=0.8.9 in /usr/local/lib/python3.7/dist-packages (from sacrebleu) (0.8.9)\n",
            "Collecting colorama\n",
            "  Downloading colorama-0.4.4-py2.py3-none-any.whl (16 kB)\n",
            "Requirement already satisfied: regex in /usr/local/lib/python3.7/dist-packages (from sacrebleu) (2019.12.20)\n",
            "Installing collected packages: portalocker, colorama, sacrebleu\n",
            "Successfully installed colorama-0.4.4 portalocker-2.3.0 sacrebleu-2.0.0\n",
            "[nltk_data] Downloading package punkt to /root/nltk_data...\n",
            "[nltk_data]   Unzipping tokenizers/punkt.zip.\n"
          ],
          "name": "stdout"
        },
        {
          "output_type": "execute_result",
          "data": {
            "text/plain": [
              "True"
            ]
          },
          "metadata": {
            "tags": []
          },
          "execution_count": 3
        }
      ]
    },
    {
      "cell_type": "markdown",
      "metadata": {
        "id": "4ps-sQdzFuh6"
      },
      "source": [
        "## 0.2 Fetching the MSMARCO Data\n",
        "\n",
        "Let's download the MSMARCO Queries dataset. "
      ]
    },
    {
      "cell_type": "code",
      "metadata": {
        "colab": {
          "base_uri": "https://localhost:8080/"
        },
        "id": "7S1aCivJWon4",
        "outputId": "476d23cb-2fdf-4772-91c1-53ed6786ca9f"
      },
      "source": [
        "!wget -nc https://msmarco.blob.core.windows.net/msmarcoranking/queries.tar.gz\n",
        "!tar xzvf queries.tar.gz"
      ],
      "execution_count": 4,
      "outputs": [
        {
          "output_type": "stream",
          "text": [
            "File ‘queries.tar.gz’ already there; not retrieving.\n",
            "\n",
            "queries.dev.tsv\n",
            "queries.eval.tsv\n",
            "queries.train.tsv\n"
          ],
          "name": "stdout"
        }
      ]
    },
    {
      "cell_type": "code",
      "metadata": {
        "id": "elop4W4DlyJm"
      },
      "source": [
        "import pandas as pd\n",
        "\n",
        "train_queries = pd.read_csv('queries.train.tsv', names=['id', 'query'], sep='\\t')\n",
        "dev_queries = pd.read_csv('queries.dev.tsv', names=['id', 'query'], sep='\\t')\n",
        "eval_queries = pd.read_csv('queries.eval.tsv', names=['id', 'query'], sep='\\t')\n",
        "train_queries = train_queries.dropna()\n",
        "dev_queries = dev_queries.dropna()\n",
        "eval_queries = eval_queries.dropna()"
      ],
      "execution_count": 5,
      "outputs": []
    },
    {
      "cell_type": "markdown",
      "metadata": {
        "id": "pF6wSqKHZgy1"
      },
      "source": [
        "It consists of three suggestively-named  files: one for training, one for validation and one for testing. Let's see what the data looks like."
      ]
    },
    {
      "cell_type": "code",
      "metadata": {
        "colab": {
          "base_uri": "https://localhost:8080/",
          "height": 359
        },
        "id": "falnaJ-E-929",
        "outputId": "438d285f-b9a5-4c7e-99ad-f3a8cdf85609"
      },
      "source": [
        "train_queries.head(10)"
      ],
      "execution_count": 6,
      "outputs": [
        {
          "output_type": "execute_result",
          "data": {
            "text/html": [
              "<div>\n",
              "<style scoped>\n",
              "    .dataframe tbody tr th:only-of-type {\n",
              "        vertical-align: middle;\n",
              "    }\n",
              "\n",
              "    .dataframe tbody tr th {\n",
              "        vertical-align: top;\n",
              "    }\n",
              "\n",
              "    .dataframe thead th {\n",
              "        text-align: right;\n",
              "    }\n",
              "</style>\n",
              "<table border=\"1\" class=\"dataframe\">\n",
              "  <thead>\n",
              "    <tr style=\"text-align: right;\">\n",
              "      <th></th>\n",
              "      <th>id</th>\n",
              "      <th>query</th>\n",
              "    </tr>\n",
              "  </thead>\n",
              "  <tbody>\n",
              "    <tr>\n",
              "      <th>0</th>\n",
              "      <td>121352</td>\n",
              "      <td>define extreme</td>\n",
              "    </tr>\n",
              "    <tr>\n",
              "      <th>1</th>\n",
              "      <td>634306</td>\n",
              "      <td>what does chattel mean on credit history</td>\n",
              "    </tr>\n",
              "    <tr>\n",
              "      <th>2</th>\n",
              "      <td>920825</td>\n",
              "      <td>what was the great leap forward brainly</td>\n",
              "    </tr>\n",
              "    <tr>\n",
              "      <th>3</th>\n",
              "      <td>510633</td>\n",
              "      <td>tattoo fixers how much does it cost</td>\n",
              "    </tr>\n",
              "    <tr>\n",
              "      <th>4</th>\n",
              "      <td>737889</td>\n",
              "      <td>what is decentralization process.</td>\n",
              "    </tr>\n",
              "    <tr>\n",
              "      <th>5</th>\n",
              "      <td>278900</td>\n",
              "      <td>how many cars enter the la jolla concours d' e...</td>\n",
              "    </tr>\n",
              "    <tr>\n",
              "      <th>6</th>\n",
              "      <td>674172</td>\n",
              "      <td>what is a bank transit number</td>\n",
              "    </tr>\n",
              "    <tr>\n",
              "      <th>7</th>\n",
              "      <td>303205</td>\n",
              "      <td>how much can i contribute to nondeductible ira</td>\n",
              "    </tr>\n",
              "    <tr>\n",
              "      <th>8</th>\n",
              "      <td>570009</td>\n",
              "      <td>what are the four major groups of elements</td>\n",
              "    </tr>\n",
              "    <tr>\n",
              "      <th>9</th>\n",
              "      <td>492875</td>\n",
              "      <td>sanitizer temperature</td>\n",
              "    </tr>\n",
              "  </tbody>\n",
              "</table>\n",
              "</div>"
            ],
            "text/plain": [
              "       id                                              query\n",
              "0  121352                                     define extreme\n",
              "1  634306           what does chattel mean on credit history\n",
              "2  920825            what was the great leap forward brainly\n",
              "3  510633                tattoo fixers how much does it cost\n",
              "4  737889                  what is decentralization process.\n",
              "5  278900  how many cars enter the la jolla concours d' e...\n",
              "6  674172                      what is a bank transit number\n",
              "7  303205     how much can i contribute to nondeductible ira\n",
              "8  570009         what are the four major groups of elements\n",
              "9  492875                              sanitizer temperature"
            ]
          },
          "metadata": {
            "tags": []
          },
          "execution_count": 6
        }
      ]
    },
    {
      "cell_type": "markdown",
      "metadata": {
        "id": "8ulHz3o5Mo4Y"
      },
      "source": [
        "Let's get basic statistical information about the lengths of the user queries."
      ]
    },
    {
      "cell_type": "code",
      "metadata": {
        "colab": {
          "base_uri": "https://localhost:8080/"
        },
        "id": "5c742VP1rgqZ",
        "outputId": "49181aca-826d-4494-e8da-31f261424845"
      },
      "source": [
        "print('Train data has', len(train_queries), 'samples')\n",
        "print('Validation data has', len(dev_queries), 'samples')\n",
        "print('Test data has', len(eval_queries), 'samples')"
      ],
      "execution_count": 7,
      "outputs": [
        {
          "output_type": "stream",
          "text": [
            "Train data has 808731 samples\n",
            "Validation data has 101093 samples\n",
            "Test data has 101092 samples\n"
          ],
          "name": "stdout"
        }
      ]
    },
    {
      "cell_type": "code",
      "metadata": {
        "colab": {
          "base_uri": "https://localhost:8080/",
          "height": 478
        },
        "id": "3z6FC6nIfaeP",
        "outputId": "d145613b-2ed5-4f53-e97d-8065ae8e6060"
      },
      "source": [
        "from nltk.tokenize import word_tokenize\n",
        "import matplotlib.pyplot as plt\n",
        "%matplotlib inline\n",
        "import seaborn as sns\n",
        "import matplotlib.ticker as mtick\n",
        "import numpy as np\n",
        "\n",
        "sns.set(style='darkgrid', palette=sns.diverging_palette(145, 400, s=20, l=30,\n",
        "                                                        n=8))\n",
        "fig, ax = plt.subplots(figsize=(12, 6))\n",
        "sep_queries = [word_tokenize(query) for query in train_queries['query'].tolist()]\n",
        "query_lens = [len(query) for query in sep_queries]\n",
        "plt.title('Lengths of user queries (in words)')\n",
        "plt.xlabel('Length of query')\n",
        "plt.xlim(0, 20)\n",
        "plt.xticks(range(1, 21))\n",
        "sns.histplot(data=query_lens, ax=ax, color='crimson', alpha=0.7, \n",
        "             bins=np.arange(21)-0.5)\n",
        "plt.show()\n",
        "print('Mean query length:', np.mean(query_lens), 'words')\n",
        "print('Std. dev. of query length:', np.std(query_lens), 'words')\n",
        "print('Longest query:', max(query_lens), 'words')\n",
        "print('Shortest query:', min(query_lens), 'words')"
      ],
      "execution_count": 8,
      "outputs": [
        {
          "output_type": "display_data",
          "data": {
            "image/png": "[encoded data removed]",
            "text/plain": [
              "<Figure size 864x432 with 1 Axes>"
            ]
          },
          "metadata": {
            "tags": []
          }
        },
        {
          "output_type": "stream",
          "text": [
            "Mean query length: 6.485220672881341 words\n",
            "Std. dev. of query length: 2.7594759665447004 words\n",
            "Longest query: 81 words\n",
            "Shortest query: 1 words\n"
          ],
          "name": "stdout"
        }
      ]
    },
    {
      "cell_type": "markdown",
      "metadata": {
        "id": "6tUJ2-2DYA1D"
      },
      "source": [
        "# 1. Implementation\n",
        "\n",
        "We want to build a system that, given a partial query (with possible typos) as an input, will output a ranked list of suggestions that correct and extend the partial query. There are two stages: autocorrection and autocompletion. We will build two prototypes. One will be modular, handling the two stages seperately, and one will be end-to-end, handling the two at once.\n",
        "\n",
        "In the modular system, we will use [BERT](https://arxiv.org/abs/1810.04805) along with [GPT-2](https://d4mucfpksywv.cloudfront.net/better-language-models/language_models_are_unsupervised_multitask_learners.pdf) for autocorrection and autocompletion respectively. This choice is informed by the two models' respective training regimens. Indeed, BERT employs masked language modeling, a denoising task, whereas GPT-2 employs causal language modeling, a predictive task, making each well-suited for the role delegated to it.\n",
        "\n",
        "The end-to-end sstem will be based on [BART](https://arxiv.org/abs/1910.13461), which is a full encoder-decoder transformer model designed for both masked and causal language modeling.\n",
        "\n",
        "We will use the Huggingface API to invoke the three language models."
      ]
    },
    {
      "cell_type": "markdown",
      "metadata": {
        "id": "dZf6yCRhn_4-"
      },
      "source": [
        "## 1.1 System 1: Modular model"
      ]
    },
    {
      "cell_type": "markdown",
      "metadata": {
        "id": "o4WnL7DXjPXy"
      },
      "source": [
        "### 1.1.1 Fine-tuning BERT\n",
        "Let's load and fine-tune BERT-base on the queries in 'queries.train.tsv', using the queries in 'dev.train.tsv' for validation. Based on the mean query length observed above, the maximum encoded length will be set to 16 tokens. The training task is simply masked language modeling: each token effectively has a 13.5% probability of getting corrupted and the task is to recover the original token."
      ]
    },
    {
      "cell_type": "code",
      "metadata": {
        "colab": {
          "base_uri": "https://localhost:8080/",
          "height": 333,
          "referenced_widgets": [
            "5f5938925ebe46e2a9e4e5003f54c365",
            "e8c3f2ae8a5c423891b26982aee8be95",
            "28dddfc254844e1a8e35295fe0771a4a",
            "5e02e3ace28d47bead574a6e7806c7ae",
            "f0e1ae90f14644a598829a453e65a8ce",
            "d909a6341db54de0a8067499c72da180",
            "71a983f4f98d461d83ce3e1ef6c629a2",
            "52fd7455db0a49668bb56c0319c49b62",
            "892519e8b4e94e538ca7377ea5b4fd2b",
            "3adde877271c4627b52cb65b007a6952",
            "0ec4a176df454cf4bc6b56e7bcaf095d",
            "a350d90464214734801a9ecc0c9e80d2",
            "61377dbca8e84d1c91eac0dd1befeee0",
            "3ad35770969c446693a84f744a02b151",
            "9e25d138c11d4112a097b178f4a02b71",
            "ec0672640c7243f9abb785c9d7bba950",
            "6f3fe27f45384193923b1921137a6089",
            "924c2bac507844d79140f34cf3e21eae",
            "2a555338a74d40f7848a7f026654ef82",
            "a36cc5fef02047109ec990648f271f65",
            "9a089b0f342541f892e7628ec200f08b",
            "2711bfec2a244606a52afc6d5817158f",
            "4c54fa68f57941cc9b8dfe77c18292ed",
            "d30cc2bd21654091b9dea0d65a0271df",
            "abe0a725b1fa46938a06ec07c4f4e7da",
            "e2b8b05ff3754c619306220764a7426e",
            "fde4e05cc59a4d5cb3005071f0fc877d",
            "39191b8d6b6b4260b6bf0a2cdf264648",
            "22b9e560a8be452fa1b2d83976bd96d2",
            "0737dc2d5fab42fa880409e2c5d43638",
            "dccc9c01698748ac8622a3955648568d",
            "73960f17126b45a0ac9d4d046ad3394b",
            "709b7b18bb0447799f979a8ba5ba17c4",
            "4c7786700b3d41f19f5ffe80f52e7588",
            "81781a7e73a94d38820baab5a92f1ed1",
            "1623786f308c43a0a31e9d7f5f5612e2",
            "04666419ce1b48feae4cc1b52d625136",
            "76860246d47d48228f92dce5783ed0e1",
            "452b915fc56c412c83cdb9fe9436324b",
            "04c4c08d761845d5b9c9fcc9ed904db6"
          ]
        },
        "id": "75OZFtblttqs",
        "outputId": "0808934e-c5bf-4509-ebbd-8912de0ca4d4"
      },
      "source": [
        "from transformers import AutoTokenizer, AutoModel, BertForMaskedLM\n",
        " \n",
        "bert_model = BertForMaskedLM.from_pretrained('bert-base-uncased')\n",
        "bert_tokenizer = AutoTokenizer.from_pretrained('bert-base-uncased', \n",
        "                                          model_max_length=16)"
      ],
      "execution_count": 9,
      "outputs": [
        {
          "output_type": "display_data",
          "data": {
            "application/vnd.jupyter.widget-view+json": {
              "model_id": "5f5938925ebe46e2a9e4e5003f54c365",
              "version_minor": 0,
              "version_major": 2
            },
            "text/plain": [
              "HBox(children=(FloatProgress(value=0.0, description='Downloading', max=570.0, style=ProgressStyle(description_…"
            ]
          },
          "metadata": {
            "tags": []
          }
        },
        {
          "output_type": "stream",
          "text": [
            "\n"
          ],
          "name": "stdout"
        },
        {
          "output_type": "display_data",
          "data": {
            "application/vnd.jupyter.widget-view+json": {
              "model_id": "892519e8b4e94e538ca7377ea5b4fd2b",
              "version_minor": 0,
              "version_major": 2
            },
            "text/plain": [
              "HBox(children=(FloatProgress(value=0.0, description='Downloading', max=440473133.0, style=ProgressStyle(descri…"
            ]
          },
          "metadata": {
            "tags": []
          }
        },
        {
          "output_type": "stream",
          "text": [
            "\n"
          ],
          "name": "stdout"
        },
        {
          "output_type": "stream",
          "text": [
            "Some weights of the model checkpoint at bert-base-uncased were not used when initializing BertForMaskedLM: ['cls.seq_relationship.bias', 'cls.seq_relationship.weight']\n",
            "- This IS expected if you are initializing BertForMaskedLM from the checkpoint of a model trained on another task or with another architecture (e.g. initializing a BertForSequenceClassification model from a BertForPreTraining model).\n",
            "- This IS NOT expected if you are initializing BertForMaskedLM from the checkpoint of a model that you expect to be exactly identical (initializing a BertForSequenceClassification model from a BertForSequenceClassification model).\n"
          ],
          "name": "stderr"
        },
        {
          "output_type": "display_data",
          "data": {
            "application/vnd.jupyter.widget-view+json": {
              "model_id": "6f3fe27f45384193923b1921137a6089",
              "version_minor": 0,
              "version_major": 2
            },
            "text/plain": [
              "HBox(children=(FloatProgress(value=0.0, description='Downloading', max=28.0, style=ProgressStyle(description_w…"
            ]
          },
          "metadata": {
            "tags": []
          }
        },
        {
          "output_type": "stream",
          "text": [
            "\n"
          ],
          "name": "stdout"
        },
        {
          "output_type": "display_data",
          "data": {
            "application/vnd.jupyter.widget-view+json": {
              "model_id": "abe0a725b1fa46938a06ec07c4f4e7da",
              "version_minor": 0,
              "version_major": 2
            },
            "text/plain": [
              "HBox(children=(FloatProgress(value=0.0, description='Downloading', max=231508.0, style=ProgressStyle(descripti…"
            ]
          },
          "metadata": {
            "tags": []
          }
        },
        {
          "output_type": "stream",
          "text": [
            "\n"
          ],
          "name": "stdout"
        },
        {
          "output_type": "display_data",
          "data": {
            "application/vnd.jupyter.widget-view+json": {
              "model_id": "709b7b18bb0447799f979a8ba5ba17c4",
              "version_minor": 0,
              "version_major": 2
            },
            "text/plain": [
              "HBox(children=(FloatProgress(value=0.0, description='Downloading', max=466062.0, style=ProgressStyle(descripti…"
            ]
          },
          "metadata": {
            "tags": []
          }
        },
        {
          "output_type": "stream",
          "text": [
            "\n"
          ],
          "name": "stdout"
        }
      ]
    },
    {
      "cell_type": "code",
      "metadata": {
        "id": "IZmFxXiGtz4u"
      },
      "source": [
        "train_queries_texts = train_queries['query'].tolist()\n",
        "dev_queries_texts = dev_queries['query'].tolist()\n",
        "en_train_queries_texts = [bert_tokenizer(query, truncation=True) for query in train_queries_texts]\n",
        "en_dev_queries_texts = [bert_tokenizer(query, truncation=True) for query in dev_queries_texts]"
      ],
      "execution_count": 13,
      "outputs": []
    },
    {
      "cell_type": "code",
      "metadata": {
        "id": "zxcy1kgNt3Cd"
      },
      "source": [
        "from transformers import (DataCollatorForLanguageModeling, Trainer, \n",
        "                         TrainingArguments)\n",
        "import torch\n",
        "\n",
        "device = torch.device('cuda' if torch.cuda.is_available() else 'cpu')\n",
        "bert_model.to(device)\n",
        "bert_dir = './local_trained_bert/'\n",
        "\n",
        "bert_collator = DataCollatorForLanguageModeling(tokenizer=bert_tokenizer, \n",
        "                                                mlm=True,\n",
        "                                                pad_to_multiple_of=16)\n",
        "bert_training_args = TrainingArguments(\n",
        "    learning_rate=5e-5,\n",
        "    output_dir=bert_dir,\n",
        "    overwrite_output_dir=True,\n",
        "    num_train_epochs=5,\n",
        "    load_best_model_at_end=True,\n",
        "    evaluation_strategy='epoch',\n",
        "    save_strategy='epoch',\n",
        "    per_device_train_batch_size=512,\n",
        "    per_device_eval_batch_size=1024,\n",
        "    prediction_loss_only=True)\n",
        "\n",
        "bert_trainer = Trainer(\n",
        "    model=bert_model,\n",
        "    args=bert_training_args,\n",
        "    data_collator=bert_collator,\n",
        "    train_dataset=en_train_queries_texts,\n",
        "    eval_dataset=en_dev_queries_texts)"
      ],
      "execution_count": 14,
      "outputs": []
    },
    {
      "cell_type": "code",
      "metadata": {
        "id": "P-eF8MMHt9Q7"
      },
      "source": [
        "#bert_trainer.train()\n",
        "#bert_trainer.save_model()"
      ],
      "execution_count": null,
      "outputs": []
    },
    {
      "cell_type": "code",
      "metadata": {
        "id": "5kwOIOeXug_u"
      },
      "source": [
        "## uncomment below to reload model\n",
        "# bert_model = BertForMaskedLM.from_pretrained(bert_dir)"
      ],
      "execution_count": null,
      "outputs": []
    },
    {
      "cell_type": "code",
      "metadata": {
        "id": "Ad6jzAsJEXuv"
      },
      "source": [
        "# put model back on cpu and on eval mode for inference\n",
        "bert_model.to('cpu');\n",
        "bert_model.eval();"
      ],
      "execution_count": 15,
      "outputs": []
    },
    {
      "cell_type": "markdown",
      "metadata": {
        "id": "oZ9BNSq8HI0Q"
      },
      "source": [
        "### 1.1.2 Fine-tuning GPT-2\n",
        "We now load GPT-2 and fine-tune it. Recall that whereas we used BERT to implement autocorrection, we intend to use GPT-2 for autocompletion. The task is causal language modeling: given an input sequence predict the next token in it."
      ]
    },
    {
      "cell_type": "code",
      "metadata": {
        "id": "-6k-vUMGbpOd",
        "colab": {
          "base_uri": "https://localhost:8080/",
          "height": 1000,
          "referenced_widgets": [
            "48849c7278184ad6a4564bb148293eda",
            "91ef88ede3e54910899e865f1a9d95a8",
            "4a55fdc8a2fc48cc82dbd913470d3823",
            "6f7593c900504ec3abc9348639934efc",
            "80f8ed9639bb43e28ef1e37f5dec32ec",
            "a47e9b0ee8f14ff98a0f8f1ad9905057",
            "5db62915dfd548f89e85fb1da7424c09",
            "82145eed482e47308be8e1c6beb6dbad",
            "e890c056351944948b4693d3af1ab7b4",
            "edd873632a594a7f91543409711a10fb",
            "f3937e1638cf4a239d24255213dad95c",
            "ae348dd86d1645d4a5ad0b320f8cbd7d",
            "b8b4fa07d9934f939319f65e3c42a0be",
            "77590b3676334b0f8c7a388dd3f08dee",
            "db4a7f1f8d924f1d9018fdaede0d682c",
            "97dfc58a66414e978d7b4626f4ec66d2",
            "cbe0533405c640da82a4619567a2c441",
            "6e62048d153342758acdaa96398ead34",
            "309fb117f1d6462f84e637c209f1195a",
            "fe53843185fb421bb25449327a62271b",
            "d248d26bb6de47f2b7720f39507f35d4",
            "5be09c8e171d499d8dbafc0586d1f50e",
            "698f22b58a864a66b385a16a82ae383a",
            "a3416dca2d2f4f81bd14a1004fef6752",
            "2ac276e9d443495dbe311aaf1bec1ff7",
            "ca4cbe2d9b844d79ba8e03971e34d44c",
            "8c839e1834dc457da8541fc45eac6f0b",
            "87be4dbb87164e79b40336449225f035",
            "4bc027cbee42411eb4d03ceb2ca20524",
            "b5053dcb48864007bdfd7322bb096c3b",
            "8eeda13318124d2892551f5499053b0c",
            "b99b916a906443cfbe074c6ee9b1effc",
            "62cc1f596d754ca8baeead971ac1af27",
            "91e9063591764db1a6e415eda61ca049",
            "74b09b046575428895ad071ab3b1718f",
            "6796365c449648ec8e1b953a6eade5f5",
            "e487cdd40e2d41ca9a7ebf28b0c40528",
            "f0de7e6ddbb041918c9374c5235ed502",
            "b9121a17b4cc49b9905ecb205e0d93db",
            "fe4fe8a733b046d3b442df72626a8fd6"
          ]
        },
        "outputId": "dbb56295-fe14-4156-8369-e83db311573b"
      },
      "source": [
        "from transformers import GPT2LMHeadModel\n",
        "\n",
        "gpt_tokenizer = AutoTokenizer.from_pretrained(\"gpt2\", model_max_length=16)\n",
        "gpt_tokenizer.pad_token = gpt_tokenizer.eos_token\n",
        "gpt_model = GPT2LMHeadModel.from_pretrained(\"gpt2\", pad_token_id=gpt_tokenizer.eos_token_id)"
      ],
      "execution_count": 16,
      "outputs": [
        {
          "output_type": "stream",
          "text": [
            "Could not locate the tokenizer configuration file, will try to use the model config instead.\n",
            "https://huggingface.co/gpt2/resolve/main/config.json not found in cache or force_download set to True, downloading to /root/.cache/huggingface/transformers/tmpx9vwqmt0\n"
          ],
          "name": "stderr"
        },
        {
          "output_type": "display_data",
          "data": {
            "application/vnd.jupyter.widget-view+json": {
              "model_id": "48849c7278184ad6a4564bb148293eda",
              "version_minor": 0,
              "version_major": 2
            },
            "text/plain": [
              "HBox(children=(FloatProgress(value=0.0, description='Downloading', max=665.0, style=ProgressStyle(description_…"
            ]
          },
          "metadata": {
            "tags": []
          }
        },
        {
          "output_type": "stream",
          "text": [
            "storing https://huggingface.co/gpt2/resolve/main/config.json in cache at /root/.cache/huggingface/transformers/fc674cd6907b4c9e933cb42d67662436b89fa9540a1f40d7c919d0109289ad01.7d2e0efa5ca20cef4fb199382111e9d3ad96fd77b849e1d4bed13a66e1336f51\n",
            "creating metadata file for /root/.cache/huggingface/transformers/fc674cd6907b4c9e933cb42d67662436b89fa9540a1f40d7c919d0109289ad01.7d2e0efa5ca20cef4fb199382111e9d3ad96fd77b849e1d4bed13a66e1336f51\n",
            "loading configuration file https://huggingface.co/gpt2/resolve/main/config.json from cache at /root/.cache/huggingface/transformers/fc674cd6907b4c9e933cb42d67662436b89fa9540a1f40d7c919d0109289ad01.7d2e0efa5ca20cef4fb199382111e9d3ad96fd77b849e1d4bed13a66e1336f51\n",
            "Model config GPT2Config {\n",
            "  \"activation_function\": \"gelu_new\",\n",
            "  \"architectures\": [\n",
            "    \"GPT2LMHeadModel\"\n",
            "  ],\n",
            "  \"attn_pdrop\": 0.1,\n",
            "  \"bos_token_id\": 50256,\n",
            "  \"embd_pdrop\": 0.1,\n",
            "  \"eos_token_id\": 50256,\n",
            "  \"gradient_checkpointing\": false,\n",
            "  \"initializer_range\": 0.02,\n",
            "  \"layer_norm_epsilon\": 1e-05,\n",
            "  \"model_type\": \"gpt2\",\n",
            "  \"n_ctx\": 1024,\n",
            "  \"n_embd\": 768,\n",
            "  \"n_head\": 12,\n",
            "  \"n_inner\": null,\n",
            "  \"n_layer\": 12,\n",
            "  \"n_positions\": 1024,\n",
            "  \"resid_pdrop\": 0.1,\n",
            "  \"scale_attn_weights\": true,\n",
            "  \"summary_activation\": null,\n",
            "  \"summary_first_dropout\": 0.1,\n",
            "  \"summary_proj_to_labels\": true,\n",
            "  \"summary_type\": \"cls_index\",\n",
            "  \"summary_use_proj\": true,\n",
            "  \"task_specific_params\": {\n",
            "    \"text-generation\": {\n",
            "      \"do_sample\": true,\n",
            "      \"max_length\": 50\n",
            "    }\n",
            "  },\n",
            "  \"transformers_version\": \"4.9.2\",\n",
            "  \"use_cache\": true,\n",
            "  \"vocab_size\": 50257\n",
            "}\n",
            "\n"
          ],
          "name": "stderr"
        },
        {
          "output_type": "stream",
          "text": [
            "\n"
          ],
          "name": "stdout"
        },
        {
          "output_type": "stream",
          "text": [
            "https://huggingface.co/gpt2/resolve/main/vocab.json not found in cache or force_download set to True, downloading to /root/.cache/huggingface/transformers/tmp3qsw3xsr\n"
          ],
          "name": "stderr"
        },
        {
          "output_type": "display_data",
          "data": {
            "application/vnd.jupyter.widget-view+json": {
              "model_id": "e890c056351944948b4693d3af1ab7b4",
              "version_minor": 0,
              "version_major": 2
            },
            "text/plain": [
              "HBox(children=(FloatProgress(value=0.0, description='Downloading', max=1042301.0, style=ProgressStyle(descript…"
            ]
          },
          "metadata": {
            "tags": []
          }
        },
        {
          "output_type": "stream",
          "text": [
            "storing https://huggingface.co/gpt2/resolve/main/vocab.json in cache at /root/.cache/huggingface/transformers/684fe667923972fb57f6b4dcb61a3c92763ad89882f3da5da9866baf14f2d60f.c7ed1f96aac49e745788faa77ba0a26a392643a50bb388b9c04ff469e555241f\n",
            "creating metadata file for /root/.cache/huggingface/transformers/684fe667923972fb57f6b4dcb61a3c92763ad89882f3da5da9866baf14f2d60f.c7ed1f96aac49e745788faa77ba0a26a392643a50bb388b9c04ff469e555241f\n"
          ],
          "name": "stderr"
        },
        {
          "output_type": "stream",
          "text": [
            "\n"
          ],
          "name": "stdout"
        },
        {
          "output_type": "stream",
          "text": [
            "https://huggingface.co/gpt2/resolve/main/merges.txt not found in cache or force_download set to True, downloading to /root/.cache/huggingface/transformers/tmpqnaeqge4\n"
          ],
          "name": "stderr"
        },
        {
          "output_type": "display_data",
          "data": {
            "application/vnd.jupyter.widget-view+json": {
              "model_id": "cbe0533405c640da82a4619567a2c441",
              "version_minor": 0,
              "version_major": 2
            },
            "text/plain": [
              "HBox(children=(FloatProgress(value=0.0, description='Downloading', max=456318.0, style=ProgressStyle(descripti…"
            ]
          },
          "metadata": {
            "tags": []
          }
        },
        {
          "output_type": "stream",
          "text": [
            "storing https://huggingface.co/gpt2/resolve/main/merges.txt in cache at /root/.cache/huggingface/transformers/c0c761a63004025aeadd530c4c27b860ec4ecbe8a00531233de21d865a402598.5d12962c5ee615a4c803841266e9c3be9a691a924f72d395d3a6c6c81157788b\n",
            "creating metadata file for /root/.cache/huggingface/transformers/c0c761a63004025aeadd530c4c27b860ec4ecbe8a00531233de21d865a402598.5d12962c5ee615a4c803841266e9c3be9a691a924f72d395d3a6c6c81157788b\n"
          ],
          "name": "stderr"
        },
        {
          "output_type": "stream",
          "text": [
            "\n"
          ],
          "name": "stdout"
        },
        {
          "output_type": "stream",
          "text": [
            "https://huggingface.co/gpt2/resolve/main/tokenizer.json not found in cache or force_download set to True, downloading to /root/.cache/huggingface/transformers/tmp440q0_5r\n"
          ],
          "name": "stderr"
        },
        {
          "output_type": "display_data",
          "data": {
            "application/vnd.jupyter.widget-view+json": {
              "model_id": "2ac276e9d443495dbe311aaf1bec1ff7",
              "version_minor": 0,
              "version_major": 2
            },
            "text/plain": [
              "HBox(children=(FloatProgress(value=0.0, description='Downloading', max=1355256.0, style=ProgressStyle(descript…"
            ]
          },
          "metadata": {
            "tags": []
          }
        },
        {
          "output_type": "stream",
          "text": [
            "storing https://huggingface.co/gpt2/resolve/main/tokenizer.json in cache at /root/.cache/huggingface/transformers/16a2f78023c8dc511294f0c97b5e10fde3ef9889ad6d11ffaa2a00714e73926e.cf2d0ecb83b6df91b3dbb53f1d1e4c311578bfd3aa0e04934215a49bf9898df0\n",
            "creating metadata file for /root/.cache/huggingface/transformers/16a2f78023c8dc511294f0c97b5e10fde3ef9889ad6d11ffaa2a00714e73926e.cf2d0ecb83b6df91b3dbb53f1d1e4c311578bfd3aa0e04934215a49bf9898df0\n"
          ],
          "name": "stderr"
        },
        {
          "output_type": "stream",
          "text": [
            "\n"
          ],
          "name": "stdout"
        },
        {
          "output_type": "stream",
          "text": [
            "loading file https://huggingface.co/gpt2/resolve/main/vocab.json from cache at /root/.cache/huggingface/transformers/684fe667923972fb57f6b4dcb61a3c92763ad89882f3da5da9866baf14f2d60f.c7ed1f96aac49e745788faa77ba0a26a392643a50bb388b9c04ff469e555241f\n",
            "loading file https://huggingface.co/gpt2/resolve/main/merges.txt from cache at /root/.cache/huggingface/transformers/c0c761a63004025aeadd530c4c27b860ec4ecbe8a00531233de21d865a402598.5d12962c5ee615a4c803841266e9c3be9a691a924f72d395d3a6c6c81157788b\n",
            "loading file https://huggingface.co/gpt2/resolve/main/tokenizer.json from cache at /root/.cache/huggingface/transformers/16a2f78023c8dc511294f0c97b5e10fde3ef9889ad6d11ffaa2a00714e73926e.cf2d0ecb83b6df91b3dbb53f1d1e4c311578bfd3aa0e04934215a49bf9898df0\n",
            "loading file https://huggingface.co/gpt2/resolve/main/added_tokens.json from cache at None\n",
            "loading file https://huggingface.co/gpt2/resolve/main/special_tokens_map.json from cache at None\n",
            "loading file https://huggingface.co/gpt2/resolve/main/tokenizer_config.json from cache at None\n",
            "loading configuration file https://huggingface.co/gpt2/resolve/main/config.json from cache at /root/.cache/huggingface/transformers/fc674cd6907b4c9e933cb42d67662436b89fa9540a1f40d7c919d0109289ad01.7d2e0efa5ca20cef4fb199382111e9d3ad96fd77b849e1d4bed13a66e1336f51\n",
            "Model config GPT2Config {\n",
            "  \"activation_function\": \"gelu_new\",\n",
            "  \"architectures\": [\n",
            "    \"GPT2LMHeadModel\"\n",
            "  ],\n",
            "  \"attn_pdrop\": 0.1,\n",
            "  \"bos_token_id\": 50256,\n",
            "  \"embd_pdrop\": 0.1,\n",
            "  \"eos_token_id\": 50256,\n",
            "  \"gradient_checkpointing\": false,\n",
            "  \"initializer_range\": 0.02,\n",
            "  \"layer_norm_epsilon\": 1e-05,\n",
            "  \"model_type\": \"gpt2\",\n",
            "  \"n_ctx\": 1024,\n",
            "  \"n_embd\": 768,\n",
            "  \"n_head\": 12,\n",
            "  \"n_inner\": null,\n",
            "  \"n_layer\": 12,\n",
            "  \"n_positions\": 1024,\n",
            "  \"resid_pdrop\": 0.1,\n",
            "  \"scale_attn_weights\": true,\n",
            "  \"summary_activation\": null,\n",
            "  \"summary_first_dropout\": 0.1,\n",
            "  \"summary_proj_to_labels\": true,\n",
            "  \"summary_type\": \"cls_index\",\n",
            "  \"summary_use_proj\": true,\n",
            "  \"task_specific_params\": {\n",
            "    \"text-generation\": {\n",
            "      \"do_sample\": true,\n",
            "      \"max_length\": 50\n",
            "    }\n",
            "  },\n",
            "  \"transformers_version\": \"4.9.2\",\n",
            "  \"use_cache\": true,\n",
            "  \"vocab_size\": 50257\n",
            "}\n",
            "\n",
            "loading configuration file https://huggingface.co/gpt2/resolve/main/config.json from cache at /root/.cache/huggingface/transformers/fc674cd6907b4c9e933cb42d67662436b89fa9540a1f40d7c919d0109289ad01.7d2e0efa5ca20cef4fb199382111e9d3ad96fd77b849e1d4bed13a66e1336f51\n",
            "Model config GPT2Config {\n",
            "  \"activation_function\": \"gelu_new\",\n",
            "  \"architectures\": [\n",
            "    \"GPT2LMHeadModel\"\n",
            "  ],\n",
            "  \"attn_pdrop\": 0.1,\n",
            "  \"bos_token_id\": 50256,\n",
            "  \"embd_pdrop\": 0.1,\n",
            "  \"eos_token_id\": 50256,\n",
            "  \"gradient_checkpointing\": false,\n",
            "  \"initializer_range\": 0.02,\n",
            "  \"layer_norm_epsilon\": 1e-05,\n",
            "  \"model_type\": \"gpt2\",\n",
            "  \"n_ctx\": 1024,\n",
            "  \"n_embd\": 768,\n",
            "  \"n_head\": 12,\n",
            "  \"n_inner\": null,\n",
            "  \"n_layer\": 12,\n",
            "  \"n_positions\": 1024,\n",
            "  \"pad_token_id\": 50256,\n",
            "  \"resid_pdrop\": 0.1,\n",
            "  \"scale_attn_weights\": true,\n",
            "  \"summary_activation\": null,\n",
            "  \"summary_first_dropout\": 0.1,\n",
            "  \"summary_proj_to_labels\": true,\n",
            "  \"summary_type\": \"cls_index\",\n",
            "  \"summary_use_proj\": true,\n",
            "  \"task_specific_params\": {\n",
            "    \"text-generation\": {\n",
            "      \"do_sample\": true,\n",
            "      \"max_length\": 50\n",
            "    }\n",
            "  },\n",
            "  \"transformers_version\": \"4.9.2\",\n",
            "  \"use_cache\": true,\n",
            "  \"vocab_size\": 50257\n",
            "}\n",
            "\n",
            "https://huggingface.co/gpt2/resolve/main/pytorch_model.bin not found in cache or force_download set to True, downloading to /root/.cache/huggingface/transformers/tmprwsjt5n5\n"
          ],
          "name": "stderr"
        },
        {
          "output_type": "display_data",
          "data": {
            "application/vnd.jupyter.widget-view+json": {
              "model_id": "62cc1f596d754ca8baeead971ac1af27",
              "version_minor": 0,
              "version_major": 2
            },
            "text/plain": [
              "HBox(children=(FloatProgress(value=0.0, description='Downloading', max=548118077.0, style=ProgressStyle(descri…"
            ]
          },
          "metadata": {
            "tags": []
          }
        },
        {
          "output_type": "stream",
          "text": [
            "storing https://huggingface.co/gpt2/resolve/main/pytorch_model.bin in cache at /root/.cache/huggingface/transformers/752929ace039baa8ef70fe21cdf9ab9445773d20e733cf693d667982e210837e.323c769945a351daa25546176f8208b3004b6f563438a7603e7932bae9025925\n",
            "creating metadata file for /root/.cache/huggingface/transformers/752929ace039baa8ef70fe21cdf9ab9445773d20e733cf693d667982e210837e.323c769945a351daa25546176f8208b3004b6f563438a7603e7932bae9025925\n",
            "loading weights file https://huggingface.co/gpt2/resolve/main/pytorch_model.bin from cache at /root/.cache/huggingface/transformers/752929ace039baa8ef70fe21cdf9ab9445773d20e733cf693d667982e210837e.323c769945a351daa25546176f8208b3004b6f563438a7603e7932bae9025925\n"
          ],
          "name": "stderr"
        },
        {
          "output_type": "stream",
          "text": [
            "\n"
          ],
          "name": "stdout"
        },
        {
          "output_type": "stream",
          "text": [
            "All model checkpoint weights were used when initializing GPT2LMHeadModel.\n",
            "\n",
            "All the weights of GPT2LMHeadModel were initialized from the model checkpoint at gpt2.\n",
            "If your task is similar to the task the model of the checkpoint was trained on, you can already use GPT2LMHeadModel for predictions without further training.\n"
          ],
          "name": "stderr"
        }
      ]
    },
    {
      "cell_type": "code",
      "metadata": {
        "id": "FUiT7eioRacb"
      },
      "source": [
        "en_train_queries_texts = [gpt_tokenizer(query, truncation=True) for query in train_queries_texts]\n",
        "en_dev_queries_texts = [gpt_tokenizer(query, truncation=True) for query in dev_queries_texts]"
      ],
      "execution_count": null,
      "outputs": []
    },
    {
      "cell_type": "code",
      "metadata": {
        "id": "q0X9q2mTRacc",
        "colab": {
          "base_uri": "https://localhost:8080/"
        },
        "outputId": "725f21f9-a2c0-400c-c19a-a86f797c5234"
      },
      "source": [
        "gpt_model.to(device)\n",
        "gpt_dir = './local_trained_gpt/'\n",
        "\n",
        "gpt_collator = DataCollatorForLanguageModeling(tokenizer=gpt_tokenizer, \n",
        "                                                mlm=False,\n",
        "                                                pad_to_multiple_of=16)\n",
        "gpt_training_args = TrainingArguments(\n",
        "    learning_rate=2e-5,\n",
        "    output_dir=gpt_dir,\n",
        "    overwrite_output_dir=True,\n",
        "    num_train_epochs=5,\n",
        "    load_best_model_at_end=True,\n",
        "    evaluation_strategy='epoch',\n",
        "    save_strategy='epoch',\n",
        "    per_device_train_batch_size=128,\n",
        "    per_device_eval_batch_size=512,\n",
        "    gradient_accumulation_steps=2,\n",
        "    prediction_loss_only=True)\n",
        "\n",
        "gpt_trainer = Trainer(\n",
        "    model=gpt_model,\n",
        "    args=gpt_training_args,\n",
        "    data_collator=gpt_collator,\n",
        "    train_dataset=en_train_queries_texts,\n",
        "    eval_dataset=en_dev_queries_texts)"
      ],
      "execution_count": 17,
      "outputs": [
        {
          "output_type": "stream",
          "text": [
            "PyTorch: setting up devices\n",
            "The default value for the training argument `--report_to` will change in v5 (from all installed integrations to none). In v5, you will need to use `--report_to all` to get the same behavior as now. You should start updating your code and make this info disappear :-).\n"
          ],
          "name": "stderr"
        }
      ]
    },
    {
      "cell_type": "code",
      "metadata": {
        "colab": {
          "base_uri": "https://localhost:8080/",
          "height": 1000
        },
        "id": "RZUMWUQiQu0e",
        "outputId": "657bb5b7-bd79-449c-c7e3-24d13b5ee930"
      },
      "source": [
        "gpt_trainer.train()\n",
        "gpt_trainer.save_model()"
      ],
      "execution_count": null,
      "outputs": [
        {
          "output_type": "stream",
          "text": [
            "***** Running training *****\n",
            "  Num examples = 808731\n",
            "  Num Epochs = 5\n",
            "  Instantaneous batch size per device = 128\n",
            "  Total train batch size (w. parallel, distributed & accumulation) = 256\n",
            "  Gradient Accumulation steps = 2\n",
            "  Total optimization steps = 15795\n"
          ],
          "name": "stderr"
        },
        {
          "output_type": "display_data",
          "data": {
            "text/html": [
              "\n",
              "    <div>\n",
              "      \n",
              "      <progress value='15795' max='15795' style='width:300px; height:20px; vertical-align: middle;'></progress>\n",
              "      [15795/15795 1:34:11, Epoch 4/5]\n",
              "    </div>\n",
              "    <table border=\"1\" class=\"dataframe\">\n",
              "  <thead>\n",
              "    <tr style=\"text-align: left;\">\n",
              "      <th>Epoch</th>\n",
              "      <th>Training Loss</th>\n",
              "      <th>Validation Loss</th>\n",
              "    </tr>\n",
              "  </thead>\n",
              "  <tbody>\n",
              "    <tr>\n",
              "      <td>0</td>\n",
              "      <td>4.490900</td>\n",
              "      <td>4.378908</td>\n",
              "    </tr>\n",
              "    <tr>\n",
              "      <td>1</td>\n",
              "      <td>4.329300</td>\n",
              "      <td>4.289423</td>\n",
              "    </tr>\n",
              "    <tr>\n",
              "      <td>2</td>\n",
              "      <td>4.255000</td>\n",
              "      <td>4.248666</td>\n",
              "    </tr>\n",
              "    <tr>\n",
              "      <td>3</td>\n",
              "      <td>4.203900</td>\n",
              "      <td>4.229917</td>\n",
              "    </tr>\n",
              "    <tr>\n",
              "      <td>4</td>\n",
              "      <td>4.174900</td>\n",
              "      <td>4.224312</td>\n",
              "    </tr>\n",
              "  </tbody>\n",
              "</table><p>"
            ],
            "text/plain": [
              "<IPython.core.display.HTML object>"
            ]
          },
          "metadata": {
            "tags": []
          }
        },
        {
          "output_type": "stream",
          "text": [
            "***** Running Evaluation *****\n",
            "  Num examples = 101093\n",
            "  Batch size = 512\n",
            "Saving model checkpoint to ./local_trained_gpt/checkpoint-3159\n",
            "Configuration saved in ./local_trained_gpt/checkpoint-3159/config.json\n",
            "Model weights saved in ./local_trained_gpt/checkpoint-3159/pytorch_model.bin\n",
            "***** Running Evaluation *****\n",
            "  Num examples = 101093\n",
            "  Batch size = 512\n",
            "Saving model checkpoint to ./local_trained_gpt/checkpoint-6318\n",
            "Configuration saved in ./local_trained_gpt/checkpoint-6318/config.json\n",
            "Model weights saved in ./local_trained_gpt/checkpoint-6318/pytorch_model.bin\n",
            "***** Running Evaluation *****\n",
            "  Num examples = 101093\n",
            "  Batch size = 512\n",
            "Saving model checkpoint to ./local_trained_gpt/checkpoint-9477\n",
            "Configuration saved in ./local_trained_gpt/checkpoint-9477/config.json\n",
            "Model weights saved in ./local_trained_gpt/checkpoint-9477/pytorch_model.bin\n",
            "***** Running Evaluation *****\n",
            "  Num examples = 101093\n",
            "  Batch size = 512\n",
            "Saving model checkpoint to ./local_trained_gpt/checkpoint-12636\n",
            "Configuration saved in ./local_trained_gpt/checkpoint-12636/config.json\n",
            "Model weights saved in ./local_trained_gpt/checkpoint-12636/pytorch_model.bin\n",
            "***** Running Evaluation *****\n",
            "  Num examples = 101093\n",
            "  Batch size = 512\n",
            "Saving model checkpoint to ./local_trained_gpt/checkpoint-15795\n",
            "Configuration saved in ./local_trained_gpt/checkpoint-15795/config.json\n",
            "Model weights saved in ./local_trained_gpt/checkpoint-15795/pytorch_model.bin\n",
            "\n",
            "\n",
            "Training completed. Do not forget to share your model on huggingface.co/models =)\n",
            "\n",
            "\n",
            "Loading best model from ./local_trained_gpt/checkpoint-15795 (score: 4.224311828613281).\n",
            "Saving model checkpoint to ./local_trained_gpt/\n",
            "Configuration saved in ./local_trained_gpt/config.json\n",
            "Model weights saved in ./local_trained_gpt/pytorch_model.bin\n"
          ],
          "name": "stderr"
        }
      ]
    },
    {
      "cell_type": "code",
      "metadata": {
        "id": "gWbZiop3UpSP"
      },
      "source": [
        "## uncomment below to reload model\n",
        "# gpt_model = GPT2LMHeadModel.from_pretrained(gpt_dir, pad_token_id=gpt_tokenizer.eos_token_id)"
      ],
      "execution_count": null,
      "outputs": []
    },
    {
      "cell_type": "code",
      "metadata": {
        "id": "PjpHw_wIUpSR"
      },
      "source": [
        "# put model back on cpu and on eval mode for inference\n",
        "gpt_model.to('cpu');\n",
        "gpt_model.eval();"
      ],
      "execution_count": 18,
      "outputs": []
    },
    {
      "cell_type": "markdown",
      "metadata": {
        "id": "yrLMRKb0oLqV"
      },
      "source": [
        "## 1.2 System 2: End-to-end model\n",
        "\n",
        "With the modular system now in place, we build an end-to-end system leveraing BART. The training task will consist of both masked and causal language modeling. Due to BART having an encoder, we have to manually modify the inputs so that look-ahead leakage does not occur in the causal language modeling task. This stands to make the model even more end-to-end: we would like the system to extend queries by a few words, and by manually modifying the inputs we can train the system to extend queries at once rather than one word at a time. "
      ]
    },
    {
      "cell_type": "code",
      "metadata": {
        "colab": {
          "base_uri": "https://localhost:8080/",
          "height": 1000,
          "referenced_widgets": [
            "6c72d235c7564d428bef3d8e0df4637c",
            "b879299604504184afc5560b00b65562",
            "d37e53cce83e4cce847e4cbd711b54eb",
            "afe72a34e7f94f9cb30c1e2417749fae",
            "e8773d116add4579bee43c8bbce96c1d",
            "89d6859a53344e07a2eded9e71a328ec",
            "fb2d2570f63a4521ae6e48bc344c8714",
            "c2325de3a123499b892bb4f2c055b026",
            "1847dc47ffa94b85af88a79f6b533a72",
            "1b75fa68749a47a0acec0e340c9358bf",
            "72cdfb79429e41509b967fc11d21ed48",
            "47125f7c7bf443dca40ebdca319ff750",
            "799ca0e713724c8c8e5b651dee8abca2",
            "05b0467c0e4b4fa79126d69e14ad870c",
            "5f4d566669b240d994c8e28afd984281",
            "8a339e70a3f04f76838f95663bb479ad",
            "eb04d2ed0bfa446fb1f8ff33c6fdb744",
            "b08f24d0d6434b81ab6fb34e1375dccc",
            "96e728c1db06470a8ded3c729a2dbfc3",
            "ddd5c7566dde4277907ca6b02765a849",
            "2e50d6e55e01490a97800262d7f8286e",
            "9a9d0fa24b4f4c199ed3af8f64653fe3",
            "4571219995bd4fae9306723ba4513913",
            "7f883f60e224402ebb63b3f40d369255",
            "83ff820cec0c4f3a93778095b091f29d",
            "e82564b3d5784057bea91db2e53f88a9",
            "6551ba8ab194424fa050e364f58da25a",
            "b8017331917e4d71ba379c69505b4e44",
            "23c90b52118148158f763d11f9db1f42",
            "a1189e2b54ec41f19ad5dfb3100d8684",
            "686b559c4e304a6faa64f802c441136a",
            "6d42677a5d274a82a0e048215f186ded",
            "5c745348776a47b6af90ddb7ae4657e7",
            "8620bee76bfe46e98d3e71ec71a762ed",
            "3779bfece8ee4720bcb8c8126ecb5361",
            "4d98e28a0c1a44898e04b9aa3df4cabd",
            "7334f82110724b21ab84ed242061afe1",
            "a1c2721f470948e6b96b5e28afd78482",
            "eb3a67c35dbc4d41b0da8953c8894a7d",
            "8981523d287947879dae4880e4078c56"
          ]
        },
        "id": "o5m3hD2woDnv",
        "outputId": "8e4309e8-a45a-425e-912c-e1fa5823fba4"
      },
      "source": [
        "from transformers import BartForConditionalGeneration\n",
        "\n",
        "bart_model = BartForConditionalGeneration.from_pretrained('facebook/bart-base')\n",
        "bart_tokenizer = AutoTokenizer.from_pretrained('facebook/bart-base', \n",
        "                                          model_max_length=16)"
      ],
      "execution_count": 19,
      "outputs": [
        {
          "output_type": "stream",
          "text": [
            "https://huggingface.co/facebook/bart-base/resolve/main/config.json not found in cache or force_download set to True, downloading to /root/.cache/huggingface/transformers/tmp_i9cmbx9\n"
          ],
          "name": "stderr"
        },
        {
          "output_type": "display_data",
          "data": {
            "application/vnd.jupyter.widget-view+json": {
              "model_id": "6c72d235c7564d428bef3d8e0df4637c",
              "version_minor": 0,
              "version_major": 2
            },
            "text/plain": [
              "HBox(children=(FloatProgress(value=0.0, description='Downloading', max=1627.0, style=ProgressStyle(description…"
            ]
          },
          "metadata": {
            "tags": []
          }
        },
        {
          "output_type": "stream",
          "text": [
            "storing https://huggingface.co/facebook/bart-base/resolve/main/config.json in cache at /root/.cache/huggingface/transformers/f5310d276a6d1648d00c32fadc8bf7b4607e0fbd5b404fc4a0045960aa2bdfdb.8512cdf8592f538a7fd4b40eecaa096285410ec6494049568b3300922ab71165\n",
            "creating metadata file for /root/.cache/huggingface/transformers/f5310d276a6d1648d00c32fadc8bf7b4607e0fbd5b404fc4a0045960aa2bdfdb.8512cdf8592f538a7fd4b40eecaa096285410ec6494049568b3300922ab71165\n",
            "loading configuration file https://huggingface.co/facebook/bart-base/resolve/main/config.json from cache at /root/.cache/huggingface/transformers/f5310d276a6d1648d00c32fadc8bf7b4607e0fbd5b404fc4a0045960aa2bdfdb.8512cdf8592f538a7fd4b40eecaa096285410ec6494049568b3300922ab71165\n",
            "Model config BartConfig {\n",
            "  \"activation_dropout\": 0.1,\n",
            "  \"activation_function\": \"gelu\",\n",
            "  \"add_bias_logits\": false,\n",
            "  \"add_final_layer_norm\": false,\n",
            "  \"architectures\": [\n",
            "    \"BartModel\"\n",
            "  ],\n",
            "  \"attention_dropout\": 0.1,\n",
            "  \"bos_token_id\": 0,\n",
            "  \"classif_dropout\": 0.1,\n",
            "  \"classifier_dropout\": 0.0,\n",
            "  \"d_model\": 768,\n",
            "  \"decoder_attention_heads\": 12,\n",
            "  \"decoder_ffn_dim\": 3072,\n",
            "  \"decoder_layerdrop\": 0.0,\n",
            "  \"decoder_layers\": 6,\n",
            "  \"decoder_start_token_id\": 2,\n",
            "  \"dropout\": 0.1,\n",
            "  \"early_stopping\": true,\n",
            "  \"encoder_attention_heads\": 12,\n",
            "  \"encoder_ffn_dim\": 3072,\n",
            "  \"encoder_layerdrop\": 0.0,\n",
            "  \"encoder_layers\": 6,\n",
            "  \"eos_token_id\": 2,\n",
            "  \"forced_eos_token_id\": 2,\n",
            "  \"gradient_checkpointing\": false,\n",
            "  \"id2label\": {\n",
            "    \"0\": \"LABEL_0\",\n",
            "    \"1\": \"LABEL_1\",\n",
            "    \"2\": \"LABEL_2\"\n",
            "  },\n",
            "  \"init_std\": 0.02,\n",
            "  \"is_encoder_decoder\": true,\n",
            "  \"label2id\": {\n",
            "    \"LABEL_0\": 0,\n",
            "    \"LABEL_1\": 1,\n",
            "    \"LABEL_2\": 2\n",
            "  },\n",
            "  \"max_position_embeddings\": 1024,\n",
            "  \"model_type\": \"bart\",\n",
            "  \"no_repeat_ngram_size\": 3,\n",
            "  \"normalize_before\": false,\n",
            "  \"normalize_embedding\": true,\n",
            "  \"num_beams\": 4,\n",
            "  \"num_hidden_layers\": 6,\n",
            "  \"pad_token_id\": 1,\n",
            "  \"scale_embedding\": false,\n",
            "  \"task_specific_params\": {\n",
            "    \"summarization\": {\n",
            "      \"length_penalty\": 1.0,\n",
            "      \"max_length\": 128,\n",
            "      \"min_length\": 12,\n",
            "      \"num_beams\": 4\n",
            "    },\n",
            "    \"summarization_cnn\": {\n",
            "      \"length_penalty\": 2.0,\n",
            "      \"max_length\": 142,\n",
            "      \"min_length\": 56,\n",
            "      \"num_beams\": 4\n",
            "    },\n",
            "    \"summarization_xsum\": {\n",
            "      \"length_penalty\": 1.0,\n",
            "      \"max_length\": 62,\n",
            "      \"min_length\": 11,\n",
            "      \"num_beams\": 6\n",
            "    }\n",
            "  },\n",
            "  \"transformers_version\": \"4.9.2\",\n",
            "  \"use_cache\": true,\n",
            "  \"vocab_size\": 50265\n",
            "}\n",
            "\n"
          ],
          "name": "stderr"
        },
        {
          "output_type": "stream",
          "text": [
            "\n"
          ],
          "name": "stdout"
        },
        {
          "output_type": "stream",
          "text": [
            "https://huggingface.co/facebook/bart-base/resolve/main/pytorch_model.bin not found in cache or force_download set to True, downloading to /root/.cache/huggingface/transformers/tmp3yv0y1ue\n"
          ],
          "name": "stderr"
        },
        {
          "output_type": "display_data",
          "data": {
            "application/vnd.jupyter.widget-view+json": {
              "model_id": "1847dc47ffa94b85af88a79f6b533a72",
              "version_minor": 0,
              "version_major": 2
            },
            "text/plain": [
              "HBox(children=(FloatProgress(value=0.0, description='Downloading', max=557941479.0, style=ProgressStyle(descri…"
            ]
          },
          "metadata": {
            "tags": []
          }
        },
        {
          "output_type": "stream",
          "text": [
            "storing https://huggingface.co/facebook/bart-base/resolve/main/pytorch_model.bin in cache at /root/.cache/huggingface/transformers/486355ec722ef05fd480e999d4c763be56549ae930f6a3742ee721a5d2a05647.9faea28a6782a9589c09b1942c039943df02232d83d2ac288a69ddfa928eae22\n",
            "creating metadata file for /root/.cache/huggingface/transformers/486355ec722ef05fd480e999d4c763be56549ae930f6a3742ee721a5d2a05647.9faea28a6782a9589c09b1942c039943df02232d83d2ac288a69ddfa928eae22\n",
            "loading weights file https://huggingface.co/facebook/bart-base/resolve/main/pytorch_model.bin from cache at /root/.cache/huggingface/transformers/486355ec722ef05fd480e999d4c763be56549ae930f6a3742ee721a5d2a05647.9faea28a6782a9589c09b1942c039943df02232d83d2ac288a69ddfa928eae22\n"
          ],
          "name": "stderr"
        },
        {
          "output_type": "stream",
          "text": [
            "\n"
          ],
          "name": "stdout"
        },
        {
          "output_type": "stream",
          "text": [
            "All model checkpoint weights were used when initializing BartForConditionalGeneration.\n",
            "\n",
            "All the weights of BartForConditionalGeneration were initialized from the model checkpoint at facebook/bart-base.\n",
            "If your task is similar to the task the model of the checkpoint was trained on, you can already use BartForConditionalGeneration for predictions without further training.\n",
            "Could not locate the tokenizer configuration file, will try to use the model config instead.\n",
            "loading configuration file https://huggingface.co/facebook/bart-base/resolve/main/config.json from cache at /root/.cache/huggingface/transformers/f5310d276a6d1648d00c32fadc8bf7b4607e0fbd5b404fc4a0045960aa2bdfdb.8512cdf8592f538a7fd4b40eecaa096285410ec6494049568b3300922ab71165\n",
            "Model config BartConfig {\n",
            "  \"activation_dropout\": 0.1,\n",
            "  \"activation_function\": \"gelu\",\n",
            "  \"add_bias_logits\": false,\n",
            "  \"add_final_layer_norm\": false,\n",
            "  \"architectures\": [\n",
            "    \"BartModel\"\n",
            "  ],\n",
            "  \"attention_dropout\": 0.1,\n",
            "  \"bos_token_id\": 0,\n",
            "  \"classif_dropout\": 0.1,\n",
            "  \"classifier_dropout\": 0.0,\n",
            "  \"d_model\": 768,\n",
            "  \"decoder_attention_heads\": 12,\n",
            "  \"decoder_ffn_dim\": 3072,\n",
            "  \"decoder_layerdrop\": 0.0,\n",
            "  \"decoder_layers\": 6,\n",
            "  \"decoder_start_token_id\": 2,\n",
            "  \"dropout\": 0.1,\n",
            "  \"early_stopping\": true,\n",
            "  \"encoder_attention_heads\": 12,\n",
            "  \"encoder_ffn_dim\": 3072,\n",
            "  \"encoder_layerdrop\": 0.0,\n",
            "  \"encoder_layers\": 6,\n",
            "  \"eos_token_id\": 2,\n",
            "  \"forced_eos_token_id\": 2,\n",
            "  \"gradient_checkpointing\": false,\n",
            "  \"id2label\": {\n",
            "    \"0\": \"LABEL_0\",\n",
            "    \"1\": \"LABEL_1\",\n",
            "    \"2\": \"LABEL_2\"\n",
            "  },\n",
            "  \"init_std\": 0.02,\n",
            "  \"is_encoder_decoder\": true,\n",
            "  \"label2id\": {\n",
            "    \"LABEL_0\": 0,\n",
            "    \"LABEL_1\": 1,\n",
            "    \"LABEL_2\": 2\n",
            "  },\n",
            "  \"max_position_embeddings\": 1024,\n",
            "  \"model_type\": \"bart\",\n",
            "  \"no_repeat_ngram_size\": 3,\n",
            "  \"normalize_before\": false,\n",
            "  \"normalize_embedding\": true,\n",
            "  \"num_beams\": 4,\n",
            "  \"num_hidden_layers\": 6,\n",
            "  \"pad_token_id\": 1,\n",
            "  \"scale_embedding\": false,\n",
            "  \"task_specific_params\": {\n",
            "    \"summarization\": {\n",
            "      \"length_penalty\": 1.0,\n",
            "      \"max_length\": 128,\n",
            "      \"min_length\": 12,\n",
            "      \"num_beams\": 4\n",
            "    },\n",
            "    \"summarization_cnn\": {\n",
            "      \"length_penalty\": 2.0,\n",
            "      \"max_length\": 142,\n",
            "      \"min_length\": 56,\n",
            "      \"num_beams\": 4\n",
            "    },\n",
            "    \"summarization_xsum\": {\n",
            "      \"length_penalty\": 1.0,\n",
            "      \"max_length\": 62,\n",
            "      \"min_length\": 11,\n",
            "      \"num_beams\": 6\n",
            "    }\n",
            "  },\n",
            "  \"transformers_version\": \"4.9.2\",\n",
            "  \"use_cache\": true,\n",
            "  \"vocab_size\": 50265\n",
            "}\n",
            "\n",
            "https://huggingface.co/facebook/bart-base/resolve/main/vocab.json not found in cache or force_download set to True, downloading to /root/.cache/huggingface/transformers/tmphgm958bt\n"
          ],
          "name": "stderr"
        },
        {
          "output_type": "display_data",
          "data": {
            "application/vnd.jupyter.widget-view+json": {
              "model_id": "eb04d2ed0bfa446fb1f8ff33c6fdb744",
              "version_minor": 0,
              "version_major": 2
            },
            "text/plain": [
              "HBox(children=(FloatProgress(value=0.0, description='Downloading', max=898823.0, style=ProgressStyle(descripti…"
            ]
          },
          "metadata": {
            "tags": []
          }
        },
        {
          "output_type": "stream",
          "text": [
            "storing https://huggingface.co/facebook/bart-base/resolve/main/vocab.json in cache at /root/.cache/huggingface/transformers/43978bdeaa326572886b44fcfed82f932f76571095ce31973e51c3da8ccade7f.d67d6b367eb24ab43b08ad55e014cf254076934f71d832bbab9ad35644a375ab\n",
            "creating metadata file for /root/.cache/huggingface/transformers/43978bdeaa326572886b44fcfed82f932f76571095ce31973e51c3da8ccade7f.d67d6b367eb24ab43b08ad55e014cf254076934f71d832bbab9ad35644a375ab\n"
          ],
          "name": "stderr"
        },
        {
          "output_type": "stream",
          "text": [
            "\n"
          ],
          "name": "stdout"
        },
        {
          "output_type": "stream",
          "text": [
            "https://huggingface.co/facebook/bart-base/resolve/main/merges.txt not found in cache or force_download set to True, downloading to /root/.cache/huggingface/transformers/tmpielkgp6q\n"
          ],
          "name": "stderr"
        },
        {
          "output_type": "display_data",
          "data": {
            "application/vnd.jupyter.widget-view+json": {
              "model_id": "83ff820cec0c4f3a93778095b091f29d",
              "version_minor": 0,
              "version_major": 2
            },
            "text/plain": [
              "HBox(children=(FloatProgress(value=0.0, description='Downloading', max=456318.0, style=ProgressStyle(descripti…"
            ]
          },
          "metadata": {
            "tags": []
          }
        },
        {
          "output_type": "stream",
          "text": [
            "storing https://huggingface.co/facebook/bart-base/resolve/main/merges.txt in cache at /root/.cache/huggingface/transformers/3c167ed8af56e6605eeb794b63a79d65d85e6708c9b04408d41946337030f5cd.5d12962c5ee615a4c803841266e9c3be9a691a924f72d395d3a6c6c81157788b\n",
            "creating metadata file for /root/.cache/huggingface/transformers/3c167ed8af56e6605eeb794b63a79d65d85e6708c9b04408d41946337030f5cd.5d12962c5ee615a4c803841266e9c3be9a691a924f72d395d3a6c6c81157788b\n"
          ],
          "name": "stderr"
        },
        {
          "output_type": "stream",
          "text": [
            "\n"
          ],
          "name": "stdout"
        },
        {
          "output_type": "stream",
          "text": [
            "https://huggingface.co/facebook/bart-base/resolve/main/tokenizer.json not found in cache or force_download set to True, downloading to /root/.cache/huggingface/transformers/tmpu92tk46s\n"
          ],
          "name": "stderr"
        },
        {
          "output_type": "display_data",
          "data": {
            "application/vnd.jupyter.widget-view+json": {
              "model_id": "5c745348776a47b6af90ddb7ae4657e7",
              "version_minor": 0,
              "version_major": 2
            },
            "text/plain": [
              "HBox(children=(FloatProgress(value=0.0, description='Downloading', max=1355863.0, style=ProgressStyle(descript…"
            ]
          },
          "metadata": {
            "tags": []
          }
        },
        {
          "output_type": "stream",
          "text": [
            "storing https://huggingface.co/facebook/bart-base/resolve/main/tokenizer.json in cache at /root/.cache/huggingface/transformers/a878fcd69bba037c9b1b227f4213579ae43d0aaa9374e167bc6c5f41b1cfeb30.fc9576039592f026ad76a1c231b89aee8668488c671dfbe6616bab2ed298d730\n",
            "creating metadata file for /root/.cache/huggingface/transformers/a878fcd69bba037c9b1b227f4213579ae43d0aaa9374e167bc6c5f41b1cfeb30.fc9576039592f026ad76a1c231b89aee8668488c671dfbe6616bab2ed298d730\n"
          ],
          "name": "stderr"
        },
        {
          "output_type": "stream",
          "text": [
            "\n"
          ],
          "name": "stdout"
        },
        {
          "output_type": "stream",
          "text": [
            "loading file https://huggingface.co/facebook/bart-base/resolve/main/vocab.json from cache at /root/.cache/huggingface/transformers/43978bdeaa326572886b44fcfed82f932f76571095ce31973e51c3da8ccade7f.d67d6b367eb24ab43b08ad55e014cf254076934f71d832bbab9ad35644a375ab\n",
            "loading file https://huggingface.co/facebook/bart-base/resolve/main/merges.txt from cache at /root/.cache/huggingface/transformers/3c167ed8af56e6605eeb794b63a79d65d85e6708c9b04408d41946337030f5cd.5d12962c5ee615a4c803841266e9c3be9a691a924f72d395d3a6c6c81157788b\n",
            "loading file https://huggingface.co/facebook/bart-base/resolve/main/tokenizer.json from cache at /root/.cache/huggingface/transformers/a878fcd69bba037c9b1b227f4213579ae43d0aaa9374e167bc6c5f41b1cfeb30.fc9576039592f026ad76a1c231b89aee8668488c671dfbe6616bab2ed298d730\n",
            "loading file https://huggingface.co/facebook/bart-base/resolve/main/added_tokens.json from cache at None\n",
            "loading file https://huggingface.co/facebook/bart-base/resolve/main/special_tokens_map.json from cache at None\n",
            "loading file https://huggingface.co/facebook/bart-base/resolve/main/tokenizer_config.json from cache at None\n",
            "loading configuration file https://huggingface.co/facebook/bart-base/resolve/main/config.json from cache at /root/.cache/huggingface/transformers/f5310d276a6d1648d00c32fadc8bf7b4607e0fbd5b404fc4a0045960aa2bdfdb.8512cdf8592f538a7fd4b40eecaa096285410ec6494049568b3300922ab71165\n",
            "Model config BartConfig {\n",
            "  \"activation_dropout\": 0.1,\n",
            "  \"activation_function\": \"gelu\",\n",
            "  \"add_bias_logits\": false,\n",
            "  \"add_final_layer_norm\": false,\n",
            "  \"architectures\": [\n",
            "    \"BartModel\"\n",
            "  ],\n",
            "  \"attention_dropout\": 0.1,\n",
            "  \"bos_token_id\": 0,\n",
            "  \"classif_dropout\": 0.1,\n",
            "  \"classifier_dropout\": 0.0,\n",
            "  \"d_model\": 768,\n",
            "  \"decoder_attention_heads\": 12,\n",
            "  \"decoder_ffn_dim\": 3072,\n",
            "  \"decoder_layerdrop\": 0.0,\n",
            "  \"decoder_layers\": 6,\n",
            "  \"decoder_start_token_id\": 2,\n",
            "  \"dropout\": 0.1,\n",
            "  \"early_stopping\": true,\n",
            "  \"encoder_attention_heads\": 12,\n",
            "  \"encoder_ffn_dim\": 3072,\n",
            "  \"encoder_layerdrop\": 0.0,\n",
            "  \"encoder_layers\": 6,\n",
            "  \"eos_token_id\": 2,\n",
            "  \"forced_eos_token_id\": 2,\n",
            "  \"gradient_checkpointing\": false,\n",
            "  \"id2label\": {\n",
            "    \"0\": \"LABEL_0\",\n",
            "    \"1\": \"LABEL_1\",\n",
            "    \"2\": \"LABEL_2\"\n",
            "  },\n",
            "  \"init_std\": 0.02,\n",
            "  \"is_encoder_decoder\": true,\n",
            "  \"label2id\": {\n",
            "    \"LABEL_0\": 0,\n",
            "    \"LABEL_1\": 1,\n",
            "    \"LABEL_2\": 2\n",
            "  },\n",
            "  \"max_position_embeddings\": 1024,\n",
            "  \"model_type\": \"bart\",\n",
            "  \"no_repeat_ngram_size\": 3,\n",
            "  \"normalize_before\": false,\n",
            "  \"normalize_embedding\": true,\n",
            "  \"num_beams\": 4,\n",
            "  \"num_hidden_layers\": 6,\n",
            "  \"pad_token_id\": 1,\n",
            "  \"scale_embedding\": false,\n",
            "  \"task_specific_params\": {\n",
            "    \"summarization\": {\n",
            "      \"length_penalty\": 1.0,\n",
            "      \"max_length\": 128,\n",
            "      \"min_length\": 12,\n",
            "      \"num_beams\": 4\n",
            "    },\n",
            "    \"summarization_cnn\": {\n",
            "      \"length_penalty\": 2.0,\n",
            "      \"max_length\": 142,\n",
            "      \"min_length\": 56,\n",
            "      \"num_beams\": 4\n",
            "    },\n",
            "    \"summarization_xsum\": {\n",
            "      \"length_penalty\": 1.0,\n",
            "      \"max_length\": 62,\n",
            "      \"min_length\": 11,\n",
            "      \"num_beams\": 6\n",
            "    }\n",
            "  },\n",
            "  \"transformers_version\": \"4.9.2\",\n",
            "  \"use_cache\": true,\n",
            "  \"vocab_size\": 50265\n",
            "}\n",
            "\n"
          ],
          "name": "stderr"
        }
      ]
    },
    {
      "cell_type": "code",
      "metadata": {
        "colab": {
          "base_uri": "https://localhost:8080/"
        },
        "id": "SO-nKAcdq6gz",
        "outputId": "ee43d083-c628-4347-ee56-52531bc0b4ca"
      },
      "source": [
        "from transformers import AutoConfig\n",
        "from numpy.random import choice\n",
        "\n",
        "class bart_collator_class():\n",
        "  \"\"\"Data collator for BART.\"\"\"\n",
        "  def __init__(self, tokenizer=bart_tokenizer, mlm=True, mlm_probability=0.15, \n",
        "               pad_to_multiple_of=16):\n",
        "    self.tokenizer = tokenizer\n",
        "    self.mask_bart_collator = DataCollatorForLanguageModeling(tokenizer=tokenizer, \n",
        "                                                     mlm=mlm, \n",
        "                                                     mlm_probability=mlm_probability, \n",
        "                \n",
        "                                                     pad_to_multiple_of=pad_to_multiple_of)\n",
        "    config = AutoConfig.from_pretrained('facebook/bart-base')\n",
        "    self.end_token = config.eos_token_id\n",
        "    self.pad_to_multiple_of=pad_to_multiple_of\n",
        "\n",
        "  def __call__(self, features_ls):\n",
        "    # extract ids and attention masks\n",
        "    input_ids_ls = [features['input_ids'] for features in features_ls]\n",
        "    attn_mask_ls = [features['attention_mask'] for features in features_ls]\n",
        "    labels_ls = [features.get('labels', features['input_ids']) for features in features_ls]\n",
        "\n",
        "    # randomly truncate\n",
        "    to_truncate_ls = choice(3, size=len(features_ls), p=[1/3, 1/3, 1/3])\n",
        "    new_input_ids_ls = []\n",
        "    new_attn_mask_ls = []\n",
        "    new_labels_ls = []\n",
        "\n",
        "    for i, input_ids in enumerate(input_ids_ls):\n",
        "      labels = labels_ls[i]\n",
        "      labels = np.pad(labels, (0, 16-len(labels)), constant_values=(0, -100))\n",
        "      attn_mask = attn_mask_ls[i]\n",
        "      to_truncate = int(to_truncate_ls[i])\n",
        "      if to_truncate:\n",
        "        input_ids = input_ids[:-to_truncate]\n",
        "        input_ids[-1] = self.end_token\n",
        "        attn_mask = attn_mask[:-to_truncate]\n",
        "      new_input_ids_ls.append(input_ids)\n",
        "      new_attn_mask_ls.append(attn_mask)\n",
        "      new_labels_ls.append(labels)\n",
        "\n",
        "    new_labels_ls = [torch.tensor(labels, dtype=torch.long) for labels in new_labels_ls]\n",
        "    labels_tensor = torch.stack(new_labels_ls)\n",
        "\n",
        "    dic_ls = [{'input_ids': new_input_ids_ls[i], \n",
        "               'attention_mask': new_attn_mask_ls[i]} for i in range(len(new_input_ids_ls))]\n",
        "    batch = self.mask_bart_collator(dic_ls)\n",
        "    batch['labels'] = labels_tensor\n",
        "\n",
        "    return batch\n",
        "\n",
        "# unit tests\n",
        "bart_collator = bart_collator_class()\n",
        "batch = bart_collator(en_train_queries_texts[:10])\n",
        "assert(batch['input_ids'].shape == batch['labels'].shape)\n",
        "assert(batch['input_ids'].shape == batch['attention_mask'].shape)"
      ],
      "execution_count": 20,
      "outputs": [
        {
          "output_type": "stream",
          "text": [
            "loading configuration file https://huggingface.co/facebook/bart-base/resolve/main/config.json from cache at /root/.cache/huggingface/transformers/f5310d276a6d1648d00c32fadc8bf7b4607e0fbd5b404fc4a0045960aa2bdfdb.8512cdf8592f538a7fd4b40eecaa096285410ec6494049568b3300922ab71165\n",
            "Model config BartConfig {\n",
            "  \"activation_dropout\": 0.1,\n",
            "  \"activation_function\": \"gelu\",\n",
            "  \"add_bias_logits\": false,\n",
            "  \"add_final_layer_norm\": false,\n",
            "  \"architectures\": [\n",
            "    \"BartModel\"\n",
            "  ],\n",
            "  \"attention_dropout\": 0.1,\n",
            "  \"bos_token_id\": 0,\n",
            "  \"classif_dropout\": 0.1,\n",
            "  \"classifier_dropout\": 0.0,\n",
            "  \"d_model\": 768,\n",
            "  \"decoder_attention_heads\": 12,\n",
            "  \"decoder_ffn_dim\": 3072,\n",
            "  \"decoder_layerdrop\": 0.0,\n",
            "  \"decoder_layers\": 6,\n",
            "  \"decoder_start_token_id\": 2,\n",
            "  \"dropout\": 0.1,\n",
            "  \"early_stopping\": true,\n",
            "  \"encoder_attention_heads\": 12,\n",
            "  \"encoder_ffn_dim\": 3072,\n",
            "  \"encoder_layerdrop\": 0.0,\n",
            "  \"encoder_layers\": 6,\n",
            "  \"eos_token_id\": 2,\n",
            "  \"forced_eos_token_id\": 2,\n",
            "  \"gradient_checkpointing\": false,\n",
            "  \"id2label\": {\n",
            "    \"0\": \"LABEL_0\",\n",
            "    \"1\": \"LABEL_1\",\n",
            "    \"2\": \"LABEL_2\"\n",
            "  },\n",
            "  \"init_std\": 0.02,\n",
            "  \"is_encoder_decoder\": true,\n",
            "  \"label2id\": {\n",
            "    \"LABEL_0\": 0,\n",
            "    \"LABEL_1\": 1,\n",
            "    \"LABEL_2\": 2\n",
            "  },\n",
            "  \"max_position_embeddings\": 1024,\n",
            "  \"model_type\": \"bart\",\n",
            "  \"no_repeat_ngram_size\": 3,\n",
            "  \"normalize_before\": false,\n",
            "  \"normalize_embedding\": true,\n",
            "  \"num_beams\": 4,\n",
            "  \"num_hidden_layers\": 6,\n",
            "  \"pad_token_id\": 1,\n",
            "  \"scale_embedding\": false,\n",
            "  \"task_specific_params\": {\n",
            "    \"summarization\": {\n",
            "      \"length_penalty\": 1.0,\n",
            "      \"max_length\": 128,\n",
            "      \"min_length\": 12,\n",
            "      \"num_beams\": 4\n",
            "    },\n",
            "    \"summarization_cnn\": {\n",
            "      \"length_penalty\": 2.0,\n",
            "      \"max_length\": 142,\n",
            "      \"min_length\": 56,\n",
            "      \"num_beams\": 4\n",
            "    },\n",
            "    \"summarization_xsum\": {\n",
            "      \"length_penalty\": 1.0,\n",
            "      \"max_length\": 62,\n",
            "      \"min_length\": 11,\n",
            "      \"num_beams\": 6\n",
            "    }\n",
            "  },\n",
            "  \"transformers_version\": \"4.9.2\",\n",
            "  \"use_cache\": true,\n",
            "  \"vocab_size\": 50265\n",
            "}\n",
            "\n"
          ],
          "name": "stderr"
        }
      ]
    },
    {
      "cell_type": "code",
      "metadata": {
        "id": "oyr-EFtgk_vA"
      },
      "source": [
        "en_train_queries_texts = [bart_tokenizer(query, truncation=True) for query in train_queries_texts]\n",
        "en_dev_queries_texts = [bart_tokenizer(query, truncation=True) for query in dev_queries_texts]"
      ],
      "execution_count": null,
      "outputs": []
    },
    {
      "cell_type": "code",
      "metadata": {
        "colab": {
          "base_uri": "https://localhost:8080/"
        },
        "id": "4ZMRYUnJPE2A",
        "outputId": "e63e0470-58a3-493f-cfa7-3ff6d98e1d5d"
      },
      "source": [
        "bart_model.to(device)\n",
        "bart_dir = './local_trained_bart/'\n",
        "\n",
        "bart_collator = bart_collator_class(mlm_probability=0.33)\n",
        "\n",
        "bart_training_args = TrainingArguments(\n",
        "    learning_rate=3e-5,\n",
        "    output_dir=bart_dir,\n",
        "    overwrite_output_dir=True,\n",
        "    num_train_epochs=5,\n",
        "    load_best_model_at_end=True,\n",
        "    evaluation_strategy='epoch',\n",
        "    save_strategy='epoch',\n",
        "    per_device_train_batch_size=256,\n",
        "    per_device_eval_batch_size=512,\n",
        "    prediction_loss_only=True)\n",
        "\n",
        "bart_trainer = Trainer(\n",
        "    model=bart_model,\n",
        "    args=bart_training_args,\n",
        "    data_collator=bart_collator,\n",
        "    train_dataset=en_train_queries_texts,\n",
        "    eval_dataset=en_dev_queries_texts\n",
        ")"
      ],
      "execution_count": 21,
      "outputs": [
        {
          "output_type": "stream",
          "text": [
            "loading configuration file https://huggingface.co/facebook/bart-base/resolve/main/config.json from cache at /root/.cache/huggingface/transformers/f5310d276a6d1648d00c32fadc8bf7b4607e0fbd5b404fc4a0045960aa2bdfdb.8512cdf8592f538a7fd4b40eecaa096285410ec6494049568b3300922ab71165\n",
            "Model config BartConfig {\n",
            "  \"activation_dropout\": 0.1,\n",
            "  \"activation_function\": \"gelu\",\n",
            "  \"add_bias_logits\": false,\n",
            "  \"add_final_layer_norm\": false,\n",
            "  \"architectures\": [\n",
            "    \"BartModel\"\n",
            "  ],\n",
            "  \"attention_dropout\": 0.1,\n",
            "  \"bos_token_id\": 0,\n",
            "  \"classif_dropout\": 0.1,\n",
            "  \"classifier_dropout\": 0.0,\n",
            "  \"d_model\": 768,\n",
            "  \"decoder_attention_heads\": 12,\n",
            "  \"decoder_ffn_dim\": 3072,\n",
            "  \"decoder_layerdrop\": 0.0,\n",
            "  \"decoder_layers\": 6,\n",
            "  \"decoder_start_token_id\": 2,\n",
            "  \"dropout\": 0.1,\n",
            "  \"early_stopping\": true,\n",
            "  \"encoder_attention_heads\": 12,\n",
            "  \"encoder_ffn_dim\": 3072,\n",
            "  \"encoder_layerdrop\": 0.0,\n",
            "  \"encoder_layers\": 6,\n",
            "  \"eos_token_id\": 2,\n",
            "  \"forced_eos_token_id\": 2,\n",
            "  \"gradient_checkpointing\": false,\n",
            "  \"id2label\": {\n",
            "    \"0\": \"LABEL_0\",\n",
            "    \"1\": \"LABEL_1\",\n",
            "    \"2\": \"LABEL_2\"\n",
            "  },\n",
            "  \"init_std\": 0.02,\n",
            "  \"is_encoder_decoder\": true,\n",
            "  \"label2id\": {\n",
            "    \"LABEL_0\": 0,\n",
            "    \"LABEL_1\": 1,\n",
            "    \"LABEL_2\": 2\n",
            "  },\n",
            "  \"max_position_embeddings\": 1024,\n",
            "  \"model_type\": \"bart\",\n",
            "  \"no_repeat_ngram_size\": 3,\n",
            "  \"normalize_before\": false,\n",
            "  \"normalize_embedding\": true,\n",
            "  \"num_beams\": 4,\n",
            "  \"num_hidden_layers\": 6,\n",
            "  \"pad_token_id\": 1,\n",
            "  \"scale_embedding\": false,\n",
            "  \"task_specific_params\": {\n",
            "    \"summarization\": {\n",
            "      \"length_penalty\": 1.0,\n",
            "      \"max_length\": 128,\n",
            "      \"min_length\": 12,\n",
            "      \"num_beams\": 4\n",
            "    },\n",
            "    \"summarization_cnn\": {\n",
            "      \"length_penalty\": 2.0,\n",
            "      \"max_length\": 142,\n",
            "      \"min_length\": 56,\n",
            "      \"num_beams\": 4\n",
            "    },\n",
            "    \"summarization_xsum\": {\n",
            "      \"length_penalty\": 1.0,\n",
            "      \"max_length\": 62,\n",
            "      \"min_length\": 11,\n",
            "      \"num_beams\": 6\n",
            "    }\n",
            "  },\n",
            "  \"transformers_version\": \"4.9.2\",\n",
            "  \"use_cache\": true,\n",
            "  \"vocab_size\": 50265\n",
            "}\n",
            "\n",
            "PyTorch: setting up devices\n",
            "The default value for the training argument `--report_to` will change in v5 (from all installed integrations to none). In v5, you will need to use `--report_to all` to get the same behavior as now. You should start updating your code and make this info disappear :-).\n"
          ],
          "name": "stderr"
        }
      ]
    },
    {
      "cell_type": "code",
      "metadata": {
        "colab": {
          "base_uri": "https://localhost:8080/",
          "height": 1000
        },
        "id": "ec9bOTMMPE2B",
        "outputId": "6e78d1d7-a919-4e3e-d6da-fb3868a1bdfa"
      },
      "source": [
        "bart_trainer.train()\n",
        "bart_trainer.save_model()"
      ],
      "execution_count": null,
      "outputs": [
        {
          "output_type": "stream",
          "text": [
            "***** Running training *****\n",
            "  Num examples = 808731\n",
            "  Num Epochs = 5\n",
            "  Instantaneous batch size per device = 256\n",
            "  Total train batch size (w. parallel, distributed & accumulation) = 256\n",
            "  Gradient Accumulation steps = 1\n",
            "  Total optimization steps = 15800\n"
          ],
          "name": "stderr"
        },
        {
          "output_type": "display_data",
          "data": {
            "text/html": [
              "\n",
              "    <div>\n",
              "      \n",
              "      <progress value='12802' max='15800' style='width:300px; height:20px; vertical-align: middle;'></progress>\n",
              "      [12802/15800 2:22:29 < 33:22, 1.50 it/s, Epoch 4.05/5]\n",
              "    </div>\n",
              "    <table border=\"1\" class=\"dataframe\">\n",
              "  <thead>\n",
              "    <tr style=\"text-align: left;\">\n",
              "      <th>Epoch</th>\n",
              "      <th>Training Loss</th>\n",
              "      <th>Validation Loss</th>\n",
              "    </tr>\n",
              "  </thead>\n",
              "  <tbody>\n",
              "    <tr>\n",
              "      <td>1</td>\n",
              "      <td>1.249200</td>\n",
              "      <td>1.164498</td>\n",
              "    </tr>\n",
              "    <tr>\n",
              "      <td>2</td>\n",
              "      <td>1.180300</td>\n",
              "      <td>1.123674</td>\n",
              "    </tr>\n",
              "    <tr>\n",
              "      <td>3</td>\n",
              "      <td>1.140500</td>\n",
              "      <td>1.101693</td>\n",
              "    </tr>\n",
              "    <tr>\n",
              "      <td>4</td>\n",
              "      <td>1.114100</td>\n",
              "      <td>1.089637</td>\n",
              "    </tr>\n",
              "  </tbody>\n",
              "</table><p>"
            ],
            "text/plain": [
              "<IPython.core.display.HTML object>"
            ]
          },
          "metadata": {
            "tags": []
          }
        },
        {
          "output_type": "stream",
          "text": [
            "***** Running Evaluation *****\n",
            "  Num examples = 101093\n",
            "  Batch size = 512\n",
            "Saving model checkpoint to ./local_trained_bart/checkpoint-3160\n",
            "Configuration saved in ./local_trained_bart/checkpoint-3160/config.json\n",
            "Model weights saved in ./local_trained_bart/checkpoint-3160/pytorch_model.bin\n",
            "***** Running Evaluation *****\n",
            "  Num examples = 101093\n",
            "  Batch size = 512\n",
            "Saving model checkpoint to ./local_trained_bart/checkpoint-6320\n",
            "Configuration saved in ./local_trained_bart/checkpoint-6320/config.json\n",
            "Model weights saved in ./local_trained_bart/checkpoint-6320/pytorch_model.bin\n",
            "***** Running Evaluation *****\n",
            "  Num examples = 101093\n",
            "  Batch size = 512\n",
            "Saving model checkpoint to ./local_trained_bart/checkpoint-9480\n",
            "Configuration saved in ./local_trained_bart/checkpoint-9480/config.json\n",
            "Model weights saved in ./local_trained_bart/checkpoint-9480/pytorch_model.bin\n",
            "***** Running Evaluation *****\n",
            "  Num examples = 101093\n",
            "  Batch size = 512\n",
            "Saving model checkpoint to ./local_trained_bart/checkpoint-12640\n",
            "Configuration saved in ./local_trained_bart/checkpoint-12640/config.json\n",
            "Model weights saved in ./local_trained_bart/checkpoint-12640/pytorch_model.bin\n"
          ],
          "name": "stderr"
        },
        {
          "output_type": "display_data",
          "data": {
            "text/html": [
              "\n",
              "    <div>\n",
              "      \n",
              "      <progress value='15800' max='15800' style='width:300px; height:20px; vertical-align: middle;'></progress>\n",
              "      [15800/15800 2:55:32, Epoch 5/5]\n",
              "    </div>\n",
              "    <table border=\"1\" class=\"dataframe\">\n",
              "  <thead>\n",
              "    <tr style=\"text-align: left;\">\n",
              "      <th>Epoch</th>\n",
              "      <th>Training Loss</th>\n",
              "      <th>Validation Loss</th>\n",
              "    </tr>\n",
              "  </thead>\n",
              "  <tbody>\n",
              "    <tr>\n",
              "      <td>1</td>\n",
              "      <td>1.249200</td>\n",
              "      <td>1.164498</td>\n",
              "    </tr>\n",
              "    <tr>\n",
              "      <td>2</td>\n",
              "      <td>1.180300</td>\n",
              "      <td>1.123674</td>\n",
              "    </tr>\n",
              "    <tr>\n",
              "      <td>3</td>\n",
              "      <td>1.140500</td>\n",
              "      <td>1.101693</td>\n",
              "    </tr>\n",
              "    <tr>\n",
              "      <td>4</td>\n",
              "      <td>1.114100</td>\n",
              "      <td>1.089637</td>\n",
              "    </tr>\n",
              "    <tr>\n",
              "      <td>5</td>\n",
              "      <td>1.104400</td>\n",
              "      <td>1.084677</td>\n",
              "    </tr>\n",
              "  </tbody>\n",
              "</table><p>"
            ],
            "text/plain": [
              "<IPython.core.display.HTML object>"
            ]
          },
          "metadata": {
            "tags": []
          }
        },
        {
          "output_type": "stream",
          "text": [
            "***** Running Evaluation *****\n",
            "  Num examples = 101093\n",
            "  Batch size = 512\n",
            "Saving model checkpoint to ./local_trained_bart/checkpoint-15800\n",
            "Configuration saved in ./local_trained_bart/checkpoint-15800/config.json\n",
            "Model weights saved in ./local_trained_bart/checkpoint-15800/pytorch_model.bin\n",
            "\n",
            "\n",
            "Training completed. Do not forget to share your model on huggingface.co/models =)\n",
            "\n",
            "\n",
            "Loading best model from ./local_trained_bart/checkpoint-15800 (score: 1.0846766233444214).\n",
            "Saving model checkpoint to ./local_trained_bart/\n",
            "Configuration saved in ./local_trained_bart/config.json\n",
            "Model weights saved in ./local_trained_bart/pytorch_model.bin\n"
          ],
          "name": "stderr"
        }
      ]
    },
    {
      "cell_type": "code",
      "metadata": {
        "id": "sD1ruZW53ROy"
      },
      "source": [
        "## uncomment below to reload model\n",
        "# bart_model = BartForConditionalGeneration.from_pretrained(bart_dir)"
      ],
      "execution_count": null,
      "outputs": []
    },
    {
      "cell_type": "code",
      "metadata": {
        "id": "WgO_IJq23ROy"
      },
      "source": [
        "# put model back on cpu and on eval mode for inference\n",
        "bart_model.to('cpu');\n",
        "bart_model.eval();"
      ],
      "execution_count": 22,
      "outputs": []
    },
    {
      "cell_type": "markdown",
      "metadata": {
        "id": "MIbQEBxc4AEH"
      },
      "source": [
        "## 1.3 Implementing autocorrection and autocompletion\n",
        "\n",
        "With the two systems now trained, we implement facilities for autocorrection and autocompletion. For System 1, autocorrection will proceed by replacing possible typos with in-vocabulary words within an [edit distance](https://en.wikipedia.org/wiki/Damerau%E2%80%93Levenshtein_distance) of 2 using the probabilities provided by BERT and autocompletion is performed by GPT-2. System 2 on the other hand mimics its training task: it first masks out-of-vocabulary words and then attempts to both denoise and extend the query. Since the language models we are using have the ability to simply output their inputs (e.g. the models can output 'Diana's ring' having seen 'Diana's rig' even though Diana is not part of their vocabularies), we wish try be conservative at the autorrection stage and consequently extend the models' vocabularies by [a large list of English words](https://github.com/dwyl/english-words)."
      ]
    },
    {
      "cell_type": "markdown",
      "metadata": {
        "id": "-GM0Yd3IKXcF"
      },
      "source": [
        "### Autocorrection\n",
        "\n",
        "We use [Peter Norvig](http://norvig.com/spell-correct.html)'s code to obtain the words within an edit distance of 2 of a given input word."
      ]
    },
    {
      "cell_type": "code",
      "metadata": {
        "id": "W5dfGV5UXKJs"
      },
      "source": [
        "# credit to Peter Norvig\n",
        "def edits1(word):\n",
        "    \"All edits that are one edit away from `word`.\"\n",
        "    letters    = 'abcdefghijklmnopqrstuvwxyz'\n",
        "    splits     = [(word[:i], word[i:])    for i in range(len(word) + 1)]\n",
        "    deletes    = [L + R[1:]               for L, R in splits if R]\n",
        "    transposes = [L + R[1] + R[0] + R[2:] for L, R in splits if len(R)>1]\n",
        "    replaces   = [L + c + R[1:]           for L, R in splits if R for c in letters]\n",
        "    inserts    = [L + c + R               for L, R in splits for c in letters]\n",
        "    return deletes + transposes + replaces + inserts\n",
        "\n",
        "def edits2(word): \n",
        "    \"All edits that are two edits away from `word`.\"\n",
        "    return set([e2 for e1 in edits1(word) for e2 in edits1(e1)])"
      ],
      "execution_count": 23,
      "outputs": []
    },
    {
      "cell_type": "code",
      "metadata": {
        "colab": {
          "base_uri": "https://localhost:8080/"
        },
        "id": "ZOi2XIpaPbxj",
        "outputId": "0c1c7902-580e-45b7-e7ec-06522f4c331f"
      },
      "source": [
        "!wget -nc https://raw.githubusercontent.com/dwyl/english-words/master/words_alpha.txt\n",
        "ref_vocab = set([])\n",
        "with open('words_alpha.txt', 'r') as file:\n",
        "  for line in file:\n",
        "    ref_vocab.add(line.strip())"
      ],
      "execution_count": 24,
      "outputs": [
        {
          "output_type": "stream",
          "text": [
            "File ‘words_alpha.txt’ already there; not retrieving.\n",
            "\n"
          ],
          "name": "stdout"
        }
      ]
    },
    {
      "cell_type": "code",
      "metadata": {
        "colab": {
          "base_uri": "https://localhost:8080/"
        },
        "id": "qPX8XHgawuPX",
        "outputId": "0c8ffb12-90ac-40f2-9499-58a55613bd2a"
      },
      "source": [
        "from scipy.special import softmax\n",
        "from transformers import set_seed\n",
        "\n",
        "# class implementing autocorrection\n",
        "class autocorrect():\n",
        "  def __init__(self, corr_model, corr_tok, mode='correct'):\n",
        "    self.corr_model = corr_model\n",
        "    self.corr_tok = corr_tok\n",
        "    self.mode = mode\n",
        "    self.ref_vocab = set(corr_tok.get_vocab()).union(ref_vocab)\n",
        "  \n",
        "  def get_probs(self, sent, candidates, posn):\n",
        "    \"\"\"Expects a sentence 'sent' and word position 'posn',\n",
        "    returns probabilities of being correct word at 'posn' for each word in 'candidates' using\n",
        "    using masked language model 'corr_model' (with tokenizer 'corr_tok')\n",
        "    \"\"\"\n",
        "    mask = self.corr_tok.decode(self.corr_tok.mask_token_id)\n",
        "    sent[posn] = mask\n",
        "    sent = ' '.join(sent)\n",
        "    candidate_indices = [self.corr_tok.convert_tokens_to_ids(token) for token in candidates]\n",
        "    en_sent = self.corr_tok(sent, return_tensors='pt')['input_ids']\n",
        "    logits = self.corr_model(en_sent)['logits'].detach().cpu().numpy()[0,1+posn, candidate_indices]\n",
        "    probs = softmax(logits)\n",
        "    return list(probs)\n",
        "\n",
        "  def __call__(self, query, beam_size=3):\n",
        "    \"\"\"Expects a query with some words possibly misspelled. \n",
        "    Returns suggested corrections to the query, using language model \n",
        "    'corr_model'. Performs beam search if mode='correct'.\n",
        "    \"\"\"\n",
        "    query = word_tokenize(query)[:14] # limit to max length\n",
        "\n",
        "    if self.mode == 'correct':\n",
        "      top_beam = [(0, query)]\n",
        "\n",
        "      for l in range(len(query)):\n",
        "        all_beams = []\n",
        "        candidates = edits2(query[l]).intersection(self.ref_vocab)\n",
        "        if len(candidates) == 0:\n",
        "          continue\n",
        "        for prob, predict in top_beam:\n",
        "          next_probs = self.get_probs(predict, candidates, l)\n",
        "          candidates_probs = zip(candidates, next_probs)\n",
        "          candidates_probs = sorted(candidates_probs, key=lambda t: t[1], \n",
        "                                    reverse=True)\n",
        "          for candidate, next_prob in candidates_probs:\n",
        "            all_beams.append(((prob*l - np.log(next_prob))/(l+1), predict[:l] + [candidate] + predict[l+1:]))\n",
        "        top_beam = sorted(all_beams, key=lambda tup:tup[0])[:beam_size]\n",
        "      corrections = [tup[1] for tup in top_beam]\n",
        "\n",
        "    elif self.mode == 'mask':\n",
        "      mask = self.corr_tok.decode(self.corr_tok.mask_token_id)\n",
        "      for i, word in enumerate(query):\n",
        "        if word not in self.ref_vocab: query[i] = mask\n",
        "      corrections = [query]\n",
        "\n",
        "    else:\n",
        "      corrections = [query]\n",
        "    \n",
        "    corrections = [' '.join(correction) for correction in corrections]\n",
        "    return corrections\n",
        "\n",
        "# demo\n",
        "system1_autocorrect = autocorrect(bert_model, bert_tokenizer, mode='correct')\n",
        "system2_autocorrect = autocorrect(bart_model, bart_tokenizer, mode='mask')\n",
        "\n",
        "# function get_probs\n",
        "sentence = word_tokenize('my cat is very [MASK] today')\n",
        "candidates = ['cute', 'hungry', 'angry']\n",
        "probs = system1_autocorrect.get_probs(sentence, candidates, 4)\n",
        "print(dict(zip(candidates, probs)))\n",
        "\n",
        "# autocorrect\n",
        "set_seed(1)\n",
        "print(system1_autocorrect('machine learnni resourcs', beam_size=5))\n",
        "print(system2_autocorrect('machine learnni resourcs'))"
      ],
      "execution_count": 25,
      "outputs": [
        {
          "output_type": "stream",
          "text": [
            "{'cute': 0.69318444, 'hungry': 0.18388022, 'angry': 0.12293531}\n",
            "['kachin learner resource', 'machina learner resource', 'maltine learner resource', 'machinely learning resorbs', 'machinely learning repours']\n",
            "['machine <mask> <mask>']\n"
          ],
          "name": "stdout"
        }
      ]
    },
    {
      "cell_type": "markdown",
      "metadata": {
        "id": "d1oK4KVfS4AG"
      },
      "source": [
        "### Autocompletion\n",
        "\n",
        "We are finally ready to bring everything together to define a function for the autocompletion of queries.\n",
        "\n",
        "I noticed GPT-2 had a bias towards generating long texts, even when setting low values for the exponentiual length penalty. I therefore decided to specify the number of words to generate."
      ]
    },
    {
      "cell_type": "code",
      "metadata": {
        "colab": {
          "base_uri": "https://localhost:8080/"
        },
        "id": "cqkvUtlh15G2",
        "outputId": "79c63cfd-b63c-44a7-eddd-c1b6401d56c6"
      },
      "source": [
        "# class implementing autocompletion, inherits from class 'autocorrect'\n",
        "class autocomplete(autocorrect):\n",
        "  def __init__(self, gen_model, gen_tok, **args):\n",
        "    super().__init__(**args)\n",
        "    self.gen_model = gen_model\n",
        "    self.gen_tok = gen_tok\n",
        "\n",
        "  def __call__(self, query, beam_size=3, to_add=16):\n",
        "    \"\"\" Expects query 'query'. Calls function 'autocorrect' first to get suggested \n",
        "    corrections for the query if do_autocorrect=True. Performs beam search to obtain \n",
        "    extensions/completions of query corrections with language model gen_model (with\n",
        "    tokenizer gen_tok), generating to_add new words at most. Returns extensions/completions\"\"\"\n",
        "    \n",
        "\n",
        "    corrections = super().__call__(query, beam_size=beam_size)\n",
        "    suggestions = []\n",
        "\n",
        "    for correction in corrections:\n",
        "      input_ids = torch.tensor(self.gen_tok(correction, \n",
        "                                            truncation=True)['input_ids']).reshape(1, -1)\n",
        "      l = input_ids.shape[1]\n",
        "      output = self.gen_model.generate(input_ids=input_ids, \n",
        "                              max_length=l+to_add,\n",
        "                              num_beams=beam_size, \n",
        "                              early_stopping=True,\n",
        "                              do_sample=True,\n",
        "                              output_scores=True,\n",
        "                              num_return_sequences=beam_size)\n",
        "      suggestions.extend(output)\n",
        "    de_suggestions = [self.gen_tok.decode(suggestion, \n",
        "                                           skip_special_tokens=True) for suggestion in suggestions]\n",
        "    de_suggestions = list(dict.fromkeys(de_suggestions))\n",
        "    return de_suggestions\n",
        "\n",
        "# demo\n",
        "set_seed(0)\n",
        "system1_autocomplete = autocomplete(gen_model=gpt_model, gen_tok=gpt_tokenizer,\n",
        "                                   corr_model=bert_model, corr_tok=bert_tokenizer, mode='correct')\n",
        "system2_autocomplete = autocomplete(gen_model=bart_model, gen_tok=bart_tokenizer,\n",
        "                                   corr_model=bart_model, corr_tok=bart_tokenizer, mode='mask')\n",
        "print(system1_autocomplete('bokos on machine learnin', to_add=2, beam_size=3), '\\n')\n",
        "print(system2_autocomplete('bokos on machine learnin', to_add=2, beam_size=3))"
      ],
      "execution_count": 26,
      "outputs": [
        {
          "output_type": "stream",
          "text": [
            "/usr/local/lib/python3.7/dist-packages/torch/_tensor.py:575: UserWarning: floor_divide is deprecated, and will be removed in a future version of pytorch. It currently rounds toward 0 (like the 'trunc' function NOT 'floor'). This results in incorrect rounding for negative values.\n",
            "To keep the current behavior, use torch.div(a, b, rounding_mode='trunc'), or for actual floor division, use torch.div(a, b, rounding_mode='floor'). (Triggered internally at  /pytorch/aten/src/ATen/native/BinaryOps.cpp:467.)\n",
            "  return torch.floor_divide(self, other)\n"
          ],
          "name": "stderr"
        },
        {
          "output_type": "stream",
          "text": [
            "['books for machine learning and machine', 'books for machine learning.\\n', 'books for machine learning, and', 'books on machine learnings, and', 'books on machine learnings\\n\\n', 'books on machine learnings.\\n', 'books on machine geranin.\\n', 'books on machine geranin, which', 'books on machine geranin\\n\\n'] \n",
            "\n",
            "['bokos on machine learning']\n"
          ],
          "name": "stdout"
        }
      ]
    },
    {
      "cell_type": "markdown",
      "metadata": {
        "id": "A9pKMEDqcfzp"
      },
      "source": [
        "# 3. Testing\n",
        "\n",
        "For testing we will generate test datasets backwards from the user queries in the held-out test set. More precisely, we take user queries and alter them, feed the altered inputs to our autocorrection or autocompletion systems and compare their outputs with the original unaltered user queries. To alter a user query, we randomly drop words at the end or replace words by strings within an edit distance of 2 to simulate spelling mistakes and incomplete words. We use two metrics: BLEU score and cosine similarity, which measure syntactic and semantic similarity respectively. For cosine similarity we use the sentence-transformer SBERT in order to obtain the vector embeddings."
      ]
    },
    {
      "cell_type": "markdown",
      "metadata": {
        "id": "cFVVT_eUiKSO"
      },
      "source": [
        "## 3.1 Creating the test datasets\n",
        "\n",
        "Since inference can be slow, we only use a fraction of our test set, which we divide into 4 subsets of 200 samples each: 1. a subset of unaltered user queries, 2. a subset where a random word is editted, 3. a subset where the last word is dropped, 4. a subset where the last word is dropped and one word is randomly editted, and 5. a subset where the last two words are dropped and one word is randomly editted. The first and second subsets will serve to evaluate our autocorrectors, whereas the others to evaluate our full autocompletion systems."
      ]
    },
    {
      "cell_type": "code",
      "metadata": {
        "colab": {
          "base_uri": "https://localhost:8080/"
        },
        "id": "18bLI20WJGTE",
        "outputId": "f2208aab-e194-4776-b962-ffb6fb5fa1ec"
      },
      "source": [
        "from numpy.random import choice\n",
        "\n",
        "def alter_query(query, to_drop=1, to_edit=1):\n",
        "  \"\"\"Expects list of words 'query' and will drop the last 'to_drop' words and\n",
        "  randomly change 'to_edit' words to words within edit distance 2. Returns\n",
        "  single sentence string.\"\"\"\n",
        "  query = word_tokenize(query)\n",
        "  to_drop = min(to_drop, len(query)-1)\n",
        "  query = query[:len(query)-to_drop]\n",
        "  to_edit = min(to_edit, len(query))\n",
        "  to_edit_indices = choice(np.arange(len(query)), to_edit, replace=False)\n",
        "  for index in to_edit_indices:\n",
        "    replacement = choice(list(edits2(query[index])))\n",
        "    query[index] = replacement\n",
        "  return ' '.join(query)\n",
        "\n",
        "# demo\n",
        "np.random.seed(1)\n",
        "query = 'how to tie my shoes'\n",
        "print(alter_query(query, to_drop=0, to_edit=0))\n",
        "print(alter_query(query))\n",
        "print(alter_query(query, to_drop=0, to_edit=3))\n",
        "print(alter_query(query, to_drop=4, to_edit=0))"
      ],
      "execution_count": 27,
      "outputs": [
        {
          "output_type": "stream",
          "text": [
            "how to tie my shoes\n",
            "holm to tie my\n",
            "how to ltiel yey bshoeas\n",
            "how\n"
          ],
          "name": "stdout"
        }
      ]
    },
    {
      "cell_type": "code",
      "metadata": {
        "id": "gKmn0MU06DOd"
      },
      "source": [
        "# sample 4 test datasets of 200 user queries each\n",
        "eval_queries = eval_queries.sample(frac=1, random_state=0)\n",
        "true_queries_a = eval_queries[:200]['query'].tolist()\n",
        "true_queries_b = eval_queries[200:400]['query'].tolist()\n",
        "true_queries_c = eval_queries[400:600]['query'].tolist()\n",
        "true_queries_d = eval_queries[600:800]['query'].tolist()\n",
        "true_queries_e = eval_queries[800:1000]['query'].tolist()"
      ],
      "execution_count": 28,
      "outputs": []
    },
    {
      "cell_type": "code",
      "metadata": {
        "id": "lR1hvea48CIb"
      },
      "source": [
        "# alter user queries\n",
        "np.random.seed(1)\n",
        "mod_queries_a = true_queries_a \n",
        "mod_queries_b = [alter_query(query, to_drop=0, to_edit=1) for query in true_queries_b]\n",
        "mod_queries_c = [alter_query(query, to_drop=1, to_edit=0) for query in true_queries_c]\n",
        "mod_queries_d = [alter_query(query, to_drop=1, to_edit=1) for query in true_queries_d]\n",
        "mod_queries_e = [alter_query(query, to_drop=2, to_edit=1) for query in true_queries_e]"
      ],
      "execution_count": 29,
      "outputs": []
    },
    {
      "cell_type": "markdown",
      "metadata": {
        "id": "oDfpT3OE_F6G"
      },
      "source": [
        "## 3.2 Implementing the metrics\n",
        "\n",
        "We define the functions we will use to compute BLEU and cosine similarity."
      ]
    },
    {
      "cell_type": "code",
      "metadata": {
        "colab": {
          "base_uri": "https://localhost:8080/"
        },
        "id": "eeLo69Zm3C_1",
        "outputId": "b48a3c13-47a5-4338-ab2a-614e679d67d4"
      },
      "source": [
        "from sacrebleu import sentence_bleu\n",
        "\n",
        "# function to compute bleu score given several candidates for one reference\n",
        "def bleu_score(reference, candidates):\n",
        "  scores = [sentence_bleu(candidate, [reference]).score for candidate in candidates]\n",
        "  return np.mean(scores)\n",
        "\n",
        "# demo\n",
        "candidates = ['the blue car sped past me', 'a red car went by us']\n",
        "reference = 'a blue car just went by here'\n",
        "bleu_score(reference, candidates)"
      ],
      "execution_count": 30,
      "outputs": [
        {
          "output_type": "execute_result",
          "data": {
            "text/plain": [
              "15.041246152117818"
            ]
          },
          "metadata": {
            "tags": []
          },
          "execution_count": 30
        }
      ]
    },
    {
      "cell_type": "code",
      "metadata": {
        "colab": {
          "base_uri": "https://localhost:8080/",
          "height": 1000,
          "referenced_widgets": [
            "c68dad953e374521a405463de63e4519",
            "fea1c11be0d54578a8277f3f39578056",
            "9b3b441870ff49bd913ea096adfdeb37",
            "80f9617f93f445fb97bdb4290138a507",
            "7050cd83d2bf480ca68451343fbe4442",
            "7527319c8a04458daf8bb89bb1afc675",
            "04920baa66e04fa3a5cc8afd87a95f0f",
            "9e4885168f57445c98a7ee84c77dba00",
            "01bd8f2bd68a44d483b9c6fc9831d7dc",
            "74a7d31a38d848fc89586db68f70d58f",
            "3b750bab432246d59ebe0431ec00d5a8",
            "1ea568fbcbfb4b6fb4d0590ce2b943d9",
            "b302c50e9f9945679a310ca23bf3e8b5",
            "b1fbf3d7b88f4b2b94f78bcc20c14c3e",
            "ebb489a76f154f548d23755d0f784e66",
            "b699e9d6d09e4dbf97d152c9e337a60e",
            "91f12cbf4bdf44aabfc554ffd45a5710",
            "1b74b26cd1374d5597eb2ef4c0ed1382",
            "4731d461aa0843a283e5a69475671950",
            "caf08282eb46422dae95acab893c6cd1",
            "eabdf2408b03434590fe7046514bcd66",
            "58ed1232c23646e8af2e4b7c2404f37e",
            "3e2d8574b8da45379e4e6bf5363ca20a",
            "c8067250fdd9417a93b62dc4bca74aca",
            "518633fae4754340a3cfb715d5c5a91d",
            "6bc74b028e5a40cbbcf974791002455d",
            "c4a7d47925974dc6a0817363ede0af46",
            "bf18e15b81494b5ea018e6497b95b815",
            "fe48ee8701cf48a8a9c4beaacd675e6c",
            "f61292043a2c4f69872bef415f1ac455",
            "76903405d833487082492bbd52e37dbc",
            "97ad874267f5489db84d3645a4af190b",
            "11efe411effc4251adabb8a3581f3596",
            "57be3064b0b3402d9634480216e3d734",
            "4c51be7caaa84ba38f5d98fadb8d2c70",
            "41f0b48bdaff4dd4991fc8d0460f5fa8",
            "f0aa3301b08f42cab2cbcd8601aedad8",
            "9be782c002bc4b689fe6ef84161d2a20",
            "8b9c777927564843908fd29a7d173a82",
            "00df3b3a6f8e42d684c6d8ccfa7f6beb",
            "03673a2b241f4aca8d213b1a5922ae19",
            "2af58b799e0e49d990e99bb81ba2d29b",
            "7a989d5e861a4610b898b049060f2a16",
            "6d56688ed1e042738ee6bb7a6c653991",
            "82fbfef49a2e442497268c95180ff4e1",
            "935100d774654efbab50ec253a411116",
            "46825ecd890049efbb390415d84cfe5d",
            "4e948eae54a44bbb8b05015de17f7cf6",
            "98511f33bbd64eee85a9cfdacfa3d33e",
            "cf5c85b3566f41bdb6d0670599e0caa1",
            "25c1013c5317405ea87f444184ea19f3",
            "035067199aa14d8c984b6b47d01adfa9",
            "3034c310e1ab4c01bdf6af0bcb911dbf",
            "636a7bc6c7d94ae3b08afdda76c85a36",
            "33e9be933f95465498eebca322cc2f49",
            "991eba721d9447e2886ef807ce26c91f"
          ]
        },
        "id": "iZBL-HZQ6Axh",
        "outputId": "4060a4a9-74c4-43cf-fdbb-3142cf37e90f"
      },
      "source": [
        "from sentence_transformers import SentenceTransformer, models\n",
        "from sklearn.metrics.pairwise import cosine_similarity\n",
        "\n",
        "word_embedding_model = models.Transformer('sentence-transformers/bert-base-nli-mean-tokens', \n",
        "                                          max_seq_length=16)\n",
        "pooling_model = models.Pooling(word_embedding_model.get_word_embedding_dimension())\n",
        "sent_model = SentenceTransformer(modules=[word_embedding_model, pooling_model])"
      ],
      "execution_count": 31,
      "outputs": [
        {
          "output_type": "stream",
          "text": [
            "https://huggingface.co/sentence-transformers/bert-base-nli-mean-tokens/resolve/main/config.json not found in cache or force_download set to True, downloading to /root/.cache/huggingface/transformers/tmpd9fa1grv\n"
          ],
          "name": "stderr"
        },
        {
          "output_type": "display_data",
          "data": {
            "application/vnd.jupyter.widget-view+json": {
              "model_id": "c68dad953e374521a405463de63e4519",
              "version_minor": 0,
              "version_major": 2
            },
            "text/plain": [
              "HBox(children=(FloatProgress(value=0.0, description='Downloading', max=625.0, style=ProgressStyle(description_…"
            ]
          },
          "metadata": {
            "tags": []
          }
        },
        {
          "output_type": "stream",
          "text": [
            "storing https://huggingface.co/sentence-transformers/bert-base-nli-mean-tokens/resolve/main/config.json in cache at /root/.cache/huggingface/transformers/43834130ef2eca14b302ddedfe14b3029951d665874fe1012e35cb45e01ae745.de25352ab9e03b519c4ffc00ae0b08007b5a6380dcba72dae0bcafaf1dda749f\n",
            "creating metadata file for /root/.cache/huggingface/transformers/43834130ef2eca14b302ddedfe14b3029951d665874fe1012e35cb45e01ae745.de25352ab9e03b519c4ffc00ae0b08007b5a6380dcba72dae0bcafaf1dda749f\n",
            "loading configuration file https://huggingface.co/sentence-transformers/bert-base-nli-mean-tokens/resolve/main/config.json from cache at /root/.cache/huggingface/transformers/43834130ef2eca14b302ddedfe14b3029951d665874fe1012e35cb45e01ae745.de25352ab9e03b519c4ffc00ae0b08007b5a6380dcba72dae0bcafaf1dda749f\n",
            "Model config BertConfig {\n",
            "  \"_name_or_path\": \"old_models/bert-base-nli-mean-tokens/0_BERT\",\n",
            "  \"architectures\": [\n",
            "    \"BertModel\"\n",
            "  ],\n",
            "  \"attention_probs_dropout_prob\": 0.1,\n",
            "  \"gradient_checkpointing\": false,\n",
            "  \"hidden_act\": \"gelu\",\n",
            "  \"hidden_dropout_prob\": 0.1,\n",
            "  \"hidden_size\": 768,\n",
            "  \"initializer_range\": 0.02,\n",
            "  \"intermediate_size\": 3072,\n",
            "  \"layer_norm_eps\": 1e-12,\n",
            "  \"max_position_embeddings\": 512,\n",
            "  \"model_type\": \"bert\",\n",
            "  \"num_attention_heads\": 12,\n",
            "  \"num_hidden_layers\": 12,\n",
            "  \"pad_token_id\": 0,\n",
            "  \"position_embedding_type\": \"absolute\",\n",
            "  \"transformers_version\": \"4.9.2\",\n",
            "  \"type_vocab_size\": 2,\n",
            "  \"use_cache\": true,\n",
            "  \"vocab_size\": 30522\n",
            "}\n",
            "\n"
          ],
          "name": "stderr"
        },
        {
          "output_type": "stream",
          "text": [
            "\n"
          ],
          "name": "stdout"
        },
        {
          "output_type": "stream",
          "text": [
            "https://huggingface.co/sentence-transformers/bert-base-nli-mean-tokens/resolve/main/pytorch_model.bin not found in cache or force_download set to True, downloading to /root/.cache/huggingface/transformers/tmppru6lxb9\n"
          ],
          "name": "stderr"
        },
        {
          "output_type": "display_data",
          "data": {
            "application/vnd.jupyter.widget-view+json": {
              "model_id": "01bd8f2bd68a44d483b9c6fc9831d7dc",
              "version_minor": 0,
              "version_major": 2
            },
            "text/plain": [
              "HBox(children=(FloatProgress(value=0.0, description='Downloading', max=438007537.0, style=ProgressStyle(descri…"
            ]
          },
          "metadata": {
            "tags": []
          }
        },
        {
          "output_type": "stream",
          "text": [
            "storing https://huggingface.co/sentence-transformers/bert-base-nli-mean-tokens/resolve/main/pytorch_model.bin in cache at /root/.cache/huggingface/transformers/7fe4a7a5552a10d777147b12ceaa232583027b40ec686fe42569ac6ebd45ecb8.99f3d9def5215312d1e545d62ffa02e50478e2c8d47ed05d6ccd8c2b881e75bf\n",
            "creating metadata file for /root/.cache/huggingface/transformers/7fe4a7a5552a10d777147b12ceaa232583027b40ec686fe42569ac6ebd45ecb8.99f3d9def5215312d1e545d62ffa02e50478e2c8d47ed05d6ccd8c2b881e75bf\n",
            "loading weights file https://huggingface.co/sentence-transformers/bert-base-nli-mean-tokens/resolve/main/pytorch_model.bin from cache at /root/.cache/huggingface/transformers/7fe4a7a5552a10d777147b12ceaa232583027b40ec686fe42569ac6ebd45ecb8.99f3d9def5215312d1e545d62ffa02e50478e2c8d47ed05d6ccd8c2b881e75bf\n"
          ],
          "name": "stderr"
        },
        {
          "output_type": "stream",
          "text": [
            "\n"
          ],
          "name": "stdout"
        },
        {
          "output_type": "stream",
          "text": [
            "All model checkpoint weights were used when initializing BertModel.\n",
            "\n",
            "All the weights of BertModel were initialized from the model checkpoint at sentence-transformers/bert-base-nli-mean-tokens.\n",
            "If your task is similar to the task the model of the checkpoint was trained on, you can already use BertModel for predictions without further training.\n",
            "https://huggingface.co/sentence-transformers/bert-base-nli-mean-tokens/resolve/main/tokenizer_config.json not found in cache or force_download set to True, downloading to /root/.cache/huggingface/transformers/tmp_96kj4k0\n"
          ],
          "name": "stderr"
        },
        {
          "output_type": "display_data",
          "data": {
            "application/vnd.jupyter.widget-view+json": {
              "model_id": "91f12cbf4bdf44aabfc554ffd45a5710",
              "version_minor": 0,
              "version_major": 2
            },
            "text/plain": [
              "HBox(children=(FloatProgress(value=0.0, description='Downloading', max=399.0, style=ProgressStyle(description_…"
            ]
          },
          "metadata": {
            "tags": []
          }
        },
        {
          "output_type": "stream",
          "text": [
            "storing https://huggingface.co/sentence-transformers/bert-base-nli-mean-tokens/resolve/main/tokenizer_config.json in cache at /root/.cache/huggingface/transformers/ea9f729b3e0b6a4056a6912d09950d15f419a830c867f0b9fdc47a21566af6ad.7df93ce30f8e714c609272c948d9c0a286d99902d57edafbe48050de12834963\n",
            "creating metadata file for /root/.cache/huggingface/transformers/ea9f729b3e0b6a4056a6912d09950d15f419a830c867f0b9fdc47a21566af6ad.7df93ce30f8e714c609272c948d9c0a286d99902d57edafbe48050de12834963\n"
          ],
          "name": "stderr"
        },
        {
          "output_type": "stream",
          "text": [
            "\n"
          ],
          "name": "stdout"
        },
        {
          "output_type": "stream",
          "text": [
            "loading configuration file https://huggingface.co/sentence-transformers/bert-base-nli-mean-tokens/resolve/main/config.json from cache at /root/.cache/huggingface/transformers/43834130ef2eca14b302ddedfe14b3029951d665874fe1012e35cb45e01ae745.de25352ab9e03b519c4ffc00ae0b08007b5a6380dcba72dae0bcafaf1dda749f\n",
            "Model config BertConfig {\n",
            "  \"_name_or_path\": \"old_models/bert-base-nli-mean-tokens/0_BERT\",\n",
            "  \"architectures\": [\n",
            "    \"BertModel\"\n",
            "  ],\n",
            "  \"attention_probs_dropout_prob\": 0.1,\n",
            "  \"gradient_checkpointing\": false,\n",
            "  \"hidden_act\": \"gelu\",\n",
            "  \"hidden_dropout_prob\": 0.1,\n",
            "  \"hidden_size\": 768,\n",
            "  \"initializer_range\": 0.02,\n",
            "  \"intermediate_size\": 3072,\n",
            "  \"layer_norm_eps\": 1e-12,\n",
            "  \"max_position_embeddings\": 512,\n",
            "  \"model_type\": \"bert\",\n",
            "  \"num_attention_heads\": 12,\n",
            "  \"num_hidden_layers\": 12,\n",
            "  \"pad_token_id\": 0,\n",
            "  \"position_embedding_type\": \"absolute\",\n",
            "  \"transformers_version\": \"4.9.2\",\n",
            "  \"type_vocab_size\": 2,\n",
            "  \"use_cache\": true,\n",
            "  \"vocab_size\": 30522\n",
            "}\n",
            "\n",
            "https://huggingface.co/sentence-transformers/bert-base-nli-mean-tokens/resolve/main/vocab.txt not found in cache or force_download set to True, downloading to /root/.cache/huggingface/transformers/tmp1xsasjdb\n"
          ],
          "name": "stderr"
        },
        {
          "output_type": "display_data",
          "data": {
            "application/vnd.jupyter.widget-view+json": {
              "model_id": "518633fae4754340a3cfb715d5c5a91d",
              "version_minor": 0,
              "version_major": 2
            },
            "text/plain": [
              "HBox(children=(FloatProgress(value=0.0, description='Downloading', max=231508.0, style=ProgressStyle(descripti…"
            ]
          },
          "metadata": {
            "tags": []
          }
        },
        {
          "output_type": "stream",
          "text": [
            "storing https://huggingface.co/sentence-transformers/bert-base-nli-mean-tokens/resolve/main/vocab.txt in cache at /root/.cache/huggingface/transformers/d86ad524d68c83710f4a7fa33e702800316f80e9ad66bff5189f5aa1d61aa2eb.d789d64ebfe299b0e416afc4a169632f903f693095b4629a7ea271d5a0cf2c99\n",
            "creating metadata file for /root/.cache/huggingface/transformers/d86ad524d68c83710f4a7fa33e702800316f80e9ad66bff5189f5aa1d61aa2eb.d789d64ebfe299b0e416afc4a169632f903f693095b4629a7ea271d5a0cf2c99\n"
          ],
          "name": "stderr"
        },
        {
          "output_type": "stream",
          "text": [
            "\n"
          ],
          "name": "stdout"
        },
        {
          "output_type": "stream",
          "text": [
            "https://huggingface.co/sentence-transformers/bert-base-nli-mean-tokens/resolve/main/tokenizer.json not found in cache or force_download set to True, downloading to /root/.cache/huggingface/transformers/tmph2mh7s3b\n"
          ],
          "name": "stderr"
        },
        {
          "output_type": "display_data",
          "data": {
            "application/vnd.jupyter.widget-view+json": {
              "model_id": "11efe411effc4251adabb8a3581f3596",
              "version_minor": 0,
              "version_major": 2
            },
            "text/plain": [
              "HBox(children=(FloatProgress(value=0.0, description='Downloading', max=466081.0, style=ProgressStyle(descripti…"
            ]
          },
          "metadata": {
            "tags": []
          }
        },
        {
          "output_type": "stream",
          "text": [
            "storing https://huggingface.co/sentence-transformers/bert-base-nli-mean-tokens/resolve/main/tokenizer.json in cache at /root/.cache/huggingface/transformers/b628b501b6a536db6bf639337ca4d56377b306b2512c20768ac0de12e8eba044.f471bd2d72c48b932f7be40446896b7e97c3be406ee93abfb500399bc606c829\n",
            "creating metadata file for /root/.cache/huggingface/transformers/b628b501b6a536db6bf639337ca4d56377b306b2512c20768ac0de12e8eba044.f471bd2d72c48b932f7be40446896b7e97c3be406ee93abfb500399bc606c829\n"
          ],
          "name": "stderr"
        },
        {
          "output_type": "stream",
          "text": [
            "\n"
          ],
          "name": "stdout"
        },
        {
          "output_type": "stream",
          "text": [
            "https://huggingface.co/sentence-transformers/bert-base-nli-mean-tokens/resolve/main/added_tokens.json not found in cache or force_download set to True, downloading to /root/.cache/huggingface/transformers/tmphyc5ujr_\n"
          ],
          "name": "stderr"
        },
        {
          "output_type": "display_data",
          "data": {
            "application/vnd.jupyter.widget-view+json": {
              "model_id": "03673a2b241f4aca8d213b1a5922ae19",
              "version_minor": 0,
              "version_major": 2
            },
            "text/plain": [
              "HBox(children=(FloatProgress(value=0.0, description='Downloading', max=2.0, style=ProgressStyle(description_wi…"
            ]
          },
          "metadata": {
            "tags": []
          }
        },
        {
          "output_type": "stream",
          "text": [
            "storing https://huggingface.co/sentence-transformers/bert-base-nli-mean-tokens/resolve/main/added_tokens.json in cache at /root/.cache/huggingface/transformers/5f0535bcaefc39c032636b45f7caa7b15c244a36c2ea5c0478d011a0e461bfc8.5cc6e825eb228a7a5cfd27cb4d7151e97a79fb962b31aaf1813aa102e746584b\n",
            "creating metadata file for /root/.cache/huggingface/transformers/5f0535bcaefc39c032636b45f7caa7b15c244a36c2ea5c0478d011a0e461bfc8.5cc6e825eb228a7a5cfd27cb4d7151e97a79fb962b31aaf1813aa102e746584b\n"
          ],
          "name": "stderr"
        },
        {
          "output_type": "stream",
          "text": [
            "\n"
          ],
          "name": "stdout"
        },
        {
          "output_type": "stream",
          "text": [
            "https://huggingface.co/sentence-transformers/bert-base-nli-mean-tokens/resolve/main/special_tokens_map.json not found in cache or force_download set to True, downloading to /root/.cache/huggingface/transformers/tmpf2ydxiay\n"
          ],
          "name": "stderr"
        },
        {
          "output_type": "display_data",
          "data": {
            "application/vnd.jupyter.widget-view+json": {
              "model_id": "98511f33bbd64eee85a9cfdacfa3d33e",
              "version_minor": 0,
              "version_major": 2
            },
            "text/plain": [
              "HBox(children=(FloatProgress(value=0.0, description='Downloading', max=112.0, style=ProgressStyle(description_…"
            ]
          },
          "metadata": {
            "tags": []
          }
        },
        {
          "output_type": "stream",
          "text": [
            "storing https://huggingface.co/sentence-transformers/bert-base-nli-mean-tokens/resolve/main/special_tokens_map.json in cache at /root/.cache/huggingface/transformers/89f23414b21e26854b3f1a1998ef26b6484a2c196085b8df9fe491a1ade227b8.dd8bd9bfd3664b530ea4e645105f557769387b3da9f79bdb55ed556bdd80611d\n",
            "creating metadata file for /root/.cache/huggingface/transformers/89f23414b21e26854b3f1a1998ef26b6484a2c196085b8df9fe491a1ade227b8.dd8bd9bfd3664b530ea4e645105f557769387b3da9f79bdb55ed556bdd80611d\n"
          ],
          "name": "stderr"
        },
        {
          "output_type": "stream",
          "text": [
            "\n"
          ],
          "name": "stdout"
        },
        {
          "output_type": "stream",
          "text": [
            "loading file https://huggingface.co/sentence-transformers/bert-base-nli-mean-tokens/resolve/main/vocab.txt from cache at /root/.cache/huggingface/transformers/d86ad524d68c83710f4a7fa33e702800316f80e9ad66bff5189f5aa1d61aa2eb.d789d64ebfe299b0e416afc4a169632f903f693095b4629a7ea271d5a0cf2c99\n",
            "loading file https://huggingface.co/sentence-transformers/bert-base-nli-mean-tokens/resolve/main/tokenizer.json from cache at /root/.cache/huggingface/transformers/b628b501b6a536db6bf639337ca4d56377b306b2512c20768ac0de12e8eba044.f471bd2d72c48b932f7be40446896b7e97c3be406ee93abfb500399bc606c829\n",
            "loading file https://huggingface.co/sentence-transformers/bert-base-nli-mean-tokens/resolve/main/added_tokens.json from cache at /root/.cache/huggingface/transformers/5f0535bcaefc39c032636b45f7caa7b15c244a36c2ea5c0478d011a0e461bfc8.5cc6e825eb228a7a5cfd27cb4d7151e97a79fb962b31aaf1813aa102e746584b\n",
            "loading file https://huggingface.co/sentence-transformers/bert-base-nli-mean-tokens/resolve/main/special_tokens_map.json from cache at /root/.cache/huggingface/transformers/89f23414b21e26854b3f1a1998ef26b6484a2c196085b8df9fe491a1ade227b8.dd8bd9bfd3664b530ea4e645105f557769387b3da9f79bdb55ed556bdd80611d\n",
            "loading file https://huggingface.co/sentence-transformers/bert-base-nli-mean-tokens/resolve/main/tokenizer_config.json from cache at /root/.cache/huggingface/transformers/ea9f729b3e0b6a4056a6912d09950d15f419a830c867f0b9fdc47a21566af6ad.7df93ce30f8e714c609272c948d9c0a286d99902d57edafbe48050de12834963\n",
            "loading configuration file https://huggingface.co/sentence-transformers/bert-base-nli-mean-tokens/resolve/main/config.json from cache at /root/.cache/huggingface/transformers/43834130ef2eca14b302ddedfe14b3029951d665874fe1012e35cb45e01ae745.de25352ab9e03b519c4ffc00ae0b08007b5a6380dcba72dae0bcafaf1dda749f\n",
            "Model config BertConfig {\n",
            "  \"_name_or_path\": \"old_models/bert-base-nli-mean-tokens/0_BERT\",\n",
            "  \"architectures\": [\n",
            "    \"BertModel\"\n",
            "  ],\n",
            "  \"attention_probs_dropout_prob\": 0.1,\n",
            "  \"gradient_checkpointing\": false,\n",
            "  \"hidden_act\": \"gelu\",\n",
            "  \"hidden_dropout_prob\": 0.1,\n",
            "  \"hidden_size\": 768,\n",
            "  \"initializer_range\": 0.02,\n",
            "  \"intermediate_size\": 3072,\n",
            "  \"layer_norm_eps\": 1e-12,\n",
            "  \"max_position_embeddings\": 512,\n",
            "  \"model_type\": \"bert\",\n",
            "  \"num_attention_heads\": 12,\n",
            "  \"num_hidden_layers\": 12,\n",
            "  \"pad_token_id\": 0,\n",
            "  \"position_embedding_type\": \"absolute\",\n",
            "  \"transformers_version\": \"4.9.2\",\n",
            "  \"type_vocab_size\": 2,\n",
            "  \"use_cache\": true,\n",
            "  \"vocab_size\": 30522\n",
            "}\n",
            "\n"
          ],
          "name": "stderr"
        }
      ]
    },
    {
      "cell_type": "code",
      "metadata": {
        "colab": {
          "base_uri": "https://localhost:8080/"
        },
        "id": "bRNUTo1Kmq2u",
        "outputId": "37ce327b-d672-4a8e-cce3-d5472cdf3622"
      },
      "source": [
        "# function to compute average cosine similarity between candidates and reference \n",
        "# queries\n",
        "def cos_sim(reference, candidates):\n",
        "  ref_cands = [reference] + candidates\n",
        "  en_ref_cands = sent_model.encode(ref_cands)\n",
        "  en_ref = en_ref_cands[0]\n",
        "  en_cands = en_ref_cands[1:]\n",
        "  sims = [cosine_similarity(en_ref.reshape(1, -1), en_cand.reshape(1, -1)) for en_cand in en_cands]\n",
        "  return np.mean(sims)\n",
        "\n",
        "# demo\n",
        "candidates = ['the blue car sped past me', 'a red car went by us']\n",
        "reference = 'a blue car just went by here'\n",
        "cos_sim(reference, candidates)"
      ],
      "execution_count": 32,
      "outputs": [
        {
          "output_type": "execute_result",
          "data": {
            "text/plain": [
              "0.51071787"
            ]
          },
          "metadata": {
            "tags": []
          },
          "execution_count": 32
        }
      ]
    },
    {
      "cell_type": "code",
      "metadata": {
        "id": "B68f1PzqkIPW"
      },
      "source": [
        "# function to compute average of the metrics defined above\n",
        "# for a list of predictions\n",
        "def compute_metric(sources, predictions, metric):\n",
        "  values = [metric(sources[i], predictions[i]) for i in range(len(sources))]\n",
        "  return np.mean(values)"
      ],
      "execution_count": 33,
      "outputs": []
    },
    {
      "cell_type": "markdown",
      "metadata": {
        "id": "CPvim4uxjiw2"
      },
      "source": [
        "## 3.3 Evaluating the autocorrection features\n",
        "\n",
        "Let's see how the autocorrection features of the two systems perform on 1. the \n",
        "unaltered queries, and 2. the queries with one mistake. For System 2 autocorrection simply consists in autocompletion but with no extra word to generate. Since the systems use beam search, we investigate both the peformance of all predictions with a beam size of 3 and the peformance of the top predictions."
      ]
    },
    {
      "cell_type": "code",
      "metadata": {
        "colab": {
          "base_uri": "https://localhost:8080/"
        },
        "id": "WvMEX8EDW7cp",
        "outputId": "ca873e0c-f12f-4167-cfd5-931a2670dd6c"
      },
      "source": [
        "set_seed(0)\n",
        "\n",
        "# get predictions for system 1 autocorrector \n",
        "autocorrect_1_a = [system1_autocorrect(query) for query in mod_queries_a]\n",
        "autocorrect_1_b = [system1_autocorrect(query) for query in mod_queries_b]\n",
        "\n",
        "set_seed(0)\n",
        "\n",
        "# get predictions for system 2 autocorrector \n",
        "autocorrect_2_a = [system2_autocomplete(query, to_add=0) for query in mod_queries_a]\n",
        "autocorrect_2_b = [system2_autocomplete(query, to_add=0) for query in mod_queries_b]"
      ],
      "execution_count": null,
      "outputs": [
        {
          "output_type": "stream",
          "text": [
            "Token indices sequence length is longer than the specified maximum sequence length for this model (18 > 16). Running this sequence through the model will result in indexing errors\n"
          ],
          "name": "stderr"
        }
      ]
    },
    {
      "cell_type": "code",
      "metadata": {
        "id": "JQJevFSXYd4a"
      },
      "source": [
        "# compute metrics for all system 1 autocorrector predictions\n",
        "bleu_1_a = compute_metric(true_queries_a, autocorrect_1_a, bleu_score)\n",
        "bleu_1_b = compute_metric(true_queries_b, autocorrect_1_b, bleu_score)\n",
        "sim_1_a = compute_metric(true_queries_a, autocorrect_1_a, cos_sim)\n",
        "sim_1_b = compute_metric(true_queries_b, autocorrect_1_b, cos_sim)\n",
        "\n",
        "# compute metrics for all system 2 autocorrector predictions\n",
        "bleu_2_a = compute_metric(true_queries_a, autocorrect_2_a, bleu_score)\n",
        "bleu_2_b = compute_metric(true_queries_b, autocorrect_2_b, bleu_score)\n",
        "sim_2_a = compute_metric(true_queries_a, autocorrect_2_a, cos_sim)\n",
        "sim_2_b = compute_metric(true_queries_b, autocorrect_2_b, cos_sim)"
      ],
      "execution_count": null,
      "outputs": []
    },
    {
      "cell_type": "code",
      "metadata": {
        "id": "9EW5Q7WBiD26"
      },
      "source": [
        "top_autocorrect_1_a = [[pred[0]] for pred in autocorrect_1_a]\n",
        "top_autocorrect_1_b = [[pred[0]] for pred in autocorrect_1_b]\n",
        "\n",
        "top_autocorrect_2_a = [[pred[0]] for pred in autocorrect_2_a]\n",
        "top_autocorrect_2_b = [[pred[0]] for pred in autocorrect_2_b]\n",
        "\n",
        "# compute metrics for all system 1 autocorrector predictions\n",
        "top_bleu_1_a = compute_metric(true_queries_a, top_autocorrect_1_a, bleu_score)\n",
        "top_bleu_1_b = compute_metric(true_queries_b, top_autocorrect_1_b, bleu_score)\n",
        "top_sim_1_a = compute_metric(true_queries_a, top_autocorrect_1_a, cos_sim)\n",
        "top_sim_1_b = compute_metric(true_queries_b, top_autocorrect_1_b, cos_sim)\n",
        "\n",
        "# compute metrics for all system 2 autocorrector predictions\n",
        "top_bleu_2_a = compute_metric(true_queries_a, top_autocorrect_2_a, bleu_score)\n",
        "top_bleu_2_b = compute_metric(true_queries_b, top_autocorrect_2_b, bleu_score)\n",
        "top_sim_2_a = compute_metric(true_queries_a, top_autocorrect_2_a, cos_sim)\n",
        "top_sim_2_b = compute_metric(true_queries_b, top_autocorrect_2_b, cos_sim)"
      ],
      "execution_count": null,
      "outputs": []
    },
    {
      "cell_type": "code",
      "metadata": {
        "colab": {
          "base_uri": "https://localhost:8080/",
          "height": 128
        },
        "id": "XL-7ttchy4NK",
        "outputId": "572b398b-1de8-4e99-d26a-418c8ffb416a"
      },
      "source": [
        "# show bleu scores for all autocorrector predictions\n",
        "bleu_results_corr = pd.DataFrame(columns=['unaltered', '1 mistake'])\n",
        "bleu_results_corr.loc['System 1'] = [bleu_1_a, bleu_1_b]\n",
        "bleu_results_corr.loc['System 2'] = [bleu_2_a, bleu_2_b]\n",
        "print('Autocorrection BLEU for all predictions')\n",
        "bleu_results_corr"
      ],
      "execution_count": null,
      "outputs": [
        {
          "output_type": "stream",
          "text": [
            "Autocorrection BLEU for all predictions\n"
          ],
          "name": "stdout"
        },
        {
          "output_type": "execute_result",
          "data": {
            "text/html": [
              "<div>\n",
              "<style scoped>\n",
              "    .dataframe tbody tr th:only-of-type {\n",
              "        vertical-align: middle;\n",
              "    }\n",
              "\n",
              "    .dataframe tbody tr th {\n",
              "        vertical-align: top;\n",
              "    }\n",
              "\n",
              "    .dataframe thead th {\n",
              "        text-align: right;\n",
              "    }\n",
              "</style>\n",
              "<table border=\"1\" class=\"dataframe\">\n",
              "  <thead>\n",
              "    <tr style=\"text-align: right;\">\n",
              "      <th></th>\n",
              "      <th>unaltered</th>\n",
              "      <th>1 mistake</th>\n",
              "    </tr>\n",
              "  </thead>\n",
              "  <tbody>\n",
              "    <tr>\n",
              "      <th>System 1</th>\n",
              "      <td>47.493355</td>\n",
              "      <td>45.564039</td>\n",
              "    </tr>\n",
              "    <tr>\n",
              "      <th>System 2</th>\n",
              "      <td>70.825183</td>\n",
              "      <td>58.318601</td>\n",
              "    </tr>\n",
              "  </tbody>\n",
              "</table>\n",
              "</div>"
            ],
            "text/plain": [
              "          unaltered  1 mistake\n",
              "System 1  47.493355  45.564039\n",
              "System 2  70.825183  58.318601"
            ]
          },
          "metadata": {
            "tags": []
          },
          "execution_count": 411
        }
      ]
    },
    {
      "cell_type": "code",
      "metadata": {
        "colab": {
          "base_uri": "https://localhost:8080/",
          "height": 128
        },
        "id": "xxPmBY76y4NL",
        "outputId": "db500a8c-2dea-4254-dea6-2eae509f61d6"
      },
      "source": [
        "# show cosine similarities for all predictions\n",
        "sim_results_corr = pd.DataFrame(columns=['unaltered', '1 mistake'])\n",
        "sim_results_corr.loc['System 1'] = [sim_1_a, sim_1_b]\n",
        "sim_results_corr.loc['System 2'] = [sim_2_a, sim_2_b]\n",
        "print('Autocorrection cosine similarity for all predictions')\n",
        "sim_results_corr"
      ],
      "execution_count": null,
      "outputs": [
        {
          "output_type": "stream",
          "text": [
            "Autocorrection cosine similarity for all predictions\n"
          ],
          "name": "stdout"
        },
        {
          "output_type": "execute_result",
          "data": {
            "text/html": [
              "<div>\n",
              "<style scoped>\n",
              "    .dataframe tbody tr th:only-of-type {\n",
              "        vertical-align: middle;\n",
              "    }\n",
              "\n",
              "    .dataframe tbody tr th {\n",
              "        vertical-align: top;\n",
              "    }\n",
              "\n",
              "    .dataframe thead th {\n",
              "        text-align: right;\n",
              "    }\n",
              "</style>\n",
              "<table border=\"1\" class=\"dataframe\">\n",
              "  <thead>\n",
              "    <tr style=\"text-align: right;\">\n",
              "      <th></th>\n",
              "      <th>unaltered</th>\n",
              "      <th>1 mistake</th>\n",
              "    </tr>\n",
              "  </thead>\n",
              "  <tbody>\n",
              "    <tr>\n",
              "      <th>System 1</th>\n",
              "      <td>0.811184</td>\n",
              "      <td>0.815123</td>\n",
              "    </tr>\n",
              "    <tr>\n",
              "      <th>System 2</th>\n",
              "      <td>0.862299</td>\n",
              "      <td>0.814422</td>\n",
              "    </tr>\n",
              "  </tbody>\n",
              "</table>\n",
              "</div>"
            ],
            "text/plain": [
              "          unaltered  1 mistake\n",
              "System 1   0.811184   0.815123\n",
              "System 2   0.862299   0.814422"
            ]
          },
          "metadata": {
            "tags": []
          },
          "execution_count": 412
        }
      ]
    },
    {
      "cell_type": "code",
      "metadata": {
        "colab": {
          "base_uri": "https://localhost:8080/",
          "height": 128
        },
        "id": "4ow3KctVy4NL",
        "outputId": "a6500c48-e8a8-46f0-9df8-3d06258df1ca"
      },
      "source": [
        "# show bleu scores for top predictions\n",
        "top_bleu_results_corr = pd.DataFrame(columns=['unaltered', '1 mistake'])\n",
        "top_bleu_results_corr.loc['System 1'] = [top_bleu_1_a, top_bleu_1_b]\n",
        "top_bleu_results_corr.loc['System 2'] = [top_bleu_2_a, top_bleu_2_b]\n",
        "print('Autocorrection BLEU for top predictions')\n",
        "top_bleu_results_corr"
      ],
      "execution_count": null,
      "outputs": [
        {
          "output_type": "stream",
          "text": [
            "Autocorrection BLEU for top predictions\n"
          ],
          "name": "stdout"
        },
        {
          "output_type": "execute_result",
          "data": {
            "text/html": [
              "<div>\n",
              "<style scoped>\n",
              "    .dataframe tbody tr th:only-of-type {\n",
              "        vertical-align: middle;\n",
              "    }\n",
              "\n",
              "    .dataframe tbody tr th {\n",
              "        vertical-align: top;\n",
              "    }\n",
              "\n",
              "    .dataframe thead th {\n",
              "        text-align: right;\n",
              "    }\n",
              "</style>\n",
              "<table border=\"1\" class=\"dataframe\">\n",
              "  <thead>\n",
              "    <tr style=\"text-align: right;\">\n",
              "      <th></th>\n",
              "      <th>unaltered</th>\n",
              "      <th>1 mistake</th>\n",
              "    </tr>\n",
              "  </thead>\n",
              "  <tbody>\n",
              "    <tr>\n",
              "      <th>System 1</th>\n",
              "      <td>52.789460</td>\n",
              "      <td>51.217797</td>\n",
              "    </tr>\n",
              "    <tr>\n",
              "      <th>System 2</th>\n",
              "      <td>70.821209</td>\n",
              "      <td>58.167253</td>\n",
              "    </tr>\n",
              "  </tbody>\n",
              "</table>\n",
              "</div>"
            ],
            "text/plain": [
              "          unaltered  1 mistake\n",
              "System 1  52.789460  51.217797\n",
              "System 2  70.821209  58.167253"
            ]
          },
          "metadata": {
            "tags": []
          },
          "execution_count": 413
        }
      ]
    },
    {
      "cell_type": "code",
      "metadata": {
        "colab": {
          "base_uri": "https://localhost:8080/",
          "height": 128
        },
        "id": "2iRSQ9oQy4NM",
        "outputId": "ec16b668-5ed0-4325-b47a-d1f7451d58ef"
      },
      "source": [
        "# show cosine similarities for top predictions\n",
        "top_sim_results_corr = pd.DataFrame(columns=['unaltered', '1 mistake'])\n",
        "top_sim_results_corr.loc['System 1'] = [top_sim_1_a, top_sim_1_b]\n",
        "top_sim_results_corr.loc['System 2'] = [top_sim_2_a, top_sim_2_b]\n",
        "print('Autocorrection cosine similarity for top predictions')\n",
        "top_sim_results_corr"
      ],
      "execution_count": null,
      "outputs": [
        {
          "output_type": "stream",
          "text": [
            "Autocorrection cosine similarity for top predictions\n"
          ],
          "name": "stdout"
        },
        {
          "output_type": "execute_result",
          "data": {
            "text/html": [
              "<div>\n",
              "<style scoped>\n",
              "    .dataframe tbody tr th:only-of-type {\n",
              "        vertical-align: middle;\n",
              "    }\n",
              "\n",
              "    .dataframe tbody tr th {\n",
              "        vertical-align: top;\n",
              "    }\n",
              "\n",
              "    .dataframe thead th {\n",
              "        text-align: right;\n",
              "    }\n",
              "</style>\n",
              "<table border=\"1\" class=\"dataframe\">\n",
              "  <thead>\n",
              "    <tr style=\"text-align: right;\">\n",
              "      <th></th>\n",
              "      <th>unaltered</th>\n",
              "      <th>1 mistake</th>\n",
              "    </tr>\n",
              "  </thead>\n",
              "  <tbody>\n",
              "    <tr>\n",
              "      <th>System 1</th>\n",
              "      <td>0.826311</td>\n",
              "      <td>0.828840</td>\n",
              "    </tr>\n",
              "    <tr>\n",
              "      <th>System 2</th>\n",
              "      <td>0.863515</td>\n",
              "      <td>0.813253</td>\n",
              "    </tr>\n",
              "  </tbody>\n",
              "</table>\n",
              "</div>"
            ],
            "text/plain": [
              "          unaltered  1 mistake\n",
              "System 1   0.826311   0.828840\n",
              "System 2   0.863515   0.813253"
            ]
          },
          "metadata": {
            "tags": []
          },
          "execution_count": 414
        }
      ]
    },
    {
      "cell_type": "markdown",
      "metadata": {
        "id": "4wBE67csdDwU"
      },
      "source": [
        "System 2's autocorrector significantly outperforms System 1's. Interestingly, System 2 is much better at recognizing when a user query is already correctly written, whereas performance is a bit closer when a user query contains a mistake."
      ]
    },
    {
      "cell_type": "markdown",
      "metadata": {
        "id": "IrSDo9RxeFxk"
      },
      "source": [
        "## 3.4 Evaluating the autocompletion features\n",
        "\n",
        "For our autocompletion systems, we specify how many words to add to the query. This is due to our autocompletion systems being particularly bad at guessing the correct length of a query. Here again we will look at performance for all predictions and for the top predictions. There are 3 test datasets: one with the last word missing, one with the last word missing and one mistake, and one with the last two words missing and one mistake."
      ]
    },
    {
      "cell_type": "code",
      "metadata": {
        "id": "vK4UWPLN_Ov1"
      },
      "source": [
        "set_seed(0)\n",
        "\n",
        "# get predictions for autocompletion system 1\n",
        "autocomplete_1_c = [system1_autocomplete(query, to_add=1, beam_size=2) for query in mod_queries_c]\n",
        "autocomplete_1_d = [system1_autocomplete(query, to_add=1, beam_size=2) for query in mod_queries_d]\n",
        "autocomplete_1_e = [system1_autocomplete(query, to_add=2, beam_size=2) for query in mod_queries_e]"
      ],
      "execution_count": null,
      "outputs": []
    },
    {
      "cell_type": "code",
      "metadata": {
        "id": "zK_8DphaEQd3"
      },
      "source": [
        "set_seed(0)\n",
        "\n",
        "# get predictions for autocompletion system 2\n",
        "autocomplete_2_c = [system2_autocomplete(query, to_add=1, beam_size=4) for query in mod_queries_c]\n",
        "autocomplete_2_d = [system2_autocomplete(query, to_add=1, beam_size=4) for query in mod_queries_d]\n",
        "autocomplete_2_e = [system2_autocomplete(query, to_add=2, beam_size=4) for query in mod_queries_e]"
      ],
      "execution_count": null,
      "outputs": []
    },
    {
      "cell_type": "code",
      "metadata": {
        "id": "rW-gG-Jd6q5H"
      },
      "source": [
        "# compute metrics for all autocompletion system 1 predictions\n",
        "bleu_1_c = compute_metric(true_queries_c, autocomplete_1_c, bleu_score)\n",
        "bleu_1_d = compute_metric(true_queries_d, autocomplete_1_d, bleu_score)\n",
        "bleu_1_e = compute_metric(true_queries_e, autocomplete_1_e, bleu_score)\n",
        "sim_1_c = compute_metric(true_queries_c, autocomplete_1_c, cos_sim)\n",
        "sim_1_d = compute_metric(true_queries_d, autocomplete_1_d, cos_sim)\n",
        "sim_1_e = compute_metric(true_queries_e, autocomplete_1_e, cos_sim)\n",
        "\n",
        "# compute metrics for all autocompletion system 2 predictions\n",
        "bleu_2_c = compute_metric(true_queries_c, autocomplete_2_c, bleu_score)\n",
        "bleu_2_d = compute_metric(true_queries_d, autocomplete_2_d, bleu_score)\n",
        "bleu_2_e = compute_metric(true_queries_e, autocomplete_2_e, bleu_score)\n",
        "sim_2_c = compute_metric(true_queries_c, autocomplete_2_c, cos_sim)\n",
        "sim_2_d = compute_metric(true_queries_d, autocomplete_2_d, cos_sim)\n",
        "sim_2_e = compute_metric(true_queries_e, autocomplete_2_e, cos_sim)"
      ],
      "execution_count": null,
      "outputs": []
    },
    {
      "cell_type": "code",
      "metadata": {
        "id": "g27LAj9ejTMY"
      },
      "source": [
        "top_autocomplete_1_c = [[pred[0]] for pred in autocomplete_1_c]\n",
        "top_autocomplete_1_d = [[pred[0]] for pred in autocomplete_1_d]\n",
        "top_autocomplete_1_e = [[pred[0]] for pred in autocomplete_1_e]\n",
        "\n",
        "top_autocomplete_2_c = [[pred[0]] for pred in autocomplete_2_c]\n",
        "top_autocomplete_2_d = [[pred[0]] for pred in autocomplete_2_d]\n",
        "top_autocomplete_2_e = [[pred[0]] for pred in autocomplete_2_e]\n",
        "\n",
        "# compute metrics for top autocompletion system 1 predictions\n",
        "top_bleu_1_c = compute_metric(true_queries_c, top_autocomplete_1_c, bleu_score)\n",
        "top_bleu_1_d = compute_metric(true_queries_d, top_autocomplete_1_d, bleu_score)\n",
        "top_bleu_1_e = compute_metric(true_queries_e, top_autocomplete_1_e, bleu_score)\n",
        "top_sim_1_c = compute_metric(true_queries_c, top_autocomplete_1_c, cos_sim)\n",
        "top_sim_1_d = compute_metric(true_queries_d, top_autocomplete_1_d, cos_sim)\n",
        "top_sim_1_e = compute_metric(true_queries_e, top_autocomplete_1_e, cos_sim)\n",
        "\n",
        "# compute metrics for top autocompletion system 2 predictions\n",
        "top_bleu_2_c = compute_metric(true_queries_c, top_autocomplete_2_c, bleu_score)\n",
        "top_bleu_2_d = compute_metric(true_queries_d, top_autocomplete_2_d, bleu_score)\n",
        "top_bleu_2_e = compute_metric(true_queries_e, top_autocomplete_2_e, bleu_score)\n",
        "top_sim_2_c = compute_metric(true_queries_c, top_autocomplete_2_c, cos_sim)\n",
        "top_sim_2_d = compute_metric(true_queries_d, top_autocomplete_2_d, cos_sim)\n",
        "top_sim_2_e = compute_metric(true_queries_e, top_autocomplete_2_e, cos_sim)"
      ],
      "execution_count": null,
      "outputs": []
    },
    {
      "cell_type": "code",
      "metadata": {
        "colab": {
          "base_uri": "https://localhost:8080/",
          "height": 128
        },
        "id": "-lhZTI_q6MhV",
        "outputId": "e5d20d04-0d72-45aa-d5f8-1ae7d4383f7d"
      },
      "source": [
        "# show bleu scores for all predictions\n",
        "bleu_results_com = pd.DataFrame(columns=['1 dropped', '1 dropped+1 mistake', \n",
        "                                         '2 dropped+1 mistake'])\n",
        "#bleu_results_com.loc['Baseline'] = [bleu_base_c, bleu_base_d, bleu_base_e]\n",
        "bleu_results_com.loc['System 1'] = [bleu_1_c, bleu_1_d, bleu_1_e]\n",
        "bleu_results_com.loc['System 2'] = [bleu_2_c, bleu_2_d, bleu_2_e]\n",
        "print('Autocompletion BLEU for all predictions')\n",
        "bleu_results_com"
      ],
      "execution_count": null,
      "outputs": [
        {
          "output_type": "stream",
          "text": [
            "Autocompletion BLEU for all predictions\n"
          ],
          "name": "stdout"
        },
        {
          "output_type": "execute_result",
          "data": {
            "text/html": [
              "<div>\n",
              "<style scoped>\n",
              "    .dataframe tbody tr th:only-of-type {\n",
              "        vertical-align: middle;\n",
              "    }\n",
              "\n",
              "    .dataframe tbody tr th {\n",
              "        vertical-align: top;\n",
              "    }\n",
              "\n",
              "    .dataframe thead th {\n",
              "        text-align: right;\n",
              "    }\n",
              "</style>\n",
              "<table border=\"1\" class=\"dataframe\">\n",
              "  <thead>\n",
              "    <tr style=\"text-align: right;\">\n",
              "      <th></th>\n",
              "      <th>1 dropped</th>\n",
              "      <th>1 dropped+1 mistake</th>\n",
              "      <th>2 dropped+1 mistake</th>\n",
              "    </tr>\n",
              "  </thead>\n",
              "  <tbody>\n",
              "    <tr>\n",
              "      <th>System 1</th>\n",
              "      <td>38.982093</td>\n",
              "      <td>38.184928</td>\n",
              "      <td>27.996340</td>\n",
              "    </tr>\n",
              "    <tr>\n",
              "      <th>System 2</th>\n",
              "      <td>71.009320</td>\n",
              "      <td>53.625703</td>\n",
              "      <td>38.867827</td>\n",
              "    </tr>\n",
              "  </tbody>\n",
              "</table>\n",
              "</div>"
            ],
            "text/plain": [
              "          1 dropped  1 dropped+1 mistake  2 dropped+1 mistake\n",
              "System 1  38.982093            38.184928            27.996340\n",
              "System 2  71.009320            53.625703            38.867827"
            ]
          },
          "metadata": {
            "tags": []
          },
          "execution_count": 370
        }
      ]
    },
    {
      "cell_type": "code",
      "metadata": {
        "colab": {
          "base_uri": "https://localhost:8080/",
          "height": 128
        },
        "id": "O1sOc5n7BcLe",
        "outputId": "a32120d2-0d20-4f04-a669-de98575f6f9a"
      },
      "source": [
        "# show cosine similarities for all predictions\n",
        "sim_results_com = pd.DataFrame(columns=['1 dropped', '1 dropped+1 mistake', \n",
        "                                        '2 dropped+1 mistake'])\n",
        "#sim_results_com.loc['Baseline'] = [sim_base_c, sim_base_d, sim_base_e]\n",
        "sim_results_com.loc['System 1'] = [sim_1_c, sim_1_d, sim_1_e]\n",
        "sim_results_com.loc['System 2'] = [sim_2_c, sim_2_d, sim_2_e]\n",
        "print('Autocompletion cosine similarity for all predictions')\n",
        "sim_results_com"
      ],
      "execution_count": null,
      "outputs": [
        {
          "output_type": "stream",
          "text": [
            "Autocompletion cosine similarity for all predictions\n"
          ],
          "name": "stdout"
        },
        {
          "output_type": "execute_result",
          "data": {
            "text/html": [
              "<div>\n",
              "<style scoped>\n",
              "    .dataframe tbody tr th:only-of-type {\n",
              "        vertical-align: middle;\n",
              "    }\n",
              "\n",
              "    .dataframe tbody tr th {\n",
              "        vertical-align: top;\n",
              "    }\n",
              "\n",
              "    .dataframe thead th {\n",
              "        text-align: right;\n",
              "    }\n",
              "</style>\n",
              "<table border=\"1\" class=\"dataframe\">\n",
              "  <thead>\n",
              "    <tr style=\"text-align: right;\">\n",
              "      <th></th>\n",
              "      <th>1 dropped</th>\n",
              "      <th>1 dropped+1 mistake</th>\n",
              "      <th>2 dropped+1 mistake</th>\n",
              "    </tr>\n",
              "  </thead>\n",
              "  <tbody>\n",
              "    <tr>\n",
              "      <th>System 1</th>\n",
              "      <td>0.711007</td>\n",
              "      <td>0.729709</td>\n",
              "      <td>0.634631</td>\n",
              "    </tr>\n",
              "    <tr>\n",
              "      <th>System 2</th>\n",
              "      <td>0.848884</td>\n",
              "      <td>0.796934</td>\n",
              "      <td>0.683141</td>\n",
              "    </tr>\n",
              "  </tbody>\n",
              "</table>\n",
              "</div>"
            ],
            "text/plain": [
              "          1 dropped  1 dropped+1 mistake  2 dropped+1 mistake\n",
              "System 1   0.711007             0.729709             0.634631\n",
              "System 2   0.848884             0.796934             0.683141"
            ]
          },
          "metadata": {
            "tags": []
          },
          "execution_count": 371
        }
      ]
    },
    {
      "cell_type": "code",
      "metadata": {
        "colab": {
          "base_uri": "https://localhost:8080/",
          "height": 128
        },
        "id": "uQ6x-C_Mmt7j",
        "outputId": "48058735-6a63-4ecd-c722-3d57721e6b20"
      },
      "source": [
        "# show bleu scores for top predictions\n",
        "top_bleu_results_com = pd.DataFrame(columns=['1 dropped', '1 dropped+1 mistake', \n",
        "                                             '2 dropped+1 mistake'])\n",
        "#top_bleu_results_com.loc['Baseline'] = [bleu_base_c, bleu_base_d, bleu_base_e]\n",
        "top_bleu_results_com.loc['System 1'] = [top_bleu_1_c, top_bleu_1_d, top_bleu_1_e]\n",
        "top_bleu_results_com.loc['System 2'] = [top_bleu_2_c, top_bleu_2_d, top_bleu_2_e]\n",
        "print('Autocompletion BLEU for top predictions')\n",
        "top_bleu_results_com"
      ],
      "execution_count": null,
      "outputs": [
        {
          "output_type": "stream",
          "text": [
            "Autocompletion BLEU for top predictions\n"
          ],
          "name": "stdout"
        },
        {
          "output_type": "execute_result",
          "data": {
            "text/html": [
              "<div>\n",
              "<style scoped>\n",
              "    .dataframe tbody tr th:only-of-type {\n",
              "        vertical-align: middle;\n",
              "    }\n",
              "\n",
              "    .dataframe tbody tr th {\n",
              "        vertical-align: top;\n",
              "    }\n",
              "\n",
              "    .dataframe thead th {\n",
              "        text-align: right;\n",
              "    }\n",
              "</style>\n",
              "<table border=\"1\" class=\"dataframe\">\n",
              "  <thead>\n",
              "    <tr style=\"text-align: right;\">\n",
              "      <th></th>\n",
              "      <th>1 dropped</th>\n",
              "      <th>1 dropped+1 mistake</th>\n",
              "      <th>2 dropped+1 mistake</th>\n",
              "    </tr>\n",
              "  </thead>\n",
              "  <tbody>\n",
              "    <tr>\n",
              "      <th>System 1</th>\n",
              "      <td>40.626844</td>\n",
              "      <td>42.769109</td>\n",
              "      <td>29.987732</td>\n",
              "    </tr>\n",
              "    <tr>\n",
              "      <th>System 2</th>\n",
              "      <td>71.017172</td>\n",
              "      <td>53.565312</td>\n",
              "      <td>38.441708</td>\n",
              "    </tr>\n",
              "  </tbody>\n",
              "</table>\n",
              "</div>"
            ],
            "text/plain": [
              "          1 dropped  1 dropped+1 mistake  2 dropped+1 mistake\n",
              "System 1  40.626844            42.769109            29.987732\n",
              "System 2  71.017172            53.565312            38.441708"
            ]
          },
          "metadata": {
            "tags": []
          },
          "execution_count": 372
        }
      ]
    },
    {
      "cell_type": "code",
      "metadata": {
        "colab": {
          "base_uri": "https://localhost:8080/",
          "height": 128
        },
        "id": "AKXU9kN1mt7n",
        "outputId": "052512c1-19e0-41aa-9cfe-aecbe97325fe"
      },
      "source": [
        "# show cosine similarities for top predictions\n",
        "top_sim_results_com = pd.DataFrame(columns=['1 dropped', '1 dropped+1 mistake', \n",
        "                                            '2 dropped+1 mistake'])\n",
        "#top_sim_results_com.loc['Baseline'] = [sim_base_c, sim_base_d, sim_base_e]\n",
        "top_sim_results_com.loc['System 1'] = [top_sim_1_c, top_sim_1_d, top_sim_1_e]\n",
        "top_sim_results_com.loc['System 2'] = [top_sim_2_c, top_sim_2_d, top_sim_2_e]\n",
        "print('Autocompletion cosine similarity for top predictions')\n",
        "top_sim_results_com"
      ],
      "execution_count": null,
      "outputs": [
        {
          "output_type": "stream",
          "text": [
            "Autocompletion cosine similarity for top predictions\n"
          ],
          "name": "stdout"
        },
        {
          "output_type": "execute_result",
          "data": {
            "text/html": [
              "<div>\n",
              "<style scoped>\n",
              "    .dataframe tbody tr th:only-of-type {\n",
              "        vertical-align: middle;\n",
              "    }\n",
              "\n",
              "    .dataframe tbody tr th {\n",
              "        vertical-align: top;\n",
              "    }\n",
              "\n",
              "    .dataframe thead th {\n",
              "        text-align: right;\n",
              "    }\n",
              "</style>\n",
              "<table border=\"1\" class=\"dataframe\">\n",
              "  <thead>\n",
              "    <tr style=\"text-align: right;\">\n",
              "      <th></th>\n",
              "      <th>1 dropped</th>\n",
              "      <th>1 dropped+1 mistake</th>\n",
              "      <th>2 dropped+1 mistake</th>\n",
              "    </tr>\n",
              "  </thead>\n",
              "  <tbody>\n",
              "    <tr>\n",
              "      <th>System 1</th>\n",
              "      <td>0.716504</td>\n",
              "      <td>0.749125</td>\n",
              "      <td>0.639309</td>\n",
              "    </tr>\n",
              "    <tr>\n",
              "      <th>System 2</th>\n",
              "      <td>0.849437</td>\n",
              "      <td>0.799333</td>\n",
              "      <td>0.678999</td>\n",
              "    </tr>\n",
              "  </tbody>\n",
              "</table>\n",
              "</div>"
            ],
            "text/plain": [
              "          1 dropped  1 dropped+1 mistake  2 dropped+1 mistake\n",
              "System 1   0.716504             0.749125             0.639309\n",
              "System 2   0.849437             0.799333             0.678999"
            ]
          },
          "metadata": {
            "tags": []
          },
          "execution_count": 373
        }
      ]
    },
    {
      "cell_type": "markdown",
      "metadata": {
        "id": "du6aE3-2gtmD"
      },
      "source": [
        "System 2 handily beats System 1. This is not too surprising: System 2 already had the advantage at the autocorrection stage."
      ]
    },
    {
      "cell_type": "markdown",
      "metadata": {
        "id": "E-P_fZhHiiMO"
      },
      "source": [
        "# 4. Further Improvements\n",
        "\n",
        "We have determined that System 2 outperforms System 1, but we're not out of the woods quite yet. The test suite above corrupts user queries randomly, introducing spelling mistakes by simply substituting a word by a string within an edit distance of 2. However, real mistakes in real user queries can be expected to contain certain patterns as opposed to being entirely random. For instance, one might find that the 3-gram 'teh' -- all memes aside -- appears rather often, as in 'teh' (the), 'tehn' (then), and otehr (other). We therefore need actual natural data to test our autocorrection and autocompletion systems. For this purpose we will use the [Webis-QSpell-17](https://webis.de/data/webis-qspell-17.html) dataset, a corpus of 54,772 web queries extracted from the [AOL Query Logs dataset](https://webis.de/data/webis-qspell-17.html), of which 9,171 contain possible mistakes and are presented along with spelling variants.\n",
        "\n",
        "Further motivated by the intuition that certain patterns occur more frequently in spilling mistakes, we augment BART's vocabulary with a WordPiece vocabulary built from [Wikipedia's list of common misspellings](https://en.wikipedia.org/wiki/Wikipedia:Lists_of_common_misspellings). The result will be System 3."
      ]
    },
    {
      "cell_type": "markdown",
      "metadata": {
        "id": "OzHG-cUnu7kQ"
      },
      "source": [
        "## 4.1 Defining System 3\n",
        "\n",
        "We augment BART's vocabulary with a WordPiece vocabulary built from misspellings to obtain System 3. The idea is that there might be recurrent segments in misspellings which can be benificial to include in BART's vocabulary. "
      ]
    },
    {
      "cell_type": "code",
      "metadata": {
        "colab": {
          "base_uri": "https://localhost:8080/"
        },
        "id": "936W63iKDS4v",
        "outputId": "9bbc992b-9ff5-4a73-bb86-9750cf0a35b5"
      },
      "source": [
        "!wget -nc https://www.dcs.bbk.ac.uk/~ROGER/wikipedia.dat\n",
        "\n",
        "all_miss = []\n",
        "with open('wikipedia.dat', 'r') as file:\n",
        "  for line in file:\n",
        "    if line[0] == '$': continue\n",
        "    all_miss.append(line[:-1].lower())\n",
        "\n",
        "# dump miss as whitespace seperated words\n",
        "all_miss = ' '.join(all_miss)\n",
        "miss_dump = 'wikipedia_miss.raw'\n",
        "with open(miss_dump, 'w') as file:\n",
        "  file.write(all_miss)"
      ],
      "execution_count": 34,
      "outputs": [
        {
          "output_type": "stream",
          "text": [
            "File ‘wikipedia.dat’ already there; not retrieving.\n",
            "\n"
          ],
          "name": "stdout"
        }
      ]
    },
    {
      "cell_type": "markdown",
      "metadata": {
        "id": "q_WR7m_Wvy1I"
      },
      "source": [
        "We use the Hugging Face API to build a WordPiece vocabulary based on the misspelled words in 'wikipedia.dat'."
      ]
    },
    {
      "cell_type": "code",
      "metadata": {
        "id": "a2rLKKEUrTdm"
      },
      "source": [
        "from tokenizers import Tokenizer\n",
        "from tokenizers.models import BPE\n",
        "from tokenizers.trainers import BpeTrainer\n",
        "from tokenizers.pre_tokenizers import Whitespace\n",
        "\n",
        "miss_tokenizer = Tokenizer(BPE(unk_token=\"[UNK]\"))\n",
        "miss_trainer = BpeTrainer(special_tokens=[\"[UNK]\", \"[CLS]\", \"[SEP]\", \"[PAD]\", \"[MASK]\"], vocab_size=5000)\n",
        "miss_tokenizer.pre_tokenizer = Whitespace()\n",
        "miss_tokenizer.train([miss_dump], miss_trainer)"
      ],
      "execution_count": 35,
      "outputs": []
    },
    {
      "cell_type": "markdown",
      "metadata": {
        "id": "k42KNM4Svv3P"
      },
      "source": [
        "Let's find out what the overlap between this misspellings-derived vocabulary and BART's is."
      ]
    },
    {
      "cell_type": "code",
      "metadata": {
        "colab": {
          "base_uri": "https://localhost:8080/"
        },
        "id": "9cJUuWEJGAFc",
        "outputId": "28687522-471d-4d25-d7bb-0886f8a1d402"
      },
      "source": [
        "# find intersection between BART vocab and vocab for typos\n",
        "miss_vocab = set(miss_tokenizer.get_vocab())\n",
        "bart_vocab = set(bart_tokenizer.get_vocab())\n",
        "inter = miss_vocab.intersection(bart_vocab)\n",
        "pct = round(100*len(inter)/len(miss_vocab))\n",
        "print('Percentage of misspellings-derived tokens in BART vocabulary:', f'{pct}%')\n",
        "assert('oteh' in miss_vocab)\n",
        "assert('oteh' not in bart_vocab)"
      ],
      "execution_count": 36,
      "outputs": [
        {
          "output_type": "stream",
          "text": [
            "Percentage of misspellings-derived tokens in BART vocabulary: 24%\n"
          ],
          "name": "stdout"
        }
      ]
    },
    {
      "cell_type": "markdown",
      "metadata": {
        "id": "-owtC45_wpSw"
      },
      "source": [
        "Only a quarter of the tokens in the misspellings-derived vocabulary are already present in BART's. We merge the former with the latter."
      ]
    },
    {
      "cell_type": "code",
      "metadata": {
        "id": "ijVfEQ5xu_Tb"
      },
      "source": [
        "from copy import deepcopy\n",
        "\n",
        "bart_model_new = deepcopy(bart_model)\n",
        "bart_tokenizer_new = deepcopy(bart_tokenizer)\n",
        "bart_tokenizer_new.add_tokens(list(miss_vocab))\n",
        "bart_model_new.resize_token_embeddings(len(bart_tokenizer_new));"
      ],
      "execution_count": 37,
      "outputs": []
    },
    {
      "cell_type": "markdown",
      "metadata": {
        "id": "Cqpf6TVyxZSE"
      },
      "source": [
        "## 4.2 Webis-QSpell-17 Dataset\n",
        "\n",
        "We download the Webis-QSpell-17 dataset, which will serve as a source of real search queries to test our systems. "
      ]
    },
    {
      "cell_type": "code",
      "metadata": {
        "colab": {
          "base_uri": "https://localhost:8080/",
          "height": 597
        },
        "id": "4Xg0_6vSw0Ci",
        "outputId": "57d4df2b-3c57-4293-a1da-53f36b20bba0"
      },
      "source": [
        "!wget -nc https://zenodo.org/record/3570912/files/corpus-webis-qspell-17.zip\n",
        "!unzip corpus-webis-qspell-17.zip\n",
        "webis = pd.read_csv('corpus-webis-qspell-17-error-annotations.csv', sep=';')\n",
        "webis.head(10)"
      ],
      "execution_count": null,
      "outputs": [
        {
          "output_type": "stream",
          "text": [
            "--2021-08-10 17:34:32--  https://zenodo.org/record/3570912/files/corpus-webis-qspell-17.zip\n",
            "Resolving zenodo.org (zenodo.org)... 137.138.76.77\n",
            "Connecting to zenodo.org (zenodo.org)|137.138.76.77|:443... connected.\n",
            "HTTP request sent, awaiting response... 200 OK\n",
            "Length: 2285705 (2.2M) [application/octet-stream]\n",
            "Saving to: ‘corpus-webis-qspell-17.zip’\n",
            "\n",
            "corpus-webis-qspell 100%[===================>]   2.18M  1.97MB/s    in 1.1s    \n",
            "\n",
            "2021-08-10 17:34:34 (1.97 MB/s) - ‘corpus-webis-qspell-17.zip’ saved [2285705/2285705]\n",
            "\n",
            "Archive:  corpus-webis-qspell-17.zip\n",
            "  inflating: corpus-webis-qspell-17.csv  \n",
            "  inflating: corpus-webis-qspell-17-error-annotations.csv  \n"
          ],
          "name": "stdout"
        },
        {
          "output_type": "execute_result",
          "data": {
            "text/html": [
              "<div>\n",
              "<style scoped>\n",
              "    .dataframe tbody tr th:only-of-type {\n",
              "        vertical-align: middle;\n",
              "    }\n",
              "\n",
              "    .dataframe tbody tr th {\n",
              "        vertical-align: top;\n",
              "    }\n",
              "\n",
              "    .dataframe thead th {\n",
              "        text-align: right;\n",
              "    }\n",
              "</style>\n",
              "<table border=\"1\" class=\"dataframe\">\n",
              "  <thead>\n",
              "    <tr style=\"text-align: right;\">\n",
              "      <th></th>\n",
              "      <th>ID</th>\n",
              "      <th>String with mistake(s)</th>\n",
              "      <th>Possible Correction</th>\n",
              "      <th>Spaces</th>\n",
              "      <th>Special Characters</th>\n",
              "      <th>Insertion</th>\n",
              "      <th>Deletion</th>\n",
              "      <th>Substitution</th>\n",
              "      <th>Transposition</th>\n",
              "    </tr>\n",
              "  </thead>\n",
              "  <tbody>\n",
              "    <tr>\n",
              "      <th>0</th>\n",
              "      <td>98702</td>\n",
              "      <td>0 1 2 3 qrs complex</td>\n",
              "      <td>0 1 2 3 qrs complex</td>\n",
              "      <td>0</td>\n",
              "      <td>0</td>\n",
              "      <td>0</td>\n",
              "      <td>0</td>\n",
              "      <td>0</td>\n",
              "      <td>0</td>\n",
              "    </tr>\n",
              "    <tr>\n",
              "      <th>1</th>\n",
              "      <td>98703</td>\n",
              "      <td>0 down investing</td>\n",
              "      <td>zero down investing</td>\n",
              "      <td>0</td>\n",
              "      <td>0</td>\n",
              "      <td>0</td>\n",
              "      <td>3</td>\n",
              "      <td>1</td>\n",
              "      <td>0</td>\n",
              "    </tr>\n",
              "    <tr>\n",
              "      <th>2</th>\n",
              "      <td>98703</td>\n",
              "      <td>0 down investing</td>\n",
              "      <td>0 down investing</td>\n",
              "      <td>0</td>\n",
              "      <td>0</td>\n",
              "      <td>0</td>\n",
              "      <td>0</td>\n",
              "      <td>0</td>\n",
              "      <td>0</td>\n",
              "    </tr>\n",
              "    <tr>\n",
              "      <th>3</th>\n",
              "      <td>98704</td>\n",
              "      <td>0 percent interest credit cards</td>\n",
              "      <td>0 percent interest credit cards</td>\n",
              "      <td>0</td>\n",
              "      <td>0</td>\n",
              "      <td>0</td>\n",
              "      <td>0</td>\n",
              "      <td>0</td>\n",
              "      <td>0</td>\n",
              "    </tr>\n",
              "    <tr>\n",
              "      <th>4</th>\n",
              "      <td>2194058798</td>\n",
              "      <td>007 cheats n64 statue</td>\n",
              "      <td>007 cheats n64 statue</td>\n",
              "      <td>0</td>\n",
              "      <td>0</td>\n",
              "      <td>0</td>\n",
              "      <td>0</td>\n",
              "      <td>0</td>\n",
              "      <td>0</td>\n",
              "    </tr>\n",
              "    <tr>\n",
              "      <th>5</th>\n",
              "      <td>743514705</td>\n",
              "      <td>007 nightfire cheat codes gamecube</td>\n",
              "      <td>007 nightfire cheat codes gamecube</td>\n",
              "      <td>0</td>\n",
              "      <td>0</td>\n",
              "      <td>0</td>\n",
              "      <td>0</td>\n",
              "      <td>0</td>\n",
              "      <td>0</td>\n",
              "    </tr>\n",
              "    <tr>\n",
              "      <th>6</th>\n",
              "      <td>1497528200</td>\n",
              "      <td>02 mitsubishi diamante vr-x specs</td>\n",
              "      <td>02 mitsubishi diamante vr-x specs</td>\n",
              "      <td>0</td>\n",
              "      <td>0</td>\n",
              "      <td>0</td>\n",
              "      <td>0</td>\n",
              "      <td>0</td>\n",
              "      <td>0</td>\n",
              "    </tr>\n",
              "    <tr>\n",
              "      <th>7</th>\n",
              "      <td>1804696918</td>\n",
              "      <td>04 05 houston rocket dancers</td>\n",
              "      <td>04 05 houston rocket dancers</td>\n",
              "      <td>0</td>\n",
              "      <td>0</td>\n",
              "      <td>0</td>\n",
              "      <td>0</td>\n",
              "      <td>0</td>\n",
              "      <td>0</td>\n",
              "    </tr>\n",
              "    <tr>\n",
              "      <th>8</th>\n",
              "      <td>133548817</td>\n",
              "      <td>04 19 06 duke rape case photos</td>\n",
              "      <td>04 19 06 duke rape case photos</td>\n",
              "      <td>0</td>\n",
              "      <td>0</td>\n",
              "      <td>0</td>\n",
              "      <td>0</td>\n",
              "      <td>0</td>\n",
              "      <td>0</td>\n",
              "    </tr>\n",
              "    <tr>\n",
              "      <th>9</th>\n",
              "      <td>3711002787</td>\n",
              "      <td>05 dodge magnum vanilla</td>\n",
              "      <td>05 dodge magnum vanilla</td>\n",
              "      <td>0</td>\n",
              "      <td>0</td>\n",
              "      <td>0</td>\n",
              "      <td>0</td>\n",
              "      <td>0</td>\n",
              "      <td>0</td>\n",
              "    </tr>\n",
              "  </tbody>\n",
              "</table>\n",
              "</div>"
            ],
            "text/plain": [
              "           ID              String with mistake(s)  ... Substitution  Transposition\n",
              "0       98702                 0 1 2 3 qrs complex  ...            0              0\n",
              "1       98703                    0 down investing  ...            1              0\n",
              "2       98703                    0 down investing  ...            0              0\n",
              "3       98704     0 percent interest credit cards  ...            0              0\n",
              "4  2194058798               007 cheats n64 statue  ...            0              0\n",
              "5   743514705  007 nightfire cheat codes gamecube  ...            0              0\n",
              "6  1497528200   02 mitsubishi diamante vr-x specs  ...            0              0\n",
              "7  1804696918        04 05 houston rocket dancers  ...            0              0\n",
              "8   133548817      04 19 06 duke rape case photos  ...            0              0\n",
              "9  3711002787             05 dodge magnum vanilla  ...            0              0\n",
              "\n",
              "[10 rows x 9 columns]"
            ]
          },
          "metadata": {
            "tags": []
          },
          "execution_count": 84
        }
      ]
    },
    {
      "cell_type": "code",
      "metadata": {
        "id": "VVIiUJmexc9O"
      },
      "source": [
        "from sklearn.model_selection import train_test_split\n",
        "\n",
        "train_webis, other_webis = train_test_split(webis, test_size=0.1, random_state=0)\n",
        "val_webis, test_webis = train_test_split(other_webis, test_size=0.5, random_state=0)\n",
        "\n",
        "# remove any row appearing > 1 times to avoid data snooping\n",
        "webis_dedup = webis[~webis['String with mistake(s)'].duplicated(keep=False)]\n",
        "val_webis = val_webis.merge(webis_dedup)\n",
        "test_webis = test_webis.merge(webis_dedup)"
      ],
      "execution_count": 39,
      "outputs": []
    },
    {
      "cell_type": "markdown",
      "metadata": {
        "id": "MlmAK750zSxA"
      },
      "source": [
        "## 4.3 Evidence of Recurrence of Segments in Misspellings\n",
        "\n",
        "We wish to gather evidence in favor of the intuition presented in the introduction to this section: misspelled words contain common segments distinct from those appearing in their correctly-spelled counterparts. To this end we conduct an experiment: A WordPiece vocabulary derived from the misspelled words appearing in the Webis-QSpell-17 dataset is built, and we compare its overlap with the augmented vocabulary defined above with its overlap with BART's unaltered vocabulary. If the intuition is indeed correct, the ratio of the sizes of the overlaps should be appreciably greater than the ratio of the sizes of the vocabularies."
      ]
    },
    {
      "cell_type": "code",
      "metadata": {
        "colab": {
          "base_uri": "https://localhost:8080/"
        },
        "id": "05XTnQwWx4AW",
        "outputId": "569db9ed-8931-44d0-ec71-80e5375412e9"
      },
      "source": [
        "contains_corr = train_webis[train_webis['String with mistake(s)'] != train_webis['Possible Correction']]\n",
        "webis_miss = []\n",
        "for i, row in contains_corr.iterrows():\n",
        "  words = word_tokenize(row['String with mistake(s)'])\n",
        "  for word in words:\n",
        "    if word not in row['Possible Correction']:\n",
        "      webis_miss.append(word)\n",
        "      \n",
        "print('Number of misspellings identified in Webis-QSpell-17:', len(webis_miss))\n",
        "\n",
        "# dump miss as whitespace seperated words\n",
        "webis_miss = ' '.join(webis_miss)\n",
        "miss_dump = 'webis_miss.raw'\n",
        "with open(miss_dump, 'w') as file:\n",
        "  file.write(webis_miss)"
      ],
      "execution_count": null,
      "outputs": [
        {
          "output_type": "stream",
          "text": [
            "Number of misspellings identified in Webis-QSpell-17: 7255\n"
          ],
          "name": "stdout"
        }
      ]
    },
    {
      "cell_type": "code",
      "metadata": {
        "id": "lkj_dvLvZARM"
      },
      "source": [
        "from tokenizers import Tokenizer\n",
        "from tokenizers.models import BPE\n",
        "from tokenizers.trainers import BpeTrainer\n",
        "from tokenizers.pre_tokenizers import Whitespace\n",
        "\n",
        "miss_tokenizer_webis = Tokenizer(BPE(unk_token=\"[UNK]\"))\n",
        "miss_trainer_webis = BpeTrainer(special_tokens=[\"[UNK]\", \"[CLS]\", \"[SEP]\", \"[PAD]\", \"[MASK]\"], vocab_size=10000)\n",
        "miss_tokenizer_webis.pre_tokenizer = Whitespace()\n",
        "miss_tokenizer_webis.train([miss_dump], miss_trainer_webis)"
      ],
      "execution_count": 43,
      "outputs": []
    },
    {
      "cell_type": "code",
      "metadata": {
        "colab": {
          "base_uri": "https://localhost:8080/"
        },
        "id": "93wcLVsfzREO",
        "outputId": "72226554-14f6-41ea-d464-721eb3d2cedc"
      },
      "source": [
        "bart_new_vocab = set(bart_tokenizer_new.get_vocab())\n",
        "webis_miss_vocab = set(miss_tokenizer_webis.get_vocab())\n",
        "vocab_increase = (len(bart_new_vocab) - len(bart_vocab))/len(bart_vocab)\n",
        "inter_old = webis_miss_vocab.intersection(bart_vocab)\n",
        "inter_new = webis_miss_vocab.intersection(bart_new_vocab)\n",
        "webis_miss_hit_increase = (len(inter_new) - len(inter_old))/len(inter_old)\n",
        "print('Increase in vocabulary size:', f'{round(100*vocab_increase, 1)}%')\n",
        "print('Increase in overlap size:', f'{round(100*webis_miss_hit_increase, 1)}%')"
      ],
      "execution_count": 44,
      "outputs": [
        {
          "output_type": "stream",
          "text": [
            "Increase in vocabulary size: 7.2%\n",
            "Increase in overlap size: 12.9%\n"
          ],
          "name": "stdout"
        }
      ]
    },
    {
      "cell_type": "markdown",
      "metadata": {
        "id": "IBB7bTeO23RC"
      },
      "source": [
        "We see that while we increased BART's vocabulary by 7.2%, the 'hit-rate' with respect to the misspellings in the user search queries increased by 12.9%. Given the large numbers involved, this strongly suggests the intuition is indeed correct: it is beneficial to include tokens built from misspellings because some are recurrent."
      ]
    },
    {
      "cell_type": "markdown",
      "metadata": {
        "id": "tcBZOcMSz45R"
      },
      "source": [
        "## 4.4 Fine-Tuning System 3\n",
        "\n",
        "System 3 is fine-tuned on the same task as System 2 with one crucial difference: its input will be completely unmasked and will sometimes contain spelling mistakes. The extended vocabulary will only be used for the encoder; the decoder is limited to BART's original vocabulary since we wish for it to output correctly spelled words. Ideally we'd want to change the final projection layer of the decoder accordingly, but this cannot be done easily with the Hugging Face API, so we simply use BERT's unaltered encoder for the target sequences hoping the model will learn to restrict its range of outputs. Since the embeddings of the new tokens need to be learned from scratch, we set the number of epochs to a relatively high value (10)."
      ]
    },
    {
      "cell_type": "code",
      "metadata": {
        "id": "58t4v3i31h9R"
      },
      "source": [
        "train_webis_og = train_webis['String with mistake(s)'].tolist()\n",
        "train_webis_corr = train_webis['Possible Correction'].tolist()\n",
        "val_webis_og = val_webis['String with mistake(s)'].tolist()\n",
        "val_webis_corr = val_webis['Possible Correction'].tolist()"
      ],
      "execution_count": 46,
      "outputs": []
    },
    {
      "cell_type": "code",
      "metadata": {
        "id": "HwX2gNHNzyKO"
      },
      "source": [
        "en_train_webis = [bart_tokenizer_new(query, truncation=True) for query in train_webis_og]\n",
        "en_train_webis_corr = [bart_tokenizer(query, truncation=True) for query in train_webis_corr]\n",
        "en_val_webis = [bart_tokenizer_new(query, truncation=True) for query in val_webis_og]\n",
        "en_val_webis_corr = [bart_tokenizer(query, truncation=True) for query in val_webis_corr]\n",
        "\n",
        "for i, dic in enumerate(en_train_webis):\n",
        "  en_train_webis[i]['labels'] = en_train_webis_corr[i]['input_ids']\n",
        "for i, dic in enumerate(en_val_webis):\n",
        "  en_val_webis[i]['labels'] = en_val_webis_corr[i]['input_ids']"
      ],
      "execution_count": 47,
      "outputs": []
    },
    {
      "cell_type": "code",
      "metadata": {
        "colab": {
          "base_uri": "https://localhost:8080/"
        },
        "id": "K6oSFaWb0LHF",
        "outputId": "cb57d19e-9236-460f-dc05-527674ef678f"
      },
      "source": [
        "bart_model_new.to(device)\n",
        "bart_dir_new = './local_trained_bart_new/'\n",
        "\n",
        "bart_collator_new = bart_collator_class(mlm_probability=1e-30, # virtually 0 prob.\n",
        "                                        tokenizer=bart_tokenizer_new)\n",
        "\n",
        "bart_training_args_new = TrainingArguments(\n",
        "    learning_rate=2e-5, # low to avoid catastrophic forgetting\n",
        "    output_dir=bart_dir_new,\n",
        "    overwrite_output_dir=True,\n",
        "    num_train_epochs=10,\n",
        "    load_best_model_at_end=True,\n",
        "    evaluation_strategy='epoch',\n",
        "    save_strategy='epoch',\n",
        "    per_device_train_batch_size=256,\n",
        "    per_device_eval_batch_size=512,\n",
        "    logging_steps=len(en_train_webis)//256,\n",
        "    prediction_loss_only=True)\n",
        "\n",
        "bart_trainer_new = Trainer(\n",
        "    model=bart_model_new,\n",
        "    args=bart_training_args_new,\n",
        "    data_collator=bart_collator_new,\n",
        "    train_dataset=en_train_webis,\n",
        "    eval_dataset=en_val_webis)"
      ],
      "execution_count": 48,
      "outputs": [
        {
          "output_type": "stream",
          "text": [
            "loading configuration file https://huggingface.co/facebook/bart-base/resolve/main/config.json from cache at /root/.cache/huggingface/transformers/f5310d276a6d1648d00c32fadc8bf7b4607e0fbd5b404fc4a0045960aa2bdfdb.8512cdf8592f538a7fd4b40eecaa096285410ec6494049568b3300922ab71165\n",
            "Model config BartConfig {\n",
            "  \"activation_dropout\": 0.1,\n",
            "  \"activation_function\": \"gelu\",\n",
            "  \"add_bias_logits\": false,\n",
            "  \"add_final_layer_norm\": false,\n",
            "  \"architectures\": [\n",
            "    \"BartModel\"\n",
            "  ],\n",
            "  \"attention_dropout\": 0.1,\n",
            "  \"bos_token_id\": 0,\n",
            "  \"classif_dropout\": 0.1,\n",
            "  \"classifier_dropout\": 0.0,\n",
            "  \"d_model\": 768,\n",
            "  \"decoder_attention_heads\": 12,\n",
            "  \"decoder_ffn_dim\": 3072,\n",
            "  \"decoder_layerdrop\": 0.0,\n",
            "  \"decoder_layers\": 6,\n",
            "  \"decoder_start_token_id\": 2,\n",
            "  \"dropout\": 0.1,\n",
            "  \"early_stopping\": true,\n",
            "  \"encoder_attention_heads\": 12,\n",
            "  \"encoder_ffn_dim\": 3072,\n",
            "  \"encoder_layerdrop\": 0.0,\n",
            "  \"encoder_layers\": 6,\n",
            "  \"eos_token_id\": 2,\n",
            "  \"forced_eos_token_id\": 2,\n",
            "  \"gradient_checkpointing\": false,\n",
            "  \"id2label\": {\n",
            "    \"0\": \"LABEL_0\",\n",
            "    \"1\": \"LABEL_1\",\n",
            "    \"2\": \"LABEL_2\"\n",
            "  },\n",
            "  \"init_std\": 0.02,\n",
            "  \"is_encoder_decoder\": true,\n",
            "  \"label2id\": {\n",
            "    \"LABEL_0\": 0,\n",
            "    \"LABEL_1\": 1,\n",
            "    \"LABEL_2\": 2\n",
            "  },\n",
            "  \"max_position_embeddings\": 1024,\n",
            "  \"model_type\": \"bart\",\n",
            "  \"no_repeat_ngram_size\": 3,\n",
            "  \"normalize_before\": false,\n",
            "  \"normalize_embedding\": true,\n",
            "  \"num_beams\": 4,\n",
            "  \"num_hidden_layers\": 6,\n",
            "  \"pad_token_id\": 1,\n",
            "  \"scale_embedding\": false,\n",
            "  \"task_specific_params\": {\n",
            "    \"summarization\": {\n",
            "      \"length_penalty\": 1.0,\n",
            "      \"max_length\": 128,\n",
            "      \"min_length\": 12,\n",
            "      \"num_beams\": 4\n",
            "    },\n",
            "    \"summarization_cnn\": {\n",
            "      \"length_penalty\": 2.0,\n",
            "      \"max_length\": 142,\n",
            "      \"min_length\": 56,\n",
            "      \"num_beams\": 4\n",
            "    },\n",
            "    \"summarization_xsum\": {\n",
            "      \"length_penalty\": 1.0,\n",
            "      \"max_length\": 62,\n",
            "      \"min_length\": 11,\n",
            "      \"num_beams\": 6\n",
            "    }\n",
            "  },\n",
            "  \"transformers_version\": \"4.9.2\",\n",
            "  \"use_cache\": true,\n",
            "  \"vocab_size\": 50265\n",
            "}\n",
            "\n",
            "PyTorch: setting up devices\n",
            "The default value for the training argument `--report_to` will change in v5 (from all installed integrations to none). In v5, you will need to use `--report_to all` to get the same behavior as now. You should start updating your code and make this info disappear :-).\n"
          ],
          "name": "stderr"
        }
      ]
    },
    {
      "cell_type": "code",
      "metadata": {
        "colab": {
          "base_uri": "https://localhost:8080/",
          "height": 1000
        },
        "id": "NpIAjsdX3cRQ",
        "outputId": "0a433af0-e259-467c-dd79-d413d4921893"
      },
      "source": [
        "bart_trainer_new.train()\n",
        "bart_trainer_new.save_model()"
      ],
      "execution_count": null,
      "outputs": [
        {
          "output_type": "stream",
          "text": [
            "***** Running training *****\n",
            "  Num examples = 53830\n",
            "  Num Epochs = 10\n",
            "  Instantaneous batch size per device = 256\n",
            "  Total train batch size (w. parallel, distributed & accumulation) = 256\n",
            "  Gradient Accumulation steps = 1\n",
            "  Total optimization steps = 2110\n"
          ],
          "name": "stderr"
        },
        {
          "output_type": "display_data",
          "data": {
            "text/html": [
              "\n",
              "    <div>\n",
              "      \n",
              "      <progress value='2110' max='2110' style='width:300px; height:20px; vertical-align: middle;'></progress>\n",
              "      [2110/2110 26:04, Epoch 10/10]\n",
              "    </div>\n",
              "    <table border=\"1\" class=\"dataframe\">\n",
              "  <thead>\n",
              "    <tr style=\"text-align: left;\">\n",
              "      <th>Epoch</th>\n",
              "      <th>Training Loss</th>\n",
              "      <th>Validation Loss</th>\n",
              "    </tr>\n",
              "  </thead>\n",
              "  <tbody>\n",
              "    <tr>\n",
              "      <td>1</td>\n",
              "      <td>1.385100</td>\n",
              "      <td>1.042748</td>\n",
              "    </tr>\n",
              "    <tr>\n",
              "      <td>2</td>\n",
              "      <td>1.137500</td>\n",
              "      <td>0.926050</td>\n",
              "    </tr>\n",
              "    <tr>\n",
              "      <td>3</td>\n",
              "      <td>1.022600</td>\n",
              "      <td>0.859742</td>\n",
              "    </tr>\n",
              "    <tr>\n",
              "      <td>4</td>\n",
              "      <td>0.943500</td>\n",
              "      <td>0.809754</td>\n",
              "    </tr>\n",
              "    <tr>\n",
              "      <td>5</td>\n",
              "      <td>0.893400</td>\n",
              "      <td>0.800659</td>\n",
              "    </tr>\n",
              "    <tr>\n",
              "      <td>6</td>\n",
              "      <td>0.851900</td>\n",
              "      <td>0.803433</td>\n",
              "    </tr>\n",
              "    <tr>\n",
              "      <td>7</td>\n",
              "      <td>0.824800</td>\n",
              "      <td>0.788158</td>\n",
              "    </tr>\n",
              "    <tr>\n",
              "      <td>8</td>\n",
              "      <td>0.806000</td>\n",
              "      <td>0.778816</td>\n",
              "    </tr>\n",
              "    <tr>\n",
              "      <td>9</td>\n",
              "      <td>0.792200</td>\n",
              "      <td>0.763171</td>\n",
              "    </tr>\n",
              "    <tr>\n",
              "      <td>10</td>\n",
              "      <td>0.789500</td>\n",
              "      <td>0.772067</td>\n",
              "    </tr>\n",
              "  </tbody>\n",
              "</table><p>"
            ],
            "text/plain": [
              "<IPython.core.display.HTML object>"
            ]
          },
          "metadata": {
            "tags": []
          }
        },
        {
          "output_type": "stream",
          "text": [
            "***** Running Evaluation *****\n",
            "  Num examples = 2564\n",
            "  Batch size = 512\n",
            "Saving model checkpoint to ./local_trained_bart_new/checkpoint-211\n",
            "Configuration saved in ./local_trained_bart_new/checkpoint-211/config.json\n",
            "Model weights saved in ./local_trained_bart_new/checkpoint-211/pytorch_model.bin\n",
            "***** Running Evaluation *****\n",
            "  Num examples = 2564\n",
            "  Batch size = 512\n",
            "Saving model checkpoint to ./local_trained_bart_new/checkpoint-422\n",
            "Configuration saved in ./local_trained_bart_new/checkpoint-422/config.json\n",
            "Model weights saved in ./local_trained_bart_new/checkpoint-422/pytorch_model.bin\n",
            "***** Running Evaluation *****\n",
            "  Num examples = 2564\n",
            "  Batch size = 512\n",
            "Saving model checkpoint to ./local_trained_bart_new/checkpoint-633\n",
            "Configuration saved in ./local_trained_bart_new/checkpoint-633/config.json\n",
            "Model weights saved in ./local_trained_bart_new/checkpoint-633/pytorch_model.bin\n",
            "***** Running Evaluation *****\n",
            "  Num examples = 2564\n",
            "  Batch size = 512\n",
            "Saving model checkpoint to ./local_trained_bart_new/checkpoint-844\n",
            "Configuration saved in ./local_trained_bart_new/checkpoint-844/config.json\n",
            "Model weights saved in ./local_trained_bart_new/checkpoint-844/pytorch_model.bin\n",
            "***** Running Evaluation *****\n",
            "  Num examples = 2564\n",
            "  Batch size = 512\n",
            "Saving model checkpoint to ./local_trained_bart_new/checkpoint-1055\n",
            "Configuration saved in ./local_trained_bart_new/checkpoint-1055/config.json\n",
            "Model weights saved in ./local_trained_bart_new/checkpoint-1055/pytorch_model.bin\n",
            "***** Running Evaluation *****\n",
            "  Num examples = 2564\n",
            "  Batch size = 512\n",
            "Saving model checkpoint to ./local_trained_bart_new/checkpoint-1266\n",
            "Configuration saved in ./local_trained_bart_new/checkpoint-1266/config.json\n",
            "Model weights saved in ./local_trained_bart_new/checkpoint-1266/pytorch_model.bin\n",
            "***** Running Evaluation *****\n",
            "  Num examples = 2564\n",
            "  Batch size = 512\n",
            "Saving model checkpoint to ./local_trained_bart_new/checkpoint-1477\n",
            "Configuration saved in ./local_trained_bart_new/checkpoint-1477/config.json\n",
            "Model weights saved in ./local_trained_bart_new/checkpoint-1477/pytorch_model.bin\n",
            "***** Running Evaluation *****\n",
            "  Num examples = 2564\n",
            "  Batch size = 512\n",
            "Saving model checkpoint to ./local_trained_bart_new/checkpoint-1688\n",
            "Configuration saved in ./local_trained_bart_new/checkpoint-1688/config.json\n",
            "Model weights saved in ./local_trained_bart_new/checkpoint-1688/pytorch_model.bin\n",
            "***** Running Evaluation *****\n",
            "  Num examples = 2564\n",
            "  Batch size = 512\n",
            "Saving model checkpoint to ./local_trained_bart_new/checkpoint-1899\n",
            "Configuration saved in ./local_trained_bart_new/checkpoint-1899/config.json\n",
            "Model weights saved in ./local_trained_bart_new/checkpoint-1899/pytorch_model.bin\n",
            "***** Running Evaluation *****\n",
            "  Num examples = 2564\n",
            "  Batch size = 512\n",
            "Saving model checkpoint to ./local_trained_bart_new/checkpoint-2110\n",
            "Configuration saved in ./local_trained_bart_new/checkpoint-2110/config.json\n",
            "Model weights saved in ./local_trained_bart_new/checkpoint-2110/pytorch_model.bin\n",
            "\n",
            "\n",
            "Training completed. Do not forget to share your model on huggingface.co/models =)\n",
            "\n",
            "\n",
            "Loading best model from ./local_trained_bart_new/checkpoint-1899 (score: 0.7631706595420837).\n"
          ],
          "name": "stderr"
        },
        {
          "output_type": "execute_result",
          "data": {
            "text/plain": [
              "TrainOutput(global_step=2110, training_loss=0.9438603355986247, metrics={'train_runtime': 1565.4183, 'train_samples_per_second': 343.87, 'train_steps_per_second': 1.348, 'total_flos': 5128455241728000.0, 'train_loss': 0.9438603355986247, 'epoch': 10.0})"
            ]
          },
          "metadata": {
            "tags": []
          },
          "execution_count": 386
        }
      ]
    },
    {
      "cell_type": "code",
      "metadata": {
        "id": "fU5Ytf-qotmr"
      },
      "source": [
        "## uncomment below to reload model\n",
        "# bart_model_new = BartForConditionalGeneration.from_pretrained(bart_dir_new)"
      ],
      "execution_count": null,
      "outputs": []
    },
    {
      "cell_type": "code",
      "metadata": {
        "id": "rDb0qqfQOSPe"
      },
      "source": [
        "# put model back on cpu and on eval mode for inference\n",
        "bart_model_new.to('cpu');\n",
        "bart_model_new.eval();"
      ],
      "execution_count": 50,
      "outputs": []
    },
    {
      "cell_type": "markdown",
      "metadata": {
        "id": "808K0xnhCVl1"
      },
      "source": [
        "## 4.5 Testing System 3\n",
        "\n",
        "We test System 3 in the same way we tested System 2 and System 3 above. We reserve two test sets for autocorrection, one without and one with mistakes,  and three tests sets for autocompletion, one without mistakes and one word dropped, one with mistakes and one word dropped, and one with mistakes with two words dropped. We compare System 3 with System 2 and finally with Google's autocompletion feature. "
      ]
    },
    {
      "cell_type": "code",
      "metadata": {
        "id": "e2x_WMBiCjbt",
        "colab": {
          "base_uri": "https://localhost:8080/"
        },
        "outputId": "5dd8473b-0ef6-473b-db84-ce411bd4647c"
      },
      "source": [
        "system3_autocomplete = autocomplete(corr_model=bart_model_new, \n",
        "                                        corr_tok=bart_tokenizer_new, \n",
        "                                        gen_model=bart_model_new,\n",
        "                                        gen_tok=bart_tokenizer_new,\n",
        "                                        mode=None)\n",
        "\n",
        "# demo\n",
        "set_seed(0)\n",
        "print(system3_autocomplete('how to does', to_add=4), '\\n')\n",
        "print(system3_autocomplete('hw do you tie a iet', to_add=0))"
      ],
      "execution_count": 61,
      "outputs": [
        {
          "output_type": "stream",
          "text": [
            "['how to do math', 'how to do it yourself', 'how to do a bow'] \n",
            "\n",
            "['how do you tie a tie']\n"
          ],
          "name": "stdout"
        }
      ]
    },
    {
      "cell_type": "code",
      "metadata": {
        "id": "bMx_FnvZVbn3"
      },
      "source": [
        "new_true_queries_a = test_webis[test_webis['String with mistake(s)'] \n",
        "                                   == test_webis['Possible Correction']]['Possible Correction'].tolist()[:200]\n",
        "\n",
        "new_true_queries_b = test_webis[test_webis['String with mistake(s)'] \n",
        "                                   != test_webis['Possible Correction']]['Possible Correction'].tolist()[:200]\n",
        "\n",
        "\n",
        "new_true_queries_c = test_webis[test_webis['String with mistake(s)'] \n",
        "                                   == test_webis['Possible Correction']]['Possible Correction'].tolist()[:200]\n",
        "\n",
        "\n",
        "new_true_queries_d = test_webis[test_webis['String with mistake(s)'] \n",
        "                                   != test_webis['Possible Correction']]['Possible Correction'].tolist()[:200]\n",
        "\n",
        "\n",
        "new_true_queries_e = test_webis[test_webis['String with mistake(s)'] \n",
        "                                   != test_webis['Possible Correction']]['Possible Correction'].tolist()[:200]                            "
      ],
      "execution_count": null,
      "outputs": []
    },
    {
      "cell_type": "code",
      "metadata": {
        "id": "H6-7GzD3Rxsz"
      },
      "source": [
        "# alter user queries\n",
        "np.random.seed(1)\n",
        "new_mod_queries_a = new_true_queries_a\n",
        "new_mod_queries_b = test_webis[test_webis['String with mistake(s)'] \n",
        "                                   != test_webis['Possible Correction']]['String with mistake(s)'].tolist()[:200]\n",
        "new_mod_queries_c = [alter_query(query, to_drop=1, to_edit=0) for query in new_true_queries_c]\n",
        "new_mod_queries_d = [alter_query(query, to_drop=1, to_edit=0) for query in test_webis[test_webis['String with mistake(s)'] \n",
        "                                   != test_webis['Possible Correction']]['String with mistake(s)'].tolist()[:200]]\n",
        "new_mod_queries_e = [alter_query(query, to_drop=2, to_edit=0) for query in test_webis[test_webis['String with mistake(s)'] \n",
        "                                   != test_webis['Possible Correction']]['String with mistake(s)'].tolist()[:200]]"
      ],
      "execution_count": null,
      "outputs": []
    },
    {
      "cell_type": "markdown",
      "metadata": {
        "id": "wMvYNB2TJAhA"
      },
      "source": [
        "### 4.5.1 Autocorrector"
      ]
    },
    {
      "cell_type": "code",
      "metadata": {
        "id": "pC6TbOlUWdlM"
      },
      "source": [
        "set_seed(0)\n",
        "\n",
        "# get predictions for system 2 autocorrector \n",
        "new_autocorrect_2_a = [system2_autocomplete(query, to_add=0) for query in new_mod_queries_a]\n",
        "new_autocorrect_2_b = [system2_autocomplete(query, to_add=0) for query in new_mod_queries_b]\n",
        "\n",
        "set_seed(0)\n",
        "\n",
        "# get predictions for system 3 autocorrector \n",
        "new_autocorrect_3_a = [system3_autocomplete(query, to_add=0) for query in new_mod_queries_a]\n",
        "new_autocorrect_3_b = [system3_autocomplete(query, to_add=0) for query in new_mod_queries_b]"
      ],
      "execution_count": null,
      "outputs": []
    },
    {
      "cell_type": "code",
      "metadata": {
        "id": "t9vckQiHWdlM"
      },
      "source": [
        "# compute metrics for all system 1 autocorrector predictions\n",
        "new_bleu_2_a = compute_metric(new_true_queries_a, new_autocorrect_2_a, bleu_score)\n",
        "new_bleu_2_b = compute_metric(new_true_queries_b, new_autocorrect_2_b, bleu_score)\n",
        "new_sim_2_a = compute_metric(new_true_queries_a, new_autocorrect_2_a, cos_sim)\n",
        "new_sim_2_b = compute_metric(new_true_queries_b, new_autocorrect_2_b, cos_sim)\n",
        "\n",
        "# compute metrics for all system 2 autocorrector predictions\n",
        "new_bleu_3_a = compute_metric(new_true_queries_a, new_autocorrect_3_a, bleu_score)\n",
        "new_bleu_3_b = compute_metric(new_true_queries_b, new_autocorrect_3_b, bleu_score)\n",
        "new_sim_3_a = compute_metric(new_true_queries_a, new_autocorrect_3_a, cos_sim)\n",
        "new_sim_3_b = compute_metric(new_true_queries_b, new_autocorrect_3_b, cos_sim)"
      ],
      "execution_count": null,
      "outputs": []
    },
    {
      "cell_type": "code",
      "metadata": {
        "id": "HWMGvkOfWdlM"
      },
      "source": [
        "top_new_autocorrect_2_a = [[pred[0]] for pred in new_autocorrect_2_a]\n",
        "top_new_autocorrect_2_b = [[pred[0]] for pred in new_autocorrect_2_b]\n",
        "\n",
        "top_new_autocorrect_3_a = [[pred[0]] for pred in new_autocorrect_3_a]\n",
        "top_new_autocorrect_3_b = [[pred[0]] for pred in new_autocorrect_3_b]\n",
        "\n",
        "# compute metrics for all system 2 autocorrector predictions\n",
        "top_new_bleu_2_a = compute_metric(new_true_queries_a, top_new_autocorrect_2_a, bleu_score)\n",
        "top_new_bleu_2_b = compute_metric(new_true_queries_b, top_new_autocorrect_2_b, bleu_score)\n",
        "top_new_sim_2_a = compute_metric(new_true_queries_a, top_new_autocorrect_2_a, cos_sim)\n",
        "top_new_sim_2_b = compute_metric(new_true_queries_b, top_new_autocorrect_2_b, cos_sim)\n",
        "\n",
        "# compute metrics for all system 3 autocorrector predictions\n",
        "top_new_bleu_3_a =  compute_metric(new_true_queries_a, top_new_autocorrect_3_a, bleu_score)\n",
        "top_new_bleu_3_b = compute_metric(new_true_queries_b, top_new_autocorrect_3_b, bleu_score)\n",
        "top_new_sim_3_a = compute_metric(new_true_queries_a, top_new_autocorrect_3_a, cos_sim)\n",
        "top_new_sim_3_b = compute_metric(new_true_queries_b, top_new_autocorrect_3_b, cos_sim)"
      ],
      "execution_count": null,
      "outputs": []
    },
    {
      "cell_type": "code",
      "metadata": {
        "colab": {
          "base_uri": "https://localhost:8080/",
          "height": 128
        },
        "id": "Odj5U6yiWdlN",
        "outputId": "eaadc04c-b919-4cb7-c7f9-ef411cf813d6"
      },
      "source": [
        "# show bleu scores for all autocorrector predictions\n",
        "new_bleu_results_corr = pd.DataFrame(columns=['unaltered', 'mistake(s)'])\n",
        "new_bleu_results_corr.loc['System 2'] = [new_bleu_2_a, new_bleu_2_b]\n",
        "new_bleu_results_corr.loc['System 3'] = [new_bleu_3_a, new_bleu_3_b]\n",
        "print('Autocorrection BLEU for all predictions')\n",
        "new_bleu_results_corr"
      ],
      "execution_count": null,
      "outputs": [
        {
          "output_type": "stream",
          "text": [
            "Autocorrection BLEU for all predictions\n"
          ],
          "name": "stdout"
        },
        {
          "output_type": "execute_result",
          "data": {
            "text/html": [
              "<div>\n",
              "<style scoped>\n",
              "    .dataframe tbody tr th:only-of-type {\n",
              "        vertical-align: middle;\n",
              "    }\n",
              "\n",
              "    .dataframe tbody tr th {\n",
              "        vertical-align: top;\n",
              "    }\n",
              "\n",
              "    .dataframe thead th {\n",
              "        text-align: right;\n",
              "    }\n",
              "</style>\n",
              "<table border=\"1\" class=\"dataframe\">\n",
              "  <thead>\n",
              "    <tr style=\"text-align: right;\">\n",
              "      <th></th>\n",
              "      <th>unaltered</th>\n",
              "      <th>mistake(s)</th>\n",
              "    </tr>\n",
              "  </thead>\n",
              "  <tbody>\n",
              "    <tr>\n",
              "      <th>System 2</th>\n",
              "      <td>57.847598</td>\n",
              "      <td>35.473011</td>\n",
              "    </tr>\n",
              "    <tr>\n",
              "      <th>System 3</th>\n",
              "      <td>76.837833</td>\n",
              "      <td>45.318282</td>\n",
              "    </tr>\n",
              "  </tbody>\n",
              "</table>\n",
              "</div>"
            ],
            "text/plain": [
              "          unaltered  mistake(s)\n",
              "System 2  57.847598   35.473011\n",
              "System 3  76.837833   45.318282"
            ]
          },
          "metadata": {
            "tags": []
          },
          "execution_count": 395
        }
      ]
    },
    {
      "cell_type": "code",
      "metadata": {
        "colab": {
          "base_uri": "https://localhost:8080/",
          "height": 128
        },
        "id": "5yHBuDoSWdlO",
        "outputId": "9ed4d311-5582-4b9a-896c-2e706aa922db"
      },
      "source": [
        "# show cosine similarities for all predictions\n",
        "new_sim_results_corr = pd.DataFrame(columns=['unaltered', 'mistake(s)'])\n",
        "new_sim_results_corr.loc['System 2'] = [new_sim_2_a, new_sim_2_b]\n",
        "new_sim_results_corr.loc['System 3'] = [new_sim_3_a, new_sim_3_b]\n",
        "print('Autocorrection cosine similarity for all predictions')\n",
        "new_sim_results_corr"
      ],
      "execution_count": null,
      "outputs": [
        {
          "output_type": "stream",
          "text": [
            "Autocorrection cosine similarity for all predictions\n"
          ],
          "name": "stdout"
        },
        {
          "output_type": "execute_result",
          "data": {
            "text/html": [
              "<div>\n",
              "<style scoped>\n",
              "    .dataframe tbody tr th:only-of-type {\n",
              "        vertical-align: middle;\n",
              "    }\n",
              "\n",
              "    .dataframe tbody tr th {\n",
              "        vertical-align: top;\n",
              "    }\n",
              "\n",
              "    .dataframe thead th {\n",
              "        text-align: right;\n",
              "    }\n",
              "</style>\n",
              "<table border=\"1\" class=\"dataframe\">\n",
              "  <thead>\n",
              "    <tr style=\"text-align: right;\">\n",
              "      <th></th>\n",
              "      <th>unaltered</th>\n",
              "      <th>mistake(s)</th>\n",
              "    </tr>\n",
              "  </thead>\n",
              "  <tbody>\n",
              "    <tr>\n",
              "      <th>System 2</th>\n",
              "      <td>0.813047</td>\n",
              "      <td>0.727848</td>\n",
              "    </tr>\n",
              "    <tr>\n",
              "      <th>System 3</th>\n",
              "      <td>0.916547</td>\n",
              "      <td>0.837014</td>\n",
              "    </tr>\n",
              "  </tbody>\n",
              "</table>\n",
              "</div>"
            ],
            "text/plain": [
              "          unaltered  mistake(s)\n",
              "System 2   0.813047    0.727848\n",
              "System 3   0.916547    0.837014"
            ]
          },
          "metadata": {
            "tags": []
          },
          "execution_count": 396
        }
      ]
    },
    {
      "cell_type": "code",
      "metadata": {
        "colab": {
          "base_uri": "https://localhost:8080/",
          "height": 128
        },
        "id": "84nH9bmvWdlO",
        "outputId": "4d8cc1fb-00f6-4fc5-f20e-f395d533bb57"
      },
      "source": [
        "# show bleu scores for top predictions\n",
        "top_new_bleu_results_corr = pd.DataFrame(columns=['unaltered', 'mistake(s)'])\n",
        "top_new_bleu_results_corr.loc['System 2'] = [top_new_bleu_2_a, top_new_bleu_2_b]\n",
        "top_new_bleu_results_corr.loc['System 3'] = [top_new_bleu_3_a, top_new_bleu_3_b]\n",
        "print('Autocorrection BLEU for top predictions')\n",
        "top_new_bleu_results_corr"
      ],
      "execution_count": null,
      "outputs": [
        {
          "output_type": "stream",
          "text": [
            "Autocorrection BLEU for top predictions\n"
          ],
          "name": "stdout"
        },
        {
          "output_type": "execute_result",
          "data": {
            "text/html": [
              "<div>\n",
              "<style scoped>\n",
              "    .dataframe tbody tr th:only-of-type {\n",
              "        vertical-align: middle;\n",
              "    }\n",
              "\n",
              "    .dataframe tbody tr th {\n",
              "        vertical-align: top;\n",
              "    }\n",
              "\n",
              "    .dataframe thead th {\n",
              "        text-align: right;\n",
              "    }\n",
              "</style>\n",
              "<table border=\"1\" class=\"dataframe\">\n",
              "  <thead>\n",
              "    <tr style=\"text-align: right;\">\n",
              "      <th></th>\n",
              "      <th>unaltered</th>\n",
              "      <th>mistake(s)</th>\n",
              "    </tr>\n",
              "  </thead>\n",
              "  <tbody>\n",
              "    <tr>\n",
              "      <th>System 2</th>\n",
              "      <td>57.847598</td>\n",
              "      <td>35.477274</td>\n",
              "    </tr>\n",
              "    <tr>\n",
              "      <th>System 3</th>\n",
              "      <td>77.007965</td>\n",
              "      <td>45.592109</td>\n",
              "    </tr>\n",
              "  </tbody>\n",
              "</table>\n",
              "</div>"
            ],
            "text/plain": [
              "          unaltered  mistake(s)\n",
              "System 2  57.847598   35.477274\n",
              "System 3  77.007965   45.592109"
            ]
          },
          "metadata": {
            "tags": []
          },
          "execution_count": 397
        }
      ]
    },
    {
      "cell_type": "code",
      "metadata": {
        "colab": {
          "base_uri": "https://localhost:8080/",
          "height": 128
        },
        "id": "stiyJmFwWdlP",
        "outputId": "f762dd32-f7ce-49b6-dcc6-353357b8a959"
      },
      "source": [
        "# show cosine similarities for top predictions\n",
        "top_new_sim_results_corr = pd.DataFrame(columns=['unaltered', 'mistake(s)'])\n",
        "top_new_sim_results_corr.loc['System 2'] = [top_new_sim_2_a, top_new_sim_2_b]\n",
        "top_new_sim_results_corr.loc['System 3'] = [top_new_sim_3_a, top_new_sim_3_b]\n",
        "print('Autocorrection cosine similarity for top predictions')\n",
        "top_new_sim_results_corr"
      ],
      "execution_count": null,
      "outputs": [
        {
          "output_type": "stream",
          "text": [
            "Autocorrection cosine similarity for top predictions\n"
          ],
          "name": "stdout"
        },
        {
          "output_type": "execute_result",
          "data": {
            "text/html": [
              "<div>\n",
              "<style scoped>\n",
              "    .dataframe tbody tr th:only-of-type {\n",
              "        vertical-align: middle;\n",
              "    }\n",
              "\n",
              "    .dataframe tbody tr th {\n",
              "        vertical-align: top;\n",
              "    }\n",
              "\n",
              "    .dataframe thead th {\n",
              "        text-align: right;\n",
              "    }\n",
              "</style>\n",
              "<table border=\"1\" class=\"dataframe\">\n",
              "  <thead>\n",
              "    <tr style=\"text-align: right;\">\n",
              "      <th></th>\n",
              "      <th>unaltered</th>\n",
              "      <th>mistake(s)</th>\n",
              "    </tr>\n",
              "  </thead>\n",
              "  <tbody>\n",
              "    <tr>\n",
              "      <th>System 2</th>\n",
              "      <td>0.815754</td>\n",
              "      <td>0.726070</td>\n",
              "    </tr>\n",
              "    <tr>\n",
              "      <th>System 3</th>\n",
              "      <td>0.916570</td>\n",
              "      <td>0.840747</td>\n",
              "    </tr>\n",
              "  </tbody>\n",
              "</table>\n",
              "</div>"
            ],
            "text/plain": [
              "          unaltered  mistake(s)\n",
              "System 2   0.815754    0.726070\n",
              "System 3   0.916570    0.840747"
            ]
          },
          "metadata": {
            "tags": []
          },
          "execution_count": 398
        }
      ]
    },
    {
      "cell_type": "markdown",
      "metadata": {
        "id": "JEq8A9VQgcjS"
      },
      "source": [
        "System 3 beats System 2 by a wide margin."
      ]
    },
    {
      "cell_type": "markdown",
      "metadata": {
        "id": "nU-O5iePhGi5"
      },
      "source": [
        "### 4.5.2 Autocompletion"
      ]
    },
    {
      "cell_type": "code",
      "metadata": {
        "id": "phK0YNqchYBf"
      },
      "source": [
        "set_seed(0)\n",
        "\n",
        "# get predictions for autocompletion system 2\n",
        "new_autocomplete_2_c = [system2_autocomplete(query, to_add=1) for query in new_mod_queries_c]\n",
        "new_autocomplete_2_d = [system2_autocomplete(query, to_add=1) for query in new_mod_queries_d]\n",
        "new_autocomplete_2_e = [system2_autocomplete(query, to_add=2) for query in new_mod_queries_e]"
      ],
      "execution_count": null,
      "outputs": []
    },
    {
      "cell_type": "code",
      "metadata": {
        "id": "v6NF81-uhYBf"
      },
      "source": [
        "set_seed(0)\n",
        "\n",
        "# get predictions for autocompletion system 3\n",
        "new_autocomplete_3_c = [system3_autocomplete(query, to_add=1) for query in new_mod_queries_c]\n",
        "new_autocomplete_3_d = [system3_autocomplete(query, to_add=1) for query in new_mod_queries_d]\n",
        "new_autocomplete_3_e = [system3_autocomplete(query, to_add=2) for query in new_mod_queries_e]"
      ],
      "execution_count": null,
      "outputs": []
    },
    {
      "cell_type": "code",
      "metadata": {
        "id": "WwGnsXwFhYBg"
      },
      "source": [
        "# compute metrics for all autocompletion system 1 predictions\n",
        "new_bleu_2_c = compute_metric(new_true_queries_c, new_autocomplete_2_c, bleu_score)\n",
        "new_bleu_2_d = compute_metric(new_true_queries_d, new_autocomplete_2_d, bleu_score)\n",
        "new_bleu_2_e = compute_metric(new_true_queries_e, new_autocomplete_2_e, bleu_score)\n",
        "new_sim_2_c = compute_metric(new_true_queries_c, new_autocomplete_2_c, cos_sim)\n",
        "new_sim_2_d = compute_metric(new_true_queries_d, new_autocomplete_2_d, cos_sim)\n",
        "new_sim_2_e = compute_metric(new_true_queries_e, new_autocomplete_2_e, cos_sim)\n",
        "\n",
        "# compute metrics for all new_autocompletion system 3 predictions\n",
        "new_bleu_3_c = compute_metric(new_true_queries_c, new_autocomplete_3_c, bleu_score)\n",
        "new_bleu_3_d = compute_metric(new_true_queries_d, new_autocomplete_3_d, bleu_score)\n",
        "new_bleu_3_e = compute_metric(new_true_queries_e, new_autocomplete_3_e, bleu_score)\n",
        "new_sim_3_c = compute_metric(new_true_queries_c, new_autocomplete_3_c, cos_sim)\n",
        "new_sim_3_d = compute_metric(new_true_queries_d, new_autocomplete_3_d, cos_sim)\n",
        "new_sim_3_e = compute_metric(new_true_queries_e, new_autocomplete_3_e, cos_sim)"
      ],
      "execution_count": null,
      "outputs": []
    },
    {
      "cell_type": "code",
      "metadata": {
        "id": "qwlwglP-hYBg"
      },
      "source": [
        "top_new_autocomplete_2_c = [[pred[0]] for pred in new_autocomplete_2_c]\n",
        "top_new_autocomplete_2_d = [[pred[0]] for pred in new_autocomplete_2_d]\n",
        "top_new_autocomplete_2_e = [[pred[0]] for pred in new_autocomplete_2_e]\n",
        "top_new_autocomplete_3_c = [[pred[0]] for pred in new_autocomplete_3_c]\n",
        "top_new_autocomplete_3_d = [[pred[0]] for pred in new_autocomplete_3_d]\n",
        "top_new_autocomplete_3_e = [[pred[0]] for pred in new_autocomplete_3_e]\n",
        "\n",
        "# compute metrics for top_new autocompletion system 2 predictions\n",
        "top_new_bleu_2_c = compute_metric(new_true_queries_c, top_new_autocomplete_2_c, bleu_score)\n",
        "top_new_bleu_2_d = compute_metric(new_true_queries_d, top_new_autocomplete_2_d, bleu_score)\n",
        "top_new_bleu_2_e = compute_metric(new_true_queries_e, top_new_autocomplete_2_e, bleu_score)\n",
        "top_new_sim_2_c = compute_metric(new_true_queries_c, top_new_autocomplete_2_c, cos_sim)\n",
        "top_new_sim_2_d = compute_metric(new_true_queries_d, top_new_autocomplete_2_d, cos_sim)\n",
        "top_new_sim_2_e = compute_metric(new_true_queries_e, top_new_autocomplete_2_e, cos_sim)\n",
        "\n",
        "# compute metrics for top_new autocompletion system 3 predictions\n",
        "top_new_bleu_3_c = compute_metric(new_true_queries_c, top_new_autocomplete_3_c, bleu_score)\n",
        "top_new_bleu_3_d = compute_metric(new_true_queries_d, top_new_autocomplete_3_d, bleu_score)\n",
        "top_new_bleu_3_e = compute_metric(new_true_queries_e, top_new_autocomplete_3_e, bleu_score)\n",
        "top_new_sim_3_c = compute_metric(new_true_queries_c, top_new_autocomplete_3_c, cos_sim)\n",
        "top_new_sim_3_d = compute_metric(new_true_queries_d, top_new_autocomplete_3_d, cos_sim)\n",
        "top_new_sim_3_e = compute_metric(new_true_queries_e, top_new_autocomplete_3_e, cos_sim)"
      ],
      "execution_count": null,
      "outputs": []
    },
    {
      "cell_type": "code",
      "metadata": {
        "colab": {
          "base_uri": "https://localhost:8080/",
          "height": 128
        },
        "id": "N1DEYBR2hYBg",
        "outputId": "049b537a-1e79-4635-b01d-e365c5cd2415"
      },
      "source": [
        "# show new_bleu scores for all predictions\n",
        "new_bleu_results_com = pd.DataFrame(columns=['1 dropped', '1 dropped+mistake(s)', '2 dropped+mistake(s)'])\n",
        "new_bleu_results_com.loc['System 2'] = [new_bleu_2_c, new_bleu_2_d, new_bleu_2_e]\n",
        "new_bleu_results_com.loc['System 3'] = [new_bleu_3_c, new_bleu_3_d, new_bleu_3_e]\n",
        "print('Autocompletion BLEU for all predictions')\n",
        "new_bleu_results_com"
      ],
      "execution_count": null,
      "outputs": [
        {
          "output_type": "stream",
          "text": [
            "Autocompletion BLEU for all predictions\n"
          ],
          "name": "stdout"
        },
        {
          "output_type": "execute_result",
          "data": {
            "text/html": [
              "<div>\n",
              "<style scoped>\n",
              "    .dataframe tbody tr th:only-of-type {\n",
              "        vertical-align: middle;\n",
              "    }\n",
              "\n",
              "    .dataframe tbody tr th {\n",
              "        vertical-align: top;\n",
              "    }\n",
              "\n",
              "    .dataframe thead th {\n",
              "        text-align: right;\n",
              "    }\n",
              "</style>\n",
              "<table border=\"1\" class=\"dataframe\">\n",
              "  <thead>\n",
              "    <tr style=\"text-align: right;\">\n",
              "      <th></th>\n",
              "      <th>1 dropped</th>\n",
              "      <th>1 dropped+mistake(s)</th>\n",
              "      <th>2 dropped+mistake(s)</th>\n",
              "    </tr>\n",
              "  </thead>\n",
              "  <tbody>\n",
              "    <tr>\n",
              "      <th>System 2</th>\n",
              "      <td>59.401380</td>\n",
              "      <td>36.132788</td>\n",
              "      <td>22.994761</td>\n",
              "    </tr>\n",
              "    <tr>\n",
              "      <th>System 3</th>\n",
              "      <td>63.333421</td>\n",
              "      <td>42.480690</td>\n",
              "      <td>29.733841</td>\n",
              "    </tr>\n",
              "  </tbody>\n",
              "</table>\n",
              "</div>"
            ],
            "text/plain": [
              "          1 dropped  1 dropped+mistake(s)  2 dropped+mistake(s)\n",
              "System 2  59.401380             36.132788             22.994761\n",
              "System 3  63.333421             42.480690             29.733841"
            ]
          },
          "metadata": {
            "tags": []
          },
          "execution_count": 403
        }
      ]
    },
    {
      "cell_type": "code",
      "metadata": {
        "colab": {
          "base_uri": "https://localhost:8080/",
          "height": 128
        },
        "id": "wz_AOSOihYBg",
        "outputId": "89f679f2-054c-4af3-a7d4-f0f4ed498309"
      },
      "source": [
        "# show cosine similarities for all predictions\n",
        "new_sim_results_com = pd.DataFrame(columns=['1 dropped', '1 dropped+mistake(s)', '2 dropped+mistake(s)'])\n",
        "new_sim_results_com.loc['System 2'] = [new_sim_2_c, new_sim_2_d, new_sim_2_e]\n",
        "new_sim_results_com.loc['System 3'] = [new_sim_3_c, new_sim_3_d, new_sim_3_e]\n",
        "print('Autocompletion cosine similarity for all predictions')\n",
        "new_sim_results_com"
      ],
      "execution_count": null,
      "outputs": [
        {
          "output_type": "stream",
          "text": [
            "Autocompletion cosine similarity for all predictions\n"
          ],
          "name": "stdout"
        },
        {
          "output_type": "execute_result",
          "data": {
            "text/html": [
              "<div>\n",
              "<style scoped>\n",
              "    .dataframe tbody tr th:only-of-type {\n",
              "        vertical-align: middle;\n",
              "    }\n",
              "\n",
              "    .dataframe tbody tr th {\n",
              "        vertical-align: top;\n",
              "    }\n",
              "\n",
              "    .dataframe thead th {\n",
              "        text-align: right;\n",
              "    }\n",
              "</style>\n",
              "<table border=\"1\" class=\"dataframe\">\n",
              "  <thead>\n",
              "    <tr style=\"text-align: right;\">\n",
              "      <th></th>\n",
              "      <th>1 dropped</th>\n",
              "      <th>1 dropped+mistake(s)</th>\n",
              "      <th>2 dropped+mistake(s)</th>\n",
              "    </tr>\n",
              "  </thead>\n",
              "  <tbody>\n",
              "    <tr>\n",
              "      <th>System 2</th>\n",
              "      <td>0.812546</td>\n",
              "      <td>0.719672</td>\n",
              "      <td>0.603936</td>\n",
              "    </tr>\n",
              "    <tr>\n",
              "      <th>System 3</th>\n",
              "      <td>0.850217</td>\n",
              "      <td>0.789460</td>\n",
              "      <td>0.667826</td>\n",
              "    </tr>\n",
              "  </tbody>\n",
              "</table>\n",
              "</div>"
            ],
            "text/plain": [
              "          1 dropped  1 dropped+mistake(s)  2 dropped+mistake(s)\n",
              "System 2   0.812546              0.719672              0.603936\n",
              "System 3   0.850217              0.789460              0.667826"
            ]
          },
          "metadata": {
            "tags": []
          },
          "execution_count": 404
        }
      ]
    },
    {
      "cell_type": "code",
      "metadata": {
        "colab": {
          "base_uri": "https://localhost:8080/",
          "height": 128
        },
        "id": "pIMm1QgvhYBh",
        "outputId": "7fd3730f-92b3-47ce-be01-e2c48be52db0"
      },
      "source": [
        "# show bleu scores for top predictions\n",
        "top_new_bleu_results_com = pd.DataFrame(columns=['1 dropped', '1 dropped+mistake(s)', '2 dropped+mistake(s)'])\n",
        "top_new_bleu_results_com.loc['System 2'] = [top_new_bleu_2_c, top_new_bleu_2_d, top_new_bleu_2_e]\n",
        "top_new_bleu_results_com.loc['System 3'] = [top_new_bleu_3_c, top_new_bleu_3_d, top_new_bleu_3_e]\n",
        "print('Autocompletion BLEU for top predictions')\n",
        "top_new_bleu_results_com"
      ],
      "execution_count": null,
      "outputs": [
        {
          "output_type": "stream",
          "text": [
            "Autocompletion BLEU for top predictions\n"
          ],
          "name": "stdout"
        },
        {
          "output_type": "execute_result",
          "data": {
            "text/html": [
              "<div>\n",
              "<style scoped>\n",
              "    .dataframe tbody tr th:only-of-type {\n",
              "        vertical-align: middle;\n",
              "    }\n",
              "\n",
              "    .dataframe tbody tr th {\n",
              "        vertical-align: top;\n",
              "    }\n",
              "\n",
              "    .dataframe thead th {\n",
              "        text-align: right;\n",
              "    }\n",
              "</style>\n",
              "<table border=\"1\" class=\"dataframe\">\n",
              "  <thead>\n",
              "    <tr style=\"text-align: right;\">\n",
              "      <th></th>\n",
              "      <th>1 dropped</th>\n",
              "      <th>1 dropped+mistake(s)</th>\n",
              "      <th>2 dropped+mistake(s)</th>\n",
              "    </tr>\n",
              "  </thead>\n",
              "  <tbody>\n",
              "    <tr>\n",
              "      <th>System 2</th>\n",
              "      <td>59.360756</td>\n",
              "      <td>36.097454</td>\n",
              "      <td>22.501924</td>\n",
              "    </tr>\n",
              "    <tr>\n",
              "      <th>System 3</th>\n",
              "      <td>63.328042</td>\n",
              "      <td>42.112538</td>\n",
              "      <td>29.960961</td>\n",
              "    </tr>\n",
              "  </tbody>\n",
              "</table>\n",
              "</div>"
            ],
            "text/plain": [
              "          1 dropped  1 dropped+mistake(s)  2 dropped+mistake(s)\n",
              "System 2  59.360756             36.097454             22.501924\n",
              "System 3  63.328042             42.112538             29.960961"
            ]
          },
          "metadata": {
            "tags": []
          },
          "execution_count": 405
        }
      ]
    },
    {
      "cell_type": "code",
      "metadata": {
        "colab": {
          "base_uri": "https://localhost:8080/",
          "height": 128
        },
        "id": "jml0spRwhYBh",
        "outputId": "8e2e9985-0f5a-493d-d388-1cc815d5c5f8"
      },
      "source": [
        "# show cosine similarities for top predictions\n",
        "top_new_sim_results_com = pd.DataFrame(columns=['1 dropped', '1 dropped+mistake(s)', '2 dropped+mistake(s)'])\n",
        "top_new_sim_results_com.loc['System 2'] = [top_new_sim_2_c, top_new_sim_2_d, top_new_sim_2_e]\n",
        "top_new_sim_results_com.loc['System 3'] = [top_new_sim_3_c, top_new_sim_3_d, top_new_sim_3_e]\n",
        "print('Autocompletion cosine similarity for top predictions')\n",
        "top_new_sim_results_com"
      ],
      "execution_count": null,
      "outputs": [
        {
          "output_type": "stream",
          "text": [
            "Autocompletion cosine similarity for top predictions\n"
          ],
          "name": "stdout"
        },
        {
          "output_type": "execute_result",
          "data": {
            "text/html": [
              "<div>\n",
              "<style scoped>\n",
              "    .dataframe tbody tr th:only-of-type {\n",
              "        vertical-align: middle;\n",
              "    }\n",
              "\n",
              "    .dataframe tbody tr th {\n",
              "        vertical-align: top;\n",
              "    }\n",
              "\n",
              "    .dataframe thead th {\n",
              "        text-align: right;\n",
              "    }\n",
              "</style>\n",
              "<table border=\"1\" class=\"dataframe\">\n",
              "  <thead>\n",
              "    <tr style=\"text-align: right;\">\n",
              "      <th></th>\n",
              "      <th>1 dropped</th>\n",
              "      <th>1 dropped+mistake(s)</th>\n",
              "      <th>2 dropped+mistake(s)</th>\n",
              "    </tr>\n",
              "  </thead>\n",
              "  <tbody>\n",
              "    <tr>\n",
              "      <th>System 2</th>\n",
              "      <td>0.813343</td>\n",
              "      <td>0.719203</td>\n",
              "      <td>0.599653</td>\n",
              "    </tr>\n",
              "    <tr>\n",
              "      <th>System 3</th>\n",
              "      <td>0.850220</td>\n",
              "      <td>0.787765</td>\n",
              "      <td>0.671819</td>\n",
              "    </tr>\n",
              "  </tbody>\n",
              "</table>\n",
              "</div>"
            ],
            "text/plain": [
              "          1 dropped  1 dropped+mistake(s)  2 dropped+mistake(s)\n",
              "System 2   0.813343              0.719203              0.599653\n",
              "System 3   0.850220              0.787765              0.671819"
            ]
          },
          "metadata": {
            "tags": []
          },
          "execution_count": 406
        }
      ]
    },
    {
      "cell_type": "markdown",
      "metadata": {
        "id": "WJnc4y65g5WH"
      },
      "source": [
        "System 3 pressed its advantage home and unsurprisingly outperforms System 2. "
      ]
    },
    {
      "cell_type": "markdown",
      "metadata": {
        "id": "UGCm0GK3HjF_"
      },
      "source": [
        "### 4.5.3 System 3 vs Google\n",
        "\n",
        "To interact with Google's autocompletion feature, we will use an unofficial 'API'. This is essentially a hack, but is ostensibly legal. More information can be found in this [Stack Overflow thread](https://stackoverflow.com/questions/59734597/is-it-illegal-to-use-googles-reverse-engineered-suggestions-api-in-a-new-web-br).\n",
        "\n",
        "Recall that we previously specified how many additional words to generate to our systems because their performance significantly drops otherwise. However, to put System 3 and Google on equal footing, we do not so here (we set the number of additional words to generate to 16, the maximal length of a query)."
      ]
    },
    {
      "cell_type": "code",
      "metadata": {
        "id": "XHGXNny5Hl2t"
      },
      "source": [
        "import requests\n",
        "\n",
        "url = 'http://google.com/complete/search?output=toolbar&client=chrome&q='\n",
        "\n",
        "# function to call Google's autcompletion API\n",
        "def google_autocomplete(query, size=3):\n",
        "  query = query.replace(' ', '+')\n",
        "  r = requests.get(url + query)\n",
        "  suggs = r.json()[1][:size]\n",
        "  if len(suggs) == 0:\n",
        "    suggs = [query]\n",
        "  return suggs"
      ],
      "execution_count": null,
      "outputs": []
    },
    {
      "cell_type": "code",
      "metadata": {
        "id": "FQWs0ZSyIElx"
      },
      "source": [
        "# get Google's predictions\n",
        "google_autocomplete_c = [google_autocomplete(query) for query in new_mod_queries_c]\n",
        "google_autocomplete_d = [google_autocomplete(query) for query in new_mod_queries_d]\n",
        "google_autocomplete_e = [google_autocomplete(query) for query in new_mod_queries_e]"
      ],
      "execution_count": null,
      "outputs": []
    },
    {
      "cell_type": "code",
      "metadata": {
        "id": "a5N3DjYsLvaj"
      },
      "source": [
        "# get system 3's predictions\n",
        "new_autocomplete_3_c = [system3_autocomplete(query, to_add=16) for query in new_mod_queries_c]\n",
        "new_autocomplete_3_d = [system3_autocomplete(query, to_add=16) for query in new_mod_queries_d]\n",
        "new_autocomplete_3_e = [system3_autocomplete(query, to_add=16) for query in new_mod_queries_e]"
      ],
      "execution_count": null,
      "outputs": []
    },
    {
      "cell_type": "code",
      "metadata": {
        "id": "lfa7lWA5H1Ha"
      },
      "source": [
        "# compute metrics for all autocompletion system 1 predictions\n",
        "google_bleu_c = compute_metric(new_true_queries_c, google_autocomplete_c, bleu_score)\n",
        "google_sim_c = compute_metric(new_true_queries_c, google_autocomplete_c, cos_sim)\n",
        "google_bleu_d = compute_metric(new_true_queries_d, google_autocomplete_d, bleu_score)\n",
        "google_sim_d = compute_metric(new_true_queries_d, google_autocomplete_d, cos_sim)\n",
        "google_bleu_e = compute_metric(new_true_queries_e, google_autocomplete_e, bleu_score)\n",
        "google_sim_e = compute_metric(new_true_queries_e, google_autocomplete_e, cos_sim)\n",
        "\n",
        "# compute metrics for all new_autocompletion system 3 predictions\n",
        "new_bleu_3_c = compute_metric(new_true_queries_c, new_autocomplete_3_c, bleu_score)\n",
        "new_bleu_3_d = compute_metric(new_true_queries_d, new_autocomplete_3_d, bleu_score)\n",
        "new_bleu_3_e = compute_metric(new_true_queries_e, new_autocomplete_3_e, bleu_score)\n",
        "new_sim_3_c = compute_metric(new_true_queries_c, new_autocomplete_3_c, cos_sim)\n",
        "new_sim_3_d = compute_metric(new_true_queries_d, new_autocomplete_3_d, cos_sim)\n",
        "new_sim_3_e = compute_metric(new_true_queries_e, new_autocomplete_3_e, cos_sim)"
      ],
      "execution_count": null,
      "outputs": []
    },
    {
      "cell_type": "code",
      "metadata": {
        "colab": {
          "base_uri": "https://localhost:8080/",
          "height": 128
        },
        "id": "AXM5iM9-MRJN",
        "outputId": "b7a3d0ea-cf38-4d1d-d2a1-ba9f5a164626"
      },
      "source": [
        "# show new_bleu scores for all predictions\n",
        "new_bleu_results_com = pd.DataFrame(columns=['1 dropped', '1 dropped+mistake(s)', '2 dropped+mistake(s)'])\n",
        "new_bleu_results_com.loc['Google'] = [google_bleu_c, google_bleu_d, google_bleu_e]\n",
        "new_bleu_results_com.loc['System 3'] = [new_bleu_3_c, new_bleu_3_d, new_bleu_3_e]\n",
        "print('Autocompletion BLEU for all predictions')\n",
        "new_bleu_results_com"
      ],
      "execution_count": null,
      "outputs": [
        {
          "output_type": "stream",
          "text": [
            "Autocompletion BLEU for all predictions\n"
          ],
          "name": "stdout"
        },
        {
          "output_type": "execute_result",
          "data": {
            "text/html": [
              "<div>\n",
              "<style scoped>\n",
              "    .dataframe tbody tr th:only-of-type {\n",
              "        vertical-align: middle;\n",
              "    }\n",
              "\n",
              "    .dataframe tbody tr th {\n",
              "        vertical-align: top;\n",
              "    }\n",
              "\n",
              "    .dataframe thead th {\n",
              "        text-align: right;\n",
              "    }\n",
              "</style>\n",
              "<table border=\"1\" class=\"dataframe\">\n",
              "  <thead>\n",
              "    <tr style=\"text-align: right;\">\n",
              "      <th></th>\n",
              "      <th>1 dropped</th>\n",
              "      <th>1 dropped+mistake(s)</th>\n",
              "      <th>2 dropped+mistake(s)</th>\n",
              "    </tr>\n",
              "  </thead>\n",
              "  <tbody>\n",
              "    <tr>\n",
              "      <th>Google</th>\n",
              "      <td>43.084286</td>\n",
              "      <td>39.403523</td>\n",
              "      <td>29.920883</td>\n",
              "    </tr>\n",
              "    <tr>\n",
              "      <th>System 3</th>\n",
              "      <td>59.624638</td>\n",
              "      <td>40.271420</td>\n",
              "      <td>28.255275</td>\n",
              "    </tr>\n",
              "  </tbody>\n",
              "</table>\n",
              "</div>"
            ],
            "text/plain": [
              "          1 dropped  1 dropped+mistake(s)  2 dropped+mistake(s)\n",
              "Google    43.084286             39.403523             29.920883\n",
              "System 3  59.624638             40.271420             28.255275"
            ]
          },
          "metadata": {
            "tags": []
          },
          "execution_count": 509
        }
      ]
    },
    {
      "cell_type": "code",
      "metadata": {
        "colab": {
          "base_uri": "https://localhost:8080/",
          "height": 128
        },
        "id": "MQtGV8bsMRJO",
        "outputId": "2efefde4-1d23-4982-9ac2-ea0a272caf0c"
      },
      "source": [
        "# show cosine similarities for all predictions\n",
        "new_sim_results_com = pd.DataFrame(columns=['1 dropped', '1 dropped+mistake(s)', '2 dropped+mistake(s)'])\n",
        "new_sim_results_com.loc['Google'] = [google_sim_c, google_sim_d, google_sim_e]\n",
        "new_sim_results_com.loc['System 3'] = [new_sim_3_c, new_sim_3_d, new_sim_3_e]\n",
        "print('Autocompletion cosine similarity for all predictions')\n",
        "new_sim_results_com"
      ],
      "execution_count": null,
      "outputs": [
        {
          "output_type": "stream",
          "text": [
            "Autocompletion cosine similarity for all predictions\n"
          ],
          "name": "stdout"
        },
        {
          "output_type": "execute_result",
          "data": {
            "text/html": [
              "<div>\n",
              "<style scoped>\n",
              "    .dataframe tbody tr th:only-of-type {\n",
              "        vertical-align: middle;\n",
              "    }\n",
              "\n",
              "    .dataframe tbody tr th {\n",
              "        vertical-align: top;\n",
              "    }\n",
              "\n",
              "    .dataframe thead th {\n",
              "        text-align: right;\n",
              "    }\n",
              "</style>\n",
              "<table border=\"1\" class=\"dataframe\">\n",
              "  <thead>\n",
              "    <tr style=\"text-align: right;\">\n",
              "      <th></th>\n",
              "      <th>1 dropped</th>\n",
              "      <th>1 dropped+mistake(s)</th>\n",
              "      <th>2 dropped+mistake(s)</th>\n",
              "    </tr>\n",
              "  </thead>\n",
              "  <tbody>\n",
              "    <tr>\n",
              "      <th>Google</th>\n",
              "      <td>0.803691</td>\n",
              "      <td>0.806386</td>\n",
              "      <td>0.687167</td>\n",
              "    </tr>\n",
              "    <tr>\n",
              "      <th>System 3</th>\n",
              "      <td>0.828407</td>\n",
              "      <td>0.780981</td>\n",
              "      <td>0.634969</td>\n",
              "    </tr>\n",
              "  </tbody>\n",
              "</table>\n",
              "</div>"
            ],
            "text/plain": [
              "          1 dropped  1 dropped+mistake(s)  2 dropped+mistake(s)\n",
              "Google     0.803691              0.806386              0.687167\n",
              "System 3   0.828407              0.780981              0.634969"
            ]
          },
          "metadata": {
            "tags": []
          },
          "execution_count": 510
        }
      ]
    },
    {
      "cell_type": "markdown",
      "metadata": {
        "id": "n9QVKTAthLdo"
      },
      "source": [
        "There is no clear winner. System 3 holds the advantage with respect to BLEU whereas Google holds it with respect to cosine similarity. Note that System 3 outperforms Google on both metrics on the test dataset with no mistakes and one word dropped, suggesting that Google outperforms System 3 mainly on autocorrection rather than on autocompletion."
      ]
    },
    {
      "cell_type": "markdown",
      "metadata": {
        "id": "q3FUMKj-XNQG"
      },
      "source": [
        "# 5. Summary\n",
        "\n",
        "We built three systems for autocompleting search queries. The first uses BERT for autocorrection in a first stage and GPT-2 for extending/completing user queries in a second stage. The second system is BART continually trained in an end-to-end manner to perform both tasks at once and was shown to outperform the first system. The third and final system was derived from the second, augmenting its vocabulary with WordPiece tokens built from a corpus of misspellings. This was based on the intuition that there are recurrent segments in such misspellings distinct from those found in their correctly-spelled counterparts, for which we marshalled strong evidence. The third system proved to perform quite well on a dataset of real user search queries with possible misspellings, with a performance competitive with Google's autocompletion feature.\n",
        "\n",
        "Google's comparative advantage seems to lie in a better autocorrector. Nonetheless, with more data and training time System 3 stands to improve significantly and likely outperform Google (at least on the test suite above), if only because it could learn better embeddings for the tokens added to BART's vocabulary. There is a paucity of user search queries data with misspellings -- the Webis-QSpell-17 only has ~9k such samples -- though the evidence gathered in support of the aforementionned intuition points to a level of statistical regularity that could be exploited to bootstrap more data."
      ]
    }
  ]
}